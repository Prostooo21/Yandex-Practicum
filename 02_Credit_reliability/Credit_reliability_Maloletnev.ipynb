{
 "cells": [
  {
   "cell_type": "markdown",
   "id": "9921d3bc",
   "metadata": {},
   "source": [
    "# Исследование надежности заемщиков. #"
   ]
  },
  {
   "cell_type": "markdown",
   "id": "857a42d4",
   "metadata": {},
   "source": [
    "Заказчик — кредитный отдел банка. Нужно разобраться, влияет ли семейное положение и количество детей клиента на факт погашения кредита в срок. \\\n",
    "Нам предстоит: \n",
    "- познакомиться с данными\n",
    "- обработать пропуски и аномалии\n",
    "- преобразовать типы данных\n",
    "- сформировать дополнительные датафреймы для составления словарей\n",
    "- обработать категориональные данные \\\n",
    "И ответить на поставленные вопросы:\n",
    "- Есть ли зависимость между количеством детей и возвратом кредита в срок?\n",
    "- Есть ли зависимость между семейным положением и возвратом кредита в срок?\n",
    "- Как разные цели кредита влияют на его возврат в срок? \n",
    "- Есть ли зависимость между уровнем дохода и возвратом кредита в срок?\n"
   ]
  },
  {
   "cell_type": "markdown",
   "id": "c87fcb38",
   "metadata": {},
   "source": [
    "# Шаг 1. Обзор данных #"
   ]
  },
  {
   "cell_type": "markdown",
   "id": "f388be83",
   "metadata": {},
   "source": [
    "Импортируем необходимые библиотеки и взглянем на данные."
   ]
  },
  {
   "cell_type": "code",
   "execution_count": 2,
   "id": "8dfdb390",
   "metadata": {
    "scrolled": true
   },
   "outputs": [
    {
     "name": "stdout",
     "output_type": "stream",
     "text": [
      "<class 'pandas.core.frame.DataFrame'>\n",
      "RangeIndex: 21525 entries, 0 to 21524\n",
      "Data columns (total 12 columns):\n",
      " #   Column            Non-Null Count  Dtype  \n",
      "---  ------            --------------  -----  \n",
      " 0   children          21525 non-null  int64  \n",
      " 1   days_employed     19351 non-null  float64\n",
      " 2   dob_years         21525 non-null  int64  \n",
      " 3   education         21525 non-null  object \n",
      " 4   education_id      21525 non-null  int64  \n",
      " 5   family_status     21525 non-null  object \n",
      " 6   family_status_id  21525 non-null  int64  \n",
      " 7   gender            21525 non-null  object \n",
      " 8   income_type       21525 non-null  object \n",
      " 9   debt              21525 non-null  int64  \n",
      " 10  total_income      19351 non-null  float64\n",
      " 11  purpose           21525 non-null  object \n",
      "dtypes: float64(2), int64(5), object(5)\n",
      "memory usage: 2.0+ MB\n"
     ]
    }
   ],
   "source": [
    "import pandas as pd\n",
    "\n",
    "url = 'https://code.s3.yandex.net/datasets/data.csv'\n",
    "try:\n",
    "    df = pd.read_csv('/Users/smaloletnev/Desktop/Yandex_Practicum/2_Предобработка_данных/Проект/data.csv')\n",
    "except:\n",
    "    df = pd.read_csv(url)\n",
    "df.info()"
   ]
  },
  {
   "cell_type": "markdown",
   "id": "cbdabc65",
   "metadata": {},
   "source": [
    "Выведем на экран первые 10 строк таблицы для ознакомления с содержимым."
   ]
  },
  {
   "cell_type": "code",
   "execution_count": 3,
   "id": "2a945661",
   "metadata": {
    "scrolled": false
   },
   "outputs": [
    {
     "data": {
      "text/html": [
       "<div>\n",
       "<style scoped>\n",
       "    .dataframe tbody tr th:only-of-type {\n",
       "        vertical-align: middle;\n",
       "    }\n",
       "\n",
       "    .dataframe tbody tr th {\n",
       "        vertical-align: top;\n",
       "    }\n",
       "\n",
       "    .dataframe thead th {\n",
       "        text-align: right;\n",
       "    }\n",
       "</style>\n",
       "<table border=\"1\" class=\"dataframe\">\n",
       "  <thead>\n",
       "    <tr style=\"text-align: right;\">\n",
       "      <th></th>\n",
       "      <th>children</th>\n",
       "      <th>days_employed</th>\n",
       "      <th>dob_years</th>\n",
       "      <th>education</th>\n",
       "      <th>education_id</th>\n",
       "      <th>family_status</th>\n",
       "      <th>family_status_id</th>\n",
       "      <th>gender</th>\n",
       "      <th>income_type</th>\n",
       "      <th>debt</th>\n",
       "      <th>total_income</th>\n",
       "      <th>purpose</th>\n",
       "    </tr>\n",
       "  </thead>\n",
       "  <tbody>\n",
       "    <tr>\n",
       "      <th>0</th>\n",
       "      <td>1</td>\n",
       "      <td>-8437.673028</td>\n",
       "      <td>42</td>\n",
       "      <td>высшее</td>\n",
       "      <td>0</td>\n",
       "      <td>женат / замужем</td>\n",
       "      <td>0</td>\n",
       "      <td>F</td>\n",
       "      <td>сотрудник</td>\n",
       "      <td>0</td>\n",
       "      <td>253875.639453</td>\n",
       "      <td>покупка жилья</td>\n",
       "    </tr>\n",
       "    <tr>\n",
       "      <th>1</th>\n",
       "      <td>1</td>\n",
       "      <td>-4024.803754</td>\n",
       "      <td>36</td>\n",
       "      <td>среднее</td>\n",
       "      <td>1</td>\n",
       "      <td>женат / замужем</td>\n",
       "      <td>0</td>\n",
       "      <td>F</td>\n",
       "      <td>сотрудник</td>\n",
       "      <td>0</td>\n",
       "      <td>112080.014102</td>\n",
       "      <td>приобретение автомобиля</td>\n",
       "    </tr>\n",
       "    <tr>\n",
       "      <th>2</th>\n",
       "      <td>0</td>\n",
       "      <td>-5623.422610</td>\n",
       "      <td>33</td>\n",
       "      <td>Среднее</td>\n",
       "      <td>1</td>\n",
       "      <td>женат / замужем</td>\n",
       "      <td>0</td>\n",
       "      <td>M</td>\n",
       "      <td>сотрудник</td>\n",
       "      <td>0</td>\n",
       "      <td>145885.952297</td>\n",
       "      <td>покупка жилья</td>\n",
       "    </tr>\n",
       "    <tr>\n",
       "      <th>3</th>\n",
       "      <td>3</td>\n",
       "      <td>-4124.747207</td>\n",
       "      <td>32</td>\n",
       "      <td>среднее</td>\n",
       "      <td>1</td>\n",
       "      <td>женат / замужем</td>\n",
       "      <td>0</td>\n",
       "      <td>M</td>\n",
       "      <td>сотрудник</td>\n",
       "      <td>0</td>\n",
       "      <td>267628.550329</td>\n",
       "      <td>дополнительное образование</td>\n",
       "    </tr>\n",
       "    <tr>\n",
       "      <th>4</th>\n",
       "      <td>0</td>\n",
       "      <td>340266.072047</td>\n",
       "      <td>53</td>\n",
       "      <td>среднее</td>\n",
       "      <td>1</td>\n",
       "      <td>гражданский брак</td>\n",
       "      <td>1</td>\n",
       "      <td>F</td>\n",
       "      <td>пенсионер</td>\n",
       "      <td>0</td>\n",
       "      <td>158616.077870</td>\n",
       "      <td>сыграть свадьбу</td>\n",
       "    </tr>\n",
       "    <tr>\n",
       "      <th>5</th>\n",
       "      <td>0</td>\n",
       "      <td>-926.185831</td>\n",
       "      <td>27</td>\n",
       "      <td>высшее</td>\n",
       "      <td>0</td>\n",
       "      <td>гражданский брак</td>\n",
       "      <td>1</td>\n",
       "      <td>M</td>\n",
       "      <td>компаньон</td>\n",
       "      <td>0</td>\n",
       "      <td>255763.565419</td>\n",
       "      <td>покупка жилья</td>\n",
       "    </tr>\n",
       "    <tr>\n",
       "      <th>6</th>\n",
       "      <td>0</td>\n",
       "      <td>-2879.202052</td>\n",
       "      <td>43</td>\n",
       "      <td>высшее</td>\n",
       "      <td>0</td>\n",
       "      <td>женат / замужем</td>\n",
       "      <td>0</td>\n",
       "      <td>F</td>\n",
       "      <td>компаньон</td>\n",
       "      <td>0</td>\n",
       "      <td>240525.971920</td>\n",
       "      <td>операции с жильем</td>\n",
       "    </tr>\n",
       "    <tr>\n",
       "      <th>7</th>\n",
       "      <td>0</td>\n",
       "      <td>-152.779569</td>\n",
       "      <td>50</td>\n",
       "      <td>СРЕДНЕЕ</td>\n",
       "      <td>1</td>\n",
       "      <td>женат / замужем</td>\n",
       "      <td>0</td>\n",
       "      <td>M</td>\n",
       "      <td>сотрудник</td>\n",
       "      <td>0</td>\n",
       "      <td>135823.934197</td>\n",
       "      <td>образование</td>\n",
       "    </tr>\n",
       "    <tr>\n",
       "      <th>8</th>\n",
       "      <td>2</td>\n",
       "      <td>-6929.865299</td>\n",
       "      <td>35</td>\n",
       "      <td>ВЫСШЕЕ</td>\n",
       "      <td>0</td>\n",
       "      <td>гражданский брак</td>\n",
       "      <td>1</td>\n",
       "      <td>F</td>\n",
       "      <td>сотрудник</td>\n",
       "      <td>0</td>\n",
       "      <td>95856.832424</td>\n",
       "      <td>на проведение свадьбы</td>\n",
       "    </tr>\n",
       "    <tr>\n",
       "      <th>9</th>\n",
       "      <td>0</td>\n",
       "      <td>-2188.756445</td>\n",
       "      <td>41</td>\n",
       "      <td>среднее</td>\n",
       "      <td>1</td>\n",
       "      <td>женат / замужем</td>\n",
       "      <td>0</td>\n",
       "      <td>M</td>\n",
       "      <td>сотрудник</td>\n",
       "      <td>0</td>\n",
       "      <td>144425.938277</td>\n",
       "      <td>покупка жилья для семьи</td>\n",
       "    </tr>\n",
       "  </tbody>\n",
       "</table>\n",
       "</div>"
      ],
      "text/plain": [
       "   children  days_employed  dob_years education  education_id  \\\n",
       "0         1   -8437.673028         42    высшее             0   \n",
       "1         1   -4024.803754         36   среднее             1   \n",
       "2         0   -5623.422610         33   Среднее             1   \n",
       "3         3   -4124.747207         32   среднее             1   \n",
       "4         0  340266.072047         53   среднее             1   \n",
       "5         0    -926.185831         27    высшее             0   \n",
       "6         0   -2879.202052         43    высшее             0   \n",
       "7         0    -152.779569         50   СРЕДНЕЕ             1   \n",
       "8         2   -6929.865299         35    ВЫСШЕЕ             0   \n",
       "9         0   -2188.756445         41   среднее             1   \n",
       "\n",
       "      family_status  family_status_id gender income_type  debt   total_income  \\\n",
       "0   женат / замужем                 0      F   сотрудник     0  253875.639453   \n",
       "1   женат / замужем                 0      F   сотрудник     0  112080.014102   \n",
       "2   женат / замужем                 0      M   сотрудник     0  145885.952297   \n",
       "3   женат / замужем                 0      M   сотрудник     0  267628.550329   \n",
       "4  гражданский брак                 1      F   пенсионер     0  158616.077870   \n",
       "5  гражданский брак                 1      M   компаньон     0  255763.565419   \n",
       "6   женат / замужем                 0      F   компаньон     0  240525.971920   \n",
       "7   женат / замужем                 0      M   сотрудник     0  135823.934197   \n",
       "8  гражданский брак                 1      F   сотрудник     0   95856.832424   \n",
       "9   женат / замужем                 0      M   сотрудник     0  144425.938277   \n",
       "\n",
       "                      purpose  \n",
       "0               покупка жилья  \n",
       "1     приобретение автомобиля  \n",
       "2               покупка жилья  \n",
       "3  дополнительное образование  \n",
       "4             сыграть свадьбу  \n",
       "5               покупка жилья  \n",
       "6           операции с жильем  \n",
       "7                 образование  \n",
       "8       на проведение свадьбы  \n",
       "9     покупка жилья для семьи  "
      ]
     },
     "execution_count": 3,
     "metadata": {},
     "output_type": "execute_result"
    }
   ],
   "source": [
    "df.head(10)"
   ]
  },
  {
   "cell_type": "markdown",
   "id": "b33bbc4b",
   "metadata": {},
   "source": [
    "Описание данных\n",
    "- `children` — количество детей в семье\n",
    "- `days_employed` — общий трудовой стаж в днях\n",
    "- `dob_years` — возраст клиента в годах\n",
    "- `education` — уровень образования клиента\n",
    "- `education_id` — идентификатор уровня образования\n",
    "- `family_status` — семейное положение\n",
    "- `family_status_id` — идентификатор семейного положения\n",
    "- `gender` — пол клиента\n",
    "- `income_type` — тип занятости\n",
    "- `debt` — имел ли задолженность по возврату кредитов\n",
    "- `total_income` — ежемесячный доход\n",
    "- `purpose` — цель получения кредита"
   ]
  },
  {
   "cell_type": "markdown",
   "id": "d3c46666",
   "metadata": {},
   "source": [
    "---"
   ]
  },
  {
   "cell_type": "markdown",
   "id": "76a40a8c",
   "metadata": {},
   "source": [
    "# Шаг 2 Заполнение пропусков #"
   ]
  },
  {
   "cell_type": "markdown",
   "id": "7700ae2e",
   "metadata": {},
   "source": [
    "Посчитаем кол-во пропусков во всех данных. "
   ]
  },
  {
   "cell_type": "code",
   "execution_count": 4,
   "id": "6ea97776",
   "metadata": {
    "scrolled": true
   },
   "outputs": [
    {
     "data": {
      "text/plain": [
       "children               0\n",
       "days_employed       2174\n",
       "dob_years              0\n",
       "education              0\n",
       "education_id           0\n",
       "family_status          0\n",
       "family_status_id       0\n",
       "gender                 0\n",
       "income_type            0\n",
       "debt                   0\n",
       "total_income        2174\n",
       "purpose                0\n",
       "dtype: int64"
      ]
     },
     "execution_count": 4,
     "metadata": {},
     "output_type": "execute_result"
    }
   ],
   "source": [
    "df.isnull().sum()"
   ]
  },
  {
   "cell_type": "code",
   "execution_count": 5,
   "id": "f813cd14",
   "metadata": {},
   "outputs": [
    {
     "data": {
      "text/plain": [
       "children             0.0\n",
       "days_employed       10.1\n",
       "dob_years            0.0\n",
       "education            0.0\n",
       "education_id         0.0\n",
       "family_status        0.0\n",
       "family_status_id     0.0\n",
       "gender               0.0\n",
       "income_type          0.0\n",
       "debt                 0.0\n",
       "total_income        10.1\n",
       "purpose              0.0\n",
       "dtype: float64"
      ]
     },
     "execution_count": 5,
     "metadata": {},
     "output_type": "execute_result"
    }
   ],
   "source": [
    "round(df.isnull().mean()*100, 2)"
   ]
  },
  {
   "cell_type": "markdown",
   "id": "82def069",
   "metadata": {},
   "source": [
    "В колонках `days_employed` и `total_income` одинаковое кол-во пропусков.\n",
    "Познакомимся с пропусками поближе. Посмотрим на строки с пропусками в колокне `total_income`"
   ]
  },
  {
   "cell_type": "code",
   "execution_count": 6,
   "id": "449fa4eb",
   "metadata": {},
   "outputs": [
    {
     "data": {
      "text/html": [
       "<div>\n",
       "<style scoped>\n",
       "    .dataframe tbody tr th:only-of-type {\n",
       "        vertical-align: middle;\n",
       "    }\n",
       "\n",
       "    .dataframe tbody tr th {\n",
       "        vertical-align: top;\n",
       "    }\n",
       "\n",
       "    .dataframe thead th {\n",
       "        text-align: right;\n",
       "    }\n",
       "</style>\n",
       "<table border=\"1\" class=\"dataframe\">\n",
       "  <thead>\n",
       "    <tr style=\"text-align: right;\">\n",
       "      <th></th>\n",
       "      <th>children</th>\n",
       "      <th>days_employed</th>\n",
       "      <th>dob_years</th>\n",
       "      <th>education</th>\n",
       "      <th>education_id</th>\n",
       "      <th>family_status</th>\n",
       "      <th>family_status_id</th>\n",
       "      <th>gender</th>\n",
       "      <th>income_type</th>\n",
       "      <th>debt</th>\n",
       "      <th>total_income</th>\n",
       "      <th>purpose</th>\n",
       "    </tr>\n",
       "  </thead>\n",
       "  <tbody>\n",
       "    <tr>\n",
       "      <th>12</th>\n",
       "      <td>0</td>\n",
       "      <td>NaN</td>\n",
       "      <td>65</td>\n",
       "      <td>среднее</td>\n",
       "      <td>1</td>\n",
       "      <td>гражданский брак</td>\n",
       "      <td>1</td>\n",
       "      <td>M</td>\n",
       "      <td>пенсионер</td>\n",
       "      <td>0</td>\n",
       "      <td>NaN</td>\n",
       "      <td>сыграть свадьбу</td>\n",
       "    </tr>\n",
       "    <tr>\n",
       "      <th>26</th>\n",
       "      <td>0</td>\n",
       "      <td>NaN</td>\n",
       "      <td>41</td>\n",
       "      <td>среднее</td>\n",
       "      <td>1</td>\n",
       "      <td>женат / замужем</td>\n",
       "      <td>0</td>\n",
       "      <td>M</td>\n",
       "      <td>госслужащий</td>\n",
       "      <td>0</td>\n",
       "      <td>NaN</td>\n",
       "      <td>образование</td>\n",
       "    </tr>\n",
       "    <tr>\n",
       "      <th>29</th>\n",
       "      <td>0</td>\n",
       "      <td>NaN</td>\n",
       "      <td>63</td>\n",
       "      <td>среднее</td>\n",
       "      <td>1</td>\n",
       "      <td>Не женат / не замужем</td>\n",
       "      <td>4</td>\n",
       "      <td>F</td>\n",
       "      <td>пенсионер</td>\n",
       "      <td>0</td>\n",
       "      <td>NaN</td>\n",
       "      <td>строительство жилой недвижимости</td>\n",
       "    </tr>\n",
       "    <tr>\n",
       "      <th>41</th>\n",
       "      <td>0</td>\n",
       "      <td>NaN</td>\n",
       "      <td>50</td>\n",
       "      <td>среднее</td>\n",
       "      <td>1</td>\n",
       "      <td>женат / замужем</td>\n",
       "      <td>0</td>\n",
       "      <td>F</td>\n",
       "      <td>госслужащий</td>\n",
       "      <td>0</td>\n",
       "      <td>NaN</td>\n",
       "      <td>сделка с подержанным автомобилем</td>\n",
       "    </tr>\n",
       "    <tr>\n",
       "      <th>55</th>\n",
       "      <td>0</td>\n",
       "      <td>NaN</td>\n",
       "      <td>54</td>\n",
       "      <td>среднее</td>\n",
       "      <td>1</td>\n",
       "      <td>гражданский брак</td>\n",
       "      <td>1</td>\n",
       "      <td>F</td>\n",
       "      <td>пенсионер</td>\n",
       "      <td>1</td>\n",
       "      <td>NaN</td>\n",
       "      <td>сыграть свадьбу</td>\n",
       "    </tr>\n",
       "  </tbody>\n",
       "</table>\n",
       "</div>"
      ],
      "text/plain": [
       "    children  days_employed  dob_years education  education_id  \\\n",
       "12         0            NaN         65   среднее             1   \n",
       "26         0            NaN         41   среднее             1   \n",
       "29         0            NaN         63   среднее             1   \n",
       "41         0            NaN         50   среднее             1   \n",
       "55         0            NaN         54   среднее             1   \n",
       "\n",
       "            family_status  family_status_id gender  income_type  debt  \\\n",
       "12       гражданский брак                 1      M    пенсионер     0   \n",
       "26        женат / замужем                 0      M  госслужащий     0   \n",
       "29  Не женат / не замужем                 4      F    пенсионер     0   \n",
       "41        женат / замужем                 0      F  госслужащий     0   \n",
       "55       гражданский брак                 1      F    пенсионер     1   \n",
       "\n",
       "    total_income                           purpose  \n",
       "12           NaN                   сыграть свадьбу  \n",
       "26           NaN                       образование  \n",
       "29           NaN  строительство жилой недвижимости  \n",
       "41           NaN  сделка с подержанным автомобилем  \n",
       "55           NaN                   сыграть свадьбу  "
      ]
     },
     "execution_count": 6,
     "metadata": {},
     "output_type": "execute_result"
    }
   ],
   "source": [
    "df[df.total_income.isnull()].head()"
   ]
  },
  {
   "cell_type": "markdown",
   "id": "407805d0",
   "metadata": {},
   "source": [
    "Можно заметить, что в строках где пропущено значение для `total_income`, также отсутсвует значение и `days_employed`. Проверим: для всех ли строк с пустым значением в `total_income` будут, значения в `days_employed` будут также отсутсвовать \\\n",
    "Для этого составим условие: Значение в `income_type` отсутвует и значение в `days_employed` НЕ отсутсвует"
   ]
  },
  {
   "cell_type": "code",
   "execution_count": 7,
   "id": "f030d044",
   "metadata": {},
   "outputs": [
    {
     "data": {
      "text/html": [
       "<div>\n",
       "<style scoped>\n",
       "    .dataframe tbody tr th:only-of-type {\n",
       "        vertical-align: middle;\n",
       "    }\n",
       "\n",
       "    .dataframe tbody tr th {\n",
       "        vertical-align: top;\n",
       "    }\n",
       "\n",
       "    .dataframe thead th {\n",
       "        text-align: right;\n",
       "    }\n",
       "</style>\n",
       "<table border=\"1\" class=\"dataframe\">\n",
       "  <thead>\n",
       "    <tr style=\"text-align: right;\">\n",
       "      <th></th>\n",
       "      <th>children</th>\n",
       "      <th>days_employed</th>\n",
       "      <th>dob_years</th>\n",
       "      <th>education</th>\n",
       "      <th>education_id</th>\n",
       "      <th>family_status</th>\n",
       "      <th>family_status_id</th>\n",
       "      <th>gender</th>\n",
       "      <th>income_type</th>\n",
       "      <th>debt</th>\n",
       "      <th>total_income</th>\n",
       "      <th>purpose</th>\n",
       "    </tr>\n",
       "  </thead>\n",
       "  <tbody>\n",
       "  </tbody>\n",
       "</table>\n",
       "</div>"
      ],
      "text/plain": [
       "Empty DataFrame\n",
       "Columns: [children, days_employed, dob_years, education, education_id, family_status, family_status_id, gender, income_type, debt, total_income, purpose]\n",
       "Index: []"
      ]
     },
     "execution_count": 7,
     "metadata": {},
     "output_type": "execute_result"
    }
   ],
   "source": [
    "df[(df.total_income.isnull()) & (df.days_employed.notnull())]"
   ]
  },
  {
   "cell_type": "markdown",
   "id": "e905e459",
   "metadata": {},
   "source": [
    "Мое предположение подтвердилось: Если значение в `total_income` отсутсвует, то и в колонке `days_employed` значение тоже пропущено \\\n",
    "Можно сделать вывод, что данные в данных колонках отсутсвуют, тк замещик не указал сведения о своем доходе и месте работы. \\\n",
    "Определим долю пропусков. Поскольку кол-во пропусков для двух столбцов одинаково, то не имеет значения на какое именно кол-во пропусков следует делить общее кол-во строк"
   ]
  },
  {
   "cell_type": "code",
   "execution_count": 8,
   "id": "78071263",
   "metadata": {},
   "outputs": [
    {
     "data": {
      "text/plain": [
       "children             0.0\n",
       "days_employed       10.1\n",
       "dob_years            0.0\n",
       "education            0.0\n",
       "education_id         0.0\n",
       "family_status        0.0\n",
       "family_status_id     0.0\n",
       "gender               0.0\n",
       "income_type          0.0\n",
       "debt                 0.0\n",
       "total_income        10.1\n",
       "purpose              0.0\n",
       "dtype: float64"
      ]
     },
     "execution_count": 8,
     "metadata": {},
     "output_type": "execute_result"
    }
   ],
   "source": [
    "NoN= round(df.isnull().mean()*100, 2)\n",
    "NoN"
   ]
  },
  {
   "cell_type": "markdown",
   "id": "93b0fb34",
   "metadata": {},
   "source": [
    "Почти 10% пропусков. Достаточно большое количество, чтобы принебречь этими данными в целом.\\\n",
    "Заменим пропуски в колонке `total_income` на медианное значение. Именно медиана в данном случае подходит больше, тк данные имеют сильные отклонения. "
   ]
  },
  {
   "cell_type": "code",
   "execution_count": 9,
   "id": "fef5342f",
   "metadata": {
    "scrolled": true
   },
   "outputs": [
    {
     "name": "stdout",
     "output_type": "stream",
     "text": [
      "<class 'pandas.core.frame.DataFrame'>\n",
      "RangeIndex: 21525 entries, 0 to 21524\n",
      "Data columns (total 12 columns):\n",
      " #   Column            Non-Null Count  Dtype  \n",
      "---  ------            --------------  -----  \n",
      " 0   children          21525 non-null  int64  \n",
      " 1   days_employed     19351 non-null  float64\n",
      " 2   dob_years         21525 non-null  int64  \n",
      " 3   education         21525 non-null  object \n",
      " 4   education_id      21525 non-null  int64  \n",
      " 5   family_status     21525 non-null  object \n",
      " 6   family_status_id  21525 non-null  int64  \n",
      " 7   gender            21525 non-null  object \n",
      " 8   income_type       21525 non-null  object \n",
      " 9   debt              21525 non-null  int64  \n",
      " 10  total_income      21525 non-null  float64\n",
      " 11  purpose           21525 non-null  object \n",
      "dtypes: float64(2), int64(5), object(5)\n",
      "memory usage: 2.0+ MB\n"
     ]
    }
   ],
   "source": [
    "df['total_income'] = df['total_income'].fillna(df['total_income'].median())\n",
    "df.info()"
   ]
  },
  {
   "cell_type": "markdown",
   "id": "5503f9c5",
   "metadata": {},
   "source": [
    "Отлично. С пропусками в `total_income` разобрались. Теперь подробнее познакомимся с данными из столбца `days_employed` \\\n",
    "Взгляним на медиану трудового стажа, сгруппированную по групам типов занятости"
   ]
  },
  {
   "cell_type": "markdown",
   "id": "10372017",
   "metadata": {},
   "source": [
    "# Шаг 3 Проверка данных на аномалии и исправления. #"
   ]
  },
  {
   "cell_type": "markdown",
   "id": "05776fe6",
   "metadata": {},
   "source": [
    "Теперь подробнее познакомимся с данными из столбца `days_employed` \\\n",
    "Взгляним на медиану трудового стажа, сгруппированную по групам типов занятости"
   ]
  },
  {
   "cell_type": "code",
   "execution_count": 10,
   "id": "409d5e50",
   "metadata": {},
   "outputs": [
    {
     "data": {
      "text/plain": [
       "income_type\n",
       "безработный        366413.652744\n",
       "в декрете           -3296.759962\n",
       "госслужащий         -2689.368353\n",
       "компаньон           -1547.382223\n",
       "пенсионер          365213.306266\n",
       "предприниматель      -520.848083\n",
       "сотрудник           -1574.202821\n",
       "студент              -578.751554\n",
       "Name: days_employed, dtype: float64"
      ]
     },
     "execution_count": 10,
     "metadata": {},
     "output_type": "execute_result"
    }
   ],
   "source": [
    "df.groupby('income_type').days_employed.median()"
   ]
  },
  {
   "cell_type": "markdown",
   "id": "802e23a1",
   "metadata": {},
   "source": [
    "У большинства групп отрицательные значение трудового стажа, что наталкивает на мысль о ошибке в предоставлении данных. Могу предположить, что данные неверно считались и следует принять за верные модуль данных значений.\\\n",
    "Заменим отрицательные данные. Для этого применим метод `abs()` к колонке `days_employed`"
   ]
  },
  {
   "cell_type": "code",
   "execution_count": 11,
   "id": "7d8ff97e",
   "metadata": {},
   "outputs": [],
   "source": [
    "df['days_employed'] = df['days_employed'].abs()"
   ]
  },
  {
   "cell_type": "markdown",
   "id": "bedfab7d",
   "metadata": {},
   "source": [
    "Осталось разобраться с данными пенсионеров и безработных. \\\n",
    "Проверим: У всех ли пенсионеров и безработных \"кривые\" данные \\\n",
    "Для этого предлагаю взгялнуть на статистические показатели по этим двум группам клиентов. "
   ]
  },
  {
   "cell_type": "code",
   "execution_count": 12,
   "id": "0956016c",
   "metadata": {},
   "outputs": [
    {
     "data": {
      "text/html": [
       "<div>\n",
       "<style scoped>\n",
       "    .dataframe tbody tr th:only-of-type {\n",
       "        vertical-align: middle;\n",
       "    }\n",
       "\n",
       "    .dataframe tbody tr th {\n",
       "        vertical-align: top;\n",
       "    }\n",
       "\n",
       "    .dataframe thead th {\n",
       "        text-align: right;\n",
       "    }\n",
       "</style>\n",
       "<table border=\"1\" class=\"dataframe\">\n",
       "  <thead>\n",
       "    <tr style=\"text-align: right;\">\n",
       "      <th></th>\n",
       "      <th>children</th>\n",
       "      <th>days_employed</th>\n",
       "      <th>dob_years</th>\n",
       "      <th>education_id</th>\n",
       "      <th>family_status_id</th>\n",
       "      <th>debt</th>\n",
       "      <th>total_income</th>\n",
       "    </tr>\n",
       "  </thead>\n",
       "  <tbody>\n",
       "    <tr>\n",
       "      <th>count</th>\n",
       "      <td>3858.000000</td>\n",
       "      <td>3445.000000</td>\n",
       "      <td>3858.000000</td>\n",
       "      <td>3858.000000</td>\n",
       "      <td>3858.000000</td>\n",
       "      <td>3858.000000</td>\n",
       "      <td>3858.000000</td>\n",
       "    </tr>\n",
       "    <tr>\n",
       "      <th>mean</th>\n",
       "      <td>0.132193</td>\n",
       "      <td>365004.309916</td>\n",
       "      <td>59.052100</td>\n",
       "      <td>0.913686</td>\n",
       "      <td>0.985485</td>\n",
       "      <td>0.056247</td>\n",
       "      <td>137969.142580</td>\n",
       "    </tr>\n",
       "    <tr>\n",
       "      <th>std</th>\n",
       "      <td>1.014106</td>\n",
       "      <td>21075.016396</td>\n",
       "      <td>7.633294</td>\n",
       "      <td>0.510267</td>\n",
       "      <td>1.314957</td>\n",
       "      <td>0.230427</td>\n",
       "      <td>75863.792660</td>\n",
       "    </tr>\n",
       "    <tr>\n",
       "      <th>min</th>\n",
       "      <td>-1.000000</td>\n",
       "      <td>328728.720605</td>\n",
       "      <td>0.000000</td>\n",
       "      <td>0.000000</td>\n",
       "      <td>0.000000</td>\n",
       "      <td>0.000000</td>\n",
       "      <td>20667.263793</td>\n",
       "    </tr>\n",
       "    <tr>\n",
       "      <th>25%</th>\n",
       "      <td>0.000000</td>\n",
       "      <td>346639.413916</td>\n",
       "      <td>56.000000</td>\n",
       "      <td>1.000000</td>\n",
       "      <td>0.000000</td>\n",
       "      <td>0.000000</td>\n",
       "      <td>87162.980713</td>\n",
       "    </tr>\n",
       "    <tr>\n",
       "      <th>50%</th>\n",
       "      <td>0.000000</td>\n",
       "      <td>365213.306266</td>\n",
       "      <td>60.000000</td>\n",
       "      <td>1.000000</td>\n",
       "      <td>0.000000</td>\n",
       "      <td>0.000000</td>\n",
       "      <td>128747.675570</td>\n",
       "    </tr>\n",
       "    <tr>\n",
       "      <th>75%</th>\n",
       "      <td>0.000000</td>\n",
       "      <td>383246.444219</td>\n",
       "      <td>64.000000</td>\n",
       "      <td>1.000000</td>\n",
       "      <td>2.000000</td>\n",
       "      <td>0.000000</td>\n",
       "      <td>162144.548964</td>\n",
       "    </tr>\n",
       "    <tr>\n",
       "      <th>max</th>\n",
       "      <td>20.000000</td>\n",
       "      <td>401755.400475</td>\n",
       "      <td>74.000000</td>\n",
       "      <td>4.000000</td>\n",
       "      <td>4.000000</td>\n",
       "      <td>1.000000</td>\n",
       "      <td>735103.270167</td>\n",
       "    </tr>\n",
       "  </tbody>\n",
       "</table>\n",
       "</div>"
      ],
      "text/plain": [
       "          children  days_employed    dob_years  education_id  \\\n",
       "count  3858.000000    3445.000000  3858.000000   3858.000000   \n",
       "mean      0.132193  365004.309916    59.052100      0.913686   \n",
       "std       1.014106   21075.016396     7.633294      0.510267   \n",
       "min      -1.000000  328728.720605     0.000000      0.000000   \n",
       "25%       0.000000  346639.413916    56.000000      1.000000   \n",
       "50%       0.000000  365213.306266    60.000000      1.000000   \n",
       "75%       0.000000  383246.444219    64.000000      1.000000   \n",
       "max      20.000000  401755.400475    74.000000      4.000000   \n",
       "\n",
       "       family_status_id         debt   total_income  \n",
       "count       3858.000000  3858.000000    3858.000000  \n",
       "mean           0.985485     0.056247  137969.142580  \n",
       "std            1.314957     0.230427   75863.792660  \n",
       "min            0.000000     0.000000   20667.263793  \n",
       "25%            0.000000     0.000000   87162.980713  \n",
       "50%            0.000000     0.000000  128747.675570  \n",
       "75%            2.000000     0.000000  162144.548964  \n",
       "max            4.000000     1.000000  735103.270167  "
      ]
     },
     "execution_count": 12,
     "metadata": {},
     "output_type": "execute_result"
    }
   ],
   "source": [
    "df[(df['income_type'] == 'пенсионер') | (df['income_type'] == 'безработный')].describe()"
   ]
  },
  {
   "cell_type": "markdown",
   "id": "37ae2f6a",
   "metadata": {},
   "source": [
    "Как мы видим, трудовой стаж данных клиентов от 328728.720605 до 401755.4004755. Не думаю, что кто-то мог наработать трудовой стаж более 1000 лет. \\\n",
    "Если честно, я теряюсь в догадках причин таких данных. Посколько наша задача состоит в том, чтобы проверить влияние семейного положения и кол-ва детей на платежеспособность клиентов, думаю, не стоит сейчас угулбляться в анализ трудового стажа и искать корень данной аномалии.\\\n",
    "Чтобы избавиться от пропусков, предлагаю заменить пропущенные значения медианой. "
   ]
  },
  {
   "cell_type": "code",
   "execution_count": 13,
   "id": "12c65dca",
   "metadata": {},
   "outputs": [],
   "source": [
    "df['days_employed'] = df['days_employed'].fillna(df['days_employed'].median())"
   ]
  },
  {
   "cell_type": "code",
   "execution_count": 14,
   "id": "42b41609",
   "metadata": {},
   "outputs": [
    {
     "name": "stdout",
     "output_type": "stream",
     "text": [
      "<class 'pandas.core.frame.DataFrame'>\n",
      "RangeIndex: 21525 entries, 0 to 21524\n",
      "Data columns (total 12 columns):\n",
      " #   Column            Non-Null Count  Dtype  \n",
      "---  ------            --------------  -----  \n",
      " 0   children          21525 non-null  int64  \n",
      " 1   days_employed     21525 non-null  float64\n",
      " 2   dob_years         21525 non-null  int64  \n",
      " 3   education         21525 non-null  object \n",
      " 4   education_id      21525 non-null  int64  \n",
      " 5   family_status     21525 non-null  object \n",
      " 6   family_status_id  21525 non-null  int64  \n",
      " 7   gender            21525 non-null  object \n",
      " 8   income_type       21525 non-null  object \n",
      " 9   debt              21525 non-null  int64  \n",
      " 10  total_income      21525 non-null  float64\n",
      " 11  purpose           21525 non-null  object \n",
      "dtypes: float64(2), int64(5), object(5)\n",
      "memory usage: 2.0+ MB\n"
     ]
    }
   ],
   "source": [
    "df.info()"
   ]
  },
  {
   "cell_type": "markdown",
   "id": "6a6a2fbb",
   "metadata": {},
   "source": [
    "Теперь предлагаю познакомиться с колонкой `children`, кажется я встречал там странные значения. \\\n",
    "Для начала выведем количество уникальных значений"
   ]
  },
  {
   "cell_type": "code",
   "execution_count": 15,
   "id": "a6ad70c9",
   "metadata": {},
   "outputs": [
    {
     "data": {
      "text/plain": [
       " 0     14149\n",
       " 1      4818\n",
       " 2      2055\n",
       " 3       330\n",
       " 20       76\n",
       "-1        47\n",
       " 4        41\n",
       " 5         9\n",
       "Name: children, dtype: int64"
      ]
     },
     "execution_count": 15,
     "metadata": {},
     "output_type": "execute_result"
    }
   ],
   "source": [
    "df['children'].value_counts()"
   ]
  },
  {
   "cell_type": "markdown",
   "id": "3f617372",
   "metadata": {},
   "source": [
    "Хм, -1 ребенок - это как? А 20 детей? Кажется, здесь закрылась очредная ошибка. \\\n",
    "Поменяю данные значения на 1 и 2 соответсвенно"
   ]
  },
  {
   "cell_type": "code",
   "execution_count": 16,
   "id": "1b73a7bc",
   "metadata": {},
   "outputs": [],
   "source": [
    "# Фунция для корректировки значений кол-ва детей\n",
    "def childer_correct(children):\n",
    "    if children == -1:\n",
    "        return 1\n",
    "    elif children == 20:\n",
    "        return 2\n",
    "    else:\n",
    "        return children"
   ]
  },
  {
   "cell_type": "code",
   "execution_count": 17,
   "id": "02ddcca1",
   "metadata": {
    "scrolled": true
   },
   "outputs": [
    {
     "data": {
      "text/plain": [
       "0    14149\n",
       "1     4865\n",
       "2     2131\n",
       "3      330\n",
       "4       41\n",
       "5        9\n",
       "Name: children, dtype: int64"
      ]
     },
     "execution_count": 17,
     "metadata": {},
     "output_type": "execute_result"
    }
   ],
   "source": [
    "# Применим функцию к дата фрейму\n",
    "df['children'] = df['children'].apply(childer_correct)\n",
    "# Проверка\n",
    "df['children'].value_counts()"
   ]
  },
  {
   "cell_type": "markdown",
   "id": "0e381530",
   "metadata": {},
   "source": [
    "С количеством детей тоже разобрались. \\\n",
    "Теперь познакомимся с колонкой \"пол\""
   ]
  },
  {
   "cell_type": "code",
   "execution_count": 18,
   "id": "f4e37348",
   "metadata": {
    "scrolled": false
   },
   "outputs": [
    {
     "data": {
      "text/plain": [
       "F      14236\n",
       "M       7288\n",
       "XNA        1\n",
       "Name: gender, dtype: int64"
      ]
     },
     "execution_count": 18,
     "metadata": {},
     "output_type": "execute_result"
    }
   ],
   "source": [
    "df['gender'].value_counts()"
   ]
  },
  {
   "cell_type": "markdown",
   "id": "f854b95b",
   "metadata": {},
   "source": [
    "Есть неизвестный пол XNA. Такое значение всего одно на весь датафрейм, поэтому предлагаю избавиться от него. "
   ]
  },
  {
   "cell_type": "code",
   "execution_count": 19,
   "id": "4c80289b",
   "metadata": {},
   "outputs": [
    {
     "data": {
      "text/plain": [
       "F    14236\n",
       "M     7288\n",
       "Name: gender, dtype: int64"
      ]
     },
     "execution_count": 19,
     "metadata": {},
     "output_type": "execute_result"
    }
   ],
   "source": [
    "df = df.drop(df[df['gender'] == 'XNA'].index)\n",
    "df['gender'].value_counts()"
   ]
  },
  {
   "cell_type": "markdown",
   "id": "c0a7ed36",
   "metadata": {},
   "source": [
    "Ура! Мы избавились от всех пропусков и разобрались с аномалиями!"
   ]
  },
  {
   "cell_type": "markdown",
   "id": "d7cc6d5e",
   "metadata": {},
   "source": [
    "---"
   ]
  },
  {
   "cell_type": "markdown",
   "id": "9504609f",
   "metadata": {},
   "source": [
    "# Шаг 4 Изменение типов данных. #"
   ]
  },
  {
   "cell_type": "markdown",
   "id": "6e9f6102",
   "metadata": {},
   "source": [
    "Данные в колонке `income_type` выглядят странно. Вряд ли доход клиента может быть нецелочисленным.\\\n",
    "Изменим тип данных на `int` \\\n",
    "Также заменим типы данных float64 на float32 и с int64 на int32 для экономии памяти"
   ]
  },
  {
   "cell_type": "code",
   "execution_count": 20,
   "id": "e18bfd2d",
   "metadata": {},
   "outputs": [],
   "source": [
    "df['total_income'] = df['total_income'].astype('int32')\n",
    "df['days_employed'] = df['days_employed'].astype('float32')\n",
    "df['children'] = df['children'].astype('int32')\n",
    "df['dob_years'] = df['dob_years'].astype('int32')\n",
    "df['education_id'] = df['education_id'].astype('int32')\n",
    "df['family_status_id'] = df['family_status_id'].astype('int32')\n",
    "df['debt'] = df['debt'].astype('int32')"
   ]
  },
  {
   "cell_type": "code",
   "execution_count": 21,
   "id": "a5b40434",
   "metadata": {},
   "outputs": [
    {
     "name": "stdout",
     "output_type": "stream",
     "text": [
      "<class 'pandas.core.frame.DataFrame'>\n",
      "Int64Index: 21524 entries, 0 to 21524\n",
      "Data columns (total 12 columns):\n",
      " #   Column            Non-Null Count  Dtype  \n",
      "---  ------            --------------  -----  \n",
      " 0   children          21524 non-null  int32  \n",
      " 1   days_employed     21524 non-null  float32\n",
      " 2   dob_years         21524 non-null  int32  \n",
      " 3   education         21524 non-null  object \n",
      " 4   education_id      21524 non-null  int32  \n",
      " 5   family_status     21524 non-null  object \n",
      " 6   family_status_id  21524 non-null  int32  \n",
      " 7   gender            21524 non-null  object \n",
      " 8   income_type       21524 non-null  object \n",
      " 9   debt              21524 non-null  int32  \n",
      " 10  total_income      21524 non-null  int32  \n",
      " 11  purpose           21524 non-null  object \n",
      "dtypes: float32(1), int32(6), object(5)\n",
      "memory usage: 1.6+ MB\n"
     ]
    }
   ],
   "source": [
    "df.info()"
   ]
  },
  {
   "cell_type": "code",
   "execution_count": 22,
   "id": "c826fcf9",
   "metadata": {},
   "outputs": [
    {
     "data": {
      "text/html": [
       "<div>\n",
       "<style scoped>\n",
       "    .dataframe tbody tr th:only-of-type {\n",
       "        vertical-align: middle;\n",
       "    }\n",
       "\n",
       "    .dataframe tbody tr th {\n",
       "        vertical-align: top;\n",
       "    }\n",
       "\n",
       "    .dataframe thead th {\n",
       "        text-align: right;\n",
       "    }\n",
       "</style>\n",
       "<table border=\"1\" class=\"dataframe\">\n",
       "  <thead>\n",
       "    <tr style=\"text-align: right;\">\n",
       "      <th></th>\n",
       "      <th>children</th>\n",
       "      <th>days_employed</th>\n",
       "      <th>dob_years</th>\n",
       "      <th>education</th>\n",
       "      <th>education_id</th>\n",
       "      <th>family_status</th>\n",
       "      <th>family_status_id</th>\n",
       "      <th>gender</th>\n",
       "      <th>income_type</th>\n",
       "      <th>debt</th>\n",
       "      <th>total_income</th>\n",
       "      <th>purpose</th>\n",
       "    </tr>\n",
       "  </thead>\n",
       "  <tbody>\n",
       "    <tr>\n",
       "      <th>0</th>\n",
       "      <td>1</td>\n",
       "      <td>8437.672852</td>\n",
       "      <td>42</td>\n",
       "      <td>высшее</td>\n",
       "      <td>0</td>\n",
       "      <td>женат / замужем</td>\n",
       "      <td>0</td>\n",
       "      <td>F</td>\n",
       "      <td>сотрудник</td>\n",
       "      <td>0</td>\n",
       "      <td>253875</td>\n",
       "      <td>покупка жилья</td>\n",
       "    </tr>\n",
       "    <tr>\n",
       "      <th>1</th>\n",
       "      <td>1</td>\n",
       "      <td>4024.803711</td>\n",
       "      <td>36</td>\n",
       "      <td>среднее</td>\n",
       "      <td>1</td>\n",
       "      <td>женат / замужем</td>\n",
       "      <td>0</td>\n",
       "      <td>F</td>\n",
       "      <td>сотрудник</td>\n",
       "      <td>0</td>\n",
       "      <td>112080</td>\n",
       "      <td>приобретение автомобиля</td>\n",
       "    </tr>\n",
       "    <tr>\n",
       "      <th>2</th>\n",
       "      <td>0</td>\n",
       "      <td>5623.422852</td>\n",
       "      <td>33</td>\n",
       "      <td>Среднее</td>\n",
       "      <td>1</td>\n",
       "      <td>женат / замужем</td>\n",
       "      <td>0</td>\n",
       "      <td>M</td>\n",
       "      <td>сотрудник</td>\n",
       "      <td>0</td>\n",
       "      <td>145885</td>\n",
       "      <td>покупка жилья</td>\n",
       "    </tr>\n",
       "    <tr>\n",
       "      <th>3</th>\n",
       "      <td>3</td>\n",
       "      <td>4124.747070</td>\n",
       "      <td>32</td>\n",
       "      <td>среднее</td>\n",
       "      <td>1</td>\n",
       "      <td>женат / замужем</td>\n",
       "      <td>0</td>\n",
       "      <td>M</td>\n",
       "      <td>сотрудник</td>\n",
       "      <td>0</td>\n",
       "      <td>267628</td>\n",
       "      <td>дополнительное образование</td>\n",
       "    </tr>\n",
       "    <tr>\n",
       "      <th>4</th>\n",
       "      <td>0</td>\n",
       "      <td>340266.062500</td>\n",
       "      <td>53</td>\n",
       "      <td>среднее</td>\n",
       "      <td>1</td>\n",
       "      <td>гражданский брак</td>\n",
       "      <td>1</td>\n",
       "      <td>F</td>\n",
       "      <td>пенсионер</td>\n",
       "      <td>0</td>\n",
       "      <td>158616</td>\n",
       "      <td>сыграть свадьбу</td>\n",
       "    </tr>\n",
       "  </tbody>\n",
       "</table>\n",
       "</div>"
      ],
      "text/plain": [
       "   children  days_employed  dob_years education  education_id  \\\n",
       "0         1    8437.672852         42    высшее             0   \n",
       "1         1    4024.803711         36   среднее             1   \n",
       "2         0    5623.422852         33   Среднее             1   \n",
       "3         3    4124.747070         32   среднее             1   \n",
       "4         0  340266.062500         53   среднее             1   \n",
       "\n",
       "      family_status  family_status_id gender income_type  debt  total_income  \\\n",
       "0   женат / замужем                 0      F   сотрудник     0        253875   \n",
       "1   женат / замужем                 0      F   сотрудник     0        112080   \n",
       "2   женат / замужем                 0      M   сотрудник     0        145885   \n",
       "3   женат / замужем                 0      M   сотрудник     0        267628   \n",
       "4  гражданский брак                 1      F   пенсионер     0        158616   \n",
       "\n",
       "                      purpose  \n",
       "0               покупка жилья  \n",
       "1     приобретение автомобиля  \n",
       "2               покупка жилья  \n",
       "3  дополнительное образование  \n",
       "4             сыграть свадьбу  "
      ]
     },
     "execution_count": 22,
     "metadata": {},
     "output_type": "execute_result"
    }
   ],
   "source": [
    "df.head()"
   ]
  },
  {
   "cell_type": "markdown",
   "id": "e387ba15",
   "metadata": {},
   "source": [
    "Отлично. Теперь данные похожи на человеческие"
   ]
  },
  {
   "cell_type": "markdown",
   "id": "324421dd",
   "metadata": {},
   "source": [
    "---"
   ]
  },
  {
   "cell_type": "markdown",
   "id": "ec192f79",
   "metadata": {},
   "source": [
    "# Шаг 5 Удаление дубликатов. #"
   ]
  },
  {
   "cell_type": "markdown",
   "id": "e755becd",
   "metadata": {},
   "source": [
    "Посмотрим на общее количество дубликатов в данных. "
   ]
  },
  {
   "cell_type": "code",
   "execution_count": 23,
   "id": "27b2bccb",
   "metadata": {},
   "outputs": [
    {
     "data": {
      "text/plain": [
       "54"
      ]
     },
     "execution_count": 23,
     "metadata": {},
     "output_type": "execute_result"
    }
   ],
   "source": [
    "df.duplicated().sum()"
   ]
  },
  {
   "cell_type": "markdown",
   "id": "17b88313",
   "metadata": {},
   "source": [
    "Дубликаты в данных есть. Но что конкретно это за дибликаты? \\\n",
    "Необходимо помнить, что мы заменяли пропуски в некоторых столбцах на медианные значения. Соответсвенно, такие значения как минимум должны попасть в дубликаты. \\\n",
    "Для проверки создадим датафрейм, из которого исключим медианные значения"
   ]
  },
  {
   "cell_type": "code",
   "execution_count": 24,
   "id": "b8c2aae0",
   "metadata": {},
   "outputs": [
    {
     "data": {
      "text/plain": [
       "0"
      ]
     },
     "execution_count": 24,
     "metadata": {},
     "output_type": "execute_result"
    }
   ],
   "source": [
    "# создание проверочного датафрейма и проверка на дубликаты\n",
    "test_dublicates = df[(df['days_employed'] != 2194.220567) & (df['total_income'] != 145017)]\n",
    "test_dublicates.duplicated().sum()"
   ]
  },
  {
   "cell_type": "markdown",
   "id": "948ed5df",
   "metadata": {},
   "source": [
    "Отличные новости! Явные дубликаты были вызваны заменой пропусков на первых этапах работы. "
   ]
  },
  {
   "cell_type": "markdown",
   "id": "8aeba700",
   "metadata": {},
   "source": [
    "Теперь поищем неявные дубликаты в  конкретных столбцах.\\\n",
    "Уделим внимание следующим колонкам: \n",
    "- Образование\n",
    "- Семейное положение\n",
    "- Тип занятости \n",
    "\n",
    "В них могут скрываться быть дубликаты"
   ]
  },
  {
   "cell_type": "code",
   "execution_count": 25,
   "id": "ebc7d162",
   "metadata": {},
   "outputs": [
    {
     "data": {
      "text/plain": [
       "среднее                13750\n",
       "высшее                  4718\n",
       "СРЕДНЕЕ                  772\n",
       "Среднее                  711\n",
       "неоконченное высшее      667\n",
       "ВЫСШЕЕ                   274\n",
       "Высшее                   268\n",
       "начальное                250\n",
       "Неоконченное высшее       47\n",
       "НЕОКОНЧЕННОЕ ВЫСШЕЕ       29\n",
       "НАЧАЛЬНОЕ                 17\n",
       "Начальное                 15\n",
       "ученая степень             4\n",
       "Ученая степень             1\n",
       "УЧЕНАЯ СТЕПЕНЬ             1\n",
       "Name: education, dtype: int64"
      ]
     },
     "execution_count": 25,
     "metadata": {},
     "output_type": "execute_result"
    }
   ],
   "source": [
    "df['education'].value_counts()"
   ]
  },
  {
   "cell_type": "code",
   "execution_count": 26,
   "id": "ad2a84eb",
   "metadata": {},
   "outputs": [
    {
     "data": {
      "text/plain": [
       "женат / замужем          12380\n",
       "гражданский брак          4176\n",
       "Не женат / не замужем     2813\n",
       "в разводе                 1195\n",
       "вдовец / вдова             960\n",
       "Name: family_status, dtype: int64"
      ]
     },
     "execution_count": 26,
     "metadata": {},
     "output_type": "execute_result"
    }
   ],
   "source": [
    "df['family_status'].value_counts()"
   ]
  },
  {
   "cell_type": "code",
   "execution_count": 27,
   "id": "1ffdaf82",
   "metadata": {},
   "outputs": [
    {
     "data": {
      "text/plain": [
       "сотрудник          11119\n",
       "компаньон           5084\n",
       "пенсионер           3856\n",
       "госслужащий         1459\n",
       "безработный            2\n",
       "предприниматель        2\n",
       "студент                1\n",
       "в декрете              1\n",
       "Name: income_type, dtype: int64"
      ]
     },
     "execution_count": 27,
     "metadata": {},
     "output_type": "execute_result"
    }
   ],
   "source": [
    "df['income_type'].value_counts()"
   ]
  },
  {
   "cell_type": "markdown",
   "id": "2f065b98",
   "metadata": {},
   "source": [
    "Дубликаты встречаются в колнке с образованием. Встречаются они из-за разного регистра. \\\n",
    "Это достаточно частая причина появления дубликатов в данных. Приведем данные к единому регистру. "
   ]
  },
  {
   "cell_type": "code",
   "execution_count": 28,
   "id": "15576cfc",
   "metadata": {},
   "outputs": [],
   "source": [
    "df['education'] = df['education'].str.lower()"
   ]
  },
  {
   "cell_type": "code",
   "execution_count": 29,
   "id": "49baa3fb",
   "metadata": {
    "scrolled": true
   },
   "outputs": [
    {
     "data": {
      "text/plain": [
       "среднее                15233\n",
       "высшее                  5260\n",
       "неоконченное высшее      743\n",
       "начальное                282\n",
       "ученая степень             6\n",
       "Name: education, dtype: int64"
      ]
     },
     "execution_count": 29,
     "metadata": {},
     "output_type": "execute_result"
    }
   ],
   "source": [
    "df['education'].value_counts()"
   ]
  },
  {
   "cell_type": "markdown",
   "id": "bcbe2afd",
   "metadata": {},
   "source": [
    "Проверим: как изменилось количество дупликатов после обработки данных"
   ]
  },
  {
   "cell_type": "code",
   "execution_count": 30,
   "id": "43c91a6f",
   "metadata": {},
   "outputs": [
    {
     "data": {
      "text/plain": [
       "71"
      ]
     },
     "execution_count": 30,
     "metadata": {},
     "output_type": "execute_result"
    }
   ],
   "source": [
    "df.duplicated().sum()"
   ]
  },
  {
   "cell_type": "markdown",
   "id": "361fd97f",
   "metadata": {},
   "source": [
    "Логично, что кол-во дубликатов увеличилось. Теперь можно от них избавиться."
   ]
  },
  {
   "cell_type": "code",
   "execution_count": 31,
   "id": "091ba929",
   "metadata": {},
   "outputs": [],
   "source": [
    "df = df.drop_duplicates()"
   ]
  },
  {
   "cell_type": "code",
   "execution_count": 32,
   "id": "13ecc251",
   "metadata": {},
   "outputs": [
    {
     "data": {
      "text/plain": [
       "0"
      ]
     },
     "execution_count": 32,
     "metadata": {},
     "output_type": "execute_result"
    }
   ],
   "source": [
    "df.duplicated().sum()"
   ]
  },
  {
   "cell_type": "markdown",
   "id": "26f8305d",
   "metadata": {},
   "source": [
    "Отлично. Избавились от неявных дубликатов. \\\n",
    "Заемщиков со средним образованием намного больше. Интересно, влияет ли уровень образование на потребность в кредитах? Или у нас в стране в целом людей со средним образованием гораздо больше? \\\n",
    "Думаю, на этот вопрос мы ответим в следующий раз"
   ]
  },
  {
   "cell_type": "markdown",
   "id": "be6720c4",
   "metadata": {},
   "source": [
    "---"
   ]
  },
  {
   "cell_type": "markdown",
   "id": "d5e3e692",
   "metadata": {},
   "source": [
    "# Шаг 6 Формирование дополнительных датафреймов словарей, декомпозиция исходного датафрейма. #"
   ]
  },
  {
   "cell_type": "markdown",
   "id": "df143f2f",
   "metadata": {},
   "source": [
    "В наших данных есть колонки, которые хранят одинаковую информацию, но в разном виде. Например, колонка `education` хранит информацию об образовании клиента, а колонка `education_id` хранит идентификатор образования. Тоже самое можно сказать про колонки `family_status` и `family_status_id`. \\\n",
    "В работе проще и удобнее обращаться к данным по идентификатору, тк это позволяет избежать ошибок даже при бональной фильтрации. Также это упростит визуальную работу с данными и уменьшит размер файла.  \n",
    "Исходя из этого, получается что информацию в этих колонках так сказать дублирует друг друга, но в разных форматах. Предлагаю избавиться от \"лишней\" информации. \n",
    "Прежде чем просто удалить колонки `education` и `family_status`, создадим \"словари\", в которых каждому идентификатору будет соответсвовать расшифровка. "
   ]
  },
  {
   "cell_type": "code",
   "execution_count": 33,
   "id": "b0cc8c9d",
   "metadata": {},
   "outputs": [
    {
     "data": {
      "text/html": [
       "<div>\n",
       "<style scoped>\n",
       "    .dataframe tbody tr th:only-of-type {\n",
       "        vertical-align: middle;\n",
       "    }\n",
       "\n",
       "    .dataframe tbody tr th {\n",
       "        vertical-align: top;\n",
       "    }\n",
       "\n",
       "    .dataframe thead th {\n",
       "        text-align: right;\n",
       "    }\n",
       "</style>\n",
       "<table border=\"1\" class=\"dataframe\">\n",
       "  <thead>\n",
       "    <tr style=\"text-align: right;\">\n",
       "      <th></th>\n",
       "      <th>education</th>\n",
       "      <th>education_id</th>\n",
       "    </tr>\n",
       "  </thead>\n",
       "  <tbody>\n",
       "    <tr>\n",
       "      <th>0</th>\n",
       "      <td>высшее</td>\n",
       "      <td>0</td>\n",
       "    </tr>\n",
       "    <tr>\n",
       "      <th>1</th>\n",
       "      <td>среднее</td>\n",
       "      <td>1</td>\n",
       "    </tr>\n",
       "    <tr>\n",
       "      <th>2</th>\n",
       "      <td>неоконченное высшее</td>\n",
       "      <td>2</td>\n",
       "    </tr>\n",
       "    <tr>\n",
       "      <th>3</th>\n",
       "      <td>начальное</td>\n",
       "      <td>3</td>\n",
       "    </tr>\n",
       "    <tr>\n",
       "      <th>4</th>\n",
       "      <td>ученая степень</td>\n",
       "      <td>4</td>\n",
       "    </tr>\n",
       "  </tbody>\n",
       "</table>\n",
       "</div>"
      ],
      "text/plain": [
       "             education  education_id\n",
       "0               высшее             0\n",
       "1              среднее             1\n",
       "2  неоконченное высшее             2\n",
       "3            начальное             3\n",
       "4       ученая степень             4"
      ]
     },
     "execution_count": 33,
     "metadata": {},
     "output_type": "execute_result"
    }
   ],
   "source": [
    "# Создадим \"словарь\" в которому каждому идентификатору будет соответсвовать образование\n",
    "df_education_dict = df[['education', 'education_id']].drop_duplicates().reset_index(drop=True)\n",
    "df_education_dict"
   ]
  },
  {
   "cell_type": "code",
   "execution_count": 34,
   "id": "6c9789ad",
   "metadata": {},
   "outputs": [
    {
     "data": {
      "text/html": [
       "<div>\n",
       "<style scoped>\n",
       "    .dataframe tbody tr th:only-of-type {\n",
       "        vertical-align: middle;\n",
       "    }\n",
       "\n",
       "    .dataframe tbody tr th {\n",
       "        vertical-align: top;\n",
       "    }\n",
       "\n",
       "    .dataframe thead th {\n",
       "        text-align: right;\n",
       "    }\n",
       "</style>\n",
       "<table border=\"1\" class=\"dataframe\">\n",
       "  <thead>\n",
       "    <tr style=\"text-align: right;\">\n",
       "      <th></th>\n",
       "      <th>family_status</th>\n",
       "      <th>family_status_id</th>\n",
       "    </tr>\n",
       "  </thead>\n",
       "  <tbody>\n",
       "    <tr>\n",
       "      <th>0</th>\n",
       "      <td>женат / замужем</td>\n",
       "      <td>0</td>\n",
       "    </tr>\n",
       "    <tr>\n",
       "      <th>1</th>\n",
       "      <td>гражданский брак</td>\n",
       "      <td>1</td>\n",
       "    </tr>\n",
       "    <tr>\n",
       "      <th>2</th>\n",
       "      <td>вдовец / вдова</td>\n",
       "      <td>2</td>\n",
       "    </tr>\n",
       "    <tr>\n",
       "      <th>3</th>\n",
       "      <td>в разводе</td>\n",
       "      <td>3</td>\n",
       "    </tr>\n",
       "    <tr>\n",
       "      <th>4</th>\n",
       "      <td>Не женат / не замужем</td>\n",
       "      <td>4</td>\n",
       "    </tr>\n",
       "  </tbody>\n",
       "</table>\n",
       "</div>"
      ],
      "text/plain": [
       "           family_status  family_status_id\n",
       "0        женат / замужем                 0\n",
       "1       гражданский брак                 1\n",
       "2         вдовец / вдова                 2\n",
       "3              в разводе                 3\n",
       "4  Не женат / не замужем                 4"
      ]
     },
     "execution_count": 34,
     "metadata": {},
     "output_type": "execute_result"
    }
   ],
   "source": [
    "# Создадим \"словарь\" в которому каждому идентификатору будет соответсвовать семейный статус\n",
    "df_family_status_dict = df[['family_status', 'family_status_id']].drop_duplicates().reset_index(drop=True)\n",
    "df_family_status_dict"
   ]
  },
  {
   "cell_type": "markdown",
   "id": "2e840588",
   "metadata": {},
   "source": [
    "Теперь можно смело удалить колонки education и family_status"
   ]
  },
  {
   "cell_type": "code",
   "execution_count": 35,
   "id": "cd0965d4",
   "metadata": {},
   "outputs": [],
   "source": [
    "df = df.drop(columns=['education', 'family_status'])"
   ]
  },
  {
   "cell_type": "markdown",
   "id": "591ef0f5",
   "metadata": {},
   "source": [
    "---"
   ]
  },
  {
   "cell_type": "markdown",
   "id": "553ceebc",
   "metadata": {},
   "source": [
    "# Шаг 7 Категоризация дохода. #"
   ]
  },
  {
   "cell_type": "markdown",
   "id": "1801ac04",
   "metadata": {},
   "source": [
    "Остановимся подробнее на данных о доходах. Что и логично, доход у кажого клиента разный и отличаются они достаточно сильно. Рабоать с такими данными и делать из них выводы нельзя. \n",
    "\\\n",
    "Поэтому предлагаю категоризировать доход клиентов. "
   ]
  },
  {
   "cell_type": "code",
   "execution_count": 36,
   "id": "deb4c3df",
   "metadata": {},
   "outputs": [],
   "source": [
    "# Функция считывает доход клиента и присваивает категорию исходя из условий. \n",
    "def income_category(income):\n",
    "    if income <= 30000:\n",
    "        return 'E'\n",
    "    elif income <= 50000:\n",
    "        return 'D'\n",
    "    elif income <= 200000:\n",
    "        return 'C'\n",
    "    elif income <= 1000000:\n",
    "        return 'B'\n",
    "    elif income > 1000000:\n",
    "        return 'A'"
   ]
  },
  {
   "cell_type": "code",
   "execution_count": 37,
   "id": "7f59da75",
   "metadata": {
    "scrolled": true
   },
   "outputs": [
    {
     "data": {
      "text/html": [
       "<div>\n",
       "<style scoped>\n",
       "    .dataframe tbody tr th:only-of-type {\n",
       "        vertical-align: middle;\n",
       "    }\n",
       "\n",
       "    .dataframe tbody tr th {\n",
       "        vertical-align: top;\n",
       "    }\n",
       "\n",
       "    .dataframe thead th {\n",
       "        text-align: right;\n",
       "    }\n",
       "</style>\n",
       "<table border=\"1\" class=\"dataframe\">\n",
       "  <thead>\n",
       "    <tr style=\"text-align: right;\">\n",
       "      <th></th>\n",
       "      <th>children</th>\n",
       "      <th>days_employed</th>\n",
       "      <th>dob_years</th>\n",
       "      <th>education_id</th>\n",
       "      <th>family_status_id</th>\n",
       "      <th>gender</th>\n",
       "      <th>income_type</th>\n",
       "      <th>debt</th>\n",
       "      <th>total_income</th>\n",
       "      <th>purpose</th>\n",
       "      <th>total_income_category</th>\n",
       "    </tr>\n",
       "  </thead>\n",
       "  <tbody>\n",
       "    <tr>\n",
       "      <th>0</th>\n",
       "      <td>1</td>\n",
       "      <td>8437.672852</td>\n",
       "      <td>42</td>\n",
       "      <td>0</td>\n",
       "      <td>0</td>\n",
       "      <td>F</td>\n",
       "      <td>сотрудник</td>\n",
       "      <td>0</td>\n",
       "      <td>253875</td>\n",
       "      <td>покупка жилья</td>\n",
       "      <td>B</td>\n",
       "    </tr>\n",
       "    <tr>\n",
       "      <th>1</th>\n",
       "      <td>1</td>\n",
       "      <td>4024.803711</td>\n",
       "      <td>36</td>\n",
       "      <td>1</td>\n",
       "      <td>0</td>\n",
       "      <td>F</td>\n",
       "      <td>сотрудник</td>\n",
       "      <td>0</td>\n",
       "      <td>112080</td>\n",
       "      <td>приобретение автомобиля</td>\n",
       "      <td>C</td>\n",
       "    </tr>\n",
       "    <tr>\n",
       "      <th>2</th>\n",
       "      <td>0</td>\n",
       "      <td>5623.422852</td>\n",
       "      <td>33</td>\n",
       "      <td>1</td>\n",
       "      <td>0</td>\n",
       "      <td>M</td>\n",
       "      <td>сотрудник</td>\n",
       "      <td>0</td>\n",
       "      <td>145885</td>\n",
       "      <td>покупка жилья</td>\n",
       "      <td>C</td>\n",
       "    </tr>\n",
       "    <tr>\n",
       "      <th>3</th>\n",
       "      <td>3</td>\n",
       "      <td>4124.747070</td>\n",
       "      <td>32</td>\n",
       "      <td>1</td>\n",
       "      <td>0</td>\n",
       "      <td>M</td>\n",
       "      <td>сотрудник</td>\n",
       "      <td>0</td>\n",
       "      <td>267628</td>\n",
       "      <td>дополнительное образование</td>\n",
       "      <td>B</td>\n",
       "    </tr>\n",
       "    <tr>\n",
       "      <th>4</th>\n",
       "      <td>0</td>\n",
       "      <td>340266.062500</td>\n",
       "      <td>53</td>\n",
       "      <td>1</td>\n",
       "      <td>1</td>\n",
       "      <td>F</td>\n",
       "      <td>пенсионер</td>\n",
       "      <td>0</td>\n",
       "      <td>158616</td>\n",
       "      <td>сыграть свадьбу</td>\n",
       "      <td>C</td>\n",
       "    </tr>\n",
       "  </tbody>\n",
       "</table>\n",
       "</div>"
      ],
      "text/plain": [
       "   children  days_employed  dob_years  education_id  family_status_id gender  \\\n",
       "0         1    8437.672852         42             0                 0      F   \n",
       "1         1    4024.803711         36             1                 0      F   \n",
       "2         0    5623.422852         33             1                 0      M   \n",
       "3         3    4124.747070         32             1                 0      M   \n",
       "4         0  340266.062500         53             1                 1      F   \n",
       "\n",
       "  income_type  debt  total_income                     purpose  \\\n",
       "0   сотрудник     0        253875               покупка жилья   \n",
       "1   сотрудник     0        112080     приобретение автомобиля   \n",
       "2   сотрудник     0        145885               покупка жилья   \n",
       "3   сотрудник     0        267628  дополнительное образование   \n",
       "4   пенсионер     0        158616             сыграть свадьбу   \n",
       "\n",
       "  total_income_category  \n",
       "0                     B  \n",
       "1                     C  \n",
       "2                     C  \n",
       "3                     B  \n",
       "4                     C  "
      ]
     },
     "execution_count": 37,
     "metadata": {},
     "output_type": "execute_result"
    }
   ],
   "source": [
    "# Добавим колонку с категорией дохода в наш датафрейм и взглянем на обновленный датафрейм\n",
    "df['total_income_category'] = df['total_income'].apply(income_category)\n",
    "df.head()"
   ]
  },
  {
   "cell_type": "markdown",
   "id": "1ec6377e",
   "metadata": {},
   "source": [
    "---"
   ]
  },
  {
   "cell_type": "markdown",
   "id": "759699e3",
   "metadata": {},
   "source": [
    "# Шаг 8 Категоризация целей кредита. #"
   ]
  },
  {
   "cell_type": "markdown",
   "id": "095dd149",
   "metadata": {},
   "source": [
    "Теперь сделаем категоризацию для целей кредита. \\\n",
    "Взглянем на уникальные значения колонки purpose"
   ]
  },
  {
   "cell_type": "code",
   "execution_count": 38,
   "id": "53277518",
   "metadata": {},
   "outputs": [
    {
     "data": {
      "text/plain": [
       "['автомобили',\n",
       " 'автомобиль',\n",
       " 'высшее образование',\n",
       " 'дополнительное образование',\n",
       " 'жилье',\n",
       " 'заняться высшим образованием',\n",
       " 'заняться образованием',\n",
       " 'на покупку автомобиля',\n",
       " 'на покупку подержанного автомобиля',\n",
       " 'на покупку своего автомобиля',\n",
       " 'на проведение свадьбы',\n",
       " 'недвижимость',\n",
       " 'образование',\n",
       " 'операции с жильем',\n",
       " 'операции с коммерческой недвижимостью',\n",
       " 'операции с недвижимостью',\n",
       " 'операции со своей недвижимостью',\n",
       " 'покупка жилой недвижимости',\n",
       " 'покупка жилья',\n",
       " 'покупка жилья для сдачи',\n",
       " 'покупка жилья для семьи',\n",
       " 'покупка коммерческой недвижимости',\n",
       " 'покупка недвижимости',\n",
       " 'покупка своего жилья',\n",
       " 'получение высшего образования',\n",
       " 'получение дополнительного образования',\n",
       " 'получение образования',\n",
       " 'приобретение автомобиля',\n",
       " 'профильное образование',\n",
       " 'ремонт жилью',\n",
       " 'свадьба',\n",
       " 'свой автомобиль',\n",
       " 'сделка с автомобилем',\n",
       " 'сделка с подержанным автомобилем',\n",
       " 'строительство жилой недвижимости',\n",
       " 'строительство недвижимости',\n",
       " 'строительство собственной недвижимости',\n",
       " 'сыграть свадьбу']"
      ]
     },
     "execution_count": 38,
     "metadata": {},
     "output_type": "execute_result"
    }
   ],
   "source": [
    "sorted(df['purpose'].unique())"
   ]
  },
  {
   "cell_type": "markdown",
   "id": "7baa62a9",
   "metadata": {},
   "source": [
    "Сразу бросается в глаза, что глобально можно разделить все эти цели на 4 группы: \n",
    "- Операции с автомобилем\n",
    "- операции с недвижимостью\n",
    "- Свадьбы\n",
    "- Образование"
   ]
  },
  {
   "cell_type": "code",
   "execution_count": 39,
   "id": "86d59128",
   "metadata": {},
   "outputs": [
    {
     "data": {
      "text/plain": [
       "['Образование',\n",
       " 'Операции с автомобилем',\n",
       " 'Операции с недвижимостью',\n",
       " 'Свадьба']"
      ]
     },
     "execution_count": 39,
     "metadata": {},
     "output_type": "execute_result"
    }
   ],
   "source": [
    "# функция ищет \"ключевые\" слова с колонке и присваивает категорию\n",
    "def purpose_category(purpose):\n",
    "    if 'автомоб' in purpose:\n",
    "        return 'Операции с автомобилем'\n",
    "    elif ('жил' in purpose) or ('недвиж' in purpose):\n",
    "        return 'Операции с недвижимостью'\n",
    "    elif 'свад' in purpose:\n",
    "        return 'Свадьба'\n",
    "    elif 'образован' in purpose:\n",
    "        return 'Образование'\n",
    "\n",
    "#Применим функцию к датафрейму\n",
    "df['purpose_category'] = df['purpose'].apply(purpose_category)\n",
    "\n",
    "# Проверим получишиеся категории. \n",
    "sorted(df['purpose_category'].unique())"
   ]
  },
  {
   "cell_type": "markdown",
   "id": "1da9a86a",
   "metadata": {},
   "source": [
    "Но верно ли распределились категории? \\\n",
    "Можно проверить используя сводную таблицу "
   ]
  },
  {
   "cell_type": "code",
   "execution_count": 40,
   "id": "4399178d",
   "metadata": {},
   "outputs": [
    {
     "data": {
      "text/html": [
       "<div>\n",
       "<style scoped>\n",
       "    .dataframe tbody tr th:only-of-type {\n",
       "        vertical-align: middle;\n",
       "    }\n",
       "\n",
       "    .dataframe tbody tr th {\n",
       "        vertical-align: top;\n",
       "    }\n",
       "\n",
       "    .dataframe thead th {\n",
       "        text-align: right;\n",
       "    }\n",
       "</style>\n",
       "<table border=\"1\" class=\"dataframe\">\n",
       "  <thead>\n",
       "    <tr style=\"text-align: right;\">\n",
       "      <th></th>\n",
       "      <th>debt</th>\n",
       "      <th>0</th>\n",
       "      <th>1</th>\n",
       "    </tr>\n",
       "    <tr>\n",
       "      <th>purpose_category</th>\n",
       "      <th>purpose</th>\n",
       "      <th></th>\n",
       "      <th></th>\n",
       "    </tr>\n",
       "  </thead>\n",
       "  <tbody>\n",
       "    <tr>\n",
       "      <th rowspan=\"9\" valign=\"top\">Образование</th>\n",
       "      <th>высшее образование</th>\n",
       "      <td>412</td>\n",
       "      <td>40</td>\n",
       "    </tr>\n",
       "    <tr>\n",
       "      <th>дополнительное образование</th>\n",
       "      <td>422</td>\n",
       "      <td>38</td>\n",
       "    </tr>\n",
       "    <tr>\n",
       "      <th>заняться высшим образованием</th>\n",
       "      <td>453</td>\n",
       "      <td>43</td>\n",
       "    </tr>\n",
       "    <tr>\n",
       "      <th>заняться образованием</th>\n",
       "      <td>369</td>\n",
       "      <td>39</td>\n",
       "    </tr>\n",
       "    <tr>\n",
       "      <th>образование</th>\n",
       "      <td>415</td>\n",
       "      <td>32</td>\n",
       "    </tr>\n",
       "    <tr>\n",
       "      <th>получение высшего образования</th>\n",
       "      <td>380</td>\n",
       "      <td>46</td>\n",
       "    </tr>\n",
       "    <tr>\n",
       "      <th>получение дополнительного образования</th>\n",
       "      <td>395</td>\n",
       "      <td>51</td>\n",
       "    </tr>\n",
       "    <tr>\n",
       "      <th>получение образования</th>\n",
       "      <td>405</td>\n",
       "      <td>37</td>\n",
       "    </tr>\n",
       "    <tr>\n",
       "      <th>профильное образование</th>\n",
       "      <td>392</td>\n",
       "      <td>44</td>\n",
       "    </tr>\n",
       "    <tr>\n",
       "      <th rowspan=\"9\" valign=\"top\">Операции с автомобилем</th>\n",
       "      <th>автомобили</th>\n",
       "      <td>434</td>\n",
       "      <td>44</td>\n",
       "    </tr>\n",
       "    <tr>\n",
       "      <th>автомобиль</th>\n",
       "      <td>452</td>\n",
       "      <td>42</td>\n",
       "    </tr>\n",
       "    <tr>\n",
       "      <th>на покупку автомобиля</th>\n",
       "      <td>427</td>\n",
       "      <td>44</td>\n",
       "    </tr>\n",
       "    <tr>\n",
       "      <th>на покупку подержанного автомобиля</th>\n",
       "      <td>442</td>\n",
       "      <td>36</td>\n",
       "    </tr>\n",
       "    <tr>\n",
       "      <th>на покупку своего автомобиля</th>\n",
       "      <td>459</td>\n",
       "      <td>46</td>\n",
       "    </tr>\n",
       "    <tr>\n",
       "      <th>приобретение автомобиля</th>\n",
       "      <td>419</td>\n",
       "      <td>42</td>\n",
       "    </tr>\n",
       "    <tr>\n",
       "      <th>свой автомобиль</th>\n",
       "      <td>430</td>\n",
       "      <td>48</td>\n",
       "    </tr>\n",
       "    <tr>\n",
       "      <th>сделка с автомобилем</th>\n",
       "      <td>405</td>\n",
       "      <td>50</td>\n",
       "    </tr>\n",
       "    <tr>\n",
       "      <th>сделка с подержанным автомобилем</th>\n",
       "      <td>435</td>\n",
       "      <td>51</td>\n",
       "    </tr>\n",
       "    <tr>\n",
       "      <th rowspan=\"17\" valign=\"top\">Операции с недвижимостью</th>\n",
       "      <th>жилье</th>\n",
       "      <td>600</td>\n",
       "      <td>46</td>\n",
       "    </tr>\n",
       "    <tr>\n",
       "      <th>недвижимость</th>\n",
       "      <td>591</td>\n",
       "      <td>42</td>\n",
       "    </tr>\n",
       "    <tr>\n",
       "      <th>операции с жильем</th>\n",
       "      <td>604</td>\n",
       "      <td>48</td>\n",
       "    </tr>\n",
       "    <tr>\n",
       "      <th>операции с коммерческой недвижимостью</th>\n",
       "      <td>598</td>\n",
       "      <td>52</td>\n",
       "    </tr>\n",
       "    <tr>\n",
       "      <th>операции с недвижимостью</th>\n",
       "      <td>620</td>\n",
       "      <td>55</td>\n",
       "    </tr>\n",
       "    <tr>\n",
       "      <th>операции со своей недвижимостью</th>\n",
       "      <td>577</td>\n",
       "      <td>50</td>\n",
       "    </tr>\n",
       "    <tr>\n",
       "      <th>покупка жилой недвижимости</th>\n",
       "      <td>565</td>\n",
       "      <td>41</td>\n",
       "    </tr>\n",
       "    <tr>\n",
       "      <th>покупка жилья</th>\n",
       "      <td>598</td>\n",
       "      <td>48</td>\n",
       "    </tr>\n",
       "    <tr>\n",
       "      <th>покупка жилья для сдачи</th>\n",
       "      <td>599</td>\n",
       "      <td>52</td>\n",
       "    </tr>\n",
       "    <tr>\n",
       "      <th>покупка жилья для семьи</th>\n",
       "      <td>593</td>\n",
       "      <td>45</td>\n",
       "    </tr>\n",
       "    <tr>\n",
       "      <th>покупка коммерческой недвижимости</th>\n",
       "      <td>614</td>\n",
       "      <td>47</td>\n",
       "    </tr>\n",
       "    <tr>\n",
       "      <th>покупка недвижимости</th>\n",
       "      <td>577</td>\n",
       "      <td>43</td>\n",
       "    </tr>\n",
       "    <tr>\n",
       "      <th>покупка своего жилья</th>\n",
       "      <td>586</td>\n",
       "      <td>34</td>\n",
       "    </tr>\n",
       "    <tr>\n",
       "      <th>ремонт жилью</th>\n",
       "      <td>572</td>\n",
       "      <td>35</td>\n",
       "    </tr>\n",
       "    <tr>\n",
       "      <th>строительство жилой недвижимости</th>\n",
       "      <td>576</td>\n",
       "      <td>48</td>\n",
       "    </tr>\n",
       "    <tr>\n",
       "      <th>строительство недвижимости</th>\n",
       "      <td>565</td>\n",
       "      <td>54</td>\n",
       "    </tr>\n",
       "    <tr>\n",
       "      <th>строительство собственной недвижимости</th>\n",
       "      <td>593</td>\n",
       "      <td>42</td>\n",
       "    </tr>\n",
       "    <tr>\n",
       "      <th rowspan=\"3\" valign=\"top\">Свадьба</th>\n",
       "      <th>на проведение свадьбы</th>\n",
       "      <td>704</td>\n",
       "      <td>64</td>\n",
       "    </tr>\n",
       "    <tr>\n",
       "      <th>свадьба</th>\n",
       "      <td>727</td>\n",
       "      <td>64</td>\n",
       "    </tr>\n",
       "    <tr>\n",
       "      <th>сыграть свадьбу</th>\n",
       "      <td>707</td>\n",
       "      <td>58</td>\n",
       "    </tr>\n",
       "  </tbody>\n",
       "</table>\n",
       "</div>"
      ],
      "text/plain": [
       "debt                                                               0   1\n",
       "purpose_category         purpose                                        \n",
       "Образование              высшее образование                      412  40\n",
       "                         дополнительное образование              422  38\n",
       "                         заняться высшим образованием            453  43\n",
       "                         заняться образованием                   369  39\n",
       "                         образование                             415  32\n",
       "                         получение высшего образования           380  46\n",
       "                         получение дополнительного образования   395  51\n",
       "                         получение образования                   405  37\n",
       "                         профильное образование                  392  44\n",
       "Операции с автомобилем   автомобили                              434  44\n",
       "                         автомобиль                              452  42\n",
       "                         на покупку автомобиля                   427  44\n",
       "                         на покупку подержанного автомобиля      442  36\n",
       "                         на покупку своего автомобиля            459  46\n",
       "                         приобретение автомобиля                 419  42\n",
       "                         свой автомобиль                         430  48\n",
       "                         сделка с автомобилем                    405  50\n",
       "                         сделка с подержанным автомобилем        435  51\n",
       "Операции с недвижимостью жилье                                   600  46\n",
       "                         недвижимость                            591  42\n",
       "                         операции с жильем                       604  48\n",
       "                         операции с коммерческой недвижимостью   598  52\n",
       "                         операции с недвижимостью                620  55\n",
       "                         операции со своей недвижимостью         577  50\n",
       "                         покупка жилой недвижимости              565  41\n",
       "                         покупка жилья                           598  48\n",
       "                         покупка жилья для сдачи                 599  52\n",
       "                         покупка жилья для семьи                 593  45\n",
       "                         покупка коммерческой недвижимости       614  47\n",
       "                         покупка недвижимости                    577  43\n",
       "                         покупка своего жилья                    586  34\n",
       "                         ремонт жилью                            572  35\n",
       "                         строительство жилой недвижимости        576  48\n",
       "                         строительство недвижимости              565  54\n",
       "                         строительство собственной недвижимости  593  42\n",
       "Свадьба                  на проведение свадьбы                   704  64\n",
       "                         свадьба                                 727  64\n",
       "                         сыграть свадьбу                         707  58"
      ]
     },
     "execution_count": 40,
     "metadata": {},
     "output_type": "execute_result"
    }
   ],
   "source": [
    "purpose_pivot = df.pivot_table(index=['purpose_category' , 'purpose'], columns='debt', values='children', aggfunc='count')\n",
    "purpose_pivot"
   ]
  },
  {
   "cell_type": "markdown",
   "id": "dc262ed7",
   "metadata": {},
   "source": [
    "Промахов не обнаружено"
   ]
  },
  {
   "cell_type": "markdown",
   "id": "cacad7ba",
   "metadata": {},
   "source": [
    "---"
   ]
  },
  {
   "cell_type": "markdown",
   "id": "46b76349",
   "metadata": {},
   "source": [
    "# Ответы на вопросы  #"
   ]
  },
  {
   "cell_type": "markdown",
   "id": "e90f6c55",
   "metadata": {},
   "source": [
    "## Есть ли зависимость между количеством детей и возвратом кредита в срок?"
   ]
  },
  {
   "cell_type": "markdown",
   "id": "dd81f41b",
   "metadata": {},
   "source": [
    "Взглянем на количество клиентов в зависимости от количества детей"
   ]
  },
  {
   "cell_type": "code",
   "execution_count": 41,
   "id": "23c00bbb",
   "metadata": {},
   "outputs": [
    {
     "data": {
      "text/plain": [
       "0    14090\n",
       "1     4855\n",
       "2     2128\n",
       "3      330\n",
       "4       41\n",
       "5        9\n",
       "Name: children, dtype: int64"
      ]
     },
     "execution_count": 41,
     "metadata": {},
     "output_type": "execute_result"
    }
   ],
   "source": [
    "df['children'].value_counts()"
   ]
  },
  {
   "cell_type": "markdown",
   "id": "8e525c06",
   "metadata": {},
   "source": [
    "Тепеь посмотрим сколько \"должников\" в каждой группе"
   ]
  },
  {
   "cell_type": "code",
   "execution_count": 42,
   "id": "5ebe1056",
   "metadata": {},
   "outputs": [
    {
     "data": {
      "text/plain": [
       "children\n",
       "0    1063\n",
       "1     445\n",
       "2     202\n",
       "3      27\n",
       "4       4\n",
       "5       0\n",
       "Name: debt, dtype: int32"
      ]
     },
     "execution_count": 42,
     "metadata": {},
     "output_type": "execute_result"
    }
   ],
   "source": [
    "df.groupby('children')['debt'].sum()"
   ]
  },
  {
   "cell_type": "markdown",
   "id": "35c43099",
   "metadata": {},
   "source": [
    "Интересные данные у нас получились. Можно заметить, что у людей без детей гораздо чаще встречаются задолженности по кредитам. \\\n",
    "Взгляним на это в процентном соотношении. "
   ]
  },
  {
   "cell_type": "code",
   "execution_count": 43,
   "id": "6bcc3ce1",
   "metadata": {},
   "outputs": [
    {
     "data": {
      "text/plain": [
       "children\n",
       "0    61.06\n",
       "1    25.56\n",
       "2    11.60\n",
       "3     1.55\n",
       "4     0.23\n",
       "5     0.00\n",
       "Name: debt, dtype: float64"
      ]
     },
     "execution_count": 43,
     "metadata": {},
     "output_type": "execute_result"
    }
   ],
   "source": [
    "round((df.groupby('children')['debt'].sum() / df['debt'].sum() * 100), 2)"
   ]
  },
  {
   "cell_type": "markdown",
   "id": "2dbd4990",
   "metadata": {},
   "source": [
    "Ничего себе! 61% клиентов с задолженностями приходится на заемщиков без детей. Далее процент снижается. Но все ли так просто?\n",
    "\\\n",
    "Что можно сказать о данных, которые мы получили? С одной стороны, вывод очевиден: чем больше детей у клиента, тем он исправнее платит по кредиту. \n",
    "\\\n",
    "Но что, если мы взгялнем на данные с другой стороны? Прекрасно видно, что людей без детей значительно больше. Например, клиентов без детей 14149, а клиентов с 5 детьми всего 9. \n",
    "Поэтому считаю, что делать выводы рано. Давайте посчитаем долю клиентов с задолженностями от общего количества клиентов в каждой группе. \n",
    "\\\n",
    "Для удобства построим сводную таблицу и добавим в нее колонку с долей"
   ]
  },
  {
   "cell_type": "code",
   "execution_count": 44,
   "id": "8a699ad1",
   "metadata": {},
   "outputs": [
    {
     "data": {
      "text/html": [
       "<div>\n",
       "<style scoped>\n",
       "    .dataframe tbody tr th:only-of-type {\n",
       "        vertical-align: middle;\n",
       "    }\n",
       "\n",
       "    .dataframe tbody tr th {\n",
       "        vertical-align: top;\n",
       "    }\n",
       "\n",
       "    .dataframe thead th {\n",
       "        text-align: right;\n",
       "    }\n",
       "</style>\n",
       "<table border=\"1\" class=\"dataframe\">\n",
       "  <thead>\n",
       "    <tr style=\"text-align: right;\">\n",
       "      <th></th>\n",
       "      <th>sum</th>\n",
       "      <th>count</th>\n",
       "      <th>mean</th>\n",
       "    </tr>\n",
       "    <tr>\n",
       "      <th>children</th>\n",
       "      <th></th>\n",
       "      <th></th>\n",
       "      <th></th>\n",
       "    </tr>\n",
       "  </thead>\n",
       "  <tbody>\n",
       "    <tr>\n",
       "      <th>5</th>\n",
       "      <td>0</td>\n",
       "      <td>9</td>\n",
       "      <td>0.000000</td>\n",
       "    </tr>\n",
       "    <tr>\n",
       "      <th>0</th>\n",
       "      <td>1063</td>\n",
       "      <td>14090</td>\n",
       "      <td>0.075444</td>\n",
       "    </tr>\n",
       "    <tr>\n",
       "      <th>3</th>\n",
       "      <td>27</td>\n",
       "      <td>330</td>\n",
       "      <td>0.081818</td>\n",
       "    </tr>\n",
       "    <tr>\n",
       "      <th>1</th>\n",
       "      <td>445</td>\n",
       "      <td>4855</td>\n",
       "      <td>0.091658</td>\n",
       "    </tr>\n",
       "    <tr>\n",
       "      <th>2</th>\n",
       "      <td>202</td>\n",
       "      <td>2128</td>\n",
       "      <td>0.094925</td>\n",
       "    </tr>\n",
       "    <tr>\n",
       "      <th>4</th>\n",
       "      <td>4</td>\n",
       "      <td>41</td>\n",
       "      <td>0.097561</td>\n",
       "    </tr>\n",
       "  </tbody>\n",
       "</table>\n",
       "</div>"
      ],
      "text/plain": [
       "           sum  count      mean\n",
       "children                       \n",
       "5            0      9  0.000000\n",
       "0         1063  14090  0.075444\n",
       "3           27    330  0.081818\n",
       "1          445   4855  0.091658\n",
       "2          202   2128  0.094925\n",
       "4            4     41  0.097561"
      ]
     },
     "execution_count": 44,
     "metadata": {},
     "output_type": "execute_result"
    }
   ],
   "source": [
    "data_pivot_children = df.pivot_table(index='children', values='debt', aggfunc=['sum','count','mean'])\n",
    "data_pivot_children.columns=['sum','count','mean']\n",
    "data_pivot_children.sort_values('mean')"
   ]
  },
  {
   "cell_type": "markdown",
   "id": "19dd36d0",
   "metadata": {},
   "source": [
    "Вот это уже похоже на результат! Как я и предполагал, выводы делать было рано. \n",
    "Теперь данные говорят нам о другом: Да, для клиентов с 5 детьми картина не поменялась, но напомню, что таких клиентов всего 9. \n",
    "По остальным же картина существенно поменялась. Клиенты без детей, оказывается, не погошают кредит незначительно, но все же реже, чем клиенты с детьми. "
   ]
  },
  {
   "cell_type": "markdown",
   "id": "45385ecc",
   "metadata": {},
   "source": [
    "<div style=\"border:solid blue 2px; padding: 20px\">\n",
    "Можно сделать общий вывод: Клиенты без детей не платят по кредитам реже, чем клиенты с 3 детьми. Клиенты с 1, 2 или 4 детьми не платят чаще остальных. \n",
    "Клиенты с 5 детьми всегда платят по счетам, но таких клиентов очень мало, чтобы сделать однозначный вывод. \n",
    "В целом же, доля клиентов с задолженностями в зависимости от кол-ва детей примерно одинакова - от 7.5 до 9.7 процентов уместилось 5 категорий. \n",
    "Поэтому можно сказать смело: кол-во детей клиентов НЕСИЛЬНО влияет на платежеспособность клиента. \n"
   ]
  },
  {
   "cell_type": "markdown",
   "id": "cce8d7d2",
   "metadata": {},
   "source": [
    "---"
   ]
  },
  {
   "cell_type": "markdown",
   "id": "44cb59d8",
   "metadata": {},
   "source": [
    "## Есть ли зависимость между семейным положением и возвратом кредита в срок?"
   ]
  },
  {
   "cell_type": "code",
   "execution_count": 45,
   "id": "77da7d16",
   "metadata": {},
   "outputs": [
    {
     "data": {
      "text/html": [
       "<div>\n",
       "<style scoped>\n",
       "    .dataframe tbody tr th:only-of-type {\n",
       "        vertical-align: middle;\n",
       "    }\n",
       "\n",
       "    .dataframe tbody tr th {\n",
       "        vertical-align: top;\n",
       "    }\n",
       "\n",
       "    .dataframe thead th {\n",
       "        text-align: right;\n",
       "    }\n",
       "</style>\n",
       "<table border=\"1\" class=\"dataframe\">\n",
       "  <thead>\n",
       "    <tr style=\"text-align: right;\">\n",
       "      <th></th>\n",
       "      <th>family_status</th>\n",
       "      <th>family_status_id</th>\n",
       "    </tr>\n",
       "  </thead>\n",
       "  <tbody>\n",
       "    <tr>\n",
       "      <th>0</th>\n",
       "      <td>женат / замужем</td>\n",
       "      <td>0</td>\n",
       "    </tr>\n",
       "    <tr>\n",
       "      <th>1</th>\n",
       "      <td>гражданский брак</td>\n",
       "      <td>1</td>\n",
       "    </tr>\n",
       "    <tr>\n",
       "      <th>2</th>\n",
       "      <td>вдовец / вдова</td>\n",
       "      <td>2</td>\n",
       "    </tr>\n",
       "    <tr>\n",
       "      <th>3</th>\n",
       "      <td>в разводе</td>\n",
       "      <td>3</td>\n",
       "    </tr>\n",
       "    <tr>\n",
       "      <th>4</th>\n",
       "      <td>Не женат / не замужем</td>\n",
       "      <td>4</td>\n",
       "    </tr>\n",
       "  </tbody>\n",
       "</table>\n",
       "</div>"
      ],
      "text/plain": [
       "           family_status  family_status_id\n",
       "0        женат / замужем                 0\n",
       "1       гражданский брак                 1\n",
       "2         вдовец / вдова                 2\n",
       "3              в разводе                 3\n",
       "4  Не женат / не замужем                 4"
      ]
     },
     "execution_count": 45,
     "metadata": {},
     "output_type": "execute_result"
    }
   ],
   "source": [
    "# оставим перед глазами наш \"словарик\" по семейному положению\n",
    "df_family_status_dict"
   ]
  },
  {
   "cell_type": "markdown",
   "id": "93684cca",
   "metadata": {},
   "source": [
    "Сначала посмотрим количество клиентов для каждой группы по семейному положению"
   ]
  },
  {
   "cell_type": "code",
   "execution_count": 46,
   "id": "b99259e1",
   "metadata": {},
   "outputs": [
    {
     "data": {
      "text/plain": [
       "0    12339\n",
       "1     4150\n",
       "4     2810\n",
       "3     1195\n",
       "2      959\n",
       "Name: family_status_id, dtype: int64"
      ]
     },
     "execution_count": 46,
     "metadata": {},
     "output_type": "execute_result"
    }
   ],
   "source": [
    "df['family_status_id'].value_counts()"
   ]
  },
  {
   "cell_type": "markdown",
   "id": "9cbc5cb6",
   "metadata": {},
   "source": [
    "Теперь посмотрим как клиенты платят по кредитам"
   ]
  },
  {
   "cell_type": "code",
   "execution_count": 47,
   "id": "6c04a3fd",
   "metadata": {},
   "outputs": [
    {
     "data": {
      "text/plain": [
       "family_status_id\n",
       "0    931\n",
       "1    388\n",
       "2     63\n",
       "3     85\n",
       "4    274\n",
       "Name: debt, dtype: int32"
      ]
     },
     "execution_count": 47,
     "metadata": {},
     "output_type": "execute_result"
    }
   ],
   "source": [
    "df.groupby('family_status_id')['debt'].sum()"
   ]
  },
  {
   "cell_type": "markdown",
   "id": "17f21ed2",
   "metadata": {},
   "source": [
    "А что с долей клиентов, которые не плаят?"
   ]
  },
  {
   "cell_type": "code",
   "execution_count": 48,
   "id": "d1e40d01",
   "metadata": {},
   "outputs": [
    {
     "data": {
      "text/plain": [
       "family_status_id\n",
       "0    53.48\n",
       "1    22.29\n",
       "2     3.62\n",
       "3     4.88\n",
       "4    15.74\n",
       "Name: debt, dtype: float64"
      ]
     },
     "execution_count": 48,
     "metadata": {},
     "output_type": "execute_result"
    }
   ],
   "source": [
    "round((df.groupby('family_status_id')['debt'].sum() / df['debt'].sum() * 100), 2)"
   ]
  },
  {
   "cell_type": "markdown",
   "id": "1fb4553a",
   "metadata": {},
   "source": [
    "Опять 25. Вроде бы количество должников среди женатых клиентов больше всего, но и их количество сильно больше остальных. \n",
    "Посчитаем долю должников по категориям от кол-ва клиентов в этих категориях \\\n",
    "Для удобства построим сводную таблицу и добавим в нее колонку с долей"
   ]
  },
  {
   "cell_type": "code",
   "execution_count": 49,
   "id": "334cb9be",
   "metadata": {},
   "outputs": [
    {
     "data": {
      "text/html": [
       "<div>\n",
       "<style scoped>\n",
       "    .dataframe tbody tr th:only-of-type {\n",
       "        vertical-align: middle;\n",
       "    }\n",
       "\n",
       "    .dataframe tbody tr th {\n",
       "        vertical-align: top;\n",
       "    }\n",
       "\n",
       "    .dataframe thead th {\n",
       "        text-align: right;\n",
       "    }\n",
       "</style>\n",
       "<table border=\"1\" class=\"dataframe\">\n",
       "  <thead>\n",
       "    <tr style=\"text-align: right;\">\n",
       "      <th></th>\n",
       "      <th>sum</th>\n",
       "      <th>count</th>\n",
       "      <th>mean</th>\n",
       "    </tr>\n",
       "    <tr>\n",
       "      <th>family_status_id</th>\n",
       "      <th></th>\n",
       "      <th></th>\n",
       "      <th></th>\n",
       "    </tr>\n",
       "  </thead>\n",
       "  <tbody>\n",
       "    <tr>\n",
       "      <th>2</th>\n",
       "      <td>63</td>\n",
       "      <td>959</td>\n",
       "      <td>0.065693</td>\n",
       "    </tr>\n",
       "    <tr>\n",
       "      <th>3</th>\n",
       "      <td>85</td>\n",
       "      <td>1195</td>\n",
       "      <td>0.071130</td>\n",
       "    </tr>\n",
       "    <tr>\n",
       "      <th>0</th>\n",
       "      <td>931</td>\n",
       "      <td>12339</td>\n",
       "      <td>0.075452</td>\n",
       "    </tr>\n",
       "    <tr>\n",
       "      <th>1</th>\n",
       "      <td>388</td>\n",
       "      <td>4150</td>\n",
       "      <td>0.093494</td>\n",
       "    </tr>\n",
       "    <tr>\n",
       "      <th>4</th>\n",
       "      <td>274</td>\n",
       "      <td>2810</td>\n",
       "      <td>0.097509</td>\n",
       "    </tr>\n",
       "  </tbody>\n",
       "</table>\n",
       "</div>"
      ],
      "text/plain": [
       "                  sum  count      mean\n",
       "family_status_id                      \n",
       "2                  63    959  0.065693\n",
       "3                  85   1195  0.071130\n",
       "0                 931  12339  0.075452\n",
       "1                 388   4150  0.093494\n",
       "4                 274   2810  0.097509"
      ]
     },
     "execution_count": 49,
     "metadata": {},
     "output_type": "execute_result"
    }
   ],
   "source": [
    "data_pivot_family_status = df.pivot_table(index='family_status_id', values='debt', aggfunc=['sum','count','mean'])\n",
    "data_pivot_family_status.columns=['sum','count','mean']\n",
    "data_pivot_family_status.sort_values('mean')"
   ]
  },
  {
   "cell_type": "markdown",
   "id": "fa43618b",
   "metadata": {},
   "source": [
    "Так гораздо лучше. Теперь можно сформировать вывод. \n",
    "<div style=\"border:solid blue 2px; padding: 20px\">\n",
    "Как мы видим, семейное положение оказывает некотрое влияние на платежеспособность клиентов. Холостые клиенты не платят по кредитам чаще остальных. А вот овдовевшие клиенты показывают себя более надежными заемщиками.   "
   ]
  },
  {
   "cell_type": "markdown",
   "id": "e7e40211",
   "metadata": {},
   "source": [
    "---"
   ]
  },
  {
   "cell_type": "markdown",
   "id": "43f41f49",
   "metadata": {},
   "source": [
    "## Есть ли зависимость между уровнем дохода и возвратом кредита в срок?"
   ]
  },
  {
   "cell_type": "markdown",
   "id": "4ff84740",
   "metadata": {},
   "source": [
    "Посмотрим на количество клиентов каждой группе по уровню дохода"
   ]
  },
  {
   "cell_type": "code",
   "execution_count": 50,
   "id": "a8ae9462",
   "metadata": {},
   "outputs": [
    {
     "data": {
      "text/plain": [
       "C    16016\n",
       "B     5040\n",
       "D      350\n",
       "A       25\n",
       "E       22\n",
       "Name: total_income_category, dtype: int64"
      ]
     },
     "execution_count": 50,
     "metadata": {},
     "output_type": "execute_result"
    }
   ],
   "source": [
    "df['total_income_category'].value_counts()"
   ]
  },
  {
   "cell_type": "markdown",
   "id": "6c5d44d7",
   "metadata": {},
   "source": [
    "Больше всего клиентов среднего класса, у которых доход от 50 до 200 тысяч рублей\\\n",
    "Посмотрим как платят клиенты в зависимости от своего дохода. "
   ]
  },
  {
   "cell_type": "code",
   "execution_count": 51,
   "id": "4ea908e9",
   "metadata": {},
   "outputs": [
    {
     "data": {
      "text/plain": [
       "total_income_category\n",
       "A       2\n",
       "B     356\n",
       "C    1360\n",
       "D      21\n",
       "E       2\n",
       "Name: debt, dtype: int32"
      ]
     },
     "execution_count": 51,
     "metadata": {},
     "output_type": "execute_result"
    }
   ],
   "source": [
    "df.groupby('total_income_category')['debt'].sum()"
   ]
  },
  {
   "cell_type": "markdown",
   "id": "5cfe6200",
   "metadata": {},
   "source": [
    "Любопытно. Даже клиенты с доходом более 1млн рублей иногда не платят по кредитам. Хотя ведь и сумма кредита может быть большой. \\\n",
    "Посмотрим долю в каждой категории. Для удобства построим сводную таблицу и добавим в нее колонку с долей"
   ]
  },
  {
   "cell_type": "code",
   "execution_count": 52,
   "id": "e2f69609",
   "metadata": {},
   "outputs": [
    {
     "data": {
      "text/html": [
       "<div>\n",
       "<style scoped>\n",
       "    .dataframe tbody tr th:only-of-type {\n",
       "        vertical-align: middle;\n",
       "    }\n",
       "\n",
       "    .dataframe tbody tr th {\n",
       "        vertical-align: top;\n",
       "    }\n",
       "\n",
       "    .dataframe thead th {\n",
       "        text-align: right;\n",
       "    }\n",
       "</style>\n",
       "<table border=\"1\" class=\"dataframe\">\n",
       "  <thead>\n",
       "    <tr style=\"text-align: right;\">\n",
       "      <th></th>\n",
       "      <th>sum</th>\n",
       "      <th>count</th>\n",
       "      <th>mean</th>\n",
       "    </tr>\n",
       "    <tr>\n",
       "      <th>total_income_category</th>\n",
       "      <th></th>\n",
       "      <th></th>\n",
       "      <th></th>\n",
       "    </tr>\n",
       "  </thead>\n",
       "  <tbody>\n",
       "    <tr>\n",
       "      <th>D</th>\n",
       "      <td>21</td>\n",
       "      <td>350</td>\n",
       "      <td>0.060000</td>\n",
       "    </tr>\n",
       "    <tr>\n",
       "      <th>B</th>\n",
       "      <td>356</td>\n",
       "      <td>5040</td>\n",
       "      <td>0.070635</td>\n",
       "    </tr>\n",
       "    <tr>\n",
       "      <th>A</th>\n",
       "      <td>2</td>\n",
       "      <td>25</td>\n",
       "      <td>0.080000</td>\n",
       "    </tr>\n",
       "    <tr>\n",
       "      <th>C</th>\n",
       "      <td>1360</td>\n",
       "      <td>16016</td>\n",
       "      <td>0.084915</td>\n",
       "    </tr>\n",
       "    <tr>\n",
       "      <th>E</th>\n",
       "      <td>2</td>\n",
       "      <td>22</td>\n",
       "      <td>0.090909</td>\n",
       "    </tr>\n",
       "  </tbody>\n",
       "</table>\n",
       "</div>"
      ],
      "text/plain": [
       "                        sum  count      mean\n",
       "total_income_category                       \n",
       "D                        21    350  0.060000\n",
       "B                       356   5040  0.070635\n",
       "A                         2     25  0.080000\n",
       "C                      1360  16016  0.084915\n",
       "E                         2     22  0.090909"
      ]
     },
     "execution_count": 52,
     "metadata": {},
     "output_type": "execute_result"
    }
   ],
   "source": [
    "data_pivot_income = df.pivot_table(index='total_income_category', values='debt', aggfunc=['sum','count','mean'])\n",
    "data_pivot_income.columns=['sum','count','mean']\n",
    "data_pivot_income.sort_values('mean')"
   ]
  },
  {
   "cell_type": "markdown",
   "id": "1be7d03c",
   "metadata": {},
   "source": [
    "<div style=\"border:solid blue 2px; padding: 20px\">\n",
    "Как мы прекрасно видим, клиенты с доходом от 30 до 50 тысяч платят по кредитам охотнее остальных. Хуже всех платят клиенты с доходом менее 30 тыс рублей"
   ]
  },
  {
   "cell_type": "markdown",
   "id": "7d3a88c7",
   "metadata": {},
   "source": [
    "---"
   ]
  },
  {
   "cell_type": "markdown",
   "id": "a4d5477b",
   "metadata": {},
   "source": [
    "## Как разные цели кредита влияют на его возврат в срок? "
   ]
  },
  {
   "cell_type": "markdown",
   "id": "606b34c6",
   "metadata": {},
   "source": [
    "Поскольку действия в целом будут сходи с предыдущими шагами, предлага сразу перейти к постраению сводной таблицы с долей, по которой можно будет сделать вывод"
   ]
  },
  {
   "cell_type": "code",
   "execution_count": 60,
   "id": "31d0500c",
   "metadata": {},
   "outputs": [],
   "source": [
    "#data_pivot_category = df.pivot_table(index='purpose_category', values='debt', aggfunc=['sum','count',lambda x: 100*x.sum()/x.count()])\n",
    "##data_pivot_category.columns=['sum','count','mean']\n",
    "###data_pivot_category.sort_values('mean')"
   ]
  },
  {
   "cell_type": "markdown",
   "id": "beac21aa",
   "metadata": {},
   "source": [
    "<div style=\"border:solid blue 2px; padding: 20px\">\n",
    "Клиенты взявшие деньги на операции с недвижимостью, возвращают средства охотнее остальных. Самыми неблагонадежными являются клиенты, которые взяли деньги на операции с автомобилем"
   ]
  },
  {
   "cell_type": "markdown",
   "id": "012c7732",
   "metadata": {},
   "source": [
    "# Общий вывод:"
   ]
  },
  {
   "cell_type": "markdown",
   "id": "b136247e",
   "metadata": {},
   "source": [
    "<div style=\"border:solid blue 2px; padding: 20px\">\n",
    "В данном проекте был проделан большой объем работы. Мы изучили данные, разобрались с пропусками и заполнили их необходимыми значениями. Проверили данные на аномалии и обработали их значения. Изменили типы данных для расчетов и экономии памяти в системе. Удалили дубликаты из датафрейма. Избавились от \"лишних\" колонок, предварительно составив себе словари с данными. Категоризировали клиентов по доходу и целям кредита. Провели анализ данных и готовы сформировать общий вывод по работе. <br/> Мы получили достаточно много интересных результатов. Кому выдавать кредит, а кому нет - непростой вопрос. <br/>\n",
    "Хоть и не всегда выводы казались очевидными, нам удалось докапаться до истины с помощью цифр. А цифра не врут никогда. <br/>\n",
    "Одназночно можно сказать лишь то, что чем больше будет информации о заемщике, тем точнее можно будет построить вывод о его надежности. Ведь, как мы уже доказали выше, каждый фактор: будь то количесвто детей или сумма дохода, влияют на платежеспособность клиента.<br/>\n",
    "Судя по нашим данным и проведенному анализу, идеальный клиент - овдовевший заемщик без детей, с доходом 30-50 тысяч рублей, который планирует операции с недвижимостью. А вот одинокие клиенты с доходом до 30 тысяч рублей, занимающие деньги на операцию с автомобилем самые ненадежные. \n"
   ]
  }
 ],
 "metadata": {
  "ExecuteTimeLog": [
   {
    "duration": 270,
    "start_time": "2022-04-13T18:55:13.426Z"
   }
  ],
  "kernelspec": {
   "display_name": "Python 3 (ipykernel)",
   "language": "python",
   "name": "python3"
  },
  "language_info": {
   "codemirror_mode": {
    "name": "ipython",
    "version": 3
   },
   "file_extension": ".py",
   "mimetype": "text/x-python",
   "name": "python",
   "nbconvert_exporter": "python",
   "pygments_lexer": "ipython3",
   "version": "3.9.12"
  },
  "toc": {
   "base_numbering": "1",
   "nav_menu": {},
   "number_sections": false,
   "sideBar": true,
   "skip_h1_title": false,
   "title_cell": "Table of Contents",
   "title_sidebar": "Contents",
   "toc_cell": false,
   "toc_position": {
    "height": "calc(100% - 180px)",
    "left": "10px",
    "top": "150px",
    "width": "288px"
   },
   "toc_section_display": true,
   "toc_window_display": true
  }
 },
 "nbformat": 4,
 "nbformat_minor": 5
}
