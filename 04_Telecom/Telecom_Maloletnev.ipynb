{
 "cells": [
  {
   "cell_type": "markdown",
   "id": "e3b81d99",
   "metadata": {},
   "source": [
    "## Описание"
   ]
  },
  {
   "cell_type": "markdown",
   "id": "73e5acfc",
   "metadata": {},
   "source": [
    "Компания «Мегалайн» — федерального оператора сотовой связи. Клиентам предлагают два тарифных плана: «Смарт» и «Ультра». Чтобы скорректировать рекламный бюджет, коммерческий департамент хочет понять, какой тариф приносит больше денег. \\\n",
    "\n",
    "Нам предстоит сделать предварительный анализ тарифов на небольшой выборке клиентов. В распоряжении данные 500 пользовате лей «Мегалайна»: кто они, откуда, каким тарифом пользуются, сколько звонков и сообщений каждый отправил за 2018 год. Нужно проанализировать поведение клиентов и сделать вывод — какой тариф лучше."
   ]
  },
  {
   "cell_type": "markdown",
   "id": "773e0e4e",
   "metadata": {},
   "source": [
    "### Описание тарифов"
   ]
  },
  {
   "cell_type": "markdown",
   "id": "d87aa72d",
   "metadata": {},
   "source": [
    "**Тариф «Смарт»**\n",
    "- Ежемесячная плата: 550 рублей\n",
    "- Включено 500 минут разговора, 50 сообщений и 15 Гб интернет-трафика\n",
    "- Стоимость услуг сверх тарифного пакета:\n",
    "- минута разговора: 3 рубля\n",
    "- сообщение: 3 рубля\n",
    "- 1 Гб интернет-трафика: 200 рублей"
   ]
  },
  {
   "cell_type": "markdown",
   "id": "3542d9b5",
   "metadata": {},
   "source": [
    "**Тариф «Ультра»**\n",
    "- Ежемесячная плата: 1950 рублей\n",
    "- Включено 3000 минут разговора, 1000 сообщений и 30 Гб интернет-трафика\n",
    "- Стоимость услуг сверх тарифного пакета:\n",
    "- минута разговора: 1 рубль\n",
    "- сообщение: 1 рубль\n",
    "- 1 Гб интернет-трафика: 150 рублей"
   ]
  },
  {
   "cell_type": "markdown",
   "id": "f324af61",
   "metadata": {},
   "source": [
    "<div style=\"border:solid blue 2px; padding: 20px\">\n",
    "«Мегалайн» всегда округляет секунды до минут, а мегабайты — до гигабайт. Каждый звонок округляется отдельно: даже если он длился всего 1 секунду, будет засчитан как 1 минута.\n",
    "Для веб-трафика отдельные сессии не считаются. Вместо этого общая сумма за месяц округляется в бо́льшую сторону. Если абонент использует 1025 мегабайт в этом месяце, с него возьмут плату за 2 гигабайта. Примите, что неиспользованные за предыдущий месяц звонки, смс, интернет на следующий месяц не переносятся."
   ]
  },
  {
   "cell_type": "markdown",
   "id": "a75d36ac",
   "metadata": {},
   "source": [
    "### Описание данных"
   ]
  },
  {
   "cell_type": "markdown",
   "id": "ff7e87e2",
   "metadata": {},
   "source": [
    "Таблица **`users`** (информация о пользователях):\n",
    "- `user_id` — уникальный идентификатор пользователя\n",
    "- `first_name` — имя пользователя\n",
    "- `last_name` — фамилия пользователя\n",
    "- `age` — возраст пользователя (годы)\n",
    "- `reg_date` — дата подключения тарифа (день, месяц, год)\n",
    "- `churn_date` — дата прекращения пользования тарифом (если значение пропущено, то тариф ещё действовал на момент выгрузки данных)\n",
    "- `city` — город проживания пользователя\n",
    "- `tariff` — название тарифного плана"
   ]
  },
  {
   "cell_type": "markdown",
   "id": "2687046c",
   "metadata": {},
   "source": [
    "Таблица **`calls`** (информация о звонках):\n",
    "- `id` — уникальный номер звонка\n",
    "- `call_date` — дата звонка\n",
    "- `duration` — длительность звонка в минутах\n",
    "- `user_id` — идентификатор пользователя, сделавшего звонок"
   ]
  },
  {
   "cell_type": "markdown",
   "id": "826ca32c",
   "metadata": {},
   "source": [
    "Таблица **`messages`** (информация о сообщениях):\n",
    "- `id` — уникальный номер сообщения\n",
    "- `message_date` — дата сообщения\n",
    "- `user_id` — идентификатор пользователя, отправившего сообщение"
   ]
  },
  {
   "cell_type": "markdown",
   "id": "5c042cff",
   "metadata": {},
   "source": [
    "Таблица **`internet`** (информация об интернет-сессиях):\n",
    "- `id` — уникальный номер сессии\n",
    "- `mb_used` — объём потраченного за сессию интернет-трафика (в мегабайтах)\n",
    "- `session_date` — дата интернет-сессии\n",
    "- `user_id` — идентификатор пользователя"
   ]
  },
  {
   "cell_type": "markdown",
   "id": "de35ef92",
   "metadata": {},
   "source": [
    "Таблица **`tariffs`** (информация о тарифах):\n",
    "- `tariff_name` — название тарифа\n",
    "- `rub_monthly_fee` — ежемесячная абонентская плата в рублях\n",
    "- `minutes_included` — количество минут разговора в месяц, включённых в абонентскую плату\n",
    "- `messages_included` — количество сообщений в месяц, включённых в абонентскую плату\n",
    "- `mb_per_month_included` — объём интернет-трафика, включённого в абонентскую плату (в мегабайтах)\n",
    "- `rub_per_minute` — стоимость минуты разговора сверх тарифного пакета (например, если в тарифе 100 минут разговора в месяц, то со 101 минуты будет взиматься плата)\n",
    "- `rub_per_message` — стоимость отправки сообщения сверх тарифного пакета\n",
    "- `rub_per_gb` — стоимость дополнительного гигабайта интернет-трафика сверх тарифного пакета (1 гигабайт = 1024 мегабайта)"
   ]
  },
  {
   "cell_type": "markdown",
   "id": "6f075d78",
   "metadata": {},
   "source": [
    "### Введение"
   ]
  },
  {
   "cell_type": "markdown",
   "id": "e643cc16",
   "metadata": {},
   "source": [
    "- Для начала предстоит познакомиться с данными: какие таблицы нам даны? какие типы данных в этих таблицах. \n",
    "- После этого необходимо будет выполнить предобработку данных: привести данные к нужным типам, избавиться от ошибок (если они есть), проверить дубликаты, заполнить пропуски\n",
    "- После этого необходимо будет посчитать помесяные траты минут, сообщений и интернета для каждого пользователя. \n",
    "- Далее можно будет приступить к анализу общих данных: посмотреть на длительность звонков в среднем, кол-во смс, используемый интернет-трафик\n",
    "- Далее разобьем данные на 2 датафрейма по тариффам и выполним небольшой сравнительный анализ ключевых показателей по тарифам. \n",
    "- Затем очистим данные от выбросов, выдвенем гипотезы и проведем статистические тесты, чтобы постараться ответить на запрос бизнеса"
   ]
  },
  {
   "cell_type": "markdown",
   "id": "692b9c77",
   "metadata": {},
   "source": [
    "---"
   ]
  },
  {
   "cell_type": "markdown",
   "id": "ef40cbb0",
   "metadata": {},
   "source": [
    "## Ознакомление с данными"
   ]
  },
  {
   "cell_type": "code",
   "execution_count": 1,
   "id": "7fdb585b",
   "metadata": {},
   "outputs": [],
   "source": [
    "import pandas as pd\n",
    "import numpy as np\n",
    "import matplotlib.pyplot as plt\n",
    "from scipy import stats as st"
   ]
  },
  {
   "cell_type": "code",
   "execution_count": 2,
   "id": "0978fa50",
   "metadata": {},
   "outputs": [],
   "source": [
    "try:\n",
    "    calls = pd.read_csv('calls.csv')\n",
    "    internet = pd.read_csv('internet.csv')\n",
    "    messages = pd.read_csv('messages.csv')\n",
    "    tariffs = pd.read_csv('tariffs.csv')\n",
    "    users = pd.read_csv('users.csv')\n",
    "except:\n",
    "    calls = pd.read_csv('https://code.s3.yandex.net/datasets/calls.csv')\n",
    "    internet = pd.read_csv('https://code.s3.yandex.net/datasets/internet.csv')\n",
    "    messages = pd.read_csv('https://code.s3.yandex.net/datasets/messages.csv')\n",
    "    tariffs = pd.read_csv('https://code.s3.yandex.net/datasets/tariffs.csv')\n",
    "    users = pd.read_csv('https://code.s3.yandex.net/datasets/users.csv')                        "
   ]
  },
  {
   "cell_type": "code",
   "execution_count": 3,
   "id": "26347da7",
   "metadata": {},
   "outputs": [],
   "source": [
    "pd.options.display.max_columns=50"
   ]
  },
  {
   "cell_type": "code",
   "execution_count": 4,
   "id": "188b330d",
   "metadata": {
    "scrolled": false
   },
   "outputs": [
    {
     "data": {
      "text/html": [
       "<div>\n",
       "<style scoped>\n",
       "    .dataframe tbody tr th:only-of-type {\n",
       "        vertical-align: middle;\n",
       "    }\n",
       "\n",
       "    .dataframe tbody tr th {\n",
       "        vertical-align: top;\n",
       "    }\n",
       "\n",
       "    .dataframe thead th {\n",
       "        text-align: right;\n",
       "    }\n",
       "</style>\n",
       "<table border=\"1\" class=\"dataframe\">\n",
       "  <thead>\n",
       "    <tr style=\"text-align: right;\">\n",
       "      <th></th>\n",
       "      <th>id</th>\n",
       "      <th>call_date</th>\n",
       "      <th>duration</th>\n",
       "      <th>user_id</th>\n",
       "    </tr>\n",
       "  </thead>\n",
       "  <tbody>\n",
       "    <tr>\n",
       "      <th>0</th>\n",
       "      <td>1000_0</td>\n",
       "      <td>2018-07-25</td>\n",
       "      <td>0.00</td>\n",
       "      <td>1000</td>\n",
       "    </tr>\n",
       "    <tr>\n",
       "      <th>1</th>\n",
       "      <td>1000_1</td>\n",
       "      <td>2018-08-17</td>\n",
       "      <td>0.00</td>\n",
       "      <td>1000</td>\n",
       "    </tr>\n",
       "    <tr>\n",
       "      <th>2</th>\n",
       "      <td>1000_2</td>\n",
       "      <td>2018-06-11</td>\n",
       "      <td>2.85</td>\n",
       "      <td>1000</td>\n",
       "    </tr>\n",
       "    <tr>\n",
       "      <th>3</th>\n",
       "      <td>1000_3</td>\n",
       "      <td>2018-09-21</td>\n",
       "      <td>13.80</td>\n",
       "      <td>1000</td>\n",
       "    </tr>\n",
       "    <tr>\n",
       "      <th>4</th>\n",
       "      <td>1000_4</td>\n",
       "      <td>2018-12-15</td>\n",
       "      <td>5.18</td>\n",
       "      <td>1000</td>\n",
       "    </tr>\n",
       "  </tbody>\n",
       "</table>\n",
       "</div>"
      ],
      "text/plain": [
       "       id   call_date  duration  user_id\n",
       "0  1000_0  2018-07-25      0.00     1000\n",
       "1  1000_1  2018-08-17      0.00     1000\n",
       "2  1000_2  2018-06-11      2.85     1000\n",
       "3  1000_3  2018-09-21     13.80     1000\n",
       "4  1000_4  2018-12-15      5.18     1000"
      ]
     },
     "metadata": {},
     "output_type": "display_data"
    },
    {
     "name": "stdout",
     "output_type": "stream",
     "text": [
      "<class 'pandas.core.frame.DataFrame'>\n",
      "RangeIndex: 202607 entries, 0 to 202606\n",
      "Data columns (total 4 columns):\n",
      " #   Column     Non-Null Count   Dtype  \n",
      "---  ------     --------------   -----  \n",
      " 0   id         202607 non-null  object \n",
      " 1   call_date  202607 non-null  object \n",
      " 2   duration   202607 non-null  float64\n",
      " 3   user_id    202607 non-null  int64  \n",
      "dtypes: float64(1), int64(1), object(2)\n",
      "memory usage: 6.2+ MB\n"
     ]
    },
    {
     "data": {
      "text/plain": [
       "None"
      ]
     },
     "metadata": {},
     "output_type": "display_data"
    }
   ],
   "source": [
    "display(calls.head())\n",
    "display(calls.info())"
   ]
  },
  {
   "cell_type": "code",
   "execution_count": 5,
   "id": "9fa72ade",
   "metadata": {},
   "outputs": [
    {
     "data": {
      "text/html": [
       "<div>\n",
       "<style scoped>\n",
       "    .dataframe tbody tr th:only-of-type {\n",
       "        vertical-align: middle;\n",
       "    }\n",
       "\n",
       "    .dataframe tbody tr th {\n",
       "        vertical-align: top;\n",
       "    }\n",
       "\n",
       "    .dataframe thead th {\n",
       "        text-align: right;\n",
       "    }\n",
       "</style>\n",
       "<table border=\"1\" class=\"dataframe\">\n",
       "  <thead>\n",
       "    <tr style=\"text-align: right;\">\n",
       "      <th></th>\n",
       "      <th>Unnamed: 0</th>\n",
       "      <th>id</th>\n",
       "      <th>mb_used</th>\n",
       "      <th>session_date</th>\n",
       "      <th>user_id</th>\n",
       "    </tr>\n",
       "  </thead>\n",
       "  <tbody>\n",
       "    <tr>\n",
       "      <th>0</th>\n",
       "      <td>0</td>\n",
       "      <td>1000_0</td>\n",
       "      <td>112.95</td>\n",
       "      <td>2018-11-25</td>\n",
       "      <td>1000</td>\n",
       "    </tr>\n",
       "    <tr>\n",
       "      <th>1</th>\n",
       "      <td>1</td>\n",
       "      <td>1000_1</td>\n",
       "      <td>1052.81</td>\n",
       "      <td>2018-09-07</td>\n",
       "      <td>1000</td>\n",
       "    </tr>\n",
       "    <tr>\n",
       "      <th>2</th>\n",
       "      <td>2</td>\n",
       "      <td>1000_2</td>\n",
       "      <td>1197.26</td>\n",
       "      <td>2018-06-25</td>\n",
       "      <td>1000</td>\n",
       "    </tr>\n",
       "    <tr>\n",
       "      <th>3</th>\n",
       "      <td>3</td>\n",
       "      <td>1000_3</td>\n",
       "      <td>550.27</td>\n",
       "      <td>2018-08-22</td>\n",
       "      <td>1000</td>\n",
       "    </tr>\n",
       "    <tr>\n",
       "      <th>4</th>\n",
       "      <td>4</td>\n",
       "      <td>1000_4</td>\n",
       "      <td>302.56</td>\n",
       "      <td>2018-09-24</td>\n",
       "      <td>1000</td>\n",
       "    </tr>\n",
       "  </tbody>\n",
       "</table>\n",
       "</div>"
      ],
      "text/plain": [
       "   Unnamed: 0      id  mb_used session_date  user_id\n",
       "0           0  1000_0   112.95   2018-11-25     1000\n",
       "1           1  1000_1  1052.81   2018-09-07     1000\n",
       "2           2  1000_2  1197.26   2018-06-25     1000\n",
       "3           3  1000_3   550.27   2018-08-22     1000\n",
       "4           4  1000_4   302.56   2018-09-24     1000"
      ]
     },
     "metadata": {},
     "output_type": "display_data"
    },
    {
     "name": "stdout",
     "output_type": "stream",
     "text": [
      "<class 'pandas.core.frame.DataFrame'>\n",
      "RangeIndex: 149396 entries, 0 to 149395\n",
      "Data columns (total 5 columns):\n",
      " #   Column        Non-Null Count   Dtype  \n",
      "---  ------        --------------   -----  \n",
      " 0   Unnamed: 0    149396 non-null  int64  \n",
      " 1   id            149396 non-null  object \n",
      " 2   mb_used       149396 non-null  float64\n",
      " 3   session_date  149396 non-null  object \n",
      " 4   user_id       149396 non-null  int64  \n",
      "dtypes: float64(1), int64(2), object(2)\n",
      "memory usage: 5.7+ MB\n"
     ]
    },
    {
     "data": {
      "text/plain": [
       "None"
      ]
     },
     "metadata": {},
     "output_type": "display_data"
    }
   ],
   "source": [
    "display(internet.head())\n",
    "display(internet.info())"
   ]
  },
  {
   "cell_type": "code",
   "execution_count": 6,
   "id": "0d13ad3e",
   "metadata": {},
   "outputs": [
    {
     "data": {
      "text/html": [
       "<div>\n",
       "<style scoped>\n",
       "    .dataframe tbody tr th:only-of-type {\n",
       "        vertical-align: middle;\n",
       "    }\n",
       "\n",
       "    .dataframe tbody tr th {\n",
       "        vertical-align: top;\n",
       "    }\n",
       "\n",
       "    .dataframe thead th {\n",
       "        text-align: right;\n",
       "    }\n",
       "</style>\n",
       "<table border=\"1\" class=\"dataframe\">\n",
       "  <thead>\n",
       "    <tr style=\"text-align: right;\">\n",
       "      <th></th>\n",
       "      <th>id</th>\n",
       "      <th>message_date</th>\n",
       "      <th>user_id</th>\n",
       "    </tr>\n",
       "  </thead>\n",
       "  <tbody>\n",
       "    <tr>\n",
       "      <th>0</th>\n",
       "      <td>1000_0</td>\n",
       "      <td>2018-06-27</td>\n",
       "      <td>1000</td>\n",
       "    </tr>\n",
       "    <tr>\n",
       "      <th>1</th>\n",
       "      <td>1000_1</td>\n",
       "      <td>2018-10-08</td>\n",
       "      <td>1000</td>\n",
       "    </tr>\n",
       "    <tr>\n",
       "      <th>2</th>\n",
       "      <td>1000_2</td>\n",
       "      <td>2018-08-04</td>\n",
       "      <td>1000</td>\n",
       "    </tr>\n",
       "    <tr>\n",
       "      <th>3</th>\n",
       "      <td>1000_3</td>\n",
       "      <td>2018-06-16</td>\n",
       "      <td>1000</td>\n",
       "    </tr>\n",
       "    <tr>\n",
       "      <th>4</th>\n",
       "      <td>1000_4</td>\n",
       "      <td>2018-12-05</td>\n",
       "      <td>1000</td>\n",
       "    </tr>\n",
       "  </tbody>\n",
       "</table>\n",
       "</div>"
      ],
      "text/plain": [
       "       id message_date  user_id\n",
       "0  1000_0   2018-06-27     1000\n",
       "1  1000_1   2018-10-08     1000\n",
       "2  1000_2   2018-08-04     1000\n",
       "3  1000_3   2018-06-16     1000\n",
       "4  1000_4   2018-12-05     1000"
      ]
     },
     "metadata": {},
     "output_type": "display_data"
    },
    {
     "name": "stdout",
     "output_type": "stream",
     "text": [
      "<class 'pandas.core.frame.DataFrame'>\n",
      "RangeIndex: 123036 entries, 0 to 123035\n",
      "Data columns (total 3 columns):\n",
      " #   Column        Non-Null Count   Dtype \n",
      "---  ------        --------------   ----- \n",
      " 0   id            123036 non-null  object\n",
      " 1   message_date  123036 non-null  object\n",
      " 2   user_id       123036 non-null  int64 \n",
      "dtypes: int64(1), object(2)\n",
      "memory usage: 2.8+ MB\n"
     ]
    },
    {
     "data": {
      "text/plain": [
       "None"
      ]
     },
     "metadata": {},
     "output_type": "display_data"
    }
   ],
   "source": [
    "display(messages.head())\n",
    "display(messages.info())"
   ]
  },
  {
   "cell_type": "code",
   "execution_count": 7,
   "id": "8ce27ebe",
   "metadata": {},
   "outputs": [
    {
     "data": {
      "text/html": [
       "<div>\n",
       "<style scoped>\n",
       "    .dataframe tbody tr th:only-of-type {\n",
       "        vertical-align: middle;\n",
       "    }\n",
       "\n",
       "    .dataframe tbody tr th {\n",
       "        vertical-align: top;\n",
       "    }\n",
       "\n",
       "    .dataframe thead th {\n",
       "        text-align: right;\n",
       "    }\n",
       "</style>\n",
       "<table border=\"1\" class=\"dataframe\">\n",
       "  <thead>\n",
       "    <tr style=\"text-align: right;\">\n",
       "      <th></th>\n",
       "      <th>messages_included</th>\n",
       "      <th>mb_per_month_included</th>\n",
       "      <th>minutes_included</th>\n",
       "      <th>rub_monthly_fee</th>\n",
       "      <th>rub_per_gb</th>\n",
       "      <th>rub_per_message</th>\n",
       "      <th>rub_per_minute</th>\n",
       "      <th>tariff_name</th>\n",
       "    </tr>\n",
       "  </thead>\n",
       "  <tbody>\n",
       "    <tr>\n",
       "      <th>0</th>\n",
       "      <td>50</td>\n",
       "      <td>15360</td>\n",
       "      <td>500</td>\n",
       "      <td>550</td>\n",
       "      <td>200</td>\n",
       "      <td>3</td>\n",
       "      <td>3</td>\n",
       "      <td>smart</td>\n",
       "    </tr>\n",
       "    <tr>\n",
       "      <th>1</th>\n",
       "      <td>1000</td>\n",
       "      <td>30720</td>\n",
       "      <td>3000</td>\n",
       "      <td>1950</td>\n",
       "      <td>150</td>\n",
       "      <td>1</td>\n",
       "      <td>1</td>\n",
       "      <td>ultra</td>\n",
       "    </tr>\n",
       "  </tbody>\n",
       "</table>\n",
       "</div>"
      ],
      "text/plain": [
       "   messages_included  mb_per_month_included  minutes_included  \\\n",
       "0                 50                  15360               500   \n",
       "1               1000                  30720              3000   \n",
       "\n",
       "   rub_monthly_fee  rub_per_gb  rub_per_message  rub_per_minute tariff_name  \n",
       "0              550         200                3               3       smart  \n",
       "1             1950         150                1               1       ultra  "
      ]
     },
     "metadata": {},
     "output_type": "display_data"
    },
    {
     "name": "stdout",
     "output_type": "stream",
     "text": [
      "<class 'pandas.core.frame.DataFrame'>\n",
      "RangeIndex: 2 entries, 0 to 1\n",
      "Data columns (total 8 columns):\n",
      " #   Column                 Non-Null Count  Dtype \n",
      "---  ------                 --------------  ----- \n",
      " 0   messages_included      2 non-null      int64 \n",
      " 1   mb_per_month_included  2 non-null      int64 \n",
      " 2   minutes_included       2 non-null      int64 \n",
      " 3   rub_monthly_fee        2 non-null      int64 \n",
      " 4   rub_per_gb             2 non-null      int64 \n",
      " 5   rub_per_message        2 non-null      int64 \n",
      " 6   rub_per_minute         2 non-null      int64 \n",
      " 7   tariff_name            2 non-null      object\n",
      "dtypes: int64(7), object(1)\n",
      "memory usage: 256.0+ bytes\n"
     ]
    },
    {
     "data": {
      "text/plain": [
       "None"
      ]
     },
     "metadata": {},
     "output_type": "display_data"
    }
   ],
   "source": [
    "display(tariffs.head())\n",
    "display(tariffs.info())"
   ]
  },
  {
   "cell_type": "code",
   "execution_count": 8,
   "id": "ace1cbec",
   "metadata": {},
   "outputs": [
    {
     "data": {
      "text/html": [
       "<div>\n",
       "<style scoped>\n",
       "    .dataframe tbody tr th:only-of-type {\n",
       "        vertical-align: middle;\n",
       "    }\n",
       "\n",
       "    .dataframe tbody tr th {\n",
       "        vertical-align: top;\n",
       "    }\n",
       "\n",
       "    .dataframe thead th {\n",
       "        text-align: right;\n",
       "    }\n",
       "</style>\n",
       "<table border=\"1\" class=\"dataframe\">\n",
       "  <thead>\n",
       "    <tr style=\"text-align: right;\">\n",
       "      <th></th>\n",
       "      <th>user_id</th>\n",
       "      <th>age</th>\n",
       "      <th>churn_date</th>\n",
       "      <th>city</th>\n",
       "      <th>first_name</th>\n",
       "      <th>last_name</th>\n",
       "      <th>reg_date</th>\n",
       "      <th>tariff</th>\n",
       "    </tr>\n",
       "  </thead>\n",
       "  <tbody>\n",
       "    <tr>\n",
       "      <th>0</th>\n",
       "      <td>1000</td>\n",
       "      <td>52</td>\n",
       "      <td>NaN</td>\n",
       "      <td>Краснодар</td>\n",
       "      <td>Рафаил</td>\n",
       "      <td>Верещагин</td>\n",
       "      <td>2018-05-25</td>\n",
       "      <td>ultra</td>\n",
       "    </tr>\n",
       "    <tr>\n",
       "      <th>1</th>\n",
       "      <td>1001</td>\n",
       "      <td>41</td>\n",
       "      <td>NaN</td>\n",
       "      <td>Москва</td>\n",
       "      <td>Иван</td>\n",
       "      <td>Ежов</td>\n",
       "      <td>2018-11-01</td>\n",
       "      <td>smart</td>\n",
       "    </tr>\n",
       "    <tr>\n",
       "      <th>2</th>\n",
       "      <td>1002</td>\n",
       "      <td>59</td>\n",
       "      <td>NaN</td>\n",
       "      <td>Стерлитамак</td>\n",
       "      <td>Евгений</td>\n",
       "      <td>Абрамович</td>\n",
       "      <td>2018-06-17</td>\n",
       "      <td>smart</td>\n",
       "    </tr>\n",
       "    <tr>\n",
       "      <th>3</th>\n",
       "      <td>1003</td>\n",
       "      <td>23</td>\n",
       "      <td>NaN</td>\n",
       "      <td>Москва</td>\n",
       "      <td>Белла</td>\n",
       "      <td>Белякова</td>\n",
       "      <td>2018-08-17</td>\n",
       "      <td>ultra</td>\n",
       "    </tr>\n",
       "    <tr>\n",
       "      <th>4</th>\n",
       "      <td>1004</td>\n",
       "      <td>68</td>\n",
       "      <td>NaN</td>\n",
       "      <td>Новокузнецк</td>\n",
       "      <td>Татьяна</td>\n",
       "      <td>Авдеенко</td>\n",
       "      <td>2018-05-14</td>\n",
       "      <td>ultra</td>\n",
       "    </tr>\n",
       "  </tbody>\n",
       "</table>\n",
       "</div>"
      ],
      "text/plain": [
       "   user_id  age churn_date         city first_name  last_name    reg_date  \\\n",
       "0     1000   52        NaN    Краснодар     Рафаил  Верещагин  2018-05-25   \n",
       "1     1001   41        NaN       Москва       Иван       Ежов  2018-11-01   \n",
       "2     1002   59        NaN  Стерлитамак    Евгений  Абрамович  2018-06-17   \n",
       "3     1003   23        NaN       Москва      Белла   Белякова  2018-08-17   \n",
       "4     1004   68        NaN  Новокузнецк    Татьяна   Авдеенко  2018-05-14   \n",
       "\n",
       "  tariff  \n",
       "0  ultra  \n",
       "1  smart  \n",
       "2  smart  \n",
       "3  ultra  \n",
       "4  ultra  "
      ]
     },
     "metadata": {},
     "output_type": "display_data"
    },
    {
     "name": "stdout",
     "output_type": "stream",
     "text": [
      "<class 'pandas.core.frame.DataFrame'>\n",
      "RangeIndex: 500 entries, 0 to 499\n",
      "Data columns (total 8 columns):\n",
      " #   Column      Non-Null Count  Dtype \n",
      "---  ------      --------------  ----- \n",
      " 0   user_id     500 non-null    int64 \n",
      " 1   age         500 non-null    int64 \n",
      " 2   churn_date  38 non-null     object\n",
      " 3   city        500 non-null    object\n",
      " 4   first_name  500 non-null    object\n",
      " 5   last_name   500 non-null    object\n",
      " 6   reg_date    500 non-null    object\n",
      " 7   tariff      500 non-null    object\n",
      "dtypes: int64(2), object(6)\n",
      "memory usage: 31.4+ KB\n"
     ]
    },
    {
     "data": {
      "text/plain": [
       "None"
      ]
     },
     "metadata": {},
     "output_type": "display_data"
    }
   ],
   "source": [
    "display(users.head())\n",
    "display(users.info())"
   ]
  },
  {
   "cell_type": "code",
   "execution_count": 9,
   "id": "610dd1e0",
   "metadata": {},
   "outputs": [
    {
     "data": {
      "text/plain": [
       "tariff\n",
       "smart    23\n",
       "ultra    15\n",
       "Name: user_id, dtype: int64"
      ]
     },
     "execution_count": 9,
     "metadata": {},
     "output_type": "execute_result"
    }
   ],
   "source": [
    "users[users['churn_date'].notnull()].groupby('tariff')['user_id'].count()"
   ]
  },
  {
   "cell_type": "markdown",
   "id": "b7743bcb",
   "metadata": {},
   "source": [
    "<div style=\"border:solid blue 2px; padding: 20px\">\n",
    "Думал сразу посмотреть с какого тарифа люди уходят чаще, но по этим данным сделать какой-либо вывод невозможно. Их и очень мало и цифры отличаются несильно. "
   ]
  },
  {
   "cell_type": "markdown",
   "id": "b2c8ce90",
   "metadata": {},
   "source": [
    "Данные выглядят на удивление неплохо. Практически нет пропусков, имена колонок в порядке. Но некоторую предобработку я все-таки выполню"
   ]
  },
  {
   "cell_type": "markdown",
   "id": "2aa3d0d2",
   "metadata": {},
   "source": [
    "---"
   ]
  },
  {
   "cell_type": "markdown",
   "id": "efd83432",
   "metadata": {},
   "source": [
    "## Предобработка данных"
   ]
  },
  {
   "cell_type": "markdown",
   "id": "880c583e",
   "metadata": {},
   "source": [
    "Займемся предобработкой данных: проверим на пропуски, дубликаты, аномалии. Также разберемся с типами данных"
   ]
  },
  {
   "cell_type": "markdown",
   "id": "763cd9f6",
   "metadata": {},
   "source": [
    "Для начала поменяем float64 и int64 на более экономичные для памяти типы данных во всех датафреймах. "
   ]
  },
  {
   "cell_type": "code",
   "execution_count": 10,
   "id": "191d0564",
   "metadata": {},
   "outputs": [],
   "source": [
    "data_list = [calls, internet, messages, tariffs, users]\n",
    "\n",
    "#Цикл пробегается по всем типам данных и меняет  float64 и int64 на  float32 и int32.\n",
    "for i in data_list:\n",
    "    for col in i:\n",
    "        if i[col].dtype == 'float64':\n",
    "            i[col] = i[col].astype('float32')\n",
    "        elif i[col].dtype == 'int64':\n",
    "            i[col] = i[col].astype('int32')"
   ]
  },
  {
   "cell_type": "markdown",
   "id": "f0e7a016",
   "metadata": {},
   "source": [
    "Также я видел в таблицах calls, internet, messages и users столбцы с датой. Предлагаю поменять их на необходимый формат"
   ]
  },
  {
   "cell_type": "code",
   "execution_count": 11,
   "id": "7438cfa0",
   "metadata": {},
   "outputs": [],
   "source": [
    "calls['call_date']= pd.to_datetime(calls['call_date'], format='%Y-%m-%d')\n",
    "internet['session_date']= pd.to_datetime(internet['session_date'], format='%Y-%m-%d')\n",
    "messages['message_date']= pd.to_datetime(messages['message_date'], format='%Y-%m-%d')\n",
    "users['reg_date']= pd.to_datetime(users['reg_date'], format='%Y-%m-%d')"
   ]
  },
  {
   "cell_type": "markdown",
   "id": "64545ccf",
   "metadata": {},
   "source": [
    "Пропуски встречаются в колонке churn_date (дата прекращения пользования тарифом). В данном случае, клиенты просто продолжали пользоваться тарифом на момент выгрузки данных. Заменять пропуски считаю бессмысленным. \\\n",
    "Все, на мой взгяд, данные приведены в нужный формат. "
   ]
  },
  {
   "cell_type": "markdown",
   "id": "97c95062",
   "metadata": {},
   "source": [
    "Теперь разберемся с каждой таблицей отдельно. Проверим данные на ошибки и попробуем составить первое впечатление о данных. "
   ]
  },
  {
   "cell_type": "markdown",
   "id": "f063beda",
   "metadata": {},
   "source": [
    "---"
   ]
  },
  {
   "cell_type": "markdown",
   "id": "ef613ebc",
   "metadata": {},
   "source": [
    "## Звоники"
   ]
  },
  {
   "cell_type": "code",
   "execution_count": 12,
   "id": "dadecac5",
   "metadata": {},
   "outputs": [
    {
     "data": {
      "text/plain": [
       "<AxesSubplot:>"
      ]
     },
     "execution_count": 12,
     "metadata": {},
     "output_type": "execute_result"
    },
    {
     "data": {
      "image/png": "[encoded data removed]",
      "text/plain": [
       "<Figure size 432x288 with 1 Axes>"
      ]
     },
     "metadata": {
      "needs_background": "light"
     },
     "output_type": "display_data"
    }
   ],
   "source": [
    "calls['duration'].hist()"
   ]
  },
  {
   "cell_type": "markdown",
   "id": "0f447836",
   "metadata": {},
   "source": [
    "На гистограмме можно заметить большое кол-во звонков с длительностью 0. Вероятнее всего, это пропущенные вызовы либо абонент не дозвонился до адресата. "
   ]
  },
  {
   "cell_type": "markdown",
   "id": "601bfa5b",
   "metadata": {},
   "source": [
    "Посчитаем количесвто звонков для каждого пользователья по месяцам"
   ]
  },
  {
   "cell_type": "code",
   "execution_count": 13,
   "id": "c2f3f5c8",
   "metadata": {},
   "outputs": [],
   "source": [
    "# Добавим колонку с месяцем\n",
    "calls['month'] = calls['call_date'].dt.month"
   ]
  },
  {
   "cell_type": "markdown",
   "id": "377db8c3",
   "metadata": {},
   "source": [
    "Поскольку для обоих тарифов каждый звонок окргуляется отдельно до минут, сразу произведем округление длительности звонков"
   ]
  },
  {
   "cell_type": "code",
   "execution_count": 14,
   "id": "c6cdf4db",
   "metadata": {},
   "outputs": [],
   "source": [
    "calls['duration'] = np.ceil(calls['duration']).astype('int32')"
   ]
  },
  {
   "cell_type": "markdown",
   "id": "b184258d",
   "metadata": {},
   "source": [
    "Теперь создадим сводник по звонкам за месяц для каждого пользователя. "
   ]
  },
  {
   "cell_type": "code",
   "execution_count": 15,
   "id": "e4f65c9b",
   "metadata": {},
   "outputs": [
    {
     "data": {
      "text/html": [
       "<div>\n",
       "<style scoped>\n",
       "    .dataframe tbody tr th:only-of-type {\n",
       "        vertical-align: middle;\n",
       "    }\n",
       "\n",
       "    .dataframe tbody tr th {\n",
       "        vertical-align: top;\n",
       "    }\n",
       "\n",
       "    .dataframe thead th {\n",
       "        text-align: right;\n",
       "    }\n",
       "</style>\n",
       "<table border=\"1\" class=\"dataframe\">\n",
       "  <thead>\n",
       "    <tr style=\"text-align: right;\">\n",
       "      <th></th>\n",
       "      <th>user_id</th>\n",
       "      <th>month</th>\n",
       "      <th>calls_count</th>\n",
       "      <th>calls_duration_total</th>\n",
       "    </tr>\n",
       "  </thead>\n",
       "  <tbody>\n",
       "    <tr>\n",
       "      <th>0</th>\n",
       "      <td>1000</td>\n",
       "      <td>5</td>\n",
       "      <td>22</td>\n",
       "      <td>159</td>\n",
       "    </tr>\n",
       "    <tr>\n",
       "      <th>1</th>\n",
       "      <td>1000</td>\n",
       "      <td>6</td>\n",
       "      <td>43</td>\n",
       "      <td>172</td>\n",
       "    </tr>\n",
       "    <tr>\n",
       "      <th>2</th>\n",
       "      <td>1000</td>\n",
       "      <td>7</td>\n",
       "      <td>47</td>\n",
       "      <td>340</td>\n",
       "    </tr>\n",
       "    <tr>\n",
       "      <th>3</th>\n",
       "      <td>1000</td>\n",
       "      <td>8</td>\n",
       "      <td>52</td>\n",
       "      <td>408</td>\n",
       "    </tr>\n",
       "    <tr>\n",
       "      <th>4</th>\n",
       "      <td>1000</td>\n",
       "      <td>9</td>\n",
       "      <td>58</td>\n",
       "      <td>466</td>\n",
       "    </tr>\n",
       "  </tbody>\n",
       "</table>\n",
       "</div>"
      ],
      "text/plain": [
       "   user_id  month  calls_count  calls_duration_total\n",
       "0     1000      5           22                   159\n",
       "1     1000      6           43                   172\n",
       "2     1000      7           47                   340\n",
       "3     1000      8           52                   408\n",
       "4     1000      9           58                   466"
      ]
     },
     "metadata": {},
     "output_type": "display_data"
    },
    {
     "data": {
      "text/html": [
       "<div>\n",
       "<style scoped>\n",
       "    .dataframe tbody tr th:only-of-type {\n",
       "        vertical-align: middle;\n",
       "    }\n",
       "\n",
       "    .dataframe tbody tr th {\n",
       "        vertical-align: top;\n",
       "    }\n",
       "\n",
       "    .dataframe thead th {\n",
       "        text-align: right;\n",
       "    }\n",
       "</style>\n",
       "<table border=\"1\" class=\"dataframe\">\n",
       "  <thead>\n",
       "    <tr style=\"text-align: right;\">\n",
       "      <th></th>\n",
       "      <th>calls_count</th>\n",
       "      <th>calls_duration_total</th>\n",
       "    </tr>\n",
       "  </thead>\n",
       "  <tbody>\n",
       "    <tr>\n",
       "      <th>count</th>\n",
       "      <td>3174.000000</td>\n",
       "      <td>3174.000000</td>\n",
       "    </tr>\n",
       "    <tr>\n",
       "      <th>mean</th>\n",
       "      <td>63.833333</td>\n",
       "      <td>456.931632</td>\n",
       "    </tr>\n",
       "    <tr>\n",
       "      <th>std</th>\n",
       "      <td>32.678036</td>\n",
       "      <td>238.031270</td>\n",
       "    </tr>\n",
       "    <tr>\n",
       "      <th>min</th>\n",
       "      <td>1.000000</td>\n",
       "      <td>0.000000</td>\n",
       "    </tr>\n",
       "    <tr>\n",
       "      <th>25%</th>\n",
       "      <td>41.000000</td>\n",
       "      <td>290.000000</td>\n",
       "    </tr>\n",
       "    <tr>\n",
       "      <th>50%</th>\n",
       "      <td>63.000000</td>\n",
       "      <td>447.000000</td>\n",
       "    </tr>\n",
       "    <tr>\n",
       "      <th>75%</th>\n",
       "      <td>83.000000</td>\n",
       "      <td>592.000000</td>\n",
       "    </tr>\n",
       "    <tr>\n",
       "      <th>max</th>\n",
       "      <td>244.000000</td>\n",
       "      <td>1673.000000</td>\n",
       "    </tr>\n",
       "  </tbody>\n",
       "</table>\n",
       "</div>"
      ],
      "text/plain": [
       "       calls_count  calls_duration_total\n",
       "count  3174.000000           3174.000000\n",
       "mean     63.833333            456.931632\n",
       "std      32.678036            238.031270\n",
       "min       1.000000              0.000000\n",
       "25%      41.000000            290.000000\n",
       "50%      63.000000            447.000000\n",
       "75%      83.000000            592.000000\n",
       "max     244.000000           1673.000000"
      ]
     },
     "metadata": {},
     "output_type": "display_data"
    },
    {
     "data": {
      "text/plain": [
       "<AxesSubplot:>"
      ]
     },
     "metadata": {},
     "output_type": "display_data"
    },
    {
     "data": {
      "image/png": "[encoded data removed]",
      "text/plain": [
       "<Figure size 432x288 with 1 Axes>"
      ]
     },
     "metadata": {
      "needs_background": "light"
     },
     "output_type": "display_data"
    }
   ],
   "source": [
    "calls_by_month =(\n",
    "calls\n",
    "    .groupby(['user_id', 'month'])['duration']\n",
    "    .agg(['count', 'sum'])\n",
    "    .reset_index()\n",
    "    .rename(columns={'count': 'calls_count', 'sum': 'calls_duration_total'})\n",
    ")\n",
    "display(calls_by_month.head())\n",
    "display(calls_by_month[['calls_count', 'calls_duration_total']].describe())\n",
    "display(calls_by_month['calls_duration_total'].hist())"
   ]
  },
  {
   "cell_type": "markdown",
   "id": "3f5fa84e",
   "metadata": {},
   "source": [
    "Большинство клиентов разговаривают по 0-600 минут в месяц. Медиана и среднее на отметке около 450 минут. "
   ]
  },
  {
   "cell_type": "markdown",
   "id": "99df8a47",
   "metadata": {},
   "source": [
    "---"
   ]
  },
  {
   "cell_type": "markdown",
   "id": "9c7c2ffa",
   "metadata": {},
   "source": [
    "##  Сообщения"
   ]
  },
  {
   "cell_type": "markdown",
   "id": "d01b325c",
   "metadata": {},
   "source": [
    "Теперь посчитаем количество смс-сообщений для каждого пользователя по месяцам."
   ]
  },
  {
   "cell_type": "code",
   "execution_count": 16,
   "id": "daa59aaa",
   "metadata": {},
   "outputs": [
    {
     "data": {
      "text/html": [
       "<div>\n",
       "<style scoped>\n",
       "    .dataframe tbody tr th:only-of-type {\n",
       "        vertical-align: middle;\n",
       "    }\n",
       "\n",
       "    .dataframe tbody tr th {\n",
       "        vertical-align: top;\n",
       "    }\n",
       "\n",
       "    .dataframe thead th {\n",
       "        text-align: right;\n",
       "    }\n",
       "</style>\n",
       "<table border=\"1\" class=\"dataframe\">\n",
       "  <thead>\n",
       "    <tr style=\"text-align: right;\">\n",
       "      <th></th>\n",
       "      <th>id</th>\n",
       "      <th>message_date</th>\n",
       "      <th>user_id</th>\n",
       "    </tr>\n",
       "  </thead>\n",
       "  <tbody>\n",
       "    <tr>\n",
       "      <th>0</th>\n",
       "      <td>1000_0</td>\n",
       "      <td>2018-06-27</td>\n",
       "      <td>1000</td>\n",
       "    </tr>\n",
       "    <tr>\n",
       "      <th>1</th>\n",
       "      <td>1000_1</td>\n",
       "      <td>2018-10-08</td>\n",
       "      <td>1000</td>\n",
       "    </tr>\n",
       "    <tr>\n",
       "      <th>2</th>\n",
       "      <td>1000_2</td>\n",
       "      <td>2018-08-04</td>\n",
       "      <td>1000</td>\n",
       "    </tr>\n",
       "    <tr>\n",
       "      <th>3</th>\n",
       "      <td>1000_3</td>\n",
       "      <td>2018-06-16</td>\n",
       "      <td>1000</td>\n",
       "    </tr>\n",
       "    <tr>\n",
       "      <th>4</th>\n",
       "      <td>1000_4</td>\n",
       "      <td>2018-12-05</td>\n",
       "      <td>1000</td>\n",
       "    </tr>\n",
       "  </tbody>\n",
       "</table>\n",
       "</div>"
      ],
      "text/plain": [
       "       id message_date  user_id\n",
       "0  1000_0   2018-06-27     1000\n",
       "1  1000_1   2018-10-08     1000\n",
       "2  1000_2   2018-08-04     1000\n",
       "3  1000_3   2018-06-16     1000\n",
       "4  1000_4   2018-12-05     1000"
      ]
     },
     "execution_count": 16,
     "metadata": {},
     "output_type": "execute_result"
    }
   ],
   "source": [
    "messages.head()"
   ]
  },
  {
   "cell_type": "code",
   "execution_count": 17,
   "id": "19f429a0",
   "metadata": {},
   "outputs": [],
   "source": [
    "messages['month'] = messages['message_date'].dt.month"
   ]
  },
  {
   "cell_type": "code",
   "execution_count": 18,
   "id": "ec396627",
   "metadata": {},
   "outputs": [
    {
     "data": {
      "text/plain": [
       "count    2717.000000\n",
       "mean       45.283769\n",
       "std        35.051363\n",
       "min         1.000000\n",
       "25%        19.000000\n",
       "50%        38.000000\n",
       "75%        63.000000\n",
       "max       224.000000\n",
       "Name: messages_count, dtype: float64"
      ]
     },
     "metadata": {},
     "output_type": "display_data"
    },
    {
     "data": {
      "text/html": [
       "<div>\n",
       "<style scoped>\n",
       "    .dataframe tbody tr th:only-of-type {\n",
       "        vertical-align: middle;\n",
       "    }\n",
       "\n",
       "    .dataframe tbody tr th {\n",
       "        vertical-align: top;\n",
       "    }\n",
       "\n",
       "    .dataframe thead th {\n",
       "        text-align: right;\n",
       "    }\n",
       "</style>\n",
       "<table border=\"1\" class=\"dataframe\">\n",
       "  <thead>\n",
       "    <tr style=\"text-align: right;\">\n",
       "      <th></th>\n",
       "      <th>user_id</th>\n",
       "      <th>month</th>\n",
       "      <th>messages_count</th>\n",
       "    </tr>\n",
       "  </thead>\n",
       "  <tbody>\n",
       "    <tr>\n",
       "      <th>0</th>\n",
       "      <td>1000</td>\n",
       "      <td>5</td>\n",
       "      <td>22</td>\n",
       "    </tr>\n",
       "    <tr>\n",
       "      <th>1</th>\n",
       "      <td>1000</td>\n",
       "      <td>6</td>\n",
       "      <td>60</td>\n",
       "    </tr>\n",
       "    <tr>\n",
       "      <th>2</th>\n",
       "      <td>1000</td>\n",
       "      <td>7</td>\n",
       "      <td>75</td>\n",
       "    </tr>\n",
       "    <tr>\n",
       "      <th>3</th>\n",
       "      <td>1000</td>\n",
       "      <td>8</td>\n",
       "      <td>81</td>\n",
       "    </tr>\n",
       "    <tr>\n",
       "      <th>4</th>\n",
       "      <td>1000</td>\n",
       "      <td>9</td>\n",
       "      <td>57</td>\n",
       "    </tr>\n",
       "  </tbody>\n",
       "</table>\n",
       "</div>"
      ],
      "text/plain": [
       "   user_id  month  messages_count\n",
       "0     1000      5              22\n",
       "1     1000      6              60\n",
       "2     1000      7              75\n",
       "3     1000      8              81\n",
       "4     1000      9              57"
      ]
     },
     "metadata": {},
     "output_type": "display_data"
    },
    {
     "data": {
      "text/plain": [
       "<AxesSubplot:>"
      ]
     },
     "metadata": {},
     "output_type": "display_data"
    },
    {
     "data": {
      "image/png": "[encoded data removed]",
      "text/plain": [
       "<Figure size 432x288 with 1 Axes>"
      ]
     },
     "metadata": {
      "needs_background": "light"
     },
     "output_type": "display_data"
    }
   ],
   "source": [
    "messages_by_month = (\n",
    "messages\n",
    "    .groupby(['user_id', 'month'])\n",
    "    .agg(count = ('id','count'),)\n",
    "    .reset_index()\n",
    "    .rename(columns={'count': 'messages_count'})\n",
    ")\n",
    "display(messages_by_month['messages_count'].describe())\n",
    "display(messages_by_month.head())\n",
    "display(messages_by_month['messages_count'].hist())"
   ]
  },
  {
   "cell_type": "markdown",
   "id": "2c08e67a",
   "metadata": {},
   "source": [
    "В среднем люди отправляют примерно по 40-45 смс в месяц."
   ]
  },
  {
   "cell_type": "markdown",
   "id": "1e6aabcc",
   "metadata": {},
   "source": [
    "---"
   ]
  },
  {
   "cell_type": "markdown",
   "id": "b4ee22f2",
   "metadata": {},
   "source": [
    "## Интернет"
   ]
  },
  {
   "cell_type": "code",
   "execution_count": 19,
   "id": "7ce08e48",
   "metadata": {},
   "outputs": [
    {
     "data": {
      "text/html": [
       "<div>\n",
       "<style scoped>\n",
       "    .dataframe tbody tr th:only-of-type {\n",
       "        vertical-align: middle;\n",
       "    }\n",
       "\n",
       "    .dataframe tbody tr th {\n",
       "        vertical-align: top;\n",
       "    }\n",
       "\n",
       "    .dataframe thead th {\n",
       "        text-align: right;\n",
       "    }\n",
       "</style>\n",
       "<table border=\"1\" class=\"dataframe\">\n",
       "  <thead>\n",
       "    <tr style=\"text-align: right;\">\n",
       "      <th></th>\n",
       "      <th>Unnamed: 0</th>\n",
       "      <th>id</th>\n",
       "      <th>mb_used</th>\n",
       "      <th>session_date</th>\n",
       "      <th>user_id</th>\n",
       "    </tr>\n",
       "  </thead>\n",
       "  <tbody>\n",
       "    <tr>\n",
       "      <th>0</th>\n",
       "      <td>0</td>\n",
       "      <td>1000_0</td>\n",
       "      <td>112.949997</td>\n",
       "      <td>2018-11-25</td>\n",
       "      <td>1000</td>\n",
       "    </tr>\n",
       "    <tr>\n",
       "      <th>1</th>\n",
       "      <td>1</td>\n",
       "      <td>1000_1</td>\n",
       "      <td>1052.810059</td>\n",
       "      <td>2018-09-07</td>\n",
       "      <td>1000</td>\n",
       "    </tr>\n",
       "    <tr>\n",
       "      <th>2</th>\n",
       "      <td>2</td>\n",
       "      <td>1000_2</td>\n",
       "      <td>1197.260010</td>\n",
       "      <td>2018-06-25</td>\n",
       "      <td>1000</td>\n",
       "    </tr>\n",
       "    <tr>\n",
       "      <th>3</th>\n",
       "      <td>3</td>\n",
       "      <td>1000_3</td>\n",
       "      <td>550.270020</td>\n",
       "      <td>2018-08-22</td>\n",
       "      <td>1000</td>\n",
       "    </tr>\n",
       "    <tr>\n",
       "      <th>4</th>\n",
       "      <td>4</td>\n",
       "      <td>1000_4</td>\n",
       "      <td>302.559998</td>\n",
       "      <td>2018-09-24</td>\n",
       "      <td>1000</td>\n",
       "    </tr>\n",
       "  </tbody>\n",
       "</table>\n",
       "</div>"
      ],
      "text/plain": [
       "   Unnamed: 0      id      mb_used session_date  user_id\n",
       "0           0  1000_0   112.949997   2018-11-25     1000\n",
       "1           1  1000_1  1052.810059   2018-09-07     1000\n",
       "2           2  1000_2  1197.260010   2018-06-25     1000\n",
       "3           3  1000_3   550.270020   2018-08-22     1000\n",
       "4           4  1000_4   302.559998   2018-09-24     1000"
      ]
     },
     "execution_count": 19,
     "metadata": {},
     "output_type": "execute_result"
    }
   ],
   "source": [
    "internet.head()"
   ]
  },
  {
   "cell_type": "code",
   "execution_count": 20,
   "id": "5e57e447",
   "metadata": {},
   "outputs": [],
   "source": [
    "internet['month'] = internet['session_date'].dt.month"
   ]
  },
  {
   "cell_type": "markdown",
   "id": "cc28a932",
   "metadata": {},
   "source": [
    "Поскольку оператор округляет мб до гб, предлагаю после построения сводной таблицы поделить использованные мб на 1024 и округлить в бОльшую сторону"
   ]
  },
  {
   "cell_type": "code",
   "execution_count": 21,
   "id": "1ae5d1e3",
   "metadata": {
    "scrolled": true
   },
   "outputs": [
    {
     "data": {
      "text/plain": [
       "count    3203.000000\n",
       "mean       17.358414\n",
       "std         7.343379\n",
       "min         0.000000\n",
       "25%        13.000000\n",
       "50%        17.000000\n",
       "75%        21.000000\n",
       "max        49.000000\n",
       "Name: gb_used, dtype: float64"
      ]
     },
     "metadata": {},
     "output_type": "display_data"
    },
    {
     "data": {
      "text/html": [
       "<div>\n",
       "<style scoped>\n",
       "    .dataframe tbody tr th:only-of-type {\n",
       "        vertical-align: middle;\n",
       "    }\n",
       "\n",
       "    .dataframe tbody tr th {\n",
       "        vertical-align: top;\n",
       "    }\n",
       "\n",
       "    .dataframe thead th {\n",
       "        text-align: right;\n",
       "    }\n",
       "</style>\n",
       "<table border=\"1\" class=\"dataframe\">\n",
       "  <thead>\n",
       "    <tr style=\"text-align: right;\">\n",
       "      <th></th>\n",
       "      <th>user_id</th>\n",
       "      <th>month</th>\n",
       "      <th>gb_used</th>\n",
       "    </tr>\n",
       "  </thead>\n",
       "  <tbody>\n",
       "    <tr>\n",
       "      <th>0</th>\n",
       "      <td>1000</td>\n",
       "      <td>5</td>\n",
       "      <td>3</td>\n",
       "    </tr>\n",
       "    <tr>\n",
       "      <th>1</th>\n",
       "      <td>1000</td>\n",
       "      <td>6</td>\n",
       "      <td>23</td>\n",
       "    </tr>\n",
       "    <tr>\n",
       "      <th>2</th>\n",
       "      <td>1000</td>\n",
       "      <td>7</td>\n",
       "      <td>14</td>\n",
       "    </tr>\n",
       "    <tr>\n",
       "      <th>3</th>\n",
       "      <td>1000</td>\n",
       "      <td>8</td>\n",
       "      <td>14</td>\n",
       "    </tr>\n",
       "    <tr>\n",
       "      <th>4</th>\n",
       "      <td>1000</td>\n",
       "      <td>9</td>\n",
       "      <td>15</td>\n",
       "    </tr>\n",
       "  </tbody>\n",
       "</table>\n",
       "</div>"
      ],
      "text/plain": [
       "   user_id  month  gb_used\n",
       "0     1000      5        3\n",
       "1     1000      6       23\n",
       "2     1000      7       14\n",
       "3     1000      8       14\n",
       "4     1000      9       15"
      ]
     },
     "metadata": {},
     "output_type": "display_data"
    },
    {
     "data": {
      "text/plain": [
       "<AxesSubplot:>"
      ]
     },
     "metadata": {},
     "output_type": "display_data"
    },
    {
     "data": {
      "image/png": "[encoded data removed]",
      "text/plain": [
       "<Figure size 432x288 with 1 Axes>"
      ]
     },
     "metadata": {
      "needs_background": "light"
     },
     "output_type": "display_data"
    }
   ],
   "source": [
    "internet_by_month = (\n",
    "internet\n",
    "    .groupby(['user_id', 'month'])['mb_used']\n",
    "    .agg('sum')\n",
    "    .reset_index()\n",
    ")\n",
    "internet_by_month['gb_used'] = np.ceil(internet_by_month['mb_used'] / 1024).astype('int32')\n",
    "internet_by_month = internet_by_month.drop('mb_used', axis=1) # удалим колонку с использованными мб за ненадобностью. \n",
    "display(internet_by_month['gb_used'].describe())\n",
    "display(internet_by_month.head())\n",
    "display(internet_by_month['gb_used'].hist())"
   ]
  },
  {
   "cell_type": "markdown",
   "id": "6b202016",
   "metadata": {},
   "source": [
    "В среднем клиенты израсходуют около 17 гб в месяц. "
   ]
  },
  {
   "cell_type": "markdown",
   "id": "e4bbd5c8",
   "metadata": {},
   "source": [
    "___"
   ]
  },
  {
   "cell_type": "markdown",
   "id": "f1e1b1f0",
   "metadata": {},
   "source": [
    "## Формирование общего датафрейма"
   ]
  },
  {
   "cell_type": "markdown",
   "id": "d64e0470",
   "metadata": {},
   "source": [
    "Объеденим полученные таблицы со звонками, смс и интрнетом за месяц в один датафрейм"
   ]
  },
  {
   "cell_type": "code",
   "execution_count": 22,
   "id": "b694451b",
   "metadata": {},
   "outputs": [],
   "source": [
    "# Поскольку мы перевели мб в гб в нашем своднике, необходимо перевести мб в гб и в таблице для условий по тарифам.\n",
    "tariffs.insert(1, 'gb_per_month_included', (tariffs['mb_per_month_included']/1024).astype('int32'))"
   ]
  },
  {
   "cell_type": "code",
   "execution_count": 23,
   "id": "f3c61f23",
   "metadata": {},
   "outputs": [],
   "source": [
    "# Соеденим таблицы со звонками, смс и интернетом\n",
    "data_by_month = pd.merge(pd.merge(calls_by_month, messages_by_month, how='outer', on=['user_id', 'month']), internet_by_month, how='outer', on=['user_id', 'month'])\n",
    "\n",
    "# Добавим таблицу с информацией о пользователях\n",
    "df = pd.merge(data_by_month, users[['user_id', 'city', 'tariff']], on='user_id', how='left')\n",
    "\n",
    "# И наконец добавим в общий датафрейм условия по тарифам\n",
    "df = df.merge(tariffs, left_on='tariff', right_on='tariff_name', how='left')"
   ]
  },
  {
   "cell_type": "markdown",
   "id": "0af7a2f1",
   "metadata": {},
   "source": [
    "Теперь у нас есть общий датафрейм со всеми необходимыми данными для каждого пользователя. "
   ]
  },
  {
   "cell_type": "code",
   "execution_count": 24,
   "id": "29c41f18",
   "metadata": {},
   "outputs": [
    {
     "data": {
      "text/html": [
       "<div>\n",
       "<style scoped>\n",
       "    .dataframe tbody tr th:only-of-type {\n",
       "        vertical-align: middle;\n",
       "    }\n",
       "\n",
       "    .dataframe tbody tr th {\n",
       "        vertical-align: top;\n",
       "    }\n",
       "\n",
       "    .dataframe thead th {\n",
       "        text-align: right;\n",
       "    }\n",
       "</style>\n",
       "<table border=\"1\" class=\"dataframe\">\n",
       "  <thead>\n",
       "    <tr style=\"text-align: right;\">\n",
       "      <th></th>\n",
       "      <th>user_id</th>\n",
       "      <th>month</th>\n",
       "      <th>calls_count</th>\n",
       "      <th>calls_duration_total</th>\n",
       "      <th>messages_count</th>\n",
       "      <th>gb_used</th>\n",
       "      <th>city</th>\n",
       "      <th>tariff</th>\n",
       "      <th>messages_included</th>\n",
       "      <th>gb_per_month_included</th>\n",
       "      <th>mb_per_month_included</th>\n",
       "      <th>minutes_included</th>\n",
       "      <th>rub_monthly_fee</th>\n",
       "      <th>rub_per_gb</th>\n",
       "      <th>rub_per_message</th>\n",
       "      <th>rub_per_minute</th>\n",
       "      <th>tariff_name</th>\n",
       "    </tr>\n",
       "  </thead>\n",
       "  <tbody>\n",
       "    <tr>\n",
       "      <th>1658</th>\n",
       "      <td>1266</td>\n",
       "      <td>9</td>\n",
       "      <td>50.0</td>\n",
       "      <td>339.0</td>\n",
       "      <td>45.0</td>\n",
       "      <td>13.0</td>\n",
       "      <td>Калуга</td>\n",
       "      <td>smart</td>\n",
       "      <td>50</td>\n",
       "      <td>15</td>\n",
       "      <td>15360</td>\n",
       "      <td>500</td>\n",
       "      <td>550</td>\n",
       "      <td>200</td>\n",
       "      <td>3</td>\n",
       "      <td>3</td>\n",
       "      <td>smart</td>\n",
       "    </tr>\n",
       "    <tr>\n",
       "      <th>2328</th>\n",
       "      <td>1373</td>\n",
       "      <td>12</td>\n",
       "      <td>1.0</td>\n",
       "      <td>15.0</td>\n",
       "      <td>55.0</td>\n",
       "      <td>24.0</td>\n",
       "      <td>Улан-Удэ</td>\n",
       "      <td>smart</td>\n",
       "      <td>50</td>\n",
       "      <td>15</td>\n",
       "      <td>15360</td>\n",
       "      <td>500</td>\n",
       "      <td>550</td>\n",
       "      <td>200</td>\n",
       "      <td>3</td>\n",
       "      <td>3</td>\n",
       "      <td>smart</td>\n",
       "    </tr>\n",
       "    <tr>\n",
       "      <th>1410</th>\n",
       "      <td>1224</td>\n",
       "      <td>10</td>\n",
       "      <td>84.0</td>\n",
       "      <td>600.0</td>\n",
       "      <td>NaN</td>\n",
       "      <td>25.0</td>\n",
       "      <td>Магнитогорск</td>\n",
       "      <td>smart</td>\n",
       "      <td>50</td>\n",
       "      <td>15</td>\n",
       "      <td>15360</td>\n",
       "      <td>500</td>\n",
       "      <td>550</td>\n",
       "      <td>200</td>\n",
       "      <td>3</td>\n",
       "      <td>3</td>\n",
       "      <td>smart</td>\n",
       "    </tr>\n",
       "    <tr>\n",
       "      <th>2419</th>\n",
       "      <td>1384</td>\n",
       "      <td>4</td>\n",
       "      <td>12.0</td>\n",
       "      <td>85.0</td>\n",
       "      <td>NaN</td>\n",
       "      <td>1.0</td>\n",
       "      <td>Нижний Новгород</td>\n",
       "      <td>smart</td>\n",
       "      <td>50</td>\n",
       "      <td>15</td>\n",
       "      <td>15360</td>\n",
       "      <td>500</td>\n",
       "      <td>550</td>\n",
       "      <td>200</td>\n",
       "      <td>3</td>\n",
       "      <td>3</td>\n",
       "      <td>smart</td>\n",
       "    </tr>\n",
       "    <tr>\n",
       "      <th>1274</th>\n",
       "      <td>1202</td>\n",
       "      <td>9</td>\n",
       "      <td>11.0</td>\n",
       "      <td>75.0</td>\n",
       "      <td>20.0</td>\n",
       "      <td>9.0</td>\n",
       "      <td>Владивосток</td>\n",
       "      <td>smart</td>\n",
       "      <td>50</td>\n",
       "      <td>15</td>\n",
       "      <td>15360</td>\n",
       "      <td>500</td>\n",
       "      <td>550</td>\n",
       "      <td>200</td>\n",
       "      <td>3</td>\n",
       "      <td>3</td>\n",
       "      <td>smart</td>\n",
       "    </tr>\n",
       "    <tr>\n",
       "      <th>3022</th>\n",
       "      <td>1475</td>\n",
       "      <td>5</td>\n",
       "      <td>33.0</td>\n",
       "      <td>291.0</td>\n",
       "      <td>30.0</td>\n",
       "      <td>14.0</td>\n",
       "      <td>Новокузнецк</td>\n",
       "      <td>smart</td>\n",
       "      <td>50</td>\n",
       "      <td>15</td>\n",
       "      <td>15360</td>\n",
       "      <td>500</td>\n",
       "      <td>550</td>\n",
       "      <td>200</td>\n",
       "      <td>3</td>\n",
       "      <td>3</td>\n",
       "      <td>smart</td>\n",
       "    </tr>\n",
       "    <tr>\n",
       "      <th>264</th>\n",
       "      <td>1043</td>\n",
       "      <td>10</td>\n",
       "      <td>67.0</td>\n",
       "      <td>512.0</td>\n",
       "      <td>10.0</td>\n",
       "      <td>23.0</td>\n",
       "      <td>Ставрополь</td>\n",
       "      <td>smart</td>\n",
       "      <td>50</td>\n",
       "      <td>15</td>\n",
       "      <td>15360</td>\n",
       "      <td>500</td>\n",
       "      <td>550</td>\n",
       "      <td>200</td>\n",
       "      <td>3</td>\n",
       "      <td>3</td>\n",
       "      <td>smart</td>\n",
       "    </tr>\n",
       "    <tr>\n",
       "      <th>2915</th>\n",
       "      <td>1458</td>\n",
       "      <td>7</td>\n",
       "      <td>106.0</td>\n",
       "      <td>816.0</td>\n",
       "      <td>1.0</td>\n",
       "      <td>10.0</td>\n",
       "      <td>Барнаул</td>\n",
       "      <td>ultra</td>\n",
       "      <td>1000</td>\n",
       "      <td>30</td>\n",
       "      <td>30720</td>\n",
       "      <td>3000</td>\n",
       "      <td>1950</td>\n",
       "      <td>150</td>\n",
       "      <td>1</td>\n",
       "      <td>1</td>\n",
       "      <td>ultra</td>\n",
       "    </tr>\n",
       "    <tr>\n",
       "      <th>1903</th>\n",
       "      <td>1303</td>\n",
       "      <td>8</td>\n",
       "      <td>69.0</td>\n",
       "      <td>540.0</td>\n",
       "      <td>27.0</td>\n",
       "      <td>21.0</td>\n",
       "      <td>Смоленск</td>\n",
       "      <td>ultra</td>\n",
       "      <td>1000</td>\n",
       "      <td>30</td>\n",
       "      <td>30720</td>\n",
       "      <td>3000</td>\n",
       "      <td>1950</td>\n",
       "      <td>150</td>\n",
       "      <td>1</td>\n",
       "      <td>1</td>\n",
       "      <td>ultra</td>\n",
       "    </tr>\n",
       "    <tr>\n",
       "      <th>401</th>\n",
       "      <td>1064</td>\n",
       "      <td>3</td>\n",
       "      <td>33.0</td>\n",
       "      <td>166.0</td>\n",
       "      <td>26.0</td>\n",
       "      <td>7.0</td>\n",
       "      <td>Якутск</td>\n",
       "      <td>smart</td>\n",
       "      <td>50</td>\n",
       "      <td>15</td>\n",
       "      <td>15360</td>\n",
       "      <td>500</td>\n",
       "      <td>550</td>\n",
       "      <td>200</td>\n",
       "      <td>3</td>\n",
       "      <td>3</td>\n",
       "      <td>smart</td>\n",
       "    </tr>\n",
       "  </tbody>\n",
       "</table>\n",
       "</div>"
      ],
      "text/plain": [
       "      user_id  month  calls_count  calls_duration_total  messages_count  \\\n",
       "1658     1266      9         50.0                 339.0            45.0   \n",
       "2328     1373     12          1.0                  15.0            55.0   \n",
       "1410     1224     10         84.0                 600.0             NaN   \n",
       "2419     1384      4         12.0                  85.0             NaN   \n",
       "1274     1202      9         11.0                  75.0            20.0   \n",
       "3022     1475      5         33.0                 291.0            30.0   \n",
       "264      1043     10         67.0                 512.0            10.0   \n",
       "2915     1458      7        106.0                 816.0             1.0   \n",
       "1903     1303      8         69.0                 540.0            27.0   \n",
       "401      1064      3         33.0                 166.0            26.0   \n",
       "\n",
       "      gb_used             city tariff  messages_included  \\\n",
       "1658     13.0           Калуга  smart                 50   \n",
       "2328     24.0         Улан-Удэ  smart                 50   \n",
       "1410     25.0     Магнитогорск  smart                 50   \n",
       "2419      1.0  Нижний Новгород  smart                 50   \n",
       "1274      9.0      Владивосток  smart                 50   \n",
       "3022     14.0      Новокузнецк  smart                 50   \n",
       "264      23.0       Ставрополь  smart                 50   \n",
       "2915     10.0          Барнаул  ultra               1000   \n",
       "1903     21.0         Смоленск  ultra               1000   \n",
       "401       7.0           Якутск  smart                 50   \n",
       "\n",
       "      gb_per_month_included  mb_per_month_included  minutes_included  \\\n",
       "1658                     15                  15360               500   \n",
       "2328                     15                  15360               500   \n",
       "1410                     15                  15360               500   \n",
       "2419                     15                  15360               500   \n",
       "1274                     15                  15360               500   \n",
       "3022                     15                  15360               500   \n",
       "264                      15                  15360               500   \n",
       "2915                     30                  30720              3000   \n",
       "1903                     30                  30720              3000   \n",
       "401                      15                  15360               500   \n",
       "\n",
       "      rub_monthly_fee  rub_per_gb  rub_per_message  rub_per_minute tariff_name  \n",
       "1658              550         200                3               3       smart  \n",
       "2328              550         200                3               3       smart  \n",
       "1410              550         200                3               3       smart  \n",
       "2419              550         200                3               3       smart  \n",
       "1274              550         200                3               3       smart  \n",
       "3022              550         200                3               3       smart  \n",
       "264               550         200                3               3       smart  \n",
       "2915             1950         150                1               1       ultra  \n",
       "1903             1950         150                1               1       ultra  \n",
       "401               550         200                3               3       smart  "
      ]
     },
     "execution_count": 24,
     "metadata": {},
     "output_type": "execute_result"
    }
   ],
   "source": [
    "df.sample(10)"
   ]
  },
  {
   "cell_type": "markdown",
   "id": "6b2bc13d",
   "metadata": {},
   "source": [
    "Очевидно, что после merge в датафрейме будут пустые значения."
   ]
  },
  {
   "cell_type": "code",
   "execution_count": 25,
   "id": "39feeae4",
   "metadata": {},
   "outputs": [
    {
     "data": {
      "text/plain": [
       "user_id                  0.000000\n",
       "month                    0.000000\n",
       "calls_count              0.012446\n",
       "calls_duration_total     0.012446\n",
       "messages_count           0.154636\n",
       "gb_used                  0.003423\n",
       "city                     0.000000\n",
       "tariff                   0.000000\n",
       "messages_included        0.000000\n",
       "gb_per_month_included    0.000000\n",
       "mb_per_month_included    0.000000\n",
       "minutes_included         0.000000\n",
       "rub_monthly_fee          0.000000\n",
       "rub_per_gb               0.000000\n",
       "rub_per_message          0.000000\n",
       "rub_per_minute           0.000000\n",
       "tariff_name              0.000000\n",
       "dtype: float64"
      ]
     },
     "execution_count": 25,
     "metadata": {},
     "output_type": "execute_result"
    }
   ],
   "source": [
    "df.isna().mean()"
   ]
  },
  {
   "cell_type": "markdown",
   "id": "9c5038e1",
   "metadata": {},
   "source": [
    "Пропуски обнаружены в колонках: кол-во звонков, длительность звонков, кол-во сообщений и траффик в гб. Логичнее всего предположить, что в указанных месяцах клиент не отправлял смс, не делал звонков или не выходил в интернет. Заменяем но 0. "
   ]
  },
  {
   "cell_type": "code",
   "execution_count": 26,
   "id": "2bcb5258",
   "metadata": {},
   "outputs": [
    {
     "data": {
      "text/plain": [
       "user_id                  0.0\n",
       "month                    0.0\n",
       "calls_count              0.0\n",
       "calls_duration_total     0.0\n",
       "messages_count           0.0\n",
       "gb_used                  0.0\n",
       "city                     0.0\n",
       "tariff                   0.0\n",
       "messages_included        0.0\n",
       "gb_per_month_included    0.0\n",
       "mb_per_month_included    0.0\n",
       "minutes_included         0.0\n",
       "rub_monthly_fee          0.0\n",
       "rub_per_gb               0.0\n",
       "rub_per_message          0.0\n",
       "rub_per_minute           0.0\n",
       "tariff_name              0.0\n",
       "dtype: float64"
      ]
     },
     "metadata": {},
     "output_type": "display_data"
    },
    {
     "data": {
      "text/plain": [
       "0"
      ]
     },
     "metadata": {},
     "output_type": "display_data"
    }
   ],
   "source": [
    "# Создадим функцию, которая меняет на ноль пропуски в колонках. \n",
    "def fill_nan(data):\n",
    "    for col in data.columns:\n",
    "        if data[col].isna().mean() > 0:\n",
    "            data[col] = data[col].fillna(0)\n",
    "fill_nan(df)\n",
    "display(df.isna().mean())\n",
    "display(df.duplicated().sum())"
   ]
  },
  {
   "cell_type": "markdown",
   "id": "ad543181",
   "metadata": {},
   "source": [
    "Отлично. От пропусков избавились, дубликатов нет. \n",
    "Для полного анализа нам необходимо также посчитать помесячную выручку с каждого пользователя. "
   ]
  },
  {
   "cell_type": "code",
   "execution_count": 27,
   "id": "aed8339d",
   "metadata": {},
   "outputs": [],
   "source": [
    "# Функция для подсчета выручки\n",
    "def profit(data):\n",
    "    prof = data['rub_monthly_fee']\n",
    "    if data['messages_count'] - data['messages_included'] > 0:\n",
    "        prof += (data['messages_count'] - data['messages_included']) * data['rub_per_message']\n",
    "    if data['calls_duration_total'] - data['minutes_included'] > 0:\n",
    "        prof += (data['calls_duration_total'] - data['minutes_included']) * data['rub_per_minute']\n",
    "    if data['gb_used'] - data['gb_per_month_included'] > 0:\n",
    "        prof += (data['gb_used'] - data['gb_per_month_included']) * data['rub_per_gb']\n",
    "    return int(prof)\n",
    "\n",
    "# Добавим колонкис выручкой, суммой переплаты\n",
    "df['profit'] = df.apply(profit, axis=1)\n",
    "df['overpaid'] = df['profit'] - df['rub_monthly_fee']"
   ]
  },
  {
   "cell_type": "code",
   "execution_count": 28,
   "id": "a4af1a7f",
   "metadata": {},
   "outputs": [],
   "source": [
    "# Функция для добавления колонки с наличием переплаты (1- есть переплата, 0 - нет переплаты)\n",
    "\n",
    "def overpaid(data):\n",
    "    if data['overpaid'] == 0:\n",
    "        return 0\n",
    "    else:\n",
    "        return 1\n",
    "\n",
    "df['overpayment'] = df.apply(overpaid, axis=1)"
   ]
  },
  {
   "cell_type": "code",
   "execution_count": 29,
   "id": "718572ea",
   "metadata": {},
   "outputs": [
    {
     "data": {
      "text/html": [
       "<div>\n",
       "<style scoped>\n",
       "    .dataframe tbody tr th:only-of-type {\n",
       "        vertical-align: middle;\n",
       "    }\n",
       "\n",
       "    .dataframe tbody tr th {\n",
       "        vertical-align: top;\n",
       "    }\n",
       "\n",
       "    .dataframe thead th {\n",
       "        text-align: right;\n",
       "    }\n",
       "</style>\n",
       "<table border=\"1\" class=\"dataframe\">\n",
       "  <thead>\n",
       "    <tr style=\"text-align: right;\">\n",
       "      <th></th>\n",
       "      <th>user_id</th>\n",
       "      <th>month</th>\n",
       "      <th>calls_count</th>\n",
       "      <th>calls_duration_total</th>\n",
       "      <th>messages_count</th>\n",
       "      <th>gb_used</th>\n",
       "      <th>city</th>\n",
       "      <th>tariff</th>\n",
       "      <th>messages_included</th>\n",
       "      <th>gb_per_month_included</th>\n",
       "      <th>mb_per_month_included</th>\n",
       "      <th>minutes_included</th>\n",
       "      <th>rub_monthly_fee</th>\n",
       "      <th>rub_per_gb</th>\n",
       "      <th>rub_per_message</th>\n",
       "      <th>rub_per_minute</th>\n",
       "      <th>tariff_name</th>\n",
       "      <th>profit</th>\n",
       "      <th>overpaid</th>\n",
       "      <th>overpayment</th>\n",
       "    </tr>\n",
       "  </thead>\n",
       "  <tbody>\n",
       "    <tr>\n",
       "      <th>63</th>\n",
       "      <td>1009</td>\n",
       "      <td>3</td>\n",
       "      <td>13.0</td>\n",
       "      <td>109.0</td>\n",
       "      <td>2.0</td>\n",
       "      <td>8.0</td>\n",
       "      <td>Пермь</td>\n",
       "      <td>smart</td>\n",
       "      <td>50</td>\n",
       "      <td>15</td>\n",
       "      <td>15360</td>\n",
       "      <td>500</td>\n",
       "      <td>550</td>\n",
       "      <td>200</td>\n",
       "      <td>3</td>\n",
       "      <td>3</td>\n",
       "      <td>smart</td>\n",
       "      <td>550</td>\n",
       "      <td>0</td>\n",
       "      <td>0</td>\n",
       "    </tr>\n",
       "    <tr>\n",
       "      <th>1075</th>\n",
       "      <td>1172</td>\n",
       "      <td>12</td>\n",
       "      <td>56.0</td>\n",
       "      <td>414.0</td>\n",
       "      <td>4.0</td>\n",
       "      <td>24.0</td>\n",
       "      <td>Санкт-Петербург</td>\n",
       "      <td>smart</td>\n",
       "      <td>50</td>\n",
       "      <td>15</td>\n",
       "      <td>15360</td>\n",
       "      <td>500</td>\n",
       "      <td>550</td>\n",
       "      <td>200</td>\n",
       "      <td>3</td>\n",
       "      <td>3</td>\n",
       "      <td>smart</td>\n",
       "      <td>2350</td>\n",
       "      <td>1800</td>\n",
       "      <td>1</td>\n",
       "    </tr>\n",
       "    <tr>\n",
       "      <th>2035</th>\n",
       "      <td>1325</td>\n",
       "      <td>8</td>\n",
       "      <td>79.0</td>\n",
       "      <td>575.0</td>\n",
       "      <td>19.0</td>\n",
       "      <td>25.0</td>\n",
       "      <td>Новосибирск</td>\n",
       "      <td>ultra</td>\n",
       "      <td>1000</td>\n",
       "      <td>30</td>\n",
       "      <td>30720</td>\n",
       "      <td>3000</td>\n",
       "      <td>1950</td>\n",
       "      <td>150</td>\n",
       "      <td>1</td>\n",
       "      <td>1</td>\n",
       "      <td>ultra</td>\n",
       "      <td>1950</td>\n",
       "      <td>0</td>\n",
       "      <td>0</td>\n",
       "    </tr>\n",
       "    <tr>\n",
       "      <th>1080</th>\n",
       "      <td>1173</td>\n",
       "      <td>10</td>\n",
       "      <td>119.0</td>\n",
       "      <td>841.0</td>\n",
       "      <td>14.0</td>\n",
       "      <td>21.0</td>\n",
       "      <td>Красноярск</td>\n",
       "      <td>smart</td>\n",
       "      <td>50</td>\n",
       "      <td>15</td>\n",
       "      <td>15360</td>\n",
       "      <td>500</td>\n",
       "      <td>550</td>\n",
       "      <td>200</td>\n",
       "      <td>3</td>\n",
       "      <td>3</td>\n",
       "      <td>smart</td>\n",
       "      <td>2773</td>\n",
       "      <td>2223</td>\n",
       "      <td>1</td>\n",
       "    </tr>\n",
       "    <tr>\n",
       "      <th>973</th>\n",
       "      <td>1155</td>\n",
       "      <td>11</td>\n",
       "      <td>69.0</td>\n",
       "      <td>554.0</td>\n",
       "      <td>47.0</td>\n",
       "      <td>16.0</td>\n",
       "      <td>Ставрополь</td>\n",
       "      <td>smart</td>\n",
       "      <td>50</td>\n",
       "      <td>15</td>\n",
       "      <td>15360</td>\n",
       "      <td>500</td>\n",
       "      <td>550</td>\n",
       "      <td>200</td>\n",
       "      <td>3</td>\n",
       "      <td>3</td>\n",
       "      <td>smart</td>\n",
       "      <td>912</td>\n",
       "      <td>362</td>\n",
       "      <td>1</td>\n",
       "    </tr>\n",
       "    <tr>\n",
       "      <th>2803</th>\n",
       "      <td>1439</td>\n",
       "      <td>6</td>\n",
       "      <td>2.0</td>\n",
       "      <td>10.0</td>\n",
       "      <td>0.0</td>\n",
       "      <td>1.0</td>\n",
       "      <td>Орёл</td>\n",
       "      <td>smart</td>\n",
       "      <td>50</td>\n",
       "      <td>15</td>\n",
       "      <td>15360</td>\n",
       "      <td>500</td>\n",
       "      <td>550</td>\n",
       "      <td>200</td>\n",
       "      <td>3</td>\n",
       "      <td>3</td>\n",
       "      <td>smart</td>\n",
       "      <td>550</td>\n",
       "      <td>0</td>\n",
       "      <td>0</td>\n",
       "    </tr>\n",
       "    <tr>\n",
       "      <th>2403</th>\n",
       "      <td>1381</td>\n",
       "      <td>10</td>\n",
       "      <td>100.0</td>\n",
       "      <td>643.0</td>\n",
       "      <td>43.0</td>\n",
       "      <td>23.0</td>\n",
       "      <td>Москва</td>\n",
       "      <td>ultra</td>\n",
       "      <td>1000</td>\n",
       "      <td>30</td>\n",
       "      <td>30720</td>\n",
       "      <td>3000</td>\n",
       "      <td>1950</td>\n",
       "      <td>150</td>\n",
       "      <td>1</td>\n",
       "      <td>1</td>\n",
       "      <td>ultra</td>\n",
       "      <td>1950</td>\n",
       "      <td>0</td>\n",
       "      <td>0</td>\n",
       "    </tr>\n",
       "    <tr>\n",
       "      <th>556</th>\n",
       "      <td>1089</td>\n",
       "      <td>2</td>\n",
       "      <td>2.0</td>\n",
       "      <td>5.0</td>\n",
       "      <td>27.0</td>\n",
       "      <td>3.0</td>\n",
       "      <td>Иркутск</td>\n",
       "      <td>ultra</td>\n",
       "      <td>1000</td>\n",
       "      <td>30</td>\n",
       "      <td>30720</td>\n",
       "      <td>3000</td>\n",
       "      <td>1950</td>\n",
       "      <td>150</td>\n",
       "      <td>1</td>\n",
       "      <td>1</td>\n",
       "      <td>ultra</td>\n",
       "      <td>1950</td>\n",
       "      <td>0</td>\n",
       "      <td>0</td>\n",
       "    </tr>\n",
       "    <tr>\n",
       "      <th>3078</th>\n",
       "      <td>1482</td>\n",
       "      <td>2</td>\n",
       "      <td>2.0</td>\n",
       "      <td>24.0</td>\n",
       "      <td>2.0</td>\n",
       "      <td>1.0</td>\n",
       "      <td>Санкт-Петербург</td>\n",
       "      <td>smart</td>\n",
       "      <td>50</td>\n",
       "      <td>15</td>\n",
       "      <td>15360</td>\n",
       "      <td>500</td>\n",
       "      <td>550</td>\n",
       "      <td>200</td>\n",
       "      <td>3</td>\n",
       "      <td>3</td>\n",
       "      <td>smart</td>\n",
       "      <td>550</td>\n",
       "      <td>0</td>\n",
       "      <td>0</td>\n",
       "    </tr>\n",
       "    <tr>\n",
       "      <th>621</th>\n",
       "      <td>1099</td>\n",
       "      <td>8</td>\n",
       "      <td>97.0</td>\n",
       "      <td>724.0</td>\n",
       "      <td>47.0</td>\n",
       "      <td>15.0</td>\n",
       "      <td>Тольятти</td>\n",
       "      <td>ultra</td>\n",
       "      <td>1000</td>\n",
       "      <td>30</td>\n",
       "      <td>30720</td>\n",
       "      <td>3000</td>\n",
       "      <td>1950</td>\n",
       "      <td>150</td>\n",
       "      <td>1</td>\n",
       "      <td>1</td>\n",
       "      <td>ultra</td>\n",
       "      <td>1950</td>\n",
       "      <td>0</td>\n",
       "      <td>0</td>\n",
       "    </tr>\n",
       "  </tbody>\n",
       "</table>\n",
       "</div>"
      ],
      "text/plain": [
       "      user_id  month  calls_count  calls_duration_total  messages_count  \\\n",
       "63       1009      3         13.0                 109.0             2.0   \n",
       "1075     1172     12         56.0                 414.0             4.0   \n",
       "2035     1325      8         79.0                 575.0            19.0   \n",
       "1080     1173     10        119.0                 841.0            14.0   \n",
       "973      1155     11         69.0                 554.0            47.0   \n",
       "2803     1439      6          2.0                  10.0             0.0   \n",
       "2403     1381     10        100.0                 643.0            43.0   \n",
       "556      1089      2          2.0                   5.0            27.0   \n",
       "3078     1482      2          2.0                  24.0             2.0   \n",
       "621      1099      8         97.0                 724.0            47.0   \n",
       "\n",
       "      gb_used             city tariff  messages_included  \\\n",
       "63        8.0            Пермь  smart                 50   \n",
       "1075     24.0  Санкт-Петербург  smart                 50   \n",
       "2035     25.0      Новосибирск  ultra               1000   \n",
       "1080     21.0       Красноярск  smart                 50   \n",
       "973      16.0       Ставрополь  smart                 50   \n",
       "2803      1.0             Орёл  smart                 50   \n",
       "2403     23.0           Москва  ultra               1000   \n",
       "556       3.0          Иркутск  ultra               1000   \n",
       "3078      1.0  Санкт-Петербург  smart                 50   \n",
       "621      15.0         Тольятти  ultra               1000   \n",
       "\n",
       "      gb_per_month_included  mb_per_month_included  minutes_included  \\\n",
       "63                       15                  15360               500   \n",
       "1075                     15                  15360               500   \n",
       "2035                     30                  30720              3000   \n",
       "1080                     15                  15360               500   \n",
       "973                      15                  15360               500   \n",
       "2803                     15                  15360               500   \n",
       "2403                     30                  30720              3000   \n",
       "556                      30                  30720              3000   \n",
       "3078                     15                  15360               500   \n",
       "621                      30                  30720              3000   \n",
       "\n",
       "      rub_monthly_fee  rub_per_gb  rub_per_message  rub_per_minute  \\\n",
       "63                550         200                3               3   \n",
       "1075              550         200                3               3   \n",
       "2035             1950         150                1               1   \n",
       "1080              550         200                3               3   \n",
       "973               550         200                3               3   \n",
       "2803              550         200                3               3   \n",
       "2403             1950         150                1               1   \n",
       "556              1950         150                1               1   \n",
       "3078              550         200                3               3   \n",
       "621              1950         150                1               1   \n",
       "\n",
       "     tariff_name  profit  overpaid  overpayment  \n",
       "63         smart     550         0            0  \n",
       "1075       smart    2350      1800            1  \n",
       "2035       ultra    1950         0            0  \n",
       "1080       smart    2773      2223            1  \n",
       "973        smart     912       362            1  \n",
       "2803       smart     550         0            0  \n",
       "2403       ultra    1950         0            0  \n",
       "556        ultra    1950         0            0  \n",
       "3078       smart     550         0            0  \n",
       "621        ultra    1950         0            0  "
      ]
     },
     "execution_count": 29,
     "metadata": {},
     "output_type": "execute_result"
    }
   ],
   "source": [
    "# Проверим корректность выгрузки\n",
    "df.sample(10)"
   ]
  },
  {
   "cell_type": "markdown",
   "id": "587cb3b6",
   "metadata": {},
   "source": [
    "________"
   ]
  },
  {
   "cell_type": "markdown",
   "id": "7b40289b",
   "metadata": {},
   "source": [
    "## Анализ данных"
   ]
  },
  {
   "cell_type": "markdown",
   "id": "c35b2c09",
   "metadata": {},
   "source": [
    "Опишем поведение клиентов оператора, исходя из выборки. Сколько минут разговора, сколько сообщений и какой объём интернет-трафика требуется пользователям каждого тарифа в месяц? Посчитаем среднее количество, дисперсию и стандартное отклонение. Построим гистограммы"
   ]
  },
  {
   "cell_type": "markdown",
   "id": "67cd0db1",
   "metadata": {},
   "source": [
    "Для сравнительного анализа пользователей двух разных тарифов предлагаю разбить наш датафрейм на 2"
   ]
  },
  {
   "cell_type": "code",
   "execution_count": 30,
   "id": "ee4f7355",
   "metadata": {},
   "outputs": [],
   "source": [
    "df_smart = df[df['tariff'] == 'smart'].reset_index(drop=True)"
   ]
  },
  {
   "cell_type": "code",
   "execution_count": 31,
   "id": "37a0bde4",
   "metadata": {},
   "outputs": [],
   "source": [
    "df_ultra = df[df['tariff'] == 'ultra'].reset_index(drop=True)"
   ]
  },
  {
   "cell_type": "code",
   "execution_count": 32,
   "id": "3d38b1c2",
   "metadata": {},
   "outputs": [
    {
     "data": {
      "text/html": [
       "<div>\n",
       "<style scoped>\n",
       "    .dataframe tbody tr th:only-of-type {\n",
       "        vertical-align: middle;\n",
       "    }\n",
       "\n",
       "    .dataframe tbody tr th {\n",
       "        vertical-align: top;\n",
       "    }\n",
       "\n",
       "    .dataframe thead th {\n",
       "        text-align: right;\n",
       "    }\n",
       "</style>\n",
       "<table border=\"1\" class=\"dataframe\">\n",
       "  <thead>\n",
       "    <tr style=\"text-align: right;\">\n",
       "      <th></th>\n",
       "      <th>user_id</th>\n",
       "      <th>month</th>\n",
       "      <th>calls_count</th>\n",
       "      <th>calls_duration_total</th>\n",
       "      <th>messages_count</th>\n",
       "      <th>gb_used</th>\n",
       "      <th>city</th>\n",
       "      <th>tariff</th>\n",
       "      <th>messages_included</th>\n",
       "      <th>gb_per_month_included</th>\n",
       "      <th>mb_per_month_included</th>\n",
       "      <th>minutes_included</th>\n",
       "      <th>rub_monthly_fee</th>\n",
       "      <th>rub_per_gb</th>\n",
       "      <th>rub_per_message</th>\n",
       "      <th>rub_per_minute</th>\n",
       "      <th>tariff_name</th>\n",
       "      <th>profit</th>\n",
       "      <th>overpaid</th>\n",
       "      <th>overpayment</th>\n",
       "    </tr>\n",
       "  </thead>\n",
       "  <tbody>\n",
       "    <tr>\n",
       "      <th>0</th>\n",
       "      <td>1001</td>\n",
       "      <td>11</td>\n",
       "      <td>59.0</td>\n",
       "      <td>430.0</td>\n",
       "      <td>0.0</td>\n",
       "      <td>18.0</td>\n",
       "      <td>Москва</td>\n",
       "      <td>smart</td>\n",
       "      <td>50</td>\n",
       "      <td>15</td>\n",
       "      <td>15360</td>\n",
       "      <td>500</td>\n",
       "      <td>550</td>\n",
       "      <td>200</td>\n",
       "      <td>3</td>\n",
       "      <td>3</td>\n",
       "      <td>smart</td>\n",
       "      <td>1150</td>\n",
       "      <td>600</td>\n",
       "      <td>1</td>\n",
       "    </tr>\n",
       "    <tr>\n",
       "      <th>1</th>\n",
       "      <td>1001</td>\n",
       "      <td>12</td>\n",
       "      <td>63.0</td>\n",
       "      <td>414.0</td>\n",
       "      <td>0.0</td>\n",
       "      <td>14.0</td>\n",
       "      <td>Москва</td>\n",
       "      <td>smart</td>\n",
       "      <td>50</td>\n",
       "      <td>15</td>\n",
       "      <td>15360</td>\n",
       "      <td>500</td>\n",
       "      <td>550</td>\n",
       "      <td>200</td>\n",
       "      <td>3</td>\n",
       "      <td>3</td>\n",
       "      <td>smart</td>\n",
       "      <td>550</td>\n",
       "      <td>0</td>\n",
       "      <td>0</td>\n",
       "    </tr>\n",
       "    <tr>\n",
       "      <th>2</th>\n",
       "      <td>1002</td>\n",
       "      <td>6</td>\n",
       "      <td>15.0</td>\n",
       "      <td>117.0</td>\n",
       "      <td>4.0</td>\n",
       "      <td>11.0</td>\n",
       "      <td>Стерлитамак</td>\n",
       "      <td>smart</td>\n",
       "      <td>50</td>\n",
       "      <td>15</td>\n",
       "      <td>15360</td>\n",
       "      <td>500</td>\n",
       "      <td>550</td>\n",
       "      <td>200</td>\n",
       "      <td>3</td>\n",
       "      <td>3</td>\n",
       "      <td>smart</td>\n",
       "      <td>550</td>\n",
       "      <td>0</td>\n",
       "      <td>0</td>\n",
       "    </tr>\n",
       "    <tr>\n",
       "      <th>3</th>\n",
       "      <td>1002</td>\n",
       "      <td>7</td>\n",
       "      <td>26.0</td>\n",
       "      <td>214.0</td>\n",
       "      <td>11.0</td>\n",
       "      <td>18.0</td>\n",
       "      <td>Стерлитамак</td>\n",
       "      <td>smart</td>\n",
       "      <td>50</td>\n",
       "      <td>15</td>\n",
       "      <td>15360</td>\n",
       "      <td>500</td>\n",
       "      <td>550</td>\n",
       "      <td>200</td>\n",
       "      <td>3</td>\n",
       "      <td>3</td>\n",
       "      <td>smart</td>\n",
       "      <td>1150</td>\n",
       "      <td>600</td>\n",
       "      <td>1</td>\n",
       "    </tr>\n",
       "    <tr>\n",
       "      <th>4</th>\n",
       "      <td>1002</td>\n",
       "      <td>8</td>\n",
       "      <td>42.0</td>\n",
       "      <td>289.0</td>\n",
       "      <td>13.0</td>\n",
       "      <td>20.0</td>\n",
       "      <td>Стерлитамак</td>\n",
       "      <td>smart</td>\n",
       "      <td>50</td>\n",
       "      <td>15</td>\n",
       "      <td>15360</td>\n",
       "      <td>500</td>\n",
       "      <td>550</td>\n",
       "      <td>200</td>\n",
       "      <td>3</td>\n",
       "      <td>3</td>\n",
       "      <td>smart</td>\n",
       "      <td>1550</td>\n",
       "      <td>1000</td>\n",
       "      <td>1</td>\n",
       "    </tr>\n",
       "  </tbody>\n",
       "</table>\n",
       "</div>"
      ],
      "text/plain": [
       "   user_id  month  calls_count  calls_duration_total  messages_count  gb_used  \\\n",
       "0     1001     11         59.0                 430.0             0.0     18.0   \n",
       "1     1001     12         63.0                 414.0             0.0     14.0   \n",
       "2     1002      6         15.0                 117.0             4.0     11.0   \n",
       "3     1002      7         26.0                 214.0            11.0     18.0   \n",
       "4     1002      8         42.0                 289.0            13.0     20.0   \n",
       "\n",
       "          city tariff  messages_included  gb_per_month_included  \\\n",
       "0       Москва  smart                 50                     15   \n",
       "1       Москва  smart                 50                     15   \n",
       "2  Стерлитамак  smart                 50                     15   \n",
       "3  Стерлитамак  smart                 50                     15   \n",
       "4  Стерлитамак  smart                 50                     15   \n",
       "\n",
       "   mb_per_month_included  minutes_included  rub_monthly_fee  rub_per_gb  \\\n",
       "0                  15360               500              550         200   \n",
       "1                  15360               500              550         200   \n",
       "2                  15360               500              550         200   \n",
       "3                  15360               500              550         200   \n",
       "4                  15360               500              550         200   \n",
       "\n",
       "   rub_per_message  rub_per_minute tariff_name  profit  overpaid  overpayment  \n",
       "0                3               3       smart    1150       600            1  \n",
       "1                3               3       smart     550         0            0  \n",
       "2                3               3       smart     550         0            0  \n",
       "3                3               3       smart    1150       600            1  \n",
       "4                3               3       smart    1550      1000            1  "
      ]
     },
     "execution_count": 32,
     "metadata": {},
     "output_type": "execute_result"
    }
   ],
   "source": [
    "df_smart.head()"
   ]
  },
  {
   "cell_type": "code",
   "execution_count": 33,
   "id": "d7729022",
   "metadata": {},
   "outputs": [
    {
     "data": {
      "text/html": [
       "<div>\n",
       "<style scoped>\n",
       "    .dataframe tbody tr th:only-of-type {\n",
       "        vertical-align: middle;\n",
       "    }\n",
       "\n",
       "    .dataframe tbody tr th {\n",
       "        vertical-align: top;\n",
       "    }\n",
       "\n",
       "    .dataframe thead th {\n",
       "        text-align: right;\n",
       "    }\n",
       "</style>\n",
       "<table border=\"1\" class=\"dataframe\">\n",
       "  <thead>\n",
       "    <tr style=\"text-align: right;\">\n",
       "      <th></th>\n",
       "      <th>user_id</th>\n",
       "      <th>month</th>\n",
       "      <th>calls_count</th>\n",
       "      <th>calls_duration_total</th>\n",
       "      <th>messages_count</th>\n",
       "      <th>gb_used</th>\n",
       "      <th>city</th>\n",
       "      <th>tariff</th>\n",
       "      <th>messages_included</th>\n",
       "      <th>gb_per_month_included</th>\n",
       "      <th>mb_per_month_included</th>\n",
       "      <th>minutes_included</th>\n",
       "      <th>rub_monthly_fee</th>\n",
       "      <th>rub_per_gb</th>\n",
       "      <th>rub_per_message</th>\n",
       "      <th>rub_per_minute</th>\n",
       "      <th>tariff_name</th>\n",
       "      <th>profit</th>\n",
       "      <th>overpaid</th>\n",
       "      <th>overpayment</th>\n",
       "    </tr>\n",
       "  </thead>\n",
       "  <tbody>\n",
       "    <tr>\n",
       "      <th>0</th>\n",
       "      <td>1000</td>\n",
       "      <td>5</td>\n",
       "      <td>22.0</td>\n",
       "      <td>159.0</td>\n",
       "      <td>22.0</td>\n",
       "      <td>3.0</td>\n",
       "      <td>Краснодар</td>\n",
       "      <td>ultra</td>\n",
       "      <td>1000</td>\n",
       "      <td>30</td>\n",
       "      <td>30720</td>\n",
       "      <td>3000</td>\n",
       "      <td>1950</td>\n",
       "      <td>150</td>\n",
       "      <td>1</td>\n",
       "      <td>1</td>\n",
       "      <td>ultra</td>\n",
       "      <td>1950</td>\n",
       "      <td>0</td>\n",
       "      <td>0</td>\n",
       "    </tr>\n",
       "    <tr>\n",
       "      <th>1</th>\n",
       "      <td>1000</td>\n",
       "      <td>6</td>\n",
       "      <td>43.0</td>\n",
       "      <td>172.0</td>\n",
       "      <td>60.0</td>\n",
       "      <td>23.0</td>\n",
       "      <td>Краснодар</td>\n",
       "      <td>ultra</td>\n",
       "      <td>1000</td>\n",
       "      <td>30</td>\n",
       "      <td>30720</td>\n",
       "      <td>3000</td>\n",
       "      <td>1950</td>\n",
       "      <td>150</td>\n",
       "      <td>1</td>\n",
       "      <td>1</td>\n",
       "      <td>ultra</td>\n",
       "      <td>1950</td>\n",
       "      <td>0</td>\n",
       "      <td>0</td>\n",
       "    </tr>\n",
       "    <tr>\n",
       "      <th>2</th>\n",
       "      <td>1000</td>\n",
       "      <td>7</td>\n",
       "      <td>47.0</td>\n",
       "      <td>340.0</td>\n",
       "      <td>75.0</td>\n",
       "      <td>14.0</td>\n",
       "      <td>Краснодар</td>\n",
       "      <td>ultra</td>\n",
       "      <td>1000</td>\n",
       "      <td>30</td>\n",
       "      <td>30720</td>\n",
       "      <td>3000</td>\n",
       "      <td>1950</td>\n",
       "      <td>150</td>\n",
       "      <td>1</td>\n",
       "      <td>1</td>\n",
       "      <td>ultra</td>\n",
       "      <td>1950</td>\n",
       "      <td>0</td>\n",
       "      <td>0</td>\n",
       "    </tr>\n",
       "    <tr>\n",
       "      <th>3</th>\n",
       "      <td>1000</td>\n",
       "      <td>8</td>\n",
       "      <td>52.0</td>\n",
       "      <td>408.0</td>\n",
       "      <td>81.0</td>\n",
       "      <td>14.0</td>\n",
       "      <td>Краснодар</td>\n",
       "      <td>ultra</td>\n",
       "      <td>1000</td>\n",
       "      <td>30</td>\n",
       "      <td>30720</td>\n",
       "      <td>3000</td>\n",
       "      <td>1950</td>\n",
       "      <td>150</td>\n",
       "      <td>1</td>\n",
       "      <td>1</td>\n",
       "      <td>ultra</td>\n",
       "      <td>1950</td>\n",
       "      <td>0</td>\n",
       "      <td>0</td>\n",
       "    </tr>\n",
       "    <tr>\n",
       "      <th>4</th>\n",
       "      <td>1000</td>\n",
       "      <td>9</td>\n",
       "      <td>58.0</td>\n",
       "      <td>466.0</td>\n",
       "      <td>57.0</td>\n",
       "      <td>15.0</td>\n",
       "      <td>Краснодар</td>\n",
       "      <td>ultra</td>\n",
       "      <td>1000</td>\n",
       "      <td>30</td>\n",
       "      <td>30720</td>\n",
       "      <td>3000</td>\n",
       "      <td>1950</td>\n",
       "      <td>150</td>\n",
       "      <td>1</td>\n",
       "      <td>1</td>\n",
       "      <td>ultra</td>\n",
       "      <td>1950</td>\n",
       "      <td>0</td>\n",
       "      <td>0</td>\n",
       "    </tr>\n",
       "  </tbody>\n",
       "</table>\n",
       "</div>"
      ],
      "text/plain": [
       "   user_id  month  calls_count  calls_duration_total  messages_count  gb_used  \\\n",
       "0     1000      5         22.0                 159.0            22.0      3.0   \n",
       "1     1000      6         43.0                 172.0            60.0     23.0   \n",
       "2     1000      7         47.0                 340.0            75.0     14.0   \n",
       "3     1000      8         52.0                 408.0            81.0     14.0   \n",
       "4     1000      9         58.0                 466.0            57.0     15.0   \n",
       "\n",
       "        city tariff  messages_included  gb_per_month_included  \\\n",
       "0  Краснодар  ultra               1000                     30   \n",
       "1  Краснодар  ultra               1000                     30   \n",
       "2  Краснодар  ultra               1000                     30   \n",
       "3  Краснодар  ultra               1000                     30   \n",
       "4  Краснодар  ultra               1000                     30   \n",
       "\n",
       "   mb_per_month_included  minutes_included  rub_monthly_fee  rub_per_gb  \\\n",
       "0                  30720              3000             1950         150   \n",
       "1                  30720              3000             1950         150   \n",
       "2                  30720              3000             1950         150   \n",
       "3                  30720              3000             1950         150   \n",
       "4                  30720              3000             1950         150   \n",
       "\n",
       "   rub_per_message  rub_per_minute tariff_name  profit  overpaid  overpayment  \n",
       "0                1               1       ultra    1950         0            0  \n",
       "1                1               1       ultra    1950         0            0  \n",
       "2                1               1       ultra    1950         0            0  \n",
       "3                1               1       ultra    1950         0            0  \n",
       "4                1               1       ultra    1950         0            0  "
      ]
     },
     "execution_count": 33,
     "metadata": {},
     "output_type": "execute_result"
    }
   ],
   "source": [
    "df_ultra.head()"
   ]
  },
  {
   "cell_type": "markdown",
   "id": "b03257d8",
   "metadata": {},
   "source": [
    "### Анализ звонков"
   ]
  },
  {
   "cell_type": "code",
   "execution_count": 34,
   "id": "1ceb6700",
   "metadata": {},
   "outputs": [
    {
     "data": {
      "text/html": [
       "<div>\n",
       "<style scoped>\n",
       "    .dataframe tbody tr th:only-of-type {\n",
       "        vertical-align: middle;\n",
       "    }\n",
       "\n",
       "    .dataframe tbody tr th {\n",
       "        vertical-align: top;\n",
       "    }\n",
       "\n",
       "    .dataframe thead th {\n",
       "        text-align: right;\n",
       "    }\n",
       "</style>\n",
       "<table border=\"1\" class=\"dataframe\">\n",
       "  <thead>\n",
       "    <tr style=\"text-align: right;\">\n",
       "      <th>tariff</th>\n",
       "      <th>smart</th>\n",
       "      <th>ultra</th>\n",
       "    </tr>\n",
       "  </thead>\n",
       "  <tbody>\n",
       "    <tr>\n",
       "      <th>mean</th>\n",
       "      <td>417.934948</td>\n",
       "      <td>526.623350</td>\n",
       "    </tr>\n",
       "    <tr>\n",
       "      <th>median</th>\n",
       "      <td>422.000000</td>\n",
       "      <td>518.000000</td>\n",
       "    </tr>\n",
       "    <tr>\n",
       "      <th>var</th>\n",
       "      <td>36219.315784</td>\n",
       "      <td>100873.633397</td>\n",
       "    </tr>\n",
       "    <tr>\n",
       "      <th>std</th>\n",
       "      <td>190.313730</td>\n",
       "      <td>317.606098</td>\n",
       "    </tr>\n",
       "  </tbody>\n",
       "</table>\n",
       "</div>"
      ],
      "text/plain": [
       "tariff         smart          ultra\n",
       "mean      417.934948     526.623350\n",
       "median    422.000000     518.000000\n",
       "var     36219.315784  100873.633397\n",
       "std       190.313730     317.606098"
      ]
     },
     "execution_count": 34,
     "metadata": {},
     "output_type": "execute_result"
    },
    {
     "data": {
      "image/png": "[encoded data removed]",
      "text/plain": [
       "<Figure size 1080x360 with 2 Axes>"
      ]
     },
     "metadata": {
      "needs_background": "light"
     },
     "output_type": "display_data"
    }
   ],
   "source": [
    "# Построение гистрограмм\n",
    "fig, axs = plt.subplots(1,2)\n",
    "fig.suptitle(\"Call's_by_tariff\")\n",
    "fig.set_figheight(5)\n",
    "fig.set_figwidth(15)\n",
    "df_smart['calls_duration_total'].plot.hist(ax=axs[0])\n",
    "axs[0].axvline(df_smart['minutes_included'].mean(), color='y')\n",
    "axs[0].set_title('calls_duaration_smart') \n",
    "axs[0].set_xlabel('duration (m)')\n",
    "axs[0].legend(loc='upper right')\n",
    "df_ultra['calls_duration_total'].plot.hist(ax=axs[1], color = \"r\")\n",
    "axs[1].set_title('calls_duration_ultra') \n",
    "axs[1].set_xlabel('duration (m)')\n",
    "axs[1].legend(loc='upper right')\n",
    "axs[1].axvline(df_ultra['minutes_included'].mean(), color='g')\n",
    "\n",
    "# Сводник для сравнения\n",
    "df.groupby('tariff')['calls_duration_total'].agg(['mean', 'median', 'var', 'std']).T"
   ]
  },
  {
   "cell_type": "markdown",
   "id": "b5a2fd43",
   "metadata": {},
   "source": [
    "<div style=\"border:solid blue 2px; padding: 20px\">\n",
    "В среднем пользователи смарта выговариваю по 417 минут из 500 включенных в тариф. Пользователи ультры выговваривают лишь по 526 минут из 3000 включенных в тариф. Можно заключить, что пользователи смарта более целостно используют тариф, в то время как пользователи ультры в среднем выговаривают лишь по 17% от включенных в тариф минут. \\\n",
    "Также я добавил на график линию, которой обозначены включенные в тариф минуты. Из них видно, что пользователи смарта намного чаще выходят за лимит по минутам звонков, а пользователей ультры, который выговариваю более 3000 минут и вовсе нет. \\\n",
    "График по тарифу смарт выглядит более нормальным, чем график тарифа ультра, который имеет положительную ассиметрию. Это также видно при сравнении среднего и медианы. У тарифа смарт среднее меньше отличается от медианы, нежели чем в тарифе ультра"
   ]
  },
  {
   "cell_type": "markdown",
   "id": "d7c3ea83",
   "metadata": {},
   "source": [
    "### Анализ сообщений"
   ]
  },
  {
   "cell_type": "code",
   "execution_count": 35,
   "id": "18a1e38e",
   "metadata": {},
   "outputs": [
    {
     "data": {
      "text/html": [
       "<div>\n",
       "<style scoped>\n",
       "    .dataframe tbody tr th:only-of-type {\n",
       "        vertical-align: middle;\n",
       "    }\n",
       "\n",
       "    .dataframe tbody tr th {\n",
       "        vertical-align: top;\n",
       "    }\n",
       "\n",
       "    .dataframe thead th {\n",
       "        text-align: right;\n",
       "    }\n",
       "</style>\n",
       "<table border=\"1\" class=\"dataframe\">\n",
       "  <thead>\n",
       "    <tr style=\"text-align: right;\">\n",
       "      <th>tariff</th>\n",
       "      <th>smart</th>\n",
       "      <th>ultra</th>\n",
       "    </tr>\n",
       "  </thead>\n",
       "  <tbody>\n",
       "    <tr>\n",
       "      <th>mean</th>\n",
       "      <td>33.384029</td>\n",
       "      <td>49.363452</td>\n",
       "    </tr>\n",
       "    <tr>\n",
       "      <th>median</th>\n",
       "      <td>28.000000</td>\n",
       "      <td>38.000000</td>\n",
       "    </tr>\n",
       "    <tr>\n",
       "      <th>var</th>\n",
       "      <td>796.812958</td>\n",
       "      <td>2285.266143</td>\n",
       "    </tr>\n",
       "    <tr>\n",
       "      <th>std</th>\n",
       "      <td>28.227876</td>\n",
       "      <td>47.804457</td>\n",
       "    </tr>\n",
       "  </tbody>\n",
       "</table>\n",
       "</div>"
      ],
      "text/plain": [
       "tariff       smart        ultra\n",
       "mean     33.384029    49.363452\n",
       "median   28.000000    38.000000\n",
       "var     796.812958  2285.266143\n",
       "std      28.227876    47.804457"
      ]
     },
     "execution_count": 35,
     "metadata": {},
     "output_type": "execute_result"
    },
    {
     "data": {
      "image/png": "[encoded data removed]",
      "text/plain": [
       "<Figure size 1080x360 with 2 Axes>"
      ]
     },
     "metadata": {
      "needs_background": "light"
     },
     "output_type": "display_data"
    }
   ],
   "source": [
    "# Построение гистрограмм\n",
    "fig, axs = plt.subplots(1,2)\n",
    "fig.suptitle(\"Messages_by_tariff\")\n",
    "fig.set_figheight(5)\n",
    "fig.set_figwidth(15)\n",
    "df_smart['messages_count'].plot.hist(ax=axs[0])\n",
    "axs[0].axvline(df_smart['messages_included'].mean(), color='y')\n",
    "axs[0].set_title('messages_smart') \n",
    "axs[0].set_xlabel('count')\n",
    "axs[0].legend(loc='upper right')\n",
    "df_ultra['messages_count'].plot.hist(ax=axs[1], color = \"r\")\n",
    "axs[1].set_title('messages_ultra') \n",
    "axs[1].set_xlabel('count')\n",
    "axs[1].legend(loc='upper right')\n",
    "axs[1].axvline(df_ultra['messages_included'].mean(), color='g')\n",
    "\n",
    "# Сводник для сравнения\n",
    "df.groupby('tariff')['messages_count'].agg(['mean', 'median', 'var', 'std']).T"
   ]
  },
  {
   "cell_type": "markdown",
   "id": "7e3baa55",
   "metadata": {},
   "source": [
    "<div style=\"border:solid blue 2px; padding: 20px\">\n",
    "С сообщениями картина в целом похожа на звонки. Пользователи смарта чаще выходят за лимит, а пользователи ультры отправляют максимум по 200 сообщений, хотя лимит 1000. Среднее для тарифов смарт и ультра на отметказ 33 и 49 сообщений соответсвенно. Медиана - 28 и 38."
   ]
  },
  {
   "cell_type": "markdown",
   "id": "5e256ebc",
   "metadata": {},
   "source": [
    "### Анализ интернета"
   ]
  },
  {
   "cell_type": "code",
   "execution_count": 36,
   "id": "7b0b4bcd",
   "metadata": {},
   "outputs": [
    {
     "data": {
      "text/html": [
       "<div>\n",
       "<style scoped>\n",
       "    .dataframe tbody tr th:only-of-type {\n",
       "        vertical-align: middle;\n",
       "    }\n",
       "\n",
       "    .dataframe tbody tr th {\n",
       "        vertical-align: top;\n",
       "    }\n",
       "\n",
       "    .dataframe thead th {\n",
       "        text-align: right;\n",
       "    }\n",
       "</style>\n",
       "<table border=\"1\" class=\"dataframe\">\n",
       "  <thead>\n",
       "    <tr style=\"text-align: right;\">\n",
       "      <th>tariff</th>\n",
       "      <th>smart</th>\n",
       "      <th>ultra</th>\n",
       "    </tr>\n",
       "  </thead>\n",
       "  <tbody>\n",
       "    <tr>\n",
       "      <th>mean</th>\n",
       "      <td>16.328847</td>\n",
       "      <td>19.494416</td>\n",
       "    </tr>\n",
       "    <tr>\n",
       "      <th>median</th>\n",
       "      <td>17.000000</td>\n",
       "      <td>19.000000</td>\n",
       "    </tr>\n",
       "    <tr>\n",
       "      <th>var</th>\n",
       "      <td>33.028705</td>\n",
       "      <td>97.091686</td>\n",
       "    </tr>\n",
       "    <tr>\n",
       "      <th>std</th>\n",
       "      <td>5.747061</td>\n",
       "      <td>9.853511</td>\n",
       "    </tr>\n",
       "  </tbody>\n",
       "</table>\n",
       "</div>"
      ],
      "text/plain": [
       "tariff      smart      ultra\n",
       "mean    16.328847  19.494416\n",
       "median  17.000000  19.000000\n",
       "var     33.028705  97.091686\n",
       "std      5.747061   9.853511"
      ]
     },
     "execution_count": 36,
     "metadata": {},
     "output_type": "execute_result"
    },
    {
     "data": {
      "image/png": "[encoded data removed]",
      "text/plain": [
       "<Figure size 1080x360 with 2 Axes>"
      ]
     },
     "metadata": {
      "needs_background": "light"
     },
     "output_type": "display_data"
    }
   ],
   "source": [
    "# Построение гистрограмм\n",
    "fig, axs = plt.subplots(1,2)\n",
    "fig.suptitle(\"Internet_by_tariff\")\n",
    "fig.set_figheight(5)\n",
    "fig.set_figwidth(15)\n",
    "df_smart['gb_used'].plot.hist(ax=axs[0])\n",
    "axs[0].axvline(df_smart['gb_per_month_included'].mean(), color='y')\n",
    "axs[0].set_title('internet_smart') \n",
    "axs[0].set_xlabel('GB')\n",
    "axs[0].legend(loc='upper right')\n",
    "df_ultra['gb_used'].plot.hist(ax=axs[1], color = \"r\")\n",
    "axs[1].set_title('internet_ultra') \n",
    "axs[1].set_xlabel('GB')\n",
    "axs[1].legend(loc='upper right')\n",
    "axs[1].axvline(df_ultra['gb_per_month_included'].mean(), color='g')\n",
    "\n",
    "# Сводник для сравнения\n",
    "df.groupby('tariff')['gb_used'].agg(['mean', 'median', 'var', 'std']).T"
   ]
  },
  {
   "cell_type": "markdown",
   "id": "4ac53ccd",
   "metadata": {},
   "source": [
    "<div style=\"border:solid blue 2px; padding: 20px\">\n",
    "С интернетом картина отличается. Пользователи обоих тарифов чаще превышают лимит. У пользователей смартра и среднее и медиана и вовсе лежат за допустимым лимитом. Пользователи ультры менее часто превышают лимит, но все же достаточно. Медина и среднее для ультры примерно равны и находятся на отметке в 19 гб. "
   ]
  },
  {
   "cell_type": "markdown",
   "id": "53f70a34",
   "metadata": {},
   "source": [
    "### Анализ выручки"
   ]
  },
  {
   "cell_type": "code",
   "execution_count": 37,
   "id": "5634b285",
   "metadata": {},
   "outputs": [
    {
     "data": {
      "text/html": [
       "<div>\n",
       "<style scoped>\n",
       "    .dataframe tbody tr th:only-of-type {\n",
       "        vertical-align: middle;\n",
       "    }\n",
       "\n",
       "    .dataframe tbody tr th {\n",
       "        vertical-align: top;\n",
       "    }\n",
       "\n",
       "    .dataframe thead th {\n",
       "        text-align: right;\n",
       "    }\n",
       "</style>\n",
       "<table border=\"1\" class=\"dataframe\">\n",
       "  <thead>\n",
       "    <tr style=\"text-align: right;\">\n",
       "      <th></th>\n",
       "      <th>tariff</th>\n",
       "      <th>smart</th>\n",
       "      <th>ultra</th>\n",
       "    </tr>\n",
       "  </thead>\n",
       "  <tbody>\n",
       "    <tr>\n",
       "      <th rowspan=\"4\" valign=\"top\">profit</th>\n",
       "      <th>mean</th>\n",
       "      <td>1289.973531</td>\n",
       "      <td>2070.152284</td>\n",
       "    </tr>\n",
       "    <tr>\n",
       "      <th>median</th>\n",
       "      <td>1023.000000</td>\n",
       "      <td>1950.000000</td>\n",
       "    </tr>\n",
       "    <tr>\n",
       "      <th>var</th>\n",
       "      <td>669785.708006</td>\n",
       "      <td>141516.745079</td>\n",
       "    </tr>\n",
       "    <tr>\n",
       "      <th>std</th>\n",
       "      <td>818.404367</td>\n",
       "      <td>376.187114</td>\n",
       "    </tr>\n",
       "    <tr>\n",
       "      <th rowspan=\"4\" valign=\"top\">overpaid</th>\n",
       "      <th>mean</th>\n",
       "      <td>739.973531</td>\n",
       "      <td>120.152284</td>\n",
       "    </tr>\n",
       "    <tr>\n",
       "      <th>median</th>\n",
       "      <td>473.000000</td>\n",
       "      <td>0.000000</td>\n",
       "    </tr>\n",
       "    <tr>\n",
       "      <th>var</th>\n",
       "      <td>669785.708006</td>\n",
       "      <td>141516.745079</td>\n",
       "    </tr>\n",
       "    <tr>\n",
       "      <th>std</th>\n",
       "      <td>818.404367</td>\n",
       "      <td>376.187114</td>\n",
       "    </tr>\n",
       "    <tr>\n",
       "      <th rowspan=\"4\" valign=\"top\">overpayment</th>\n",
       "      <th>mean</th>\n",
       "      <td>0.745626</td>\n",
       "      <td>0.136041</td>\n",
       "    </tr>\n",
       "    <tr>\n",
       "      <th>median</th>\n",
       "      <td>1.000000</td>\n",
       "      <td>0.000000</td>\n",
       "    </tr>\n",
       "    <tr>\n",
       "      <th>var</th>\n",
       "      <td>0.189753</td>\n",
       "      <td>0.117653</td>\n",
       "    </tr>\n",
       "    <tr>\n",
       "      <th>std</th>\n",
       "      <td>0.435607</td>\n",
       "      <td>0.343006</td>\n",
       "    </tr>\n",
       "  </tbody>\n",
       "</table>\n",
       "</div>"
      ],
      "text/plain": [
       "tariff                      smart          ultra\n",
       "profit      mean      1289.973531    2070.152284\n",
       "            median    1023.000000    1950.000000\n",
       "            var     669785.708006  141516.745079\n",
       "            std        818.404367     376.187114\n",
       "overpaid    mean       739.973531     120.152284\n",
       "            median     473.000000       0.000000\n",
       "            var     669785.708006  141516.745079\n",
       "            std        818.404367     376.187114\n",
       "overpayment mean         0.745626       0.136041\n",
       "            median       1.000000       0.000000\n",
       "            var          0.189753       0.117653\n",
       "            std          0.435607       0.343006"
      ]
     },
     "execution_count": 37,
     "metadata": {},
     "output_type": "execute_result"
    },
    {
     "data": {
      "image/png": "[encoded data removed]",
      "text/plain": [
       "<Figure size 1080x360 with 2 Axes>"
      ]
     },
     "metadata": {
      "needs_background": "light"
     },
     "output_type": "display_data"
    }
   ],
   "source": [
    "# Построение гистрограмм\n",
    "fig, axs = plt.subplots(1,2)\n",
    "fig.suptitle(\"Proffits_by_tariff\")\n",
    "fig.set_figheight(5)\n",
    "fig.set_figwidth(15)\n",
    "df_smart['profit'].plot.hist(ax=axs[0])\n",
    "axs[0].set_title('profit_smart') \n",
    "axs[0].set_xlabel('RUB')\n",
    "axs[0].legend(loc='upper right')\n",
    "df_ultra['profit'].plot.hist(ax=axs[1], color = \"r\")\n",
    "axs[1].set_title('profit_ultra') \n",
    "axs[1].set_xlabel('RUB')\n",
    "axs[1].legend(loc='upper right')\n",
    "\n",
    "\n",
    "# Сводник для сравнения\n",
    "df.groupby('tariff')[['profit', 'overpaid', 'overpayment']].agg(['mean', 'median', 'var', 'std']).T"
   ]
  },
  {
   "cell_type": "markdown",
   "id": "c9f3888f",
   "metadata": {},
   "source": [
    "<div style=\"border:solid blue 2px; padding: 20px\">\n",
    "Анализируя предыдущие данные, можно было предположить, что пользователи смарта намного больше переплачивают сверх тарифа. График и сводная таблица жто подтверждают. Пользователи смарта в  **74(!)%** случаев переплачивают по тарифу, в то время как пользователи ультры лишь в 13% случаев. В среднем пользователи смарта переплачивают по 739 рублей. "
   ]
  },
  {
   "cell_type": "markdown",
   "id": "f8496fd5",
   "metadata": {},
   "source": [
    "____"
   ]
  },
  {
   "cell_type": "markdown",
   "id": "2509fccf",
   "metadata": {},
   "source": [
    "## Проверка гипотез"
   ]
  },
  {
   "cell_type": "markdown",
   "id": "99defcfa",
   "metadata": {},
   "source": [
    "### Очистка данных"
   ]
  },
  {
   "cell_type": "markdown",
   "id": "68eaecd9",
   "metadata": {},
   "source": [
    "Перед проведением статистических тестов предлагаю очистить наши данные от выбросов, тк они могут существенно повлиять на результаты. "
   ]
  },
  {
   "cell_type": "code",
   "execution_count": 38,
   "id": "f8b126f9",
   "metadata": {},
   "outputs": [
    {
     "data": {
      "image/png": "[encoded data removed]",
      "text/plain": [
       "<Figure size 432x288 with 1 Axes>"
      ]
     },
     "metadata": {
      "needs_background": "light"
     },
     "output_type": "display_data"
    }
   ],
   "source": [
    "plt.boxplot([df_ultra['profit'], df_smart['profit']]);"
   ]
  },
  {
   "cell_type": "code",
   "execution_count": 39,
   "id": "a9f59e0f",
   "metadata": {},
   "outputs": [],
   "source": [
    "# Создадим функцию для очистки данных\n",
    "def clean_data(data, column):\n",
    "    q1 = data[column].quantile(0.25)                 \n",
    "    q3 = data[column].quantile(0.75)\n",
    "    iqr = q3 - q1\n",
    "    iqr_test = (data[column] >= (q1 - 1.5 * iqr)) & (data[column] <= (q3 + 1.5 * iqr))\n",
    "    return data.loc[iqr_test]\n",
    "\n",
    "# Применим функцию к датафреймам\n",
    "df_smart = clean_data(df_smart, 'profit')\n",
    "df_ultra = clean_data(df_ultra, 'profit')"
   ]
  },
  {
   "cell_type": "markdown",
   "id": "2f6aa079",
   "metadata": {},
   "source": [
    "Поскольку наши данные являются выборками из ГС и выборками независимыми между собой, мы будем применять T-Test Стьюдента. "
   ]
  },
  {
   "cell_type": "markdown",
   "id": "78725570",
   "metadata": {},
   "source": [
    "###  Проверка первой гипотезы: средняя выручка пользователей тарифов «Ультра» и «Смарт» различаются"
   ]
  },
  {
   "cell_type": "markdown",
   "id": "6d403f7a",
   "metadata": {},
   "source": [
    "Сформируем нулевую и альтернативную гипотезы:\n",
    "- H0 - Средняя выручка пользователей тарифов \"Смарт\" и \"Ультра\" не различаются. \n",
    "- H1 - Средняя выручка пользователей тарифов \"Смарт\" и \"Ультра\"  различаются."
   ]
  },
  {
   "cell_type": "code",
   "execution_count": 40,
   "id": "ab9ba93a",
   "metadata": {},
   "outputs": [
    {
     "name": "stdout",
     "output_type": "stream",
     "text": [
      "p-значение: 6.199325734910118e-155\n",
      "Отвергаем нулевую гипотезу\n"
     ]
    }
   ],
   "source": [
    "# Зададим уровень значимости в 5%\n",
    "alpha = 0.05\n",
    "\n",
    "# Результат теста\n",
    "results = st.ttest_ind(df_smart['profit'], df_ultra['profit'])\n",
    "\n",
    "# Выведем на экран значение p-уровня значимости\n",
    "print(f'p-значение: {results.pvalue}')\n",
    "\n",
    "# Ответ\n",
    "if (results.pvalue < alpha):\n",
    "    print(\"Отвергаем нулевую гипотезу\")\n",
    "else:\n",
    "    print(\"Не получилось отвергнуть нулевую гипотезу\")"
   ]
  },
  {
   "cell_type": "markdown",
   "id": "1d7747ba",
   "metadata": {},
   "source": [
    "Уровень p-значимости невероятно мал. Это значит, что вероятность получить такой результат или более далекий от предполагаемого ничтожно мала. Мы смело отвергаем нулевую гипотезу."
   ]
  },
  {
   "cell_type": "markdown",
   "id": "40bb2c6a",
   "metadata": {},
   "source": [
    "###  Проверка второй гипотезы: средняя выручка пользователей из Москвы отличается от выручки пользователей из других регионов."
   ]
  },
  {
   "cell_type": "markdown",
   "id": "74fbe6e8",
   "metadata": {},
   "source": [
    "Для начала необходимо разбить наши данные на 2 датафрейма: Москва и Регионы"
   ]
  },
  {
   "cell_type": "code",
   "execution_count": 41,
   "id": "2c597e84",
   "metadata": {},
   "outputs": [
    {
     "data": {
      "text/html": [
       "<div>\n",
       "<style scoped>\n",
       "    .dataframe tbody tr th:only-of-type {\n",
       "        vertical-align: middle;\n",
       "    }\n",
       "\n",
       "    .dataframe tbody tr th {\n",
       "        vertical-align: top;\n",
       "    }\n",
       "\n",
       "    .dataframe thead th {\n",
       "        text-align: right;\n",
       "    }\n",
       "</style>\n",
       "<table border=\"1\" class=\"dataframe\">\n",
       "  <thead>\n",
       "    <tr style=\"text-align: right;\">\n",
       "      <th></th>\n",
       "      <th>user_id</th>\n",
       "      <th>month</th>\n",
       "      <th>calls_count</th>\n",
       "      <th>calls_duration_total</th>\n",
       "      <th>messages_count</th>\n",
       "      <th>gb_used</th>\n",
       "      <th>city</th>\n",
       "      <th>tariff</th>\n",
       "      <th>messages_included</th>\n",
       "      <th>gb_per_month_included</th>\n",
       "      <th>mb_per_month_included</th>\n",
       "      <th>minutes_included</th>\n",
       "      <th>rub_monthly_fee</th>\n",
       "      <th>rub_per_gb</th>\n",
       "      <th>rub_per_message</th>\n",
       "      <th>rub_per_minute</th>\n",
       "      <th>tariff_name</th>\n",
       "      <th>profit</th>\n",
       "      <th>overpaid</th>\n",
       "      <th>overpayment</th>\n",
       "    </tr>\n",
       "  </thead>\n",
       "  <tbody>\n",
       "    <tr>\n",
       "      <th>0</th>\n",
       "      <td>1000</td>\n",
       "      <td>5</td>\n",
       "      <td>22.0</td>\n",
       "      <td>159.0</td>\n",
       "      <td>22.0</td>\n",
       "      <td>3.0</td>\n",
       "      <td>Краснодар</td>\n",
       "      <td>ultra</td>\n",
       "      <td>1000</td>\n",
       "      <td>30</td>\n",
       "      <td>30720</td>\n",
       "      <td>3000</td>\n",
       "      <td>1950</td>\n",
       "      <td>150</td>\n",
       "      <td>1</td>\n",
       "      <td>1</td>\n",
       "      <td>ultra</td>\n",
       "      <td>1950</td>\n",
       "      <td>0</td>\n",
       "      <td>0</td>\n",
       "    </tr>\n",
       "    <tr>\n",
       "      <th>1</th>\n",
       "      <td>1000</td>\n",
       "      <td>6</td>\n",
       "      <td>43.0</td>\n",
       "      <td>172.0</td>\n",
       "      <td>60.0</td>\n",
       "      <td>23.0</td>\n",
       "      <td>Краснодар</td>\n",
       "      <td>ultra</td>\n",
       "      <td>1000</td>\n",
       "      <td>30</td>\n",
       "      <td>30720</td>\n",
       "      <td>3000</td>\n",
       "      <td>1950</td>\n",
       "      <td>150</td>\n",
       "      <td>1</td>\n",
       "      <td>1</td>\n",
       "      <td>ultra</td>\n",
       "      <td>1950</td>\n",
       "      <td>0</td>\n",
       "      <td>0</td>\n",
       "    </tr>\n",
       "    <tr>\n",
       "      <th>2</th>\n",
       "      <td>1000</td>\n",
       "      <td>7</td>\n",
       "      <td>47.0</td>\n",
       "      <td>340.0</td>\n",
       "      <td>75.0</td>\n",
       "      <td>14.0</td>\n",
       "      <td>Краснодар</td>\n",
       "      <td>ultra</td>\n",
       "      <td>1000</td>\n",
       "      <td>30</td>\n",
       "      <td>30720</td>\n",
       "      <td>3000</td>\n",
       "      <td>1950</td>\n",
       "      <td>150</td>\n",
       "      <td>1</td>\n",
       "      <td>1</td>\n",
       "      <td>ultra</td>\n",
       "      <td>1950</td>\n",
       "      <td>0</td>\n",
       "      <td>0</td>\n",
       "    </tr>\n",
       "    <tr>\n",
       "      <th>3</th>\n",
       "      <td>1000</td>\n",
       "      <td>8</td>\n",
       "      <td>52.0</td>\n",
       "      <td>408.0</td>\n",
       "      <td>81.0</td>\n",
       "      <td>14.0</td>\n",
       "      <td>Краснодар</td>\n",
       "      <td>ultra</td>\n",
       "      <td>1000</td>\n",
       "      <td>30</td>\n",
       "      <td>30720</td>\n",
       "      <td>3000</td>\n",
       "      <td>1950</td>\n",
       "      <td>150</td>\n",
       "      <td>1</td>\n",
       "      <td>1</td>\n",
       "      <td>ultra</td>\n",
       "      <td>1950</td>\n",
       "      <td>0</td>\n",
       "      <td>0</td>\n",
       "    </tr>\n",
       "    <tr>\n",
       "      <th>4</th>\n",
       "      <td>1000</td>\n",
       "      <td>9</td>\n",
       "      <td>58.0</td>\n",
       "      <td>466.0</td>\n",
       "      <td>57.0</td>\n",
       "      <td>15.0</td>\n",
       "      <td>Краснодар</td>\n",
       "      <td>ultra</td>\n",
       "      <td>1000</td>\n",
       "      <td>30</td>\n",
       "      <td>30720</td>\n",
       "      <td>3000</td>\n",
       "      <td>1950</td>\n",
       "      <td>150</td>\n",
       "      <td>1</td>\n",
       "      <td>1</td>\n",
       "      <td>ultra</td>\n",
       "      <td>1950</td>\n",
       "      <td>0</td>\n",
       "      <td>0</td>\n",
       "    </tr>\n",
       "  </tbody>\n",
       "</table>\n",
       "</div>"
      ],
      "text/plain": [
       "   user_id  month  calls_count  calls_duration_total  messages_count  gb_used  \\\n",
       "0     1000      5         22.0                 159.0            22.0      3.0   \n",
       "1     1000      6         43.0                 172.0            60.0     23.0   \n",
       "2     1000      7         47.0                 340.0            75.0     14.0   \n",
       "3     1000      8         52.0                 408.0            81.0     14.0   \n",
       "4     1000      9         58.0                 466.0            57.0     15.0   \n",
       "\n",
       "        city tariff  messages_included  gb_per_month_included  \\\n",
       "0  Краснодар  ultra               1000                     30   \n",
       "1  Краснодар  ultra               1000                     30   \n",
       "2  Краснодар  ultra               1000                     30   \n",
       "3  Краснодар  ultra               1000                     30   \n",
       "4  Краснодар  ultra               1000                     30   \n",
       "\n",
       "   mb_per_month_included  minutes_included  rub_monthly_fee  rub_per_gb  \\\n",
       "0                  30720              3000             1950         150   \n",
       "1                  30720              3000             1950         150   \n",
       "2                  30720              3000             1950         150   \n",
       "3                  30720              3000             1950         150   \n",
       "4                  30720              3000             1950         150   \n",
       "\n",
       "   rub_per_message  rub_per_minute tariff_name  profit  overpaid  overpayment  \n",
       "0                1               1       ultra    1950         0            0  \n",
       "1                1               1       ultra    1950         0            0  \n",
       "2                1               1       ultra    1950         0            0  \n",
       "3                1               1       ultra    1950         0            0  \n",
       "4                1               1       ultra    1950         0            0  "
      ]
     },
     "execution_count": 41,
     "metadata": {},
     "output_type": "execute_result"
    }
   ],
   "source": [
    "df.head()"
   ]
  },
  {
   "cell_type": "code",
   "execution_count": 42,
   "id": "2abdf2c9",
   "metadata": {},
   "outputs": [
    {
     "data": {
      "text/plain": [
       "array(['Архангельск', 'Астрахань', 'Балашиха', 'Барнаул', 'Белгород',\n",
       "       'Брянск', 'Владивосток', 'Владикавказ', 'Владимир', 'Волгоград',\n",
       "       'Волжский', 'Вологда', 'Воронеж', 'Грозный', 'Екатеринбург',\n",
       "       'Иваново', 'Ижевск', 'Иркутск', 'Казань', 'Калининград', 'Калуга',\n",
       "       'Кемерово', 'Киров', 'Кострома', 'Краснодар', 'Красноярск',\n",
       "       'Курган', 'Курск', 'Липецк', 'Магнитогорск', 'Махачкала', 'Москва',\n",
       "       'Мурманск', 'Набережные Челны', 'Нижневартовск', 'Нижний Новгород',\n",
       "       'Нижний Тагил', 'Новокузнецк', 'Новороссийск', 'Новосибирск',\n",
       "       'Омск', 'Оренбург', 'Орёл', 'Пенза', 'Пермь', 'Петрозаводск',\n",
       "       'Подольск', 'Ростов-на-Дону', 'Рязань', 'Самара',\n",
       "       'Санкт-Петербург', 'Саранск', 'Саратов', 'Севастополь', 'Смоленск',\n",
       "       'Сочи', 'Ставрополь', 'Стерлитамак', 'Сургут', 'Тамбов', 'Тверь',\n",
       "       'Тольятти', 'Томск', 'Тула', 'Тюмень', 'Улан-Удэ', 'Ульяновск',\n",
       "       'Уфа', 'Хабаровск', 'Химки', 'Чебоксары', 'Челябинск', 'Череповец',\n",
       "       'Чита', 'Якутск', 'Ярославль'], dtype=object)"
      ]
     },
     "execution_count": 42,
     "metadata": {},
     "output_type": "execute_result"
    }
   ],
   "source": [
    "df['city'].sort_values().unique()"
   ]
  },
  {
   "cell_type": "code",
   "execution_count": 43,
   "id": "3585c1ec",
   "metadata": {},
   "outputs": [],
   "source": [
    "# Создадим функцию для проверки на регион\n",
    "def region(data):\n",
    "    if data['city'] == 'Москва':\n",
    "        return 'Москва'\n",
    "    else:\n",
    "        return 'Регион'\n",
    "# Добавим колонку с регионом\n",
    "df['region'] = df.apply(region, axis=1)"
   ]
  },
  {
   "cell_type": "code",
   "execution_count": 44,
   "id": "d56c5f5b",
   "metadata": {},
   "outputs": [
    {
     "data": {
      "text/html": [
       "<div>\n",
       "<style scoped>\n",
       "    .dataframe tbody tr th:only-of-type {\n",
       "        vertical-align: middle;\n",
       "    }\n",
       "\n",
       "    .dataframe tbody tr th {\n",
       "        vertical-align: top;\n",
       "    }\n",
       "\n",
       "    .dataframe thead th {\n",
       "        text-align: right;\n",
       "    }\n",
       "</style>\n",
       "<table border=\"1\" class=\"dataframe\">\n",
       "  <thead>\n",
       "    <tr style=\"text-align: right;\">\n",
       "      <th></th>\n",
       "      <th>user_id</th>\n",
       "      <th>month</th>\n",
       "      <th>calls_count</th>\n",
       "      <th>calls_duration_total</th>\n",
       "      <th>messages_count</th>\n",
       "      <th>gb_used</th>\n",
       "      <th>city</th>\n",
       "      <th>tariff</th>\n",
       "      <th>messages_included</th>\n",
       "      <th>gb_per_month_included</th>\n",
       "      <th>mb_per_month_included</th>\n",
       "      <th>minutes_included</th>\n",
       "      <th>rub_monthly_fee</th>\n",
       "      <th>rub_per_gb</th>\n",
       "      <th>rub_per_message</th>\n",
       "      <th>rub_per_minute</th>\n",
       "      <th>tariff_name</th>\n",
       "      <th>profit</th>\n",
       "      <th>overpaid</th>\n",
       "      <th>overpayment</th>\n",
       "      <th>region</th>\n",
       "    </tr>\n",
       "  </thead>\n",
       "  <tbody>\n",
       "    <tr>\n",
       "      <th>1994</th>\n",
       "      <td>1318</td>\n",
       "      <td>11</td>\n",
       "      <td>67.0</td>\n",
       "      <td>524.0</td>\n",
       "      <td>37.0</td>\n",
       "      <td>17.0</td>\n",
       "      <td>Курган</td>\n",
       "      <td>ultra</td>\n",
       "      <td>1000</td>\n",
       "      <td>30</td>\n",
       "      <td>30720</td>\n",
       "      <td>3000</td>\n",
       "      <td>1950</td>\n",
       "      <td>150</td>\n",
       "      <td>1</td>\n",
       "      <td>1</td>\n",
       "      <td>ultra</td>\n",
       "      <td>1950</td>\n",
       "      <td>0</td>\n",
       "      <td>0</td>\n",
       "      <td>Регион</td>\n",
       "    </tr>\n",
       "    <tr>\n",
       "      <th>1209</th>\n",
       "      <td>1189</td>\n",
       "      <td>9</td>\n",
       "      <td>91.0</td>\n",
       "      <td>629.0</td>\n",
       "      <td>20.0</td>\n",
       "      <td>16.0</td>\n",
       "      <td>Санкт-Петербург</td>\n",
       "      <td>smart</td>\n",
       "      <td>50</td>\n",
       "      <td>15</td>\n",
       "      <td>15360</td>\n",
       "      <td>500</td>\n",
       "      <td>550</td>\n",
       "      <td>200</td>\n",
       "      <td>3</td>\n",
       "      <td>3</td>\n",
       "      <td>smart</td>\n",
       "      <td>1137</td>\n",
       "      <td>587</td>\n",
       "      <td>1</td>\n",
       "      <td>Регион</td>\n",
       "    </tr>\n",
       "    <tr>\n",
       "      <th>3053</th>\n",
       "      <td>1479</td>\n",
       "      <td>7</td>\n",
       "      <td>86.0</td>\n",
       "      <td>666.0</td>\n",
       "      <td>0.0</td>\n",
       "      <td>26.0</td>\n",
       "      <td>Хабаровск</td>\n",
       "      <td>smart</td>\n",
       "      <td>50</td>\n",
       "      <td>15</td>\n",
       "      <td>15360</td>\n",
       "      <td>500</td>\n",
       "      <td>550</td>\n",
       "      <td>200</td>\n",
       "      <td>3</td>\n",
       "      <td>3</td>\n",
       "      <td>smart</td>\n",
       "      <td>3248</td>\n",
       "      <td>2698</td>\n",
       "      <td>1</td>\n",
       "      <td>Регион</td>\n",
       "    </tr>\n",
       "    <tr>\n",
       "      <th>889</th>\n",
       "      <td>1144</td>\n",
       "      <td>9</td>\n",
       "      <td>62.0</td>\n",
       "      <td>516.0</td>\n",
       "      <td>55.0</td>\n",
       "      <td>19.0</td>\n",
       "      <td>Улан-Удэ</td>\n",
       "      <td>smart</td>\n",
       "      <td>50</td>\n",
       "      <td>15</td>\n",
       "      <td>15360</td>\n",
       "      <td>500</td>\n",
       "      <td>550</td>\n",
       "      <td>200</td>\n",
       "      <td>3</td>\n",
       "      <td>3</td>\n",
       "      <td>smart</td>\n",
       "      <td>1413</td>\n",
       "      <td>863</td>\n",
       "      <td>1</td>\n",
       "      <td>Регион</td>\n",
       "    </tr>\n",
       "    <tr>\n",
       "      <th>184</th>\n",
       "      <td>1028</td>\n",
       "      <td>11</td>\n",
       "      <td>133.0</td>\n",
       "      <td>1021.0</td>\n",
       "      <td>182.0</td>\n",
       "      <td>18.0</td>\n",
       "      <td>Тверь</td>\n",
       "      <td>ultra</td>\n",
       "      <td>1000</td>\n",
       "      <td>30</td>\n",
       "      <td>30720</td>\n",
       "      <td>3000</td>\n",
       "      <td>1950</td>\n",
       "      <td>150</td>\n",
       "      <td>1</td>\n",
       "      <td>1</td>\n",
       "      <td>ultra</td>\n",
       "      <td>1950</td>\n",
       "      <td>0</td>\n",
       "      <td>0</td>\n",
       "      <td>Регион</td>\n",
       "    </tr>\n",
       "  </tbody>\n",
       "</table>\n",
       "</div>"
      ],
      "text/plain": [
       "      user_id  month  calls_count  calls_duration_total  messages_count  \\\n",
       "1994     1318     11         67.0                 524.0            37.0   \n",
       "1209     1189      9         91.0                 629.0            20.0   \n",
       "3053     1479      7         86.0                 666.0             0.0   \n",
       "889      1144      9         62.0                 516.0            55.0   \n",
       "184      1028     11        133.0                1021.0           182.0   \n",
       "\n",
       "      gb_used             city tariff  messages_included  \\\n",
       "1994     17.0           Курган  ultra               1000   \n",
       "1209     16.0  Санкт-Петербург  smart                 50   \n",
       "3053     26.0        Хабаровск  smart                 50   \n",
       "889      19.0         Улан-Удэ  smart                 50   \n",
       "184      18.0            Тверь  ultra               1000   \n",
       "\n",
       "      gb_per_month_included  mb_per_month_included  minutes_included  \\\n",
       "1994                     30                  30720              3000   \n",
       "1209                     15                  15360               500   \n",
       "3053                     15                  15360               500   \n",
       "889                      15                  15360               500   \n",
       "184                      30                  30720              3000   \n",
       "\n",
       "      rub_monthly_fee  rub_per_gb  rub_per_message  rub_per_minute  \\\n",
       "1994             1950         150                1               1   \n",
       "1209              550         200                3               3   \n",
       "3053              550         200                3               3   \n",
       "889               550         200                3               3   \n",
       "184              1950         150                1               1   \n",
       "\n",
       "     tariff_name  profit  overpaid  overpayment  region  \n",
       "1994       ultra    1950         0            0  Регион  \n",
       "1209       smart    1137       587            1  Регион  \n",
       "3053       smart    3248      2698            1  Регион  \n",
       "889        smart    1413       863            1  Регион  \n",
       "184        ultra    1950         0            0  Регион  "
      ]
     },
     "execution_count": 44,
     "metadata": {},
     "output_type": "execute_result"
    }
   ],
   "source": [
    "df.sample(5)"
   ]
  },
  {
   "cell_type": "markdown",
   "id": "c767b2d9",
   "metadata": {},
   "source": [
    "Функция работает. \\\n",
    "Создадим 2 датафрейма: для пользователей из Москвы и пользователей из Региона"
   ]
  },
  {
   "cell_type": "code",
   "execution_count": 45,
   "id": "36b80c95",
   "metadata": {},
   "outputs": [],
   "source": [
    "df_moscow = df[df['region'] == 'Москва'].copy()"
   ]
  },
  {
   "cell_type": "code",
   "execution_count": 46,
   "id": "d3bb61e7",
   "metadata": {},
   "outputs": [],
   "source": [
    "df_region = df[df['region'] == 'Регион'].copy()"
   ]
  },
  {
   "cell_type": "markdown",
   "id": "46a38eae",
   "metadata": {},
   "source": [
    "Сформулируем нулевую и альтернативную гипотезы:\n",
    "- H0 - Средняя выручка пользователей из Москвы не отличается от выручки пользователей из других регионов\n",
    "- H1 - Средняя выручка пользователей из Москвы отличается от выручки пользователей из других регионов"
   ]
  },
  {
   "cell_type": "code",
   "execution_count": 47,
   "id": "3708e2ec",
   "metadata": {},
   "outputs": [
    {
     "name": "stdout",
     "output_type": "stream",
     "text": [
      "p-значение: 0.5440152911670224\n",
      "Не получилось отвергнуть нулевую гипотезу\n"
     ]
    }
   ],
   "source": [
    "# Зададим уровень значимости в 5%\n",
    "alpha = 0.05\n",
    "\n",
    "# Результат теста\n",
    "results = st.ttest_ind(df_moscow['profit'], df_region['profit'])\n",
    "\n",
    "# Выведем на экран значение p-уровня значимости\n",
    "print(f'p-значение: {results.pvalue}')\n",
    "\n",
    "# Ответ\n",
    "if (results.pvalue < alpha):\n",
    "    print(\"Отвергаем нулевую гипотезу\")\n",
    "else:\n",
    "    print(\"Не получилось отвергнуть нулевую гипотезу\")"
   ]
  },
  {
   "cell_type": "markdown",
   "id": "0db3e080",
   "metadata": {},
   "source": [
    "p-уровень значимости очень велик. Можно смело сказать, что с вероятностью в 54% отвергнуть нулевую гипотезу будет ошибкой. "
   ]
  },
  {
   "cell_type": "markdown",
   "id": "274ac21f",
   "metadata": {},
   "source": [
    "---"
   ]
  },
  {
   "cell_type": "markdown",
   "id": "b8e3a2f9",
   "metadata": {},
   "source": [
    "## Вывод"
   ]
  },
  {
   "cell_type": "markdown",
   "id": "31a9b1a2",
   "metadata": {},
   "source": [
    "Мы проделали большую работу и исследовали данные. В такой работе одного единого вывода быть не может, поэтому изложу несколько выводов:\n",
    "- Количество минут в тарифе Ультра, возможно, следует пересмотреть. Ни один человек даже не приблизился к установленному лимиту. \n",
    "- Количесвто смс для тарифа Ультра также следует пересмотреть. Создается ощущение упущенной выгоды. \n",
    "- С интернетом ситуация такая же, как со звонками и смс. У Ультры нет клиентов, выходящих за лимит. \n",
    "- Исходя из пунктов выше, можно заметить, что клиенты тарифа Смарт переплачивают намного чаще. \n",
    "- Но несмотря на это, средняя выручка от тарифа Ультра намного выше, чем от тарифа Смарт. Возможно, изменив немного лимиты, выручка станет еще больше. \n",
    "- Первая гипотеза о различии выручек от тарифов полностью подтвердилась. \n",
    "- Однако гипотеза о разности выручки в зависимости от региона использования тарифа, наоборот, полностью провалилась.\n",
    "\n",
    "Считаю, что тариф ультра в данной ситуации намного выгоднее для компании и рекламную компанию стоит корректировать в соответствии с этим анализом. "
   ]
  }
 ],
 "metadata": {
  "ExecuteTimeLog": [
   {
    "duration": 1315,
    "start_time": "2022-05-06T14:23:09.347Z"
   },
   {
    "duration": 1013,
    "start_time": "2022-05-06T14:23:10.664Z"
   },
   {
    "duration": 3,
    "start_time": "2022-05-06T14:23:11.679Z"
   },
   {
    "duration": 77,
    "start_time": "2022-05-06T14:23:11.684Z"
   },
   {
    "duration": 75,
    "start_time": "2022-05-06T14:23:11.763Z"
   },
   {
    "duration": 85,
    "start_time": "2022-05-06T14:23:11.840Z"
   },
   {
    "duration": 27,
    "start_time": "2022-05-06T14:23:11.927Z"
   },
   {
    "duration": 80,
    "start_time": "2022-05-06T14:23:11.956Z"
   },
   {
    "duration": 9,
    "start_time": "2022-05-06T14:23:12.038Z"
   },
   {
    "duration": 19,
    "start_time": "2022-05-06T14:23:12.050Z"
   },
   {
    "duration": 67,
    "start_time": "2022-05-06T14:23:12.071Z"
   },
   {
    "duration": 204,
    "start_time": "2022-05-06T14:23:12.140Z"
   },
   {
    "duration": 483,
    "start_time": "2022-05-06T14:23:12.346Z"
   },
   {
    "duration": 29,
    "start_time": "2022-05-06T14:23:12.832Z"
   },
   {
    "duration": 5,
    "start_time": "2022-05-06T14:23:12.863Z"
   },
   {
    "duration": 368,
    "start_time": "2022-05-06T14:23:12.870Z"
   },
   {
    "duration": 13,
    "start_time": "2022-05-06T14:23:13.240Z"
   },
   {
    "duration": 15,
    "start_time": "2022-05-06T14:23:13.255Z"
   },
   {
    "duration": 362,
    "start_time": "2022-05-06T14:23:13.271Z"
   },
   {
    "duration": 11,
    "start_time": "2022-05-06T14:23:13.635Z"
   },
   {
    "duration": 22,
    "start_time": "2022-05-06T14:23:13.647Z"
   },
   {
    "duration": 153,
    "start_time": "2022-05-06T14:23:13.671Z"
   },
   {
    "duration": 5,
    "start_time": "2022-05-06T14:23:13.826Z"
   },
   {
    "duration": 37,
    "start_time": "2022-05-06T14:23:13.832Z"
   },
   {
    "duration": 24,
    "start_time": "2022-05-06T14:23:13.871Z"
   },
   {
    "duration": 7,
    "start_time": "2022-05-06T14:23:13.897Z"
   },
   {
    "duration": 38,
    "start_time": "2022-05-06T14:23:13.906Z"
   },
   {
    "duration": 116,
    "start_time": "2022-05-06T14:23:13.948Z"
   },
   {
    "duration": 25,
    "start_time": "2022-05-06T14:23:14.066Z"
   },
   {
    "duration": 31,
    "start_time": "2022-05-06T14:23:14.093Z"
   },
   {
    "duration": 9,
    "start_time": "2022-05-06T14:23:14.130Z"
   },
   {
    "duration": 6,
    "start_time": "2022-05-06T14:23:14.141Z"
   },
   {
    "duration": 15,
    "start_time": "2022-05-06T14:23:14.149Z"
   },
   {
    "duration": 18,
    "start_time": "2022-05-06T14:23:14.166Z"
   },
   {
    "duration": 516,
    "start_time": "2022-05-06T14:23:14.186Z"
   },
   {
    "duration": 499,
    "start_time": "2022-05-06T14:23:14.704Z"
   },
   {
    "duration": 666,
    "start_time": "2022-05-06T14:23:15.204Z"
   },
   {
    "duration": 295,
    "start_time": "2022-05-06T14:23:15.872Z"
   },
   {
    "duration": 115,
    "start_time": "2022-05-06T14:23:16.169Z"
   },
   {
    "duration": 9,
    "start_time": "2022-05-06T14:23:16.287Z"
   },
   {
    "duration": 5,
    "start_time": "2022-05-06T14:23:16.298Z"
   },
   {
    "duration": 39,
    "start_time": "2022-05-06T14:23:16.305Z"
   },
   {
    "duration": 9,
    "start_time": "2022-05-06T14:23:16.346Z"
   },
   {
    "duration": 38,
    "start_time": "2022-05-06T14:23:16.357Z"
   },
   {
    "duration": 45,
    "start_time": "2022-05-06T14:23:16.397Z"
   },
   {
    "duration": 5,
    "start_time": "2022-05-06T14:23:16.444Z"
   },
   {
    "duration": 6,
    "start_time": "2022-05-06T14:23:16.451Z"
   },
   {
    "duration": 6,
    "start_time": "2022-05-06T14:23:16.459Z"
   },
   {
    "duration": 18,
    "start_time": "2022-05-06T14:23:22.566Z"
   },
   {
    "duration": 17,
    "start_time": "2022-05-06T14:23:29.507Z"
   },
   {
    "duration": 1175,
    "start_time": "2022-05-06T14:24:02.440Z"
   },
   {
    "duration": 849,
    "start_time": "2022-05-06T14:24:03.617Z"
   },
   {
    "duration": 3,
    "start_time": "2022-05-06T14:24:04.468Z"
   },
   {
    "duration": 36,
    "start_time": "2022-05-06T14:24:04.473Z"
   },
   {
    "duration": 32,
    "start_time": "2022-05-06T14:24:04.510Z"
   },
   {
    "duration": 32,
    "start_time": "2022-05-06T14:24:04.544Z"
   },
   {
    "duration": 25,
    "start_time": "2022-05-06T14:24:05.081Z"
   },
   {
    "duration": 18,
    "start_time": "2022-05-06T14:24:05.438Z"
   },
   {
    "duration": 9,
    "start_time": "2022-05-06T14:24:05.829Z"
   },
   {
    "duration": 16,
    "start_time": "2022-05-06T14:24:09.321Z"
   },
   {
    "duration": 10,
    "start_time": "2022-05-06T14:24:11.564Z"
   },
   {
    "duration": 19,
    "start_time": "2022-05-06T14:24:20.764Z"
   },
   {
    "duration": 105,
    "start_time": "2022-05-06T14:27:54.173Z"
   },
   {
    "duration": 1276,
    "start_time": "2022-05-06T14:28:02.421Z"
   },
   {
    "duration": 1287,
    "start_time": "2022-05-06T14:28:03.699Z"
   },
   {
    "duration": 3,
    "start_time": "2022-05-06T14:28:04.988Z"
   },
   {
    "duration": 41,
    "start_time": "2022-05-06T14:28:04.993Z"
   },
   {
    "duration": 30,
    "start_time": "2022-05-06T14:28:05.036Z"
   },
   {
    "duration": 24,
    "start_time": "2022-05-06T14:28:05.067Z"
   },
   {
    "duration": 51,
    "start_time": "2022-05-06T14:28:05.093Z"
   },
   {
    "duration": 77,
    "start_time": "2022-05-06T14:28:05.146Z"
   },
   {
    "duration": 15,
    "start_time": "2022-05-06T14:28:05.226Z"
   },
   {
    "duration": 14,
    "start_time": "2022-05-06T14:28:05.244Z"
   },
   {
    "duration": 190,
    "start_time": "2022-05-06T14:28:05.260Z"
   },
   {
    "duration": 317,
    "start_time": "2022-05-06T14:28:05.452Z"
   },
   {
    "duration": 81,
    "start_time": "2022-05-06T14:28:05.771Z"
   },
   {
    "duration": 5,
    "start_time": "2022-05-06T14:28:05.854Z"
   },
   {
    "duration": 487,
    "start_time": "2022-05-06T14:28:05.860Z"
   },
   {
    "duration": 11,
    "start_time": "2022-05-06T14:28:06.350Z"
   },
   {
    "duration": 67,
    "start_time": "2022-05-06T14:28:06.363Z"
   },
   {
    "duration": 420,
    "start_time": "2022-05-06T14:28:06.435Z"
   },
   {
    "duration": 72,
    "start_time": "2022-05-06T14:28:06.857Z"
   },
   {
    "duration": 25,
    "start_time": "2022-05-06T14:28:06.931Z"
   },
   {
    "duration": 471,
    "start_time": "2022-05-06T14:28:06.958Z"
   },
   {
    "duration": 11,
    "start_time": "2022-05-06T14:28:07.435Z"
   },
   {
    "duration": 77,
    "start_time": "2022-05-06T14:28:07.448Z"
   },
   {
    "duration": 24,
    "start_time": "2022-05-06T14:28:07.528Z"
   },
   {
    "duration": 9,
    "start_time": "2022-05-06T14:28:07.554Z"
   },
   {
    "duration": 79,
    "start_time": "2022-05-06T14:28:07.565Z"
   },
   {
    "duration": 170,
    "start_time": "2022-05-06T14:28:07.646Z"
   },
   {
    "duration": 42,
    "start_time": "2022-05-06T14:28:07.821Z"
   },
   {
    "duration": 25,
    "start_time": "2022-05-06T14:28:07.865Z"
   },
   {
    "duration": 5,
    "start_time": "2022-05-06T14:28:07.892Z"
   },
   {
    "duration": 7,
    "start_time": "2022-05-06T14:28:07.899Z"
   },
   {
    "duration": 31,
    "start_time": "2022-05-06T14:28:07.924Z"
   },
   {
    "duration": 20,
    "start_time": "2022-05-06T14:28:07.957Z"
   },
   {
    "duration": 620,
    "start_time": "2022-05-06T14:28:07.979Z"
   },
   {
    "duration": 581,
    "start_time": "2022-05-06T14:28:08.601Z"
   },
   {
    "duration": 477,
    "start_time": "2022-05-06T14:28:09.184Z"
   },
   {
    "duration": 292,
    "start_time": "2022-05-06T14:28:09.663Z"
   },
   {
    "duration": 115,
    "start_time": "2022-05-06T14:28:09.956Z"
   },
   {
    "duration": 11,
    "start_time": "2022-05-06T14:28:10.073Z"
   },
   {
    "duration": 7,
    "start_time": "2022-05-06T14:28:10.085Z"
   },
   {
    "duration": 35,
    "start_time": "2022-05-06T14:28:10.094Z"
   },
   {
    "duration": 11,
    "start_time": "2022-05-06T14:28:10.135Z"
   },
   {
    "duration": 25,
    "start_time": "2022-05-06T14:28:10.148Z"
   },
   {
    "duration": 17,
    "start_time": "2022-05-06T14:28:10.175Z"
   },
   {
    "duration": 7,
    "start_time": "2022-05-06T14:28:10.194Z"
   },
   {
    "duration": 25,
    "start_time": "2022-05-06T14:28:10.203Z"
   },
   {
    "duration": 15,
    "start_time": "2022-05-06T14:28:10.232Z"
   },
   {
    "duration": 144,
    "start_time": "2022-05-06T14:28:13.207Z"
   },
   {
    "duration": 17,
    "start_time": "2022-05-06T14:29:32.048Z"
   },
   {
    "duration": 18,
    "start_time": "2022-05-06T14:29:34.241Z"
   },
   {
    "duration": 30,
    "start_time": "2022-05-06T14:29:54.481Z"
   },
   {
    "duration": 120,
    "start_time": "2022-05-06T14:31:39.733Z"
   },
   {
    "duration": 19,
    "start_time": "2022-05-06T14:31:49.395Z"
   },
   {
    "duration": 19,
    "start_time": "2022-05-06T14:31:51.602Z"
   },
   {
    "duration": 19,
    "start_time": "2022-05-06T14:31:55.388Z"
   },
   {
    "duration": 1306,
    "start_time": "2022-05-06T15:18:07.332Z"
   },
   {
    "duration": 1043,
    "start_time": "2022-05-06T15:18:08.640Z"
   },
   {
    "duration": 3,
    "start_time": "2022-05-06T15:18:09.685Z"
   },
   {
    "duration": 37,
    "start_time": "2022-05-06T15:18:09.690Z"
   },
   {
    "duration": 26,
    "start_time": "2022-05-06T15:18:09.729Z"
   },
   {
    "duration": 24,
    "start_time": "2022-05-06T15:18:09.756Z"
   },
   {
    "duration": 46,
    "start_time": "2022-05-06T15:18:09.782Z"
   },
   {
    "duration": 22,
    "start_time": "2022-05-06T15:18:09.830Z"
   },
   {
    "duration": 9,
    "start_time": "2022-05-06T15:18:09.854Z"
   },
   {
    "duration": 19,
    "start_time": "2022-05-06T15:18:09.866Z"
   },
   {
    "duration": 142,
    "start_time": "2022-05-06T15:18:09.887Z"
   },
   {
    "duration": 183,
    "start_time": "2022-05-06T15:18:10.031Z"
   },
   {
    "duration": 33,
    "start_time": "2022-05-06T15:18:10.216Z"
   },
   {
    "duration": 6,
    "start_time": "2022-05-06T15:18:10.250Z"
   },
   {
    "duration": 249,
    "start_time": "2022-05-06T15:18:10.258Z"
   },
   {
    "duration": 16,
    "start_time": "2022-05-06T15:18:10.509Z"
   },
   {
    "duration": 21,
    "start_time": "2022-05-06T15:18:10.527Z"
   },
   {
    "duration": 205,
    "start_time": "2022-05-06T15:18:10.550Z"
   },
   {
    "duration": 11,
    "start_time": "2022-05-06T15:18:10.758Z"
   },
   {
    "duration": 24,
    "start_time": "2022-05-06T15:18:10.771Z"
   },
   {
    "duration": 214,
    "start_time": "2022-05-06T15:18:10.797Z"
   },
   {
    "duration": 12,
    "start_time": "2022-05-06T15:18:11.013Z"
   },
   {
    "duration": 30,
    "start_time": "2022-05-06T15:18:11.027Z"
   },
   {
    "duration": 27,
    "start_time": "2022-05-06T15:18:11.059Z"
   },
   {
    "duration": 9,
    "start_time": "2022-05-06T15:18:11.088Z"
   },
   {
    "duration": 49,
    "start_time": "2022-05-06T15:18:11.099Z"
   },
   {
    "duration": 176,
    "start_time": "2022-05-06T15:18:11.150Z"
   },
   {
    "duration": 39,
    "start_time": "2022-05-06T15:18:11.332Z"
   },
   {
    "duration": 19,
    "start_time": "2022-05-06T15:18:11.373Z"
   },
   {
    "duration": 8,
    "start_time": "2022-05-06T15:18:11.394Z"
   },
   {
    "duration": 6,
    "start_time": "2022-05-06T15:18:11.424Z"
   },
   {
    "duration": 19,
    "start_time": "2022-05-06T15:18:11.431Z"
   },
   {
    "duration": 17,
    "start_time": "2022-05-06T15:18:11.451Z"
   },
   {
    "duration": 527,
    "start_time": "2022-05-06T15:18:11.470Z"
   },
   {
    "duration": 505,
    "start_time": "2022-05-06T15:18:11.998Z"
   },
   {
    "duration": 555,
    "start_time": "2022-05-06T15:18:12.505Z"
   },
   {
    "duration": 285,
    "start_time": "2022-05-06T15:18:13.062Z"
   },
   {
    "duration": 107,
    "start_time": "2022-05-06T15:18:13.349Z"
   },
   {
    "duration": 10,
    "start_time": "2022-05-06T15:18:13.458Z"
   },
   {
    "duration": 7,
    "start_time": "2022-05-06T15:18:13.470Z"
   },
   {
    "duration": 18,
    "start_time": "2022-05-06T15:18:13.479Z"
   },
   {
    "duration": 28,
    "start_time": "2022-05-06T15:18:13.499Z"
   },
   {
    "duration": 27,
    "start_time": "2022-05-06T15:18:13.529Z"
   },
   {
    "duration": 17,
    "start_time": "2022-05-06T15:18:13.557Z"
   },
   {
    "duration": 6,
    "start_time": "2022-05-06T15:18:13.576Z"
   },
   {
    "duration": 7,
    "start_time": "2022-05-06T15:18:13.584Z"
   },
   {
    "duration": 6,
    "start_time": "2022-05-06T15:18:13.592Z"
   },
   {
    "duration": 1312,
    "start_time": "2022-05-07T13:33:35.724Z"
   },
   {
    "duration": 1936,
    "start_time": "2022-05-07T13:33:37.038Z"
   },
   {
    "duration": 3,
    "start_time": "2022-05-07T13:33:38.975Z"
   },
   {
    "duration": 42,
    "start_time": "2022-05-07T13:33:38.980Z"
   },
   {
    "duration": 43,
    "start_time": "2022-05-07T13:33:39.024Z"
   },
   {
    "duration": 26,
    "start_time": "2022-05-07T13:33:39.069Z"
   },
   {
    "duration": 46,
    "start_time": "2022-05-07T13:33:39.097Z"
   },
   {
    "duration": 23,
    "start_time": "2022-05-07T13:33:39.145Z"
   },
   {
    "duration": 8,
    "start_time": "2022-05-07T13:33:39.171Z"
   },
   {
    "duration": 12,
    "start_time": "2022-05-07T13:33:39.183Z"
   },
   {
    "duration": 88,
    "start_time": "2022-05-07T13:33:39.233Z"
   },
   {
    "duration": 215,
    "start_time": "2022-05-07T13:33:39.323Z"
   },
   {
    "duration": 28,
    "start_time": "2022-05-07T13:33:39.541Z"
   },
   {
    "duration": 4,
    "start_time": "2022-05-07T13:33:39.571Z"
   },
   {
    "duration": 211,
    "start_time": "2022-05-07T13:33:39.577Z"
   },
   {
    "duration": 8,
    "start_time": "2022-05-07T13:33:39.790Z"
   },
   {
    "duration": 34,
    "start_time": "2022-05-07T13:33:39.800Z"
   },
   {
    "duration": 179,
    "start_time": "2022-05-07T13:33:39.840Z"
   },
   {
    "duration": 23,
    "start_time": "2022-05-07T13:33:40.021Z"
   },
   {
    "duration": 29,
    "start_time": "2022-05-07T13:33:40.047Z"
   },
   {
    "duration": 191,
    "start_time": "2022-05-07T13:33:40.077Z"
   },
   {
    "duration": 5,
    "start_time": "2022-05-07T13:33:40.269Z"
   },
   {
    "duration": 27,
    "start_time": "2022-05-07T13:33:40.276Z"
   },
   {
    "duration": 44,
    "start_time": "2022-05-07T13:33:40.304Z"
   },
   {
    "duration": 9,
    "start_time": "2022-05-07T13:33:40.351Z"
   },
   {
    "duration": 21,
    "start_time": "2022-05-07T13:33:40.362Z"
   },
   {
    "duration": 143,
    "start_time": "2022-05-07T13:33:40.385Z"
   },
   {
    "duration": 33,
    "start_time": "2022-05-07T13:33:40.534Z"
   },
   {
    "duration": 19,
    "start_time": "2022-05-07T13:33:40.571Z"
   },
   {
    "duration": 10,
    "start_time": "2022-05-07T13:33:40.591Z"
   },
   {
    "duration": 9,
    "start_time": "2022-05-07T13:33:40.603Z"
   },
   {
    "duration": 22,
    "start_time": "2022-05-07T13:33:40.633Z"
   },
   {
    "duration": 21,
    "start_time": "2022-05-07T13:33:40.657Z"
   },
   {
    "duration": 605,
    "start_time": "2022-05-07T13:33:40.680Z"
   },
   {
    "duration": 582,
    "start_time": "2022-05-07T13:33:41.287Z"
   },
   {
    "duration": 582,
    "start_time": "2022-05-07T13:33:41.871Z"
   },
   {
    "duration": 355,
    "start_time": "2022-05-07T13:33:42.455Z"
   },
   {
    "duration": 124,
    "start_time": "2022-05-07T13:33:42.811Z"
   },
   {
    "duration": 17,
    "start_time": "2022-05-07T13:33:42.937Z"
   },
   {
    "duration": 9,
    "start_time": "2022-05-07T13:33:42.956Z"
   },
   {
    "duration": 21,
    "start_time": "2022-05-07T13:33:42.967Z"
   },
   {
    "duration": 10,
    "start_time": "2022-05-07T13:33:42.990Z"
   },
   {
    "duration": 58,
    "start_time": "2022-05-07T13:33:43.002Z"
   },
   {
    "duration": 18,
    "start_time": "2022-05-07T13:33:43.062Z"
   },
   {
    "duration": 6,
    "start_time": "2022-05-07T13:33:43.082Z"
   },
   {
    "duration": 9,
    "start_time": "2022-05-07T13:33:43.089Z"
   },
   {
    "duration": 8,
    "start_time": "2022-05-07T13:33:43.100Z"
   },
   {
    "duration": 6,
    "start_time": "2022-05-07T13:33:49.645Z"
   },
   {
    "duration": 20,
    "start_time": "2022-05-07T13:33:53.613Z"
   },
   {
    "duration": 1249,
    "start_time": "2022-05-07T13:45:59.862Z"
   },
   {
    "duration": 2769,
    "start_time": "2022-05-07T13:46:01.114Z"
   },
   {
    "duration": 3,
    "start_time": "2022-05-07T13:46:03.885Z"
   },
   {
    "duration": 44,
    "start_time": "2022-05-07T13:46:03.890Z"
   },
   {
    "duration": 31,
    "start_time": "2022-05-07T13:46:03.935Z"
   },
   {
    "duration": 26,
    "start_time": "2022-05-07T13:46:03.968Z"
   },
   {
    "duration": 43,
    "start_time": "2022-05-07T13:46:03.996Z"
   },
   {
    "duration": 22,
    "start_time": "2022-05-07T13:46:04.041Z"
   },
   {
    "duration": 8,
    "start_time": "2022-05-07T13:46:04.065Z"
   },
   {
    "duration": 21,
    "start_time": "2022-05-07T13:46:04.077Z"
   },
   {
    "duration": 108,
    "start_time": "2022-05-07T13:46:04.100Z"
   },
   {
    "duration": 190,
    "start_time": "2022-05-07T13:46:04.210Z"
   },
   {
    "duration": 31,
    "start_time": "2022-05-07T13:46:04.402Z"
   },
   {
    "duration": 5,
    "start_time": "2022-05-07T13:46:04.435Z"
   },
   {
    "duration": 186,
    "start_time": "2022-05-07T13:46:04.442Z"
   },
   {
    "duration": 8,
    "start_time": "2022-05-07T13:46:04.634Z"
   },
   {
    "duration": 23,
    "start_time": "2022-05-07T13:46:04.644Z"
   },
   {
    "duration": 175,
    "start_time": "2022-05-07T13:46:04.669Z"
   },
   {
    "duration": 9,
    "start_time": "2022-05-07T13:46:04.847Z"
   },
   {
    "duration": 20,
    "start_time": "2022-05-07T13:46:04.858Z"
   },
   {
    "duration": 181,
    "start_time": "2022-05-07T13:46:04.880Z"
   },
   {
    "duration": 5,
    "start_time": "2022-05-07T13:46:05.063Z"
   },
   {
    "duration": 24,
    "start_time": "2022-05-07T13:46:05.069Z"
   },
   {
    "duration": 18,
    "start_time": "2022-05-07T13:46:05.095Z"
   },
   {
    "duration": 8,
    "start_time": "2022-05-07T13:46:05.133Z"
   },
   {
    "duration": 25,
    "start_time": "2022-05-07T13:46:05.143Z"
   },
   {
    "duration": 125,
    "start_time": "2022-05-07T13:46:05.170Z"
   },
   {
    "duration": 34,
    "start_time": "2022-05-07T13:46:05.299Z"
   },
   {
    "duration": 20,
    "start_time": "2022-05-07T13:46:05.335Z"
   },
   {
    "duration": 5,
    "start_time": "2022-05-07T13:46:05.356Z"
   },
   {
    "duration": 7,
    "start_time": "2022-05-07T13:46:05.363Z"
   },
   {
    "duration": 19,
    "start_time": "2022-05-07T13:46:05.371Z"
   },
   {
    "duration": 43,
    "start_time": "2022-05-07T13:46:05.392Z"
   },
   {
    "duration": 512,
    "start_time": "2022-05-07T13:46:05.437Z"
   },
   {
    "duration": 498,
    "start_time": "2022-05-07T13:46:05.950Z"
   },
   {
    "duration": 561,
    "start_time": "2022-05-07T13:46:06.450Z"
   },
   {
    "duration": 328,
    "start_time": "2022-05-07T13:46:07.013Z"
   },
   {
    "duration": 117,
    "start_time": "2022-05-07T13:46:07.343Z"
   },
   {
    "duration": 11,
    "start_time": "2022-05-07T13:46:07.462Z"
   },
   {
    "duration": 6,
    "start_time": "2022-05-07T13:46:07.475Z"
   },
   {
    "duration": 23,
    "start_time": "2022-05-07T13:46:07.483Z"
   },
   {
    "duration": 31,
    "start_time": "2022-05-07T13:46:07.508Z"
   },
   {
    "duration": 31,
    "start_time": "2022-05-07T13:46:07.540Z"
   },
   {
    "duration": 17,
    "start_time": "2022-05-07T13:46:07.573Z"
   },
   {
    "duration": 7,
    "start_time": "2022-05-07T13:46:07.591Z"
   },
   {
    "duration": 10,
    "start_time": "2022-05-07T13:46:07.600Z"
   },
   {
    "duration": 27,
    "start_time": "2022-05-07T13:46:07.611Z"
   }
  ],
  "kernelspec": {
   "display_name": "Python 3 (ipykernel)",
   "language": "python",
   "name": "python3"
  },
  "language_info": {
   "codemirror_mode": {
    "name": "ipython",
    "version": 3
   },
   "file_extension": ".py",
   "mimetype": "text/x-python",
   "name": "python",
   "nbconvert_exporter": "python",
   "pygments_lexer": "ipython3",
   "version": "3.9.12"
  },
  "toc": {
   "base_numbering": 1,
   "nav_menu": {},
   "number_sections": true,
   "sideBar": true,
   "skip_h1_title": false,
   "title_cell": "Table of Contents",
   "title_sidebar": "Contents",
   "toc_cell": false,
   "toc_position": {
    "height": "calc(100% - 180px)",
    "left": "10px",
    "top": "150px",
    "width": "288px"
   },
   "toc_section_display": true,
   "toc_window_display": true
  }
 },
 "nbformat": 4,
 "nbformat_minor": 5
}
