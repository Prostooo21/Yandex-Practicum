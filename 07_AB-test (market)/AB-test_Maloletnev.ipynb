{
 "cells": [
  {
   "cell_type": "code",
   "execution_count": 1,
   "id": "74523329",
   "metadata": {},
   "outputs": [],
   "source": [
    "import pandas as pd\n",
    "import numpy as np\n",
    "from matplotlib import pyplot as plt\n",
    "\n",
    "import math\n",
    "from scipy import stats\n",
    "\n",
    "from datetime import timedelta\n",
    "import datetime as dt"
   ]
  },
  {
   "cell_type": "code",
   "execution_count": 2,
   "id": "15dfb119",
   "metadata": {},
   "outputs": [],
   "source": [
    "pd.set_option('display.max_columns', None)\n",
    "pd.options.display.max_colwidth = 150\n",
    "pd.options.display.float_format = '{:,.2f}'.format"
   ]
  },
  {
   "cell_type": "markdown",
   "id": "0e9dd911",
   "metadata": {},
   "source": [
    "___"
   ]
  },
  {
   "cell_type": "markdown",
   "id": "ca0b2f29",
   "metadata": {},
   "source": [
    "## Описание проекта"
   ]
  },
  {
   "cell_type": "markdown",
   "id": "12ad0cd3",
   "metadata": {},
   "source": [
    "Вы — аналитик крупного интернет-магазина. Вместе с отделом маркетинга вы подготовили список гипотез для увеличения выручки.\n",
    "Нам предстоит приоритизировать гипотезы, запустить A/B-тест и проанализировать результаты."
   ]
  },
  {
   "cell_type": "markdown",
   "id": "bb8f7102",
   "metadata": {},
   "source": [
    "В первой части работы мы ознакомимся с данными, предобработаем их и приоритизируем гипотезы из базы.\n",
    "После этого мы проанализируем результаты тестирования, посмотрим как менялись конверсия и средний чек по группам. \n",
    "\n",
    "После этого проведем статистические тесты и примем решение об остановке/продолжении тестирования и сделаем выводы"
   ]
  },
  {
   "cell_type": "markdown",
   "id": "0302fd4e",
   "metadata": {},
   "source": [
    "___"
   ]
  },
  {
   "cell_type": "markdown",
   "id": "ec8cc7bd",
   "metadata": {},
   "source": [
    "**Данные для первой части**\n",
    "Файл `/datasets/hypothesis.csv.`\n",
    "- `Hypothesis` — краткое описание гипотезы;\n",
    "- `Reach` — охват пользователей по 10-балльной шкале;\n",
    "- `Impact` — влияние на пользователей по 10-балльной шкале;\n",
    "- `Confidence` — уверенность в гипотезе по 10-балльной шкале;\n",
    "- `Efforts` — затраты ресурсов на проверку гипотезы по 10-балльной шкале. Чем больше значение Efforts, тем дороже проверка гипотезы."
   ]
  },
  {
   "cell_type": "markdown",
   "id": "142bfd58",
   "metadata": {},
   "source": [
    "**Данные для второй части**\n",
    "Файл `/datasets/orders.csv.`  \n",
    "- `transactionId` — идентификатор заказа;\n",
    "- `visitorId` — идентификатор пользователя, совершившего заказ;\n",
    "- `date` — дата, когда был совершён заказ;\n",
    "- `revenue` — выручка заказа;\n",
    "- `group` — группа A/B-теста, в которую попал заказ.\n",
    "\n",
    "Файл `/datasets/visitors.csv.` \n",
    "- `date` — дата;\n",
    "- `group` — группа A/B-теста;\n",
    "- `visitors` — количество пользователей в указанную дату в указанной группе A/B-теста"
   ]
  },
  {
   "cell_type": "markdown",
   "id": "e694135a",
   "metadata": {},
   "source": [
    "___"
   ]
  },
  {
   "cell_type": "markdown",
   "id": "953dfc50",
   "metadata": {},
   "source": [
    "## Познакомимся с данными"
   ]
  },
  {
   "cell_type": "code",
   "execution_count": 3,
   "id": "efe3cd00",
   "metadata": {},
   "outputs": [],
   "source": [
    "dateparser = lambda x: pd.to_datetime(x)\n",
    "\n",
    "\n",
    "try:\n",
    "    data, orders, visitors = (\n",
    "        pd.read_csv('hypothesis.csv'), \n",
    "        pd.read_csv('orders.csv', parse_dates=['date'], date_parser=dateparser),\n",
    "        pd.read_csv('visitors.csv', parse_dates=['date'], date_parser=dateparser)\n",
    "    )\n",
    "except:\n",
    "    data, orders, visitors = (\n",
    "        pd.read_csv('https://code.s3.yandex.net/datasets/hypothesis.csv'), \n",
    "        pd.read_csv('https://code.s3.yandex.net/datasets/orders.csv'),\n",
    "        pd.read_csv('https://code.s3.yandex.net/datasets/visitors.csv')\n",
    "    )"
   ]
  },
  {
   "cell_type": "code",
   "execution_count": 4,
   "id": "c1dd8e42",
   "metadata": {},
   "outputs": [],
   "source": [
    "# Зададим функцию для первого ознакомления с данными\n",
    "def research(df):\n",
    "    df.columns = [col.lower().replace(' ','_') for col in df.columns]\n",
    "    display(df.info())\n",
    "    display(df.describe())\n",
    "    print('Пропуски \\n ', df.isna().sum())\n",
    "    print('\\n Дубликаты', df.duplicated().sum())\n",
    "    display(df.head())"
   ]
  },
  {
   "cell_type": "code",
   "execution_count": 5,
   "id": "e6aedcca",
   "metadata": {},
   "outputs": [
    {
     "name": "stdout",
     "output_type": "stream",
     "text": [
      "<class 'pandas.core.frame.DataFrame'>\n",
      "RangeIndex: 9 entries, 0 to 8\n",
      "Data columns (total 5 columns):\n",
      " #   Column      Non-Null Count  Dtype \n",
      "---  ------      --------------  ----- \n",
      " 0   hypothesis  9 non-null      object\n",
      " 1   reach       9 non-null      int64 \n",
      " 2   impact      9 non-null      int64 \n",
      " 3   confidence  9 non-null      int64 \n",
      " 4   efforts     9 non-null      int64 \n",
      "dtypes: int64(4), object(1)\n",
      "memory usage: 488.0+ bytes\n"
     ]
    },
    {
     "data": {
      "text/plain": [
       "None"
      ]
     },
     "metadata": {},
     "output_type": "display_data"
    },
    {
     "data": {
      "text/html": [
       "<div>\n",
       "<style scoped>\n",
       "    .dataframe tbody tr th:only-of-type {\n",
       "        vertical-align: middle;\n",
       "    }\n",
       "\n",
       "    .dataframe tbody tr th {\n",
       "        vertical-align: top;\n",
       "    }\n",
       "\n",
       "    .dataframe thead th {\n",
       "        text-align: right;\n",
       "    }\n",
       "</style>\n",
       "<table border=\"1\" class=\"dataframe\">\n",
       "  <thead>\n",
       "    <tr style=\"text-align: right;\">\n",
       "      <th></th>\n",
       "      <th>reach</th>\n",
       "      <th>impact</th>\n",
       "      <th>confidence</th>\n",
       "      <th>efforts</th>\n",
       "    </tr>\n",
       "  </thead>\n",
       "  <tbody>\n",
       "    <tr>\n",
       "      <th>count</th>\n",
       "      <td>9.00</td>\n",
       "      <td>9.00</td>\n",
       "      <td>9.00</td>\n",
       "      <td>9.00</td>\n",
       "    </tr>\n",
       "    <tr>\n",
       "      <th>mean</th>\n",
       "      <td>4.78</td>\n",
       "      <td>4.78</td>\n",
       "      <td>5.56</td>\n",
       "      <td>4.89</td>\n",
       "    </tr>\n",
       "    <tr>\n",
       "      <th>std</th>\n",
       "      <td>3.15</td>\n",
       "      <td>3.19</td>\n",
       "      <td>3.05</td>\n",
       "      <td>2.80</td>\n",
       "    </tr>\n",
       "    <tr>\n",
       "      <th>min</th>\n",
       "      <td>1.00</td>\n",
       "      <td>1.00</td>\n",
       "      <td>1.00</td>\n",
       "      <td>1.00</td>\n",
       "    </tr>\n",
       "    <tr>\n",
       "      <th>25%</th>\n",
       "      <td>3.00</td>\n",
       "      <td>3.00</td>\n",
       "      <td>3.00</td>\n",
       "      <td>3.00</td>\n",
       "    </tr>\n",
       "    <tr>\n",
       "      <th>50%</th>\n",
       "      <td>3.00</td>\n",
       "      <td>3.00</td>\n",
       "      <td>7.00</td>\n",
       "      <td>5.00</td>\n",
       "    </tr>\n",
       "    <tr>\n",
       "      <th>75%</th>\n",
       "      <td>8.00</td>\n",
       "      <td>7.00</td>\n",
       "      <td>8.00</td>\n",
       "      <td>6.00</td>\n",
       "    </tr>\n",
       "    <tr>\n",
       "      <th>max</th>\n",
       "      <td>10.00</td>\n",
       "      <td>10.00</td>\n",
       "      <td>9.00</td>\n",
       "      <td>10.00</td>\n",
       "    </tr>\n",
       "  </tbody>\n",
       "</table>\n",
       "</div>"
      ],
      "text/plain": [
       "       reach  impact  confidence  efforts\n",
       "count   9.00    9.00        9.00     9.00\n",
       "mean    4.78    4.78        5.56     4.89\n",
       "std     3.15    3.19        3.05     2.80\n",
       "min     1.00    1.00        1.00     1.00\n",
       "25%     3.00    3.00        3.00     3.00\n",
       "50%     3.00    3.00        7.00     5.00\n",
       "75%     8.00    7.00        8.00     6.00\n",
       "max    10.00   10.00        9.00    10.00"
      ]
     },
     "metadata": {},
     "output_type": "display_data"
    },
    {
     "name": "stdout",
     "output_type": "stream",
     "text": [
      "Пропуски \n",
      "  hypothesis    0\n",
      "reach         0\n",
      "impact        0\n",
      "confidence    0\n",
      "efforts       0\n",
      "dtype: int64\n",
      "\n",
      " Дубликаты 0\n"
     ]
    },
    {
     "data": {
      "text/html": [
       "<div>\n",
       "<style scoped>\n",
       "    .dataframe tbody tr th:only-of-type {\n",
       "        vertical-align: middle;\n",
       "    }\n",
       "\n",
       "    .dataframe tbody tr th {\n",
       "        vertical-align: top;\n",
       "    }\n",
       "\n",
       "    .dataframe thead th {\n",
       "        text-align: right;\n",
       "    }\n",
       "</style>\n",
       "<table border=\"1\" class=\"dataframe\">\n",
       "  <thead>\n",
       "    <tr style=\"text-align: right;\">\n",
       "      <th></th>\n",
       "      <th>hypothesis</th>\n",
       "      <th>reach</th>\n",
       "      <th>impact</th>\n",
       "      <th>confidence</th>\n",
       "      <th>efforts</th>\n",
       "    </tr>\n",
       "  </thead>\n",
       "  <tbody>\n",
       "    <tr>\n",
       "      <th>0</th>\n",
       "      <td>Добавить два новых канала привлечения трафика, что позволит привлекать на 30% больше пользователей</td>\n",
       "      <td>3</td>\n",
       "      <td>10</td>\n",
       "      <td>8</td>\n",
       "      <td>6</td>\n",
       "    </tr>\n",
       "    <tr>\n",
       "      <th>1</th>\n",
       "      <td>Запустить собственную службу доставки, что сократит срок доставки заказов</td>\n",
       "      <td>2</td>\n",
       "      <td>5</td>\n",
       "      <td>4</td>\n",
       "      <td>10</td>\n",
       "    </tr>\n",
       "    <tr>\n",
       "      <th>2</th>\n",
       "      <td>Добавить блоки рекомендаций товаров на сайт интернет магазина, чтобы повысить конверсию и средний чек заказа</td>\n",
       "      <td>8</td>\n",
       "      <td>3</td>\n",
       "      <td>7</td>\n",
       "      <td>3</td>\n",
       "    </tr>\n",
       "    <tr>\n",
       "      <th>3</th>\n",
       "      <td>Изменить структура категорий, что увеличит конверсию, т.к. пользователи быстрее найдут нужный товар</td>\n",
       "      <td>8</td>\n",
       "      <td>3</td>\n",
       "      <td>3</td>\n",
       "      <td>8</td>\n",
       "    </tr>\n",
       "    <tr>\n",
       "      <th>4</th>\n",
       "      <td>Изменить цвет фона главной страницы, чтобы увеличить вовлеченность пользователей</td>\n",
       "      <td>3</td>\n",
       "      <td>1</td>\n",
       "      <td>1</td>\n",
       "      <td>1</td>\n",
       "    </tr>\n",
       "  </tbody>\n",
       "</table>\n",
       "</div>"
      ],
      "text/plain": [
       "                                                                                                     hypothesis  \\\n",
       "0            Добавить два новых канала привлечения трафика, что позволит привлекать на 30% больше пользователей   \n",
       "1                                     Запустить собственную службу доставки, что сократит срок доставки заказов   \n",
       "2  Добавить блоки рекомендаций товаров на сайт интернет магазина, чтобы повысить конверсию и средний чек заказа   \n",
       "3           Изменить структура категорий, что увеличит конверсию, т.к. пользователи быстрее найдут нужный товар   \n",
       "4                              Изменить цвет фона главной страницы, чтобы увеличить вовлеченность пользователей   \n",
       "\n",
       "   reach  impact  confidence  efforts  \n",
       "0      3      10           8        6  \n",
       "1      2       5           4       10  \n",
       "2      8       3           7        3  \n",
       "3      8       3           3        8  \n",
       "4      3       1           1        1  "
      ]
     },
     "metadata": {},
     "output_type": "display_data"
    }
   ],
   "source": [
    "research(data)"
   ]
  },
  {
   "cell_type": "code",
   "execution_count": 6,
   "id": "50308c4d",
   "metadata": {},
   "outputs": [
    {
     "name": "stdout",
     "output_type": "stream",
     "text": [
      "<class 'pandas.core.frame.DataFrame'>\n",
      "RangeIndex: 1197 entries, 0 to 1196\n",
      "Data columns (total 5 columns):\n",
      " #   Column         Non-Null Count  Dtype \n",
      "---  ------         --------------  ----- \n",
      " 0   transactionid  1197 non-null   int64 \n",
      " 1   visitorid      1197 non-null   int64 \n",
      " 2   date           1197 non-null   object\n",
      " 3   revenue        1197 non-null   int64 \n",
      " 4   group          1197 non-null   object\n",
      "dtypes: int64(3), object(2)\n",
      "memory usage: 46.9+ KB\n"
     ]
    },
    {
     "data": {
      "text/plain": [
       "None"
      ]
     },
     "metadata": {},
     "output_type": "display_data"
    },
    {
     "data": {
      "text/html": [
       "<div>\n",
       "<style scoped>\n",
       "    .dataframe tbody tr th:only-of-type {\n",
       "        vertical-align: middle;\n",
       "    }\n",
       "\n",
       "    .dataframe tbody tr th {\n",
       "        vertical-align: top;\n",
       "    }\n",
       "\n",
       "    .dataframe thead th {\n",
       "        text-align: right;\n",
       "    }\n",
       "</style>\n",
       "<table border=\"1\" class=\"dataframe\">\n",
       "  <thead>\n",
       "    <tr style=\"text-align: right;\">\n",
       "      <th></th>\n",
       "      <th>transactionid</th>\n",
       "      <th>visitorid</th>\n",
       "      <th>revenue</th>\n",
       "    </tr>\n",
       "  </thead>\n",
       "  <tbody>\n",
       "    <tr>\n",
       "      <th>count</th>\n",
       "      <td>1,197.00</td>\n",
       "      <td>1,197.00</td>\n",
       "      <td>1,197.00</td>\n",
       "    </tr>\n",
       "    <tr>\n",
       "      <th>mean</th>\n",
       "      <td>2,155,621,385.53</td>\n",
       "      <td>2,165,960,143.10</td>\n",
       "      <td>8,348.01</td>\n",
       "    </tr>\n",
       "    <tr>\n",
       "      <th>std</th>\n",
       "      <td>1,229,084,904.76</td>\n",
       "      <td>1,236,014,192.15</td>\n",
       "      <td>39,191.13</td>\n",
       "    </tr>\n",
       "    <tr>\n",
       "      <th>min</th>\n",
       "      <td>1,062,393.00</td>\n",
       "      <td>5,114,589.00</td>\n",
       "      <td>50.00</td>\n",
       "    </tr>\n",
       "    <tr>\n",
       "      <th>25%</th>\n",
       "      <td>1,166,775,572.00</td>\n",
       "      <td>1,111,826,046.00</td>\n",
       "      <td>1,220.00</td>\n",
       "    </tr>\n",
       "    <tr>\n",
       "      <th>50%</th>\n",
       "      <td>2,145,193,898.00</td>\n",
       "      <td>2,217,984,702.00</td>\n",
       "      <td>2,978.00</td>\n",
       "    </tr>\n",
       "    <tr>\n",
       "      <th>75%</th>\n",
       "      <td>3,237,740,112.00</td>\n",
       "      <td>3,177,606,451.00</td>\n",
       "      <td>8,290.00</td>\n",
       "    </tr>\n",
       "    <tr>\n",
       "      <th>max</th>\n",
       "      <td>4,293,855,558.00</td>\n",
       "      <td>4,283,872,382.00</td>\n",
       "      <td>1,294,500.00</td>\n",
       "    </tr>\n",
       "  </tbody>\n",
       "</table>\n",
       "</div>"
      ],
      "text/plain": [
       "         transactionid        visitorid      revenue\n",
       "count         1,197.00         1,197.00     1,197.00\n",
       "mean  2,155,621,385.53 2,165,960,143.10     8,348.01\n",
       "std   1,229,084,904.76 1,236,014,192.15    39,191.13\n",
       "min       1,062,393.00     5,114,589.00        50.00\n",
       "25%   1,166,775,572.00 1,111,826,046.00     1,220.00\n",
       "50%   2,145,193,898.00 2,217,984,702.00     2,978.00\n",
       "75%   3,237,740,112.00 3,177,606,451.00     8,290.00\n",
       "max   4,293,855,558.00 4,283,872,382.00 1,294,500.00"
      ]
     },
     "metadata": {},
     "output_type": "display_data"
    },
    {
     "name": "stdout",
     "output_type": "stream",
     "text": [
      "Пропуски \n",
      "  transactionid    0\n",
      "visitorid        0\n",
      "date             0\n",
      "revenue          0\n",
      "group            0\n",
      "dtype: int64\n",
      "\n",
      " Дубликаты 0\n"
     ]
    },
    {
     "data": {
      "text/html": [
       "<div>\n",
       "<style scoped>\n",
       "    .dataframe tbody tr th:only-of-type {\n",
       "        vertical-align: middle;\n",
       "    }\n",
       "\n",
       "    .dataframe tbody tr th {\n",
       "        vertical-align: top;\n",
       "    }\n",
       "\n",
       "    .dataframe thead th {\n",
       "        text-align: right;\n",
       "    }\n",
       "</style>\n",
       "<table border=\"1\" class=\"dataframe\">\n",
       "  <thead>\n",
       "    <tr style=\"text-align: right;\">\n",
       "      <th></th>\n",
       "      <th>transactionid</th>\n",
       "      <th>visitorid</th>\n",
       "      <th>date</th>\n",
       "      <th>revenue</th>\n",
       "      <th>group</th>\n",
       "    </tr>\n",
       "  </thead>\n",
       "  <tbody>\n",
       "    <tr>\n",
       "      <th>0</th>\n",
       "      <td>3667963787</td>\n",
       "      <td>3312258926</td>\n",
       "      <td>2019-08-15</td>\n",
       "      <td>1650</td>\n",
       "      <td>B</td>\n",
       "    </tr>\n",
       "    <tr>\n",
       "      <th>1</th>\n",
       "      <td>2804400009</td>\n",
       "      <td>3642806036</td>\n",
       "      <td>2019-08-15</td>\n",
       "      <td>730</td>\n",
       "      <td>B</td>\n",
       "    </tr>\n",
       "    <tr>\n",
       "      <th>2</th>\n",
       "      <td>2961555356</td>\n",
       "      <td>4069496402</td>\n",
       "      <td>2019-08-15</td>\n",
       "      <td>400</td>\n",
       "      <td>A</td>\n",
       "    </tr>\n",
       "    <tr>\n",
       "      <th>3</th>\n",
       "      <td>3797467345</td>\n",
       "      <td>1196621759</td>\n",
       "      <td>2019-08-15</td>\n",
       "      <td>9759</td>\n",
       "      <td>B</td>\n",
       "    </tr>\n",
       "    <tr>\n",
       "      <th>4</th>\n",
       "      <td>2282983706</td>\n",
       "      <td>2322279887</td>\n",
       "      <td>2019-08-15</td>\n",
       "      <td>2308</td>\n",
       "      <td>B</td>\n",
       "    </tr>\n",
       "  </tbody>\n",
       "</table>\n",
       "</div>"
      ],
      "text/plain": [
       "   transactionid   visitorid        date  revenue group\n",
       "0     3667963787  3312258926  2019-08-15     1650     B\n",
       "1     2804400009  3642806036  2019-08-15      730     B\n",
       "2     2961555356  4069496402  2019-08-15      400     A\n",
       "3     3797467345  1196621759  2019-08-15     9759     B\n",
       "4     2282983706  2322279887  2019-08-15     2308     B"
      ]
     },
     "metadata": {},
     "output_type": "display_data"
    }
   ],
   "source": [
    "research(orders)"
   ]
  },
  {
   "cell_type": "code",
   "execution_count": 7,
   "id": "2fed24a8",
   "metadata": {},
   "outputs": [
    {
     "name": "stdout",
     "output_type": "stream",
     "text": [
      "<class 'pandas.core.frame.DataFrame'>\n",
      "RangeIndex: 62 entries, 0 to 61\n",
      "Data columns (total 3 columns):\n",
      " #   Column    Non-Null Count  Dtype \n",
      "---  ------    --------------  ----- \n",
      " 0   date      62 non-null     object\n",
      " 1   group     62 non-null     object\n",
      " 2   visitors  62 non-null     int64 \n",
      "dtypes: int64(1), object(2)\n",
      "memory usage: 1.6+ KB\n"
     ]
    },
    {
     "data": {
      "text/plain": [
       "None"
      ]
     },
     "metadata": {},
     "output_type": "display_data"
    },
    {
     "data": {
      "text/html": [
       "<div>\n",
       "<style scoped>\n",
       "    .dataframe tbody tr th:only-of-type {\n",
       "        vertical-align: middle;\n",
       "    }\n",
       "\n",
       "    .dataframe tbody tr th {\n",
       "        vertical-align: top;\n",
       "    }\n",
       "\n",
       "    .dataframe thead th {\n",
       "        text-align: right;\n",
       "    }\n",
       "</style>\n",
       "<table border=\"1\" class=\"dataframe\">\n",
       "  <thead>\n",
       "    <tr style=\"text-align: right;\">\n",
       "      <th></th>\n",
       "      <th>visitors</th>\n",
       "    </tr>\n",
       "  </thead>\n",
       "  <tbody>\n",
       "    <tr>\n",
       "      <th>count</th>\n",
       "      <td>62.00</td>\n",
       "    </tr>\n",
       "    <tr>\n",
       "      <th>mean</th>\n",
       "      <td>607.29</td>\n",
       "    </tr>\n",
       "    <tr>\n",
       "      <th>std</th>\n",
       "      <td>114.40</td>\n",
       "    </tr>\n",
       "    <tr>\n",
       "      <th>min</th>\n",
       "      <td>361.00</td>\n",
       "    </tr>\n",
       "    <tr>\n",
       "      <th>25%</th>\n",
       "      <td>534.00</td>\n",
       "    </tr>\n",
       "    <tr>\n",
       "      <th>50%</th>\n",
       "      <td>624.50</td>\n",
       "    </tr>\n",
       "    <tr>\n",
       "      <th>75%</th>\n",
       "      <td>710.50</td>\n",
       "    </tr>\n",
       "    <tr>\n",
       "      <th>max</th>\n",
       "      <td>770.00</td>\n",
       "    </tr>\n",
       "  </tbody>\n",
       "</table>\n",
       "</div>"
      ],
      "text/plain": [
       "       visitors\n",
       "count     62.00\n",
       "mean     607.29\n",
       "std      114.40\n",
       "min      361.00\n",
       "25%      534.00\n",
       "50%      624.50\n",
       "75%      710.50\n",
       "max      770.00"
      ]
     },
     "metadata": {},
     "output_type": "display_data"
    },
    {
     "name": "stdout",
     "output_type": "stream",
     "text": [
      "Пропуски \n",
      "  date        0\n",
      "group       0\n",
      "visitors    0\n",
      "dtype: int64\n",
      "\n",
      " Дубликаты 0\n"
     ]
    },
    {
     "data": {
      "text/html": [
       "<div>\n",
       "<style scoped>\n",
       "    .dataframe tbody tr th:only-of-type {\n",
       "        vertical-align: middle;\n",
       "    }\n",
       "\n",
       "    .dataframe tbody tr th {\n",
       "        vertical-align: top;\n",
       "    }\n",
       "\n",
       "    .dataframe thead th {\n",
       "        text-align: right;\n",
       "    }\n",
       "</style>\n",
       "<table border=\"1\" class=\"dataframe\">\n",
       "  <thead>\n",
       "    <tr style=\"text-align: right;\">\n",
       "      <th></th>\n",
       "      <th>date</th>\n",
       "      <th>group</th>\n",
       "      <th>visitors</th>\n",
       "    </tr>\n",
       "  </thead>\n",
       "  <tbody>\n",
       "    <tr>\n",
       "      <th>0</th>\n",
       "      <td>2019-08-01</td>\n",
       "      <td>A</td>\n",
       "      <td>719</td>\n",
       "    </tr>\n",
       "    <tr>\n",
       "      <th>1</th>\n",
       "      <td>2019-08-02</td>\n",
       "      <td>A</td>\n",
       "      <td>619</td>\n",
       "    </tr>\n",
       "    <tr>\n",
       "      <th>2</th>\n",
       "      <td>2019-08-03</td>\n",
       "      <td>A</td>\n",
       "      <td>507</td>\n",
       "    </tr>\n",
       "    <tr>\n",
       "      <th>3</th>\n",
       "      <td>2019-08-04</td>\n",
       "      <td>A</td>\n",
       "      <td>717</td>\n",
       "    </tr>\n",
       "    <tr>\n",
       "      <th>4</th>\n",
       "      <td>2019-08-05</td>\n",
       "      <td>A</td>\n",
       "      <td>756</td>\n",
       "    </tr>\n",
       "  </tbody>\n",
       "</table>\n",
       "</div>"
      ],
      "text/plain": [
       "         date group  visitors\n",
       "0  2019-08-01     A       719\n",
       "1  2019-08-02     A       619\n",
       "2  2019-08-03     A       507\n",
       "3  2019-08-04     A       717\n",
       "4  2019-08-05     A       756"
      ]
     },
     "metadata": {},
     "output_type": "display_data"
    }
   ],
   "source": [
    "research(visitors)"
   ]
  },
  {
   "cell_type": "markdown",
   "id": "93b35546",
   "metadata": {},
   "source": [
    "Вывод по данным"
   ]
  },
  {
   "cell_type": "markdown",
   "id": "38008ca0",
   "metadata": {},
   "source": [
    "<div style=\"border:solid blue 2px; padding: 20px\">\n",
    "Данные изучены и предварительно предобработаны. \n",
    "\n",
    "    Были преведены названия колонок к нужному формату. Посмотрели на будликаты и пропуски в данных\n",
    "    \n",
    "    Теперь можно приступать к дальнейшим шагам по проекту"
   ]
  },
  {
   "cell_type": "markdown",
   "id": "1f7efbea",
   "metadata": {},
   "source": [
    "___"
   ]
  },
  {
   "cell_type": "markdown",
   "id": "d3c2e4c0",
   "metadata": {},
   "source": [
    "## Приоритезация гипотез"
   ]
  },
  {
   "cell_type": "code",
   "execution_count": 8,
   "id": "1b6c9864",
   "metadata": {},
   "outputs": [
    {
     "data": {
      "text/html": [
       "<div>\n",
       "<style scoped>\n",
       "    .dataframe tbody tr th:only-of-type {\n",
       "        vertical-align: middle;\n",
       "    }\n",
       "\n",
       "    .dataframe tbody tr th {\n",
       "        vertical-align: top;\n",
       "    }\n",
       "\n",
       "    .dataframe thead th {\n",
       "        text-align: right;\n",
       "    }\n",
       "</style>\n",
       "<table border=\"1\" class=\"dataframe\">\n",
       "  <thead>\n",
       "    <tr style=\"text-align: right;\">\n",
       "      <th></th>\n",
       "      <th>hypothesis</th>\n",
       "      <th>reach</th>\n",
       "      <th>impact</th>\n",
       "      <th>confidence</th>\n",
       "      <th>efforts</th>\n",
       "    </tr>\n",
       "  </thead>\n",
       "  <tbody>\n",
       "    <tr>\n",
       "      <th>0</th>\n",
       "      <td>Добавить два новых канала привлечения трафика, что позволит привлекать на 30% больше пользователей</td>\n",
       "      <td>3</td>\n",
       "      <td>10</td>\n",
       "      <td>8</td>\n",
       "      <td>6</td>\n",
       "    </tr>\n",
       "    <tr>\n",
       "      <th>1</th>\n",
       "      <td>Запустить собственную службу доставки, что сократит срок доставки заказов</td>\n",
       "      <td>2</td>\n",
       "      <td>5</td>\n",
       "      <td>4</td>\n",
       "      <td>10</td>\n",
       "    </tr>\n",
       "    <tr>\n",
       "      <th>2</th>\n",
       "      <td>Добавить блоки рекомендаций товаров на сайт интернет магазина, чтобы повысить конверсию и средний чек заказа</td>\n",
       "      <td>8</td>\n",
       "      <td>3</td>\n",
       "      <td>7</td>\n",
       "      <td>3</td>\n",
       "    </tr>\n",
       "    <tr>\n",
       "      <th>3</th>\n",
       "      <td>Изменить структура категорий, что увеличит конверсию, т.к. пользователи быстрее найдут нужный товар</td>\n",
       "      <td>8</td>\n",
       "      <td>3</td>\n",
       "      <td>3</td>\n",
       "      <td>8</td>\n",
       "    </tr>\n",
       "    <tr>\n",
       "      <th>4</th>\n",
       "      <td>Изменить цвет фона главной страницы, чтобы увеличить вовлеченность пользователей</td>\n",
       "      <td>3</td>\n",
       "      <td>1</td>\n",
       "      <td>1</td>\n",
       "      <td>1</td>\n",
       "    </tr>\n",
       "  </tbody>\n",
       "</table>\n",
       "</div>"
      ],
      "text/plain": [
       "                                                                                                     hypothesis  \\\n",
       "0            Добавить два новых канала привлечения трафика, что позволит привлекать на 30% больше пользователей   \n",
       "1                                     Запустить собственную службу доставки, что сократит срок доставки заказов   \n",
       "2  Добавить блоки рекомендаций товаров на сайт интернет магазина, чтобы повысить конверсию и средний чек заказа   \n",
       "3           Изменить структура категорий, что увеличит конверсию, т.к. пользователи быстрее найдут нужный товар   \n",
       "4                              Изменить цвет фона главной страницы, чтобы увеличить вовлеченность пользователей   \n",
       "\n",
       "   reach  impact  confidence  efforts  \n",
       "0      3      10           8        6  \n",
       "1      2       5           4       10  \n",
       "2      8       3           7        3  \n",
       "3      8       3           3        8  \n",
       "4      3       1           1        1  "
      ]
     },
     "execution_count": 8,
     "metadata": {},
     "output_type": "execute_result"
    }
   ],
   "source": [
    "data.head()"
   ]
  },
  {
   "cell_type": "markdown",
   "id": "c0341acb",
   "metadata": {},
   "source": [
    "### ICE"
   ]
  },
  {
   "cell_type": "markdown",
   "id": "beacd5db",
   "metadata": {},
   "source": [
    "Расставим приоритет гипотез по методу ICE"
   ]
  },
  {
   "cell_type": "code",
   "execution_count": 9,
   "id": "f71e60be",
   "metadata": {},
   "outputs": [
    {
     "data": {
      "text/html": [
       "<div>\n",
       "<style scoped>\n",
       "    .dataframe tbody tr th:only-of-type {\n",
       "        vertical-align: middle;\n",
       "    }\n",
       "\n",
       "    .dataframe tbody tr th {\n",
       "        vertical-align: top;\n",
       "    }\n",
       "\n",
       "    .dataframe thead th {\n",
       "        text-align: right;\n",
       "    }\n",
       "</style>\n",
       "<table border=\"1\" class=\"dataframe\">\n",
       "  <thead>\n",
       "    <tr style=\"text-align: right;\">\n",
       "      <th></th>\n",
       "      <th>hypothesis</th>\n",
       "      <th>ICE</th>\n",
       "    </tr>\n",
       "  </thead>\n",
       "  <tbody>\n",
       "    <tr>\n",
       "      <th>8</th>\n",
       "      <td>Запустить акцию, дающую скидку на товар в день рождения</td>\n",
       "      <td>16.20</td>\n",
       "    </tr>\n",
       "    <tr>\n",
       "      <th>0</th>\n",
       "      <td>Добавить два новых канала привлечения трафика, что позволит привлекать на 30% больше пользователей</td>\n",
       "      <td>13.33</td>\n",
       "    </tr>\n",
       "    <tr>\n",
       "      <th>7</th>\n",
       "      <td>Добавить форму подписки на все основные страницы, чтобы собрать базу клиентов для email-рассылок</td>\n",
       "      <td>11.20</td>\n",
       "    </tr>\n",
       "    <tr>\n",
       "      <th>6</th>\n",
       "      <td>Показать на главной странице баннеры с актуальными акциями и распродажами, чтобы увеличить конверсию</td>\n",
       "      <td>8.00</td>\n",
       "    </tr>\n",
       "    <tr>\n",
       "      <th>2</th>\n",
       "      <td>Добавить блоки рекомендаций товаров на сайт интернет магазина, чтобы повысить конверсию и средний чек заказа</td>\n",
       "      <td>7.00</td>\n",
       "    </tr>\n",
       "    <tr>\n",
       "      <th>1</th>\n",
       "      <td>Запустить собственную службу доставки, что сократит срок доставки заказов</td>\n",
       "      <td>2.00</td>\n",
       "    </tr>\n",
       "    <tr>\n",
       "      <th>5</th>\n",
       "      <td>Добавить страницу отзывов клиентов о магазине, что позволит увеличить количество заказов</td>\n",
       "      <td>1.33</td>\n",
       "    </tr>\n",
       "    <tr>\n",
       "      <th>3</th>\n",
       "      <td>Изменить структура категорий, что увеличит конверсию, т.к. пользователи быстрее найдут нужный товар</td>\n",
       "      <td>1.12</td>\n",
       "    </tr>\n",
       "    <tr>\n",
       "      <th>4</th>\n",
       "      <td>Изменить цвет фона главной страницы, чтобы увеличить вовлеченность пользователей</td>\n",
       "      <td>1.00</td>\n",
       "    </tr>\n",
       "  </tbody>\n",
       "</table>\n",
       "</div>"
      ],
      "text/plain": [
       "                                                                                                     hypothesis  \\\n",
       "8                                                       Запустить акцию, дающую скидку на товар в день рождения   \n",
       "0            Добавить два новых канала привлечения трафика, что позволит привлекать на 30% больше пользователей   \n",
       "7              Добавить форму подписки на все основные страницы, чтобы собрать базу клиентов для email-рассылок   \n",
       "6          Показать на главной странице баннеры с актуальными акциями и распродажами, чтобы увеличить конверсию   \n",
       "2  Добавить блоки рекомендаций товаров на сайт интернет магазина, чтобы повысить конверсию и средний чек заказа   \n",
       "1                                     Запустить собственную службу доставки, что сократит срок доставки заказов   \n",
       "5                      Добавить страницу отзывов клиентов о магазине, что позволит увеличить количество заказов   \n",
       "3           Изменить структура категорий, что увеличит конверсию, т.к. пользователи быстрее найдут нужный товар   \n",
       "4                              Изменить цвет фона главной страницы, чтобы увеличить вовлеченность пользователей   \n",
       "\n",
       "    ICE  \n",
       "8 16.20  \n",
       "0 13.33  \n",
       "7 11.20  \n",
       "6  8.00  \n",
       "2  7.00  \n",
       "1  2.00  \n",
       "5  1.33  \n",
       "3  1.12  \n",
       "4  1.00  "
      ]
     },
     "execution_count": 9,
     "metadata": {},
     "output_type": "execute_result"
    }
   ],
   "source": [
    "data['ICE'] = round(data['impact'] * data['confidence'] / data['efforts'], 2)\n",
    "data[['hypothesis', 'ICE']].sort_values('ICE', ascending=False)"
   ]
  },
  {
   "cell_type": "markdown",
   "id": "5d26b524",
   "metadata": {},
   "source": [
    "Первая тройка по приоритету слудющая: \"Запустить акцию, дающую скидку на товар в день рождения\", \"Добавить два новых канала привлечения трафика, что позволит привлекать на 30% больше пользователей\", \"Добавить форму подписки на все основные страницы, чтобы собрать базу клиентов для email-рассылок\"\n",
    "\n",
    "Также можно отметить, что гипотезы сформулированы весьма дурно. Например, \"Запустить акцию, дающую скидку на товар в день рождения\". Ради чего запускать данную акцию? Какой результат мы приследуем?"
   ]
  },
  {
   "cell_type": "markdown",
   "id": "3e0e8c9b",
   "metadata": {},
   "source": [
    "### RICE"
   ]
  },
  {
   "cell_type": "markdown",
   "id": "775774f6",
   "metadata": {},
   "source": [
    "Теперь приоритезируем гипотезы методом RICE"
   ]
  },
  {
   "cell_type": "code",
   "execution_count": 10,
   "id": "e649819d",
   "metadata": {
    "scrolled": true
   },
   "outputs": [
    {
     "data": {
      "text/html": [
       "<div>\n",
       "<style scoped>\n",
       "    .dataframe tbody tr th:only-of-type {\n",
       "        vertical-align: middle;\n",
       "    }\n",
       "\n",
       "    .dataframe tbody tr th {\n",
       "        vertical-align: top;\n",
       "    }\n",
       "\n",
       "    .dataframe thead th {\n",
       "        text-align: right;\n",
       "    }\n",
       "</style>\n",
       "<table border=\"1\" class=\"dataframe\">\n",
       "  <thead>\n",
       "    <tr style=\"text-align: right;\">\n",
       "      <th></th>\n",
       "      <th>hypothesis</th>\n",
       "      <th>RICE</th>\n",
       "    </tr>\n",
       "  </thead>\n",
       "  <tbody>\n",
       "    <tr>\n",
       "      <th>7</th>\n",
       "      <td>Добавить форму подписки на все основные страницы, чтобы собрать базу клиентов для email-рассылок</td>\n",
       "      <td>112.00</td>\n",
       "    </tr>\n",
       "    <tr>\n",
       "      <th>2</th>\n",
       "      <td>Добавить блоки рекомендаций товаров на сайт интернет магазина, чтобы повысить конверсию и средний чек заказа</td>\n",
       "      <td>56.00</td>\n",
       "    </tr>\n",
       "    <tr>\n",
       "      <th>0</th>\n",
       "      <td>Добавить два новых канала привлечения трафика, что позволит привлекать на 30% больше пользователей</td>\n",
       "      <td>40.00</td>\n",
       "    </tr>\n",
       "    <tr>\n",
       "      <th>6</th>\n",
       "      <td>Показать на главной странице баннеры с актуальными акциями и распродажами, чтобы увеличить конверсию</td>\n",
       "      <td>40.00</td>\n",
       "    </tr>\n",
       "    <tr>\n",
       "      <th>8</th>\n",
       "      <td>Запустить акцию, дающую скидку на товар в день рождения</td>\n",
       "      <td>16.20</td>\n",
       "    </tr>\n",
       "    <tr>\n",
       "      <th>3</th>\n",
       "      <td>Изменить структура категорий, что увеличит конверсию, т.к. пользователи быстрее найдут нужный товар</td>\n",
       "      <td>9.00</td>\n",
       "    </tr>\n",
       "    <tr>\n",
       "      <th>1</th>\n",
       "      <td>Запустить собственную службу доставки, что сократит срок доставки заказов</td>\n",
       "      <td>4.00</td>\n",
       "    </tr>\n",
       "    <tr>\n",
       "      <th>5</th>\n",
       "      <td>Добавить страницу отзывов клиентов о магазине, что позволит увеличить количество заказов</td>\n",
       "      <td>4.00</td>\n",
       "    </tr>\n",
       "    <tr>\n",
       "      <th>4</th>\n",
       "      <td>Изменить цвет фона главной страницы, чтобы увеличить вовлеченность пользователей</td>\n",
       "      <td>3.00</td>\n",
       "    </tr>\n",
       "  </tbody>\n",
       "</table>\n",
       "</div>"
      ],
      "text/plain": [
       "                                                                                                     hypothesis  \\\n",
       "7              Добавить форму подписки на все основные страницы, чтобы собрать базу клиентов для email-рассылок   \n",
       "2  Добавить блоки рекомендаций товаров на сайт интернет магазина, чтобы повысить конверсию и средний чек заказа   \n",
       "0            Добавить два новых канала привлечения трафика, что позволит привлекать на 30% больше пользователей   \n",
       "6          Показать на главной странице баннеры с актуальными акциями и распродажами, чтобы увеличить конверсию   \n",
       "8                                                       Запустить акцию, дающую скидку на товар в день рождения   \n",
       "3           Изменить структура категорий, что увеличит конверсию, т.к. пользователи быстрее найдут нужный товар   \n",
       "1                                     Запустить собственную службу доставки, что сократит срок доставки заказов   \n",
       "5                      Добавить страницу отзывов клиентов о магазине, что позволит увеличить количество заказов   \n",
       "4                              Изменить цвет фона главной страницы, чтобы увеличить вовлеченность пользователей   \n",
       "\n",
       "    RICE  \n",
       "7 112.00  \n",
       "2  56.00  \n",
       "0  40.00  \n",
       "6  40.00  \n",
       "8  16.20  \n",
       "3   9.00  \n",
       "1   4.00  \n",
       "5   4.00  \n",
       "4   3.00  "
      ]
     },
     "execution_count": 10,
     "metadata": {},
     "output_type": "execute_result"
    }
   ],
   "source": [
    "data['RICE'] = round(data['reach'] * data['impact'] * data['confidence'] / data['efforts'], 2)\n",
    "data[['hypothesis', 'RICE']].sort_values('RICE', ascending=False)"
   ]
  },
  {
   "cell_type": "markdown",
   "id": "dbc9b6ea",
   "metadata": {},
   "source": [
    "<div style=\"border:solid blue 2px; padding: 20px\">\n",
    "Результаты несколько изменились. В частности,  \"Запустить акцию, дающую скидку на товар в день рождения\" вылетело из топ-3. Все дело в параметре reach, который показывает охват пользователей. Чем больше пользователей охватывает изменение, тем больше данный параметр, и, соответсвенно, тем больше итоговый балл"
   ]
  },
  {
   "cell_type": "markdown",
   "id": "410cabcc",
   "metadata": {},
   "source": [
    "___"
   ]
  },
  {
   "cell_type": "markdown",
   "id": "4fd2babc",
   "metadata": {},
   "source": [
    "## Анализ A/B-теста"
   ]
  },
  {
   "cell_type": "markdown",
   "id": "562df4d1",
   "metadata": {},
   "source": [
    "### Проверка данных"
   ]
  },
  {
   "cell_type": "markdown",
   "id": "8feb7776",
   "metadata": {},
   "source": [
    "Для начала проверим: не \"перемешаны\" ли пользователи по группам. То есть нет ли пользователей, который попали в обе группы"
   ]
  },
  {
   "cell_type": "code",
   "execution_count": 11,
   "id": "6cf8b945",
   "metadata": {
    "scrolled": true
   },
   "outputs": [
    {
     "data": {
      "text/plain": [
       "visitorid    58\n",
       "group        58\n",
       "dtype: int64"
      ]
     },
     "metadata": {},
     "output_type": "display_data"
    }
   ],
   "source": [
    "df = (orders\n",
    "      .pivot_table(index='visitorid', values='group', aggfunc='nunique')\n",
    "      .reset_index()\n",
    "      .query('group > 1')\n",
    "     )\n",
    "display(df.count())"
   ]
  },
  {
   "cell_type": "markdown",
   "id": "1a97f999",
   "metadata": {},
   "source": [
    "Мы видим, что 58 пользователей попали в обе группы"
   ]
  },
  {
   "cell_type": "markdown",
   "id": "80ce5d34",
   "metadata": {},
   "source": [
    "Предлагаю убрать таких пользователей из датафрейма"
   ]
  },
  {
   "cell_type": "code",
   "execution_count": 12,
   "id": "a90b7f11",
   "metadata": {},
   "outputs": [],
   "source": [
    "# Список id перемешанных пользователей\n",
    "wrong_id = df['visitorid'].to_list()"
   ]
  },
  {
   "cell_type": "code",
   "execution_count": 13,
   "id": "324c482e",
   "metadata": {
    "scrolled": true
   },
   "outputs": [],
   "source": [
    "# Уберем их из датафрейма\n",
    "orders = orders.query('visitorid not in @wrong_id')"
   ]
  },
  {
   "cell_type": "code",
   "execution_count": 14,
   "id": "15cec100",
   "metadata": {},
   "outputs": [
    {
     "data": {
      "text/plain": [
       "visitorid    0\n",
       "group        0\n",
       "dtype: int64"
      ]
     },
     "metadata": {},
     "output_type": "display_data"
    }
   ],
   "source": [
    "# Проверим результат\n",
    "df = (orders\n",
    "      .pivot_table(index='visitorid', values='group', aggfunc='nunique')\n",
    "      .reset_index()\n",
    "      .query('group > 1')\n",
    "     )\n",
    "display(df.count())"
   ]
  },
  {
   "cell_type": "markdown",
   "id": "baf5f77c",
   "metadata": {},
   "source": [
    "Теперь перемешанных пользователей нет. "
   ]
  },
  {
   "cell_type": "code",
   "execution_count": 15,
   "id": "0b84098f",
   "metadata": {},
   "outputs": [
    {
     "data": {
      "text/plain": [
       "group\n",
       "A    445\n",
       "B    528\n",
       "Name: visitorid, dtype: int64"
      ]
     },
     "execution_count": 15,
     "metadata": {},
     "output_type": "execute_result"
    }
   ],
   "source": [
    "orders.groupby('group')['visitorid'].nunique()"
   ]
  },
  {
   "cell_type": "markdown",
   "id": "195537b9",
   "metadata": {},
   "source": [
    "Также нужно обратить внимание на то, что группы не равны по размеру. В будущем следует обратить на это внимание до проведения теста"
   ]
  },
  {
   "cell_type": "markdown",
   "id": "8f46ae87",
   "metadata": {},
   "source": [
    "### Подготовка данных для анализа"
   ]
  },
  {
   "cell_type": "markdown",
   "id": "3f799954",
   "metadata": {},
   "source": [
    "Подготовим данные для анализа A/B теста"
   ]
  },
  {
   "cell_type": "code",
   "execution_count": 16,
   "id": "f4974051",
   "metadata": {},
   "outputs": [],
   "source": [
    "# Уникальные пары значений дата-группа\n",
    "datesGroups = orders[['date','group']].drop_duplicates() "
   ]
  },
  {
   "cell_type": "code",
   "execution_count": 17,
   "id": "1d86f5a0",
   "metadata": {},
   "outputs": [
    {
     "data": {
      "text/html": [
       "<div>\n",
       "<style scoped>\n",
       "    .dataframe tbody tr th:only-of-type {\n",
       "        vertical-align: middle;\n",
       "    }\n",
       "\n",
       "    .dataframe tbody tr th {\n",
       "        vertical-align: top;\n",
       "    }\n",
       "\n",
       "    .dataframe thead th {\n",
       "        text-align: right;\n",
       "    }\n",
       "</style>\n",
       "<table border=\"1\" class=\"dataframe\">\n",
       "  <thead>\n",
       "    <tr style=\"text-align: right;\">\n",
       "      <th></th>\n",
       "      <th>date</th>\n",
       "      <th>group</th>\n",
       "      <th>transactionid</th>\n",
       "      <th>visitorid</th>\n",
       "      <th>revenue</th>\n",
       "    </tr>\n",
       "  </thead>\n",
       "  <tbody>\n",
       "    <tr>\n",
       "      <th>55</th>\n",
       "      <td>2019-08-01</td>\n",
       "      <td>A</td>\n",
       "      <td>23</td>\n",
       "      <td>19</td>\n",
       "      <td>142779</td>\n",
       "    </tr>\n",
       "    <tr>\n",
       "      <th>66</th>\n",
       "      <td>2019-08-01</td>\n",
       "      <td>B</td>\n",
       "      <td>17</td>\n",
       "      <td>17</td>\n",
       "      <td>59758</td>\n",
       "    </tr>\n",
       "    <tr>\n",
       "      <th>175</th>\n",
       "      <td>2019-08-02</td>\n",
       "      <td>A</td>\n",
       "      <td>42</td>\n",
       "      <td>36</td>\n",
       "      <td>234381</td>\n",
       "    </tr>\n",
       "    <tr>\n",
       "      <th>173</th>\n",
       "      <td>2019-08-02</td>\n",
       "      <td>B</td>\n",
       "      <td>40</td>\n",
       "      <td>39</td>\n",
       "      <td>221801</td>\n",
       "    </tr>\n",
       "    <tr>\n",
       "      <th>291</th>\n",
       "      <td>2019-08-03</td>\n",
       "      <td>A</td>\n",
       "      <td>66</td>\n",
       "      <td>60</td>\n",
       "      <td>346854</td>\n",
       "    </tr>\n",
       "  </tbody>\n",
       "</table>\n",
       "</div>"
      ],
      "text/plain": [
       "           date group  transactionid  visitorid  revenue\n",
       "55   2019-08-01     A             23         19   142779\n",
       "66   2019-08-01     B             17         17    59758\n",
       "175  2019-08-02     A             42         36   234381\n",
       "173  2019-08-02     B             40         39   221801\n",
       "291  2019-08-03     A             66         60   346854"
      ]
     },
     "execution_count": 17,
     "metadata": {},
     "output_type": "execute_result"
    }
   ],
   "source": [
    "# Агрегируем значения для получения кумулятивного значения revenue по группам\n",
    "ordersAggregated = (datesGroups\n",
    "                    .apply(lambda x: orders[np.logical_and(orders['date'] <= x['date'],\n",
    "                                                           orders['group'] == x['group'])]\n",
    "                    .agg({'date' : 'max', 'group' : 'max', 'transactionid' : 'nunique', 'visitorid' : 'nunique', 'revenue' : 'sum'}), axis=1).sort_values(by=['date','group'])\n",
    "                   )\n",
    "ordersAggregated.head()"
   ]
  },
  {
   "cell_type": "code",
   "execution_count": 18,
   "id": "a12396a3",
   "metadata": {},
   "outputs": [
    {
     "data": {
      "text/html": [
       "<div>\n",
       "<style scoped>\n",
       "    .dataframe tbody tr th:only-of-type {\n",
       "        vertical-align: middle;\n",
       "    }\n",
       "\n",
       "    .dataframe tbody tr th {\n",
       "        vertical-align: top;\n",
       "    }\n",
       "\n",
       "    .dataframe thead th {\n",
       "        text-align: right;\n",
       "    }\n",
       "</style>\n",
       "<table border=\"1\" class=\"dataframe\">\n",
       "  <thead>\n",
       "    <tr style=\"text-align: right;\">\n",
       "      <th></th>\n",
       "      <th>date</th>\n",
       "      <th>group</th>\n",
       "      <th>visitors</th>\n",
       "    </tr>\n",
       "  </thead>\n",
       "  <tbody>\n",
       "    <tr>\n",
       "      <th>55</th>\n",
       "      <td>2019-08-01</td>\n",
       "      <td>A</td>\n",
       "      <td>719</td>\n",
       "    </tr>\n",
       "    <tr>\n",
       "      <th>66</th>\n",
       "      <td>2019-08-01</td>\n",
       "      <td>B</td>\n",
       "      <td>713</td>\n",
       "    </tr>\n",
       "    <tr>\n",
       "      <th>175</th>\n",
       "      <td>2019-08-02</td>\n",
       "      <td>A</td>\n",
       "      <td>1338</td>\n",
       "    </tr>\n",
       "    <tr>\n",
       "      <th>173</th>\n",
       "      <td>2019-08-02</td>\n",
       "      <td>B</td>\n",
       "      <td>1294</td>\n",
       "    </tr>\n",
       "    <tr>\n",
       "      <th>291</th>\n",
       "      <td>2019-08-03</td>\n",
       "      <td>A</td>\n",
       "      <td>1845</td>\n",
       "    </tr>\n",
       "  </tbody>\n",
       "</table>\n",
       "</div>"
      ],
      "text/plain": [
       "           date group  visitors\n",
       "55   2019-08-01     A       719\n",
       "66   2019-08-01     B       713\n",
       "175  2019-08-02     A      1338\n",
       "173  2019-08-02     B      1294\n",
       "291  2019-08-03     A      1845"
      ]
     },
     "execution_count": 18,
     "metadata": {},
     "output_type": "execute_result"
    }
   ],
   "source": [
    "#  Агрегируем значения для получения кумулятивного значения полтзователей по группам\n",
    "visitorsAggregated = (datesGroups\n",
    "                      .apply(lambda x: visitors[np.logical_and(visitors['date'] <= x['date'],\n",
    "                                                               visitors['group'] == x['group'])]\n",
    "                      .agg({'date' : 'max', 'group' : 'max', 'visitors' : 'sum'}), axis=1)\n",
    "                      .sort_values(by=['date','group'])\n",
    "                     )\n",
    "visitorsAggregated.head()"
   ]
  },
  {
   "cell_type": "code",
   "execution_count": 19,
   "id": "80b5df1f",
   "metadata": {},
   "outputs": [
    {
     "data": {
      "text/html": [
       "<div>\n",
       "<style scoped>\n",
       "    .dataframe tbody tr th:only-of-type {\n",
       "        vertical-align: middle;\n",
       "    }\n",
       "\n",
       "    .dataframe tbody tr th {\n",
       "        vertical-align: top;\n",
       "    }\n",
       "\n",
       "    .dataframe thead th {\n",
       "        text-align: right;\n",
       "    }\n",
       "</style>\n",
       "<table border=\"1\" class=\"dataframe\">\n",
       "  <thead>\n",
       "    <tr style=\"text-align: right;\">\n",
       "      <th></th>\n",
       "      <th>date</th>\n",
       "      <th>group</th>\n",
       "      <th>orders</th>\n",
       "      <th>buyers</th>\n",
       "      <th>revenue</th>\n",
       "      <th>visitors</th>\n",
       "    </tr>\n",
       "  </thead>\n",
       "  <tbody>\n",
       "    <tr>\n",
       "      <th>0</th>\n",
       "      <td>2019-08-01</td>\n",
       "      <td>A</td>\n",
       "      <td>23</td>\n",
       "      <td>19</td>\n",
       "      <td>142779</td>\n",
       "      <td>719</td>\n",
       "    </tr>\n",
       "    <tr>\n",
       "      <th>1</th>\n",
       "      <td>2019-08-01</td>\n",
       "      <td>B</td>\n",
       "      <td>17</td>\n",
       "      <td>17</td>\n",
       "      <td>59758</td>\n",
       "      <td>713</td>\n",
       "    </tr>\n",
       "    <tr>\n",
       "      <th>2</th>\n",
       "      <td>2019-08-02</td>\n",
       "      <td>A</td>\n",
       "      <td>42</td>\n",
       "      <td>36</td>\n",
       "      <td>234381</td>\n",
       "      <td>1338</td>\n",
       "    </tr>\n",
       "    <tr>\n",
       "      <th>3</th>\n",
       "      <td>2019-08-02</td>\n",
       "      <td>B</td>\n",
       "      <td>40</td>\n",
       "      <td>39</td>\n",
       "      <td>221801</td>\n",
       "      <td>1294</td>\n",
       "    </tr>\n",
       "    <tr>\n",
       "      <th>4</th>\n",
       "      <td>2019-08-03</td>\n",
       "      <td>A</td>\n",
       "      <td>66</td>\n",
       "      <td>60</td>\n",
       "      <td>346854</td>\n",
       "      <td>1845</td>\n",
       "    </tr>\n",
       "  </tbody>\n",
       "</table>\n",
       "</div>"
      ],
      "text/plain": [
       "         date group  orders  buyers  revenue  visitors\n",
       "0  2019-08-01     A      23      19   142779       719\n",
       "1  2019-08-01     B      17      17    59758       713\n",
       "2  2019-08-02     A      42      36   234381      1338\n",
       "3  2019-08-02     B      40      39   221801      1294\n",
       "4  2019-08-03     A      66      60   346854      1845"
      ]
     },
     "execution_count": 19,
     "metadata": {},
     "output_type": "execute_result"
    }
   ],
   "source": [
    "# Объеденим датафреймы\n",
    "cumulativeData = ordersAggregated.merge(visitorsAggregated, left_on=['date', 'group'], right_on=['date', 'group'])\n",
    "cumulativeData.columns = ['date', 'group', 'orders', 'buyers', 'revenue', 'visitors']\n",
    "\n",
    "cumulativeData.head(5)"
   ]
  },
  {
   "cell_type": "code",
   "execution_count": 20,
   "id": "dd20adef",
   "metadata": {},
   "outputs": [
    {
     "data": {
      "text/html": [
       "<div>\n",
       "<style scoped>\n",
       "    .dataframe tbody tr th:only-of-type {\n",
       "        vertical-align: middle;\n",
       "    }\n",
       "\n",
       "    .dataframe tbody tr th {\n",
       "        vertical-align: top;\n",
       "    }\n",
       "\n",
       "    .dataframe thead th {\n",
       "        text-align: right;\n",
       "    }\n",
       "</style>\n",
       "<table border=\"1\" class=\"dataframe\">\n",
       "  <thead>\n",
       "    <tr style=\"text-align: right;\">\n",
       "      <th></th>\n",
       "      <th>date</th>\n",
       "      <th>revenue</th>\n",
       "      <th>orders</th>\n",
       "    </tr>\n",
       "  </thead>\n",
       "  <tbody>\n",
       "    <tr>\n",
       "      <th>0</th>\n",
       "      <td>2019-08-01</td>\n",
       "      <td>142779</td>\n",
       "      <td>23</td>\n",
       "    </tr>\n",
       "    <tr>\n",
       "      <th>2</th>\n",
       "      <td>2019-08-02</td>\n",
       "      <td>234381</td>\n",
       "      <td>42</td>\n",
       "    </tr>\n",
       "    <tr>\n",
       "      <th>4</th>\n",
       "      <td>2019-08-03</td>\n",
       "      <td>346854</td>\n",
       "      <td>66</td>\n",
       "    </tr>\n",
       "    <tr>\n",
       "      <th>6</th>\n",
       "      <td>2019-08-04</td>\n",
       "      <td>388030</td>\n",
       "      <td>77</td>\n",
       "    </tr>\n",
       "    <tr>\n",
       "      <th>8</th>\n",
       "      <td>2019-08-05</td>\n",
       "      <td>474413</td>\n",
       "      <td>99</td>\n",
       "    </tr>\n",
       "  </tbody>\n",
       "</table>\n",
       "</div>"
      ],
      "text/plain": [
       "         date  revenue  orders\n",
       "0  2019-08-01   142779      23\n",
       "2  2019-08-02   234381      42\n",
       "4  2019-08-03   346854      66\n",
       "6  2019-08-04   388030      77\n",
       "8  2019-08-05   474413      99"
      ]
     },
     "metadata": {},
     "output_type": "display_data"
    },
    {
     "data": {
      "text/html": [
       "<div>\n",
       "<style scoped>\n",
       "    .dataframe tbody tr th:only-of-type {\n",
       "        vertical-align: middle;\n",
       "    }\n",
       "\n",
       "    .dataframe tbody tr th {\n",
       "        vertical-align: top;\n",
       "    }\n",
       "\n",
       "    .dataframe thead th {\n",
       "        text-align: right;\n",
       "    }\n",
       "</style>\n",
       "<table border=\"1\" class=\"dataframe\">\n",
       "  <thead>\n",
       "    <tr style=\"text-align: right;\">\n",
       "      <th></th>\n",
       "      <th>date</th>\n",
       "      <th>revenue</th>\n",
       "      <th>orders</th>\n",
       "    </tr>\n",
       "  </thead>\n",
       "  <tbody>\n",
       "    <tr>\n",
       "      <th>1</th>\n",
       "      <td>2019-08-01</td>\n",
       "      <td>59758</td>\n",
       "      <td>17</td>\n",
       "    </tr>\n",
       "    <tr>\n",
       "      <th>3</th>\n",
       "      <td>2019-08-02</td>\n",
       "      <td>221801</td>\n",
       "      <td>40</td>\n",
       "    </tr>\n",
       "    <tr>\n",
       "      <th>5</th>\n",
       "      <td>2019-08-03</td>\n",
       "      <td>288850</td>\n",
       "      <td>54</td>\n",
       "    </tr>\n",
       "    <tr>\n",
       "      <th>7</th>\n",
       "      <td>2019-08-04</td>\n",
       "      <td>385740</td>\n",
       "      <td>68</td>\n",
       "    </tr>\n",
       "    <tr>\n",
       "      <th>9</th>\n",
       "      <td>2019-08-05</td>\n",
       "      <td>475648</td>\n",
       "      <td>89</td>\n",
       "    </tr>\n",
       "  </tbody>\n",
       "</table>\n",
       "</div>"
      ],
      "text/plain": [
       "         date  revenue  orders\n",
       "1  2019-08-01    59758      17\n",
       "3  2019-08-02   221801      40\n",
       "5  2019-08-03   288850      54\n",
       "7  2019-08-04   385740      68\n",
       "9  2019-08-05   475648      89"
      ]
     },
     "metadata": {},
     "output_type": "display_data"
    }
   ],
   "source": [
    "cumulativeRevenueA = cumulativeData[cumulativeData['group']=='A'][['date','revenue', 'orders']]\n",
    "\n",
    "display(cumulativeRevenueA.head(5))\n",
    "\n",
    "cumulativeRevenueB = cumulativeData[cumulativeData['group']=='B'][['date','revenue', 'orders']]\n",
    "\n",
    "display(cumulativeRevenueB.head(5))"
   ]
  },
  {
   "cell_type": "markdown",
   "id": "5567f098",
   "metadata": {},
   "source": [
    "### График выручки по группам"
   ]
  },
  {
   "cell_type": "code",
   "execution_count": 21,
   "id": "c8272e15",
   "metadata": {},
   "outputs": [
    {
     "data": {
      "image/png": "[encoded data removed]",
      "text/plain": [
       "<Figure size 1080x360 with 1 Axes>"
      ]
     },
     "metadata": {
      "needs_background": "light"
     },
     "output_type": "display_data"
    }
   ],
   "source": [
    "plt.figure(figsize=(15, 5))\n",
    "\n",
    "# график выручки группы А\n",
    "plt.plot(cumulativeRevenueA['date'], cumulativeRevenueA['revenue'], label='A')\n",
    "\n",
    "# график выручки группы B\n",
    "plt.plot(cumulativeRevenueB['date'], cumulativeRevenueB['revenue'], label='B')\n",
    "\n",
    "font = {'color':  'darkblue',\n",
    "        'size': 16,\n",
    "        }\n",
    "\n",
    "\n",
    "plt.legend();\n",
    "plt.title('Накопительная выручка по группам', fontdict=font);\n",
    "plt.xlabel('дата', fontdict=font);\n",
    "plt.ylabel('выручка', fontdict=font);\n",
    "plt.xticks(rotation=45);\n"
   ]
  },
  {
   "cell_type": "markdown",
   "id": "e104571d",
   "metadata": {},
   "source": [
    "<div style=\"border:solid blue 2px; padding: 20px\">\n",
    "Выручка группы B практически всегда больше, чем у группы A. Также можно заметить резкий скачок в середине августа. Вероятно, в этот день был совершен крупный заказ пользователем из группы B"
   ]
  },
  {
   "cell_type": "markdown",
   "id": "017021b6",
   "metadata": {},
   "source": [
    "### График среднего чека"
   ]
  },
  {
   "cell_type": "code",
   "execution_count": 22,
   "id": "2aac5733",
   "metadata": {},
   "outputs": [
    {
     "data": {
      "image/png": "[encoded data removed]",
      "text/plain": [
       "<Figure size 1080x360 with 1 Axes>"
      ]
     },
     "metadata": {
      "needs_background": "light"
     },
     "output_type": "display_data"
    }
   ],
   "source": [
    "plt.figure(figsize=(15, 5))\n",
    "plt.plot(cumulativeRevenueA['date'], cumulativeRevenueA['revenue']/cumulativeRevenueA['orders'], label='A')\n",
    "plt.plot(cumulativeRevenueB['date'], cumulativeRevenueB['revenue']/cumulativeRevenueB['orders'], label='B')\n",
    "plt.legend();\n",
    "plt.title('Средний чек по группам', fontdict=font);\n",
    "plt.xlabel('дата', fontdict=font);\n",
    "plt.ylabel('Средний чек', fontdict=font);\n",
    "plt.xticks(rotation=45);"
   ]
  },
  {
   "cell_type": "markdown",
   "id": "55c97e22",
   "metadata": {},
   "source": [
    "<div style=\"border:solid blue 2px; padding: 20px\">\n",
    "Кумулятивное значение среднего чека весьма нестабильно. Здесь тоже можно отметить, что после 17го августа средний чек резко увеличился. Принимать решение по данной метрике явно не стоит. Значение для группы A после 13 августа \"устаканилось\" и находилось на отметке 6-7 тысяч"
   ]
  },
  {
   "cell_type": "markdown",
   "id": "50235432",
   "metadata": {},
   "source": [
    "### Относительный прирост среднего чека"
   ]
  },
  {
   "cell_type": "markdown",
   "id": "ee976961",
   "metadata": {},
   "source": [
    "Чтобы лучше изучить разницу между группами, построим график прироста среднего чека группы B, относительно группы A"
   ]
  },
  {
   "cell_type": "code",
   "execution_count": 23,
   "id": "52ef627d",
   "metadata": {},
   "outputs": [
    {
     "data": {
      "image/png": "[encoded data removed]",
      "text/plain": [
       "<Figure size 1080x360 with 1 Axes>"
      ]
     },
     "metadata": {
      "needs_background": "light"
     },
     "output_type": "display_data"
    }
   ],
   "source": [
    "# собираем данные в одном датафрейме\n",
    "mergedCumulativeRevenue = cumulativeRevenueA.merge(cumulativeRevenueB, left_on='date', \n",
    "                                                   right_on='date', how='left', suffixes=['A', 'B'])\n",
    "\n",
    "# cтроим отношение средних чеков\n",
    "plt.figure(figsize=(15, 5))\n",
    "plt.plot(mergedCumulativeRevenue['date'], \n",
    "         (mergedCumulativeRevenue['revenueB']/mergedCumulativeRevenue['ordersB'])/\n",
    "         (mergedCumulativeRevenue['revenueA']/mergedCumulativeRevenue['ordersA'])-1)\n",
    "plt.axhline(y=0, color='green', linestyle='--') \n",
    "plt.title('Относительный прирост среднего чека группы B относительно группы A', fontdict=font);\n",
    "plt.xlabel('дата', fontdict=font);\n",
    "plt.ylabel('Прирост', fontdict=font);\n",
    "plt.xticks(rotation=45);"
   ]
  },
  {
   "cell_type": "markdown",
   "id": "dec4d386",
   "metadata": {},
   "source": [
    "<div style=\"border:solid blue 2px; padding: 20px\">\n",
    "Результаты значительно менялись несколько раз. Скорее всего, в эти дни были совершены большие покупки. "
   ]
  },
  {
   "cell_type": "markdown",
   "id": "93526737",
   "metadata": {},
   "source": [
    "### Конверсия по группам"
   ]
  },
  {
   "cell_type": "markdown",
   "id": "453bae61",
   "metadata": {},
   "source": [
    "Предлагаю посмотреть на изменение конвесрий по группам. Это так же является важным показателем"
   ]
  },
  {
   "cell_type": "code",
   "execution_count": 24,
   "id": "da3b13d3",
   "metadata": {
    "scrolled": true
   },
   "outputs": [
    {
     "data": {
      "text/html": [
       "<div>\n",
       "<style scoped>\n",
       "    .dataframe tbody tr th:only-of-type {\n",
       "        vertical-align: middle;\n",
       "    }\n",
       "\n",
       "    .dataframe tbody tr th {\n",
       "        vertical-align: top;\n",
       "    }\n",
       "\n",
       "    .dataframe thead th {\n",
       "        text-align: right;\n",
       "    }\n",
       "</style>\n",
       "<table border=\"1\" class=\"dataframe\">\n",
       "  <thead>\n",
       "    <tr style=\"text-align: right;\">\n",
       "      <th></th>\n",
       "      <th>date</th>\n",
       "      <th>group</th>\n",
       "      <th>orders</th>\n",
       "      <th>buyers</th>\n",
       "      <th>revenue</th>\n",
       "      <th>visitors</th>\n",
       "      <th>conversion</th>\n",
       "    </tr>\n",
       "  </thead>\n",
       "  <tbody>\n",
       "    <tr>\n",
       "      <th>0</th>\n",
       "      <td>2019-08-01</td>\n",
       "      <td>A</td>\n",
       "      <td>23</td>\n",
       "      <td>19</td>\n",
       "      <td>142779</td>\n",
       "      <td>719</td>\n",
       "      <td>0.03</td>\n",
       "    </tr>\n",
       "    <tr>\n",
       "      <th>1</th>\n",
       "      <td>2019-08-01</td>\n",
       "      <td>B</td>\n",
       "      <td>17</td>\n",
       "      <td>17</td>\n",
       "      <td>59758</td>\n",
       "      <td>713</td>\n",
       "      <td>0.02</td>\n",
       "    </tr>\n",
       "    <tr>\n",
       "      <th>2</th>\n",
       "      <td>2019-08-02</td>\n",
       "      <td>A</td>\n",
       "      <td>42</td>\n",
       "      <td>36</td>\n",
       "      <td>234381</td>\n",
       "      <td>1338</td>\n",
       "      <td>0.03</td>\n",
       "    </tr>\n",
       "    <tr>\n",
       "      <th>3</th>\n",
       "      <td>2019-08-02</td>\n",
       "      <td>B</td>\n",
       "      <td>40</td>\n",
       "      <td>39</td>\n",
       "      <td>221801</td>\n",
       "      <td>1294</td>\n",
       "      <td>0.03</td>\n",
       "    </tr>\n",
       "    <tr>\n",
       "      <th>4</th>\n",
       "      <td>2019-08-03</td>\n",
       "      <td>A</td>\n",
       "      <td>66</td>\n",
       "      <td>60</td>\n",
       "      <td>346854</td>\n",
       "      <td>1845</td>\n",
       "      <td>0.04</td>\n",
       "    </tr>\n",
       "  </tbody>\n",
       "</table>\n",
       "</div>"
      ],
      "text/plain": [
       "         date group  orders  buyers  revenue  visitors  conversion\n",
       "0  2019-08-01     A      23      19   142779       719        0.03\n",
       "1  2019-08-01     B      17      17    59758       713        0.02\n",
       "2  2019-08-02     A      42      36   234381      1338        0.03\n",
       "3  2019-08-02     B      40      39   221801      1294        0.03\n",
       "4  2019-08-03     A      66      60   346854      1845        0.04"
      ]
     },
     "execution_count": 24,
     "metadata": {},
     "output_type": "execute_result"
    }
   ],
   "source": [
    "# Считаем конверсию\n",
    "cumulativeData['conversion'] = cumulativeData['orders']/cumulativeData['visitors']\n",
    "cumulativeData.head()"
   ]
  },
  {
   "cell_type": "code",
   "execution_count": 25,
   "id": "08981ea9",
   "metadata": {},
   "outputs": [],
   "source": [
    "# отделяем данные по группе A\n",
    "cumulativeDataA = cumulativeData[cumulativeData['group']=='A']\n",
    "# отделяем данные по группе B\n",
    "cumulativeDataB = cumulativeData[cumulativeData['group']=='B']"
   ]
  },
  {
   "cell_type": "code",
   "execution_count": 26,
   "id": "1202bc56",
   "metadata": {},
   "outputs": [
    {
     "data": {
      "image/png": "[encoded data removed]",
      "text/plain": [
       "<Figure size 1080x360 with 1 Axes>"
      ]
     },
     "metadata": {
      "needs_background": "light"
     },
     "output_type": "display_data"
    }
   ],
   "source": [
    "plt.figure(figsize=(15, 5))\n",
    "plt.plot(cumulativeDataA['date'], cumulativeDataA['conversion'], label='A')\n",
    "plt.plot(cumulativeDataB['date'], cumulativeDataB['conversion'], label='B')\n",
    "plt.axis([cumulativeData['date'].min(), cumulativeData['date'].max(), 0.022, 0.038])\n",
    "plt.legend()\n",
    "plt.title('Конверсия по группам', fontdict=font);\n",
    "plt.xlabel('дата', fontdict=font);\n",
    "plt.ylabel('Конверсия', fontdict=font);\n",
    "plt.xticks(rotation=45);"
   ]
  },
  {
   "cell_type": "markdown",
   "id": "2d2e9970",
   "metadata": {},
   "source": [
    "<div style=\"border:solid blue 2px; padding: 20px\">\n",
    "В самом начале тесат, конверсия группы A была больше. Но примерно 7 августа ситуация поменялась и конверсия группы B стала больше. Конверсия для группы A находилась примерно на отметке в 0.025Б а группы B - 0.03\n",
    "Еще стоит отметить, что в целом график выглядит симметрично. "
   ]
  },
  {
   "cell_type": "markdown",
   "id": "ccb91625",
   "metadata": {},
   "source": [
    "### Относительный прирост конверсии"
   ]
  },
  {
   "cell_type": "markdown",
   "id": "5d6183c7",
   "metadata": {},
   "source": [
    "Для более детального изучения конверсии построим график относительного прироста конверсии группы B относительно группы A"
   ]
  },
  {
   "cell_type": "code",
   "execution_count": 27,
   "id": "8d029184",
   "metadata": {},
   "outputs": [
    {
     "data": {
      "image/png": "[encoded data removed]",
      "text/plain": [
       "<Figure size 1080x360 with 1 Axes>"
      ]
     },
     "metadata": {
      "needs_background": "light"
     },
     "output_type": "display_data"
    }
   ],
   "source": [
    "# Объединяем данные\n",
    "mergedCumulativeConversions = (cumulativeDataA[['date','conversion']]\n",
    "                               .merge(cumulativeDataB[['date','conversion']], left_on='date', right_on='date', \n",
    "                                      how='left', suffixes=['A', 'B'])\n",
    "                            )\n",
    "# Строим график  \n",
    "plt.figure(figsize=(15, 5))\n",
    "plt.plot(mergedCumulativeConversions['date'], \n",
    "         mergedCumulativeConversions['conversionB']/mergedCumulativeConversions['conversionA']-1)\n",
    "\n",
    "\n",
    "plt.axhline(y=0, color='black', linestyle='--')\n",
    "plt.axhline(y=0.2, color='grey', linestyle='--')\n",
    "plt.axis([cumulativeData['date'].min(), cumulativeData['date'].max(), -0.25, 0.25])\n",
    "plt.title('Относительный прирост конверсии группы B относительно группы A', fontdict=font);\n",
    "plt.xlabel('дата', fontdict=font);\n",
    "plt.ylabel('Прирост', fontdict=font);\n",
    "plt.xticks(rotation=45);"
   ]
  },
  {
   "cell_type": "markdown",
   "id": "c0ae6943",
   "metadata": {},
   "source": [
    "<div style=\"border:solid blue 2px; padding: 20px\">\n",
    "Здесь мы видим, что начиная примерно с 7го августа, конверсия группы B постоянно превосзодила конвесию группы A в среднем на 0.1 - 0.2. В середине агуста относительный прирост даже превышал 0.2"
   ]
  },
  {
   "cell_type": "markdown",
   "id": "f0bdfd20",
   "metadata": {},
   "source": [
    "### Поиск аномальных значений"
   ]
  },
  {
   "cell_type": "markdown",
   "id": "8315061e",
   "metadata": {},
   "source": [
    "В данном пункте построим точечные графики по числу заказов по пользователям и по сумме заказов. посчитаем 95 и 99й процентили. Это понадобится нам при последующем проведении теста. "
   ]
  },
  {
   "cell_type": "code",
   "execution_count": 28,
   "id": "bab78a1c",
   "metadata": {},
   "outputs": [
    {
     "data": {
      "text/html": [
       "<div>\n",
       "<style scoped>\n",
       "    .dataframe tbody tr th:only-of-type {\n",
       "        vertical-align: middle;\n",
       "    }\n",
       "\n",
       "    .dataframe tbody tr th {\n",
       "        vertical-align: top;\n",
       "    }\n",
       "\n",
       "    .dataframe thead th {\n",
       "        text-align: right;\n",
       "    }\n",
       "</style>\n",
       "<table border=\"1\" class=\"dataframe\">\n",
       "  <thead>\n",
       "    <tr style=\"text-align: right;\">\n",
       "      <th></th>\n",
       "      <th>visitorid</th>\n",
       "      <th>transactionid</th>\n",
       "    </tr>\n",
       "  </thead>\n",
       "  <tbody>\n",
       "    <tr>\n",
       "      <th>908</th>\n",
       "      <td>3967698036</td>\n",
       "      <td>3</td>\n",
       "    </tr>\n",
       "    <tr>\n",
       "      <th>55</th>\n",
       "      <td>249864742</td>\n",
       "      <td>3</td>\n",
       "    </tr>\n",
       "    <tr>\n",
       "      <th>478</th>\n",
       "      <td>2108163459</td>\n",
       "      <td>3</td>\n",
       "    </tr>\n",
       "    <tr>\n",
       "      <th>687</th>\n",
       "      <td>2988190573</td>\n",
       "      <td>3</td>\n",
       "    </tr>\n",
       "    <tr>\n",
       "      <th>890</th>\n",
       "      <td>3908431265</td>\n",
       "      <td>3</td>\n",
       "    </tr>\n",
       "    <tr>\n",
       "      <th>...</th>\n",
       "      <td>...</td>\n",
       "      <td>...</td>\n",
       "    </tr>\n",
       "    <tr>\n",
       "      <th>331</th>\n",
       "      <td>1438226485</td>\n",
       "      <td>1</td>\n",
       "    </tr>\n",
       "    <tr>\n",
       "      <th>332</th>\n",
       "      <td>1452540367</td>\n",
       "      <td>1</td>\n",
       "    </tr>\n",
       "    <tr>\n",
       "      <th>333</th>\n",
       "      <td>1455323168</td>\n",
       "      <td>1</td>\n",
       "    </tr>\n",
       "    <tr>\n",
       "      <th>334</th>\n",
       "      <td>1455861274</td>\n",
       "      <td>1</td>\n",
       "    </tr>\n",
       "    <tr>\n",
       "      <th>972</th>\n",
       "      <td>4283872382</td>\n",
       "      <td>1</td>\n",
       "    </tr>\n",
       "  </tbody>\n",
       "</table>\n",
       "<p>973 rows × 2 columns</p>\n",
       "</div>"
      ],
      "text/plain": [
       "      visitorid  transactionid\n",
       "908  3967698036              3\n",
       "55    249864742              3\n",
       "478  2108163459              3\n",
       "687  2988190573              3\n",
       "890  3908431265              3\n",
       "..          ...            ...\n",
       "331  1438226485              1\n",
       "332  1452540367              1\n",
       "333  1455323168              1\n",
       "334  1455861274              1\n",
       "972  4283872382              1\n",
       "\n",
       "[973 rows x 2 columns]"
      ]
     },
     "execution_count": 28,
     "metadata": {},
     "output_type": "execute_result"
    }
   ],
   "source": [
    "orders_by_user = (orders\n",
    "                  .groupby('visitorid', as_index=False)\n",
    "                  ['transactionid'].nunique()\n",
    "                  .sort_values('transactionid', ascending=False)\n",
    "                 )\n",
    "orders_by_user"
   ]
  },
  {
   "cell_type": "code",
   "execution_count": 29,
   "id": "77fb727b",
   "metadata": {},
   "outputs": [
    {
     "data": {
      "image/png": "[encoded data removed]",
      "text/plain": [
       "<Figure size 432x288 with 1 Axes>"
      ]
     },
     "metadata": {
      "needs_background": "light"
     },
     "output_type": "display_data"
    }
   ],
   "source": [
    "x_values = pd.Series(range(0, len(orders_by_user)))\n",
    "\n",
    "\n",
    "plt.scatter(x_values, orders_by_user['transactionid'], alpha=0.5)  \n",
    "plt.title('Распределение числа заказов по пользователям')\n",
    "plt.xlabel('Число пользователей')\n",
    "plt.ylabel('Число заказов')\n",
    "plt.show()"
   ]
  },
  {
   "cell_type": "code",
   "execution_count": 30,
   "id": "b2930c1f",
   "metadata": {},
   "outputs": [
    {
     "data": {
      "text/plain": [
       "array([1., 2.])"
      ]
     },
     "execution_count": 30,
     "metadata": {},
     "output_type": "execute_result"
    }
   ],
   "source": [
    "np.percentile(orders_by_user['transactionid'], [95, 99])"
   ]
  },
  {
   "cell_type": "markdown",
   "id": "725ac59c",
   "metadata": {},
   "source": [
    "Не более чем у 1% пользователей более 2 заказов. Почти у всех пользователей по 1 заказу"
   ]
  },
  {
   "cell_type": "code",
   "execution_count": 31,
   "id": "4eda02be",
   "metadata": {},
   "outputs": [
    {
     "data": {
      "image/png": "[encoded data removed]",
      "text/plain": [
       "<Figure size 432x288 with 1 Axes>"
      ]
     },
     "metadata": {
      "needs_background": "light"
     },
     "output_type": "display_data"
    }
   ],
   "source": [
    "x_values = pd.Series(range(0, len(orders['revenue'])))\n",
    "\n",
    "plt.scatter(x_values, orders['revenue'], alpha=0.5) \n",
    "\n",
    "plt.title('Распределение стоимости заказов')\n",
    "plt.xlabel('Число пользователей')\n",
    "plt.ylabel('Стоимость заказов')\n",
    "plt.axis([0, 1100, 0, 120000])\n",
    "\n",
    "plt.show()"
   ]
  },
  {
   "cell_type": "code",
   "execution_count": 32,
   "id": "98fed268",
   "metadata": {},
   "outputs": [
    {
     "data": {
      "text/plain": [
       "array([26785., 53904.])"
      ]
     },
     "execution_count": 32,
     "metadata": {},
     "output_type": "execute_result"
    }
   ],
   "source": [
    "np.percentile(orders['revenue'], [95, 99])"
   ]
  },
  {
   "cell_type": "markdown",
   "id": "5a38cf81",
   "metadata": {},
   "source": [
    "Не более, чем у 5% пользователей сумма заказа более 26,7 тыс. руб. Не более, чем у 1% пользователей сумма заказа более 53,9 тыс. руб"
   ]
  },
  {
   "cell_type": "markdown",
   "id": "c6a72602",
   "metadata": {},
   "source": [
    "<div style=\"border:solid blue 2px; padding: 20px\">\n",
    "Поиск аномалий очень важный этап в анализе результатов A/B тестирования. В данном пункте мы нашли аномалии для числа заказов и для суммы заказов"
   ]
  },
  {
   "cell_type": "markdown",
   "id": "ef5dd8dc",
   "metadata": {},
   "source": [
    "___"
   ]
  },
  {
   "cell_type": "markdown",
   "id": "5638739c",
   "metadata": {},
   "source": [
    "## Тест"
   ]
  },
  {
   "cell_type": "markdown",
   "id": "904c4fb7",
   "metadata": {},
   "source": [
    "### Подготовка данных"
   ]
  },
  {
   "cell_type": "markdown",
   "id": "1e0c205b",
   "metadata": {},
   "source": [
    "Подготовим данные для проведения стат теста:\n",
    "- Подсчитаем кол-во посетитлей в день по группам\n",
    "- Подсчитаем кол-во заказов в день по группам\n",
    "- Соберем общий датафрейм для проведения тестов"
   ]
  },
  {
   "cell_type": "code",
   "execution_count": 33,
   "id": "01255162",
   "metadata": {},
   "outputs": [
    {
     "data": {
      "text/html": [
       "<div>\n",
       "<style scoped>\n",
       "    .dataframe tbody tr th:only-of-type {\n",
       "        vertical-align: middle;\n",
       "    }\n",
       "\n",
       "    .dataframe tbody tr th {\n",
       "        vertical-align: top;\n",
       "    }\n",
       "\n",
       "    .dataframe thead th {\n",
       "        text-align: right;\n",
       "    }\n",
       "</style>\n",
       "<table border=\"1\" class=\"dataframe\">\n",
       "  <thead>\n",
       "    <tr style=\"text-align: right;\">\n",
       "      <th></th>\n",
       "      <th>visitorid</th>\n",
       "      <th>group</th>\n",
       "    </tr>\n",
       "  </thead>\n",
       "  <tbody>\n",
       "  </tbody>\n",
       "</table>\n",
       "</div>"
      ],
      "text/plain": [
       "Empty DataFrame\n",
       "Columns: [visitorid, group]\n",
       "Index: []"
      ]
     },
     "execution_count": 33,
     "metadata": {},
     "output_type": "execute_result"
    }
   ],
   "source": [
    "check_group = (orders\n",
    "      .pivot_table(index='visitorid', values='group', aggfunc='nunique')\n",
    "      .reset_index()\n",
    "     )\n",
    "check_group.query('group > 1')"
   ]
  },
  {
   "cell_type": "code",
   "execution_count": 34,
   "id": "9bdf55b2",
   "metadata": {},
   "outputs": [
    {
     "data": {
      "text/html": [
       "<div>\n",
       "<style scoped>\n",
       "    .dataframe tbody tr th:only-of-type {\n",
       "        vertical-align: middle;\n",
       "    }\n",
       "\n",
       "    .dataframe tbody tr th {\n",
       "        vertical-align: top;\n",
       "    }\n",
       "\n",
       "    .dataframe thead th {\n",
       "        text-align: right;\n",
       "    }\n",
       "</style>\n",
       "<table border=\"1\" class=\"dataframe\">\n",
       "  <thead>\n",
       "    <tr style=\"text-align: right;\">\n",
       "      <th></th>\n",
       "      <th>date</th>\n",
       "      <th>visitorsCummulativeA</th>\n",
       "    </tr>\n",
       "  </thead>\n",
       "  <tbody>\n",
       "    <tr>\n",
       "      <th>0</th>\n",
       "      <td>2019-08-01</td>\n",
       "      <td>719</td>\n",
       "    </tr>\n",
       "    <tr>\n",
       "      <th>1</th>\n",
       "      <td>2019-08-02</td>\n",
       "      <td>1338</td>\n",
       "    </tr>\n",
       "    <tr>\n",
       "      <th>2</th>\n",
       "      <td>2019-08-03</td>\n",
       "      <td>1845</td>\n",
       "    </tr>\n",
       "    <tr>\n",
       "      <th>3</th>\n",
       "      <td>2019-08-04</td>\n",
       "      <td>2562</td>\n",
       "    </tr>\n",
       "    <tr>\n",
       "      <th>4</th>\n",
       "      <td>2019-08-05</td>\n",
       "      <td>3318</td>\n",
       "    </tr>\n",
       "  </tbody>\n",
       "</table>\n",
       "</div>"
      ],
      "text/plain": [
       "         date  visitorsCummulativeA\n",
       "0  2019-08-01                   719\n",
       "1  2019-08-02                  1338\n",
       "2  2019-08-03                  1845\n",
       "3  2019-08-04                  2562\n",
       "4  2019-08-05                  3318"
      ]
     },
     "execution_count": 34,
     "metadata": {},
     "output_type": "execute_result"
    }
   ],
   "source": [
    "# Подсчитаем посетителей в день для группы А (+ нарастающим итогом)\n",
    "visitorsADaily = visitors[visitors['group'] == 'A'][['date', 'visitors']]\n",
    "visitorsADaily.columns = ['date', 'visitorsPerDateA']\n",
    "\n",
    "visitorsACummulative = visitorsADaily.apply(\n",
    "    lambda x: visitorsADaily[visitorsADaily['date'] <= x['date']].agg(\n",
    "        {'date': 'max', 'visitorsPerDateA': 'sum'}\n",
    "    ),\n",
    "    axis=1,\n",
    ")\n",
    "visitorsACummulative.columns = ['date', 'visitorsCummulativeA']\n",
    "\n",
    "visitorsACummulative.head()"
   ]
  },
  {
   "cell_type": "code",
   "execution_count": 35,
   "id": "eb7560a3",
   "metadata": {},
   "outputs": [
    {
     "data": {
      "text/html": [
       "<div>\n",
       "<style scoped>\n",
       "    .dataframe tbody tr th:only-of-type {\n",
       "        vertical-align: middle;\n",
       "    }\n",
       "\n",
       "    .dataframe tbody tr th {\n",
       "        vertical-align: top;\n",
       "    }\n",
       "\n",
       "    .dataframe thead th {\n",
       "        text-align: right;\n",
       "    }\n",
       "</style>\n",
       "<table border=\"1\" class=\"dataframe\">\n",
       "  <thead>\n",
       "    <tr style=\"text-align: right;\">\n",
       "      <th></th>\n",
       "      <th>date</th>\n",
       "      <th>visitorsCummulativeB</th>\n",
       "    </tr>\n",
       "  </thead>\n",
       "  <tbody>\n",
       "    <tr>\n",
       "      <th>31</th>\n",
       "      <td>2019-08-01</td>\n",
       "      <td>713</td>\n",
       "    </tr>\n",
       "    <tr>\n",
       "      <th>32</th>\n",
       "      <td>2019-08-02</td>\n",
       "      <td>1294</td>\n",
       "    </tr>\n",
       "    <tr>\n",
       "      <th>33</th>\n",
       "      <td>2019-08-03</td>\n",
       "      <td>1803</td>\n",
       "    </tr>\n",
       "    <tr>\n",
       "      <th>34</th>\n",
       "      <td>2019-08-04</td>\n",
       "      <td>2573</td>\n",
       "    </tr>\n",
       "    <tr>\n",
       "      <th>35</th>\n",
       "      <td>2019-08-05</td>\n",
       "      <td>3280</td>\n",
       "    </tr>\n",
       "  </tbody>\n",
       "</table>\n",
       "</div>"
      ],
      "text/plain": [
       "          date  visitorsCummulativeB\n",
       "31  2019-08-01                   713\n",
       "32  2019-08-02                  1294\n",
       "33  2019-08-03                  1803\n",
       "34  2019-08-04                  2573\n",
       "35  2019-08-05                  3280"
      ]
     },
     "execution_count": 35,
     "metadata": {},
     "output_type": "execute_result"
    }
   ],
   "source": [
    "# Подсчитаем посетителей в день для группы B (+ нарастающим итогом)\n",
    "visitorsBDaily = visitors[visitors['group'] == 'B'][['date', 'visitors']]\n",
    "visitorsBDaily.columns = ['date', 'visitorsPerDateB']\n",
    "\n",
    "visitorsBCummulative = visitorsBDaily.apply(\n",
    "    lambda x: visitorsBDaily[visitorsBDaily['date'] <= x['date']].agg(\n",
    "        {'date': 'max', 'visitorsPerDateB': 'sum'}\n",
    "    ),\n",
    "    axis=1,\n",
    ")\n",
    "visitorsBCummulative.columns = ['date', 'visitorsCummulativeB']\n",
    "visitorsBCummulative.head()"
   ]
  },
  {
   "cell_type": "code",
   "execution_count": 36,
   "id": "1528f0e0",
   "metadata": {},
   "outputs": [
    {
     "data": {
      "text/html": [
       "<div>\n",
       "<style scoped>\n",
       "    .dataframe tbody tr th:only-of-type {\n",
       "        vertical-align: middle;\n",
       "    }\n",
       "\n",
       "    .dataframe tbody tr th {\n",
       "        vertical-align: top;\n",
       "    }\n",
       "\n",
       "    .dataframe thead th {\n",
       "        text-align: right;\n",
       "    }\n",
       "</style>\n",
       "<table border=\"1\" class=\"dataframe\">\n",
       "  <thead>\n",
       "    <tr style=\"text-align: right;\">\n",
       "      <th></th>\n",
       "      <th>date</th>\n",
       "      <th>ordersCummulativeA</th>\n",
       "      <th>revenueCummulativeA</th>\n",
       "    </tr>\n",
       "  </thead>\n",
       "  <tbody>\n",
       "    <tr>\n",
       "      <th>0</th>\n",
       "      <td>2019-08-01</td>\n",
       "      <td>19</td>\n",
       "      <td>142779</td>\n",
       "    </tr>\n",
       "    <tr>\n",
       "      <th>1</th>\n",
       "      <td>2019-08-02</td>\n",
       "      <td>37</td>\n",
       "      <td>234381</td>\n",
       "    </tr>\n",
       "    <tr>\n",
       "      <th>2</th>\n",
       "      <td>2019-08-03</td>\n",
       "      <td>61</td>\n",
       "      <td>346854</td>\n",
       "    </tr>\n",
       "    <tr>\n",
       "      <th>3</th>\n",
       "      <td>2019-08-04</td>\n",
       "      <td>72</td>\n",
       "      <td>388030</td>\n",
       "    </tr>\n",
       "    <tr>\n",
       "      <th>4</th>\n",
       "      <td>2019-08-05</td>\n",
       "      <td>94</td>\n",
       "      <td>474413</td>\n",
       "    </tr>\n",
       "  </tbody>\n",
       "</table>\n",
       "</div>"
      ],
      "text/plain": [
       "         date  ordersCummulativeA  revenueCummulativeA\n",
       "0  2019-08-01                  19               142779\n",
       "1  2019-08-02                  37               234381\n",
       "2  2019-08-03                  61               346854\n",
       "3  2019-08-04                  72               388030\n",
       "4  2019-08-05                  94               474413"
      ]
     },
     "execution_count": 36,
     "metadata": {},
     "output_type": "execute_result"
    }
   ],
   "source": [
    "# Подсчитаем кол-во заказов в день для группы A ( + нарастающим итогом)\n",
    "ordersADaily = (\n",
    "    orders[orders['group'] == 'A'][['date', 'transactionid', 'visitorid', 'revenue']]\n",
    "    .groupby('date', as_index=False)\n",
    "    .agg({'visitorid': pd.Series.nunique, 'revenue': 'sum'})\n",
    ")\n",
    "ordersADaily.columns = ['date', 'ordersPerDateA', 'revenuePerDateA']\n",
    "\n",
    "ordersACummulative = ordersADaily.apply(\n",
    "    lambda x: ordersADaily[ordersADaily['date'] <= x['date']].agg(\n",
    "        {'date': 'max', 'ordersPerDateA': 'sum', 'revenuePerDateA': 'sum'}\n",
    "    ),\n",
    "    axis=1,\n",
    ").sort_values(by=['date'])\n",
    "ordersACummulative.columns = [\n",
    "    'date',\n",
    "    'ordersCummulativeA',\n",
    "    'revenueCummulativeA',\n",
    "]\n",
    "\n",
    "ordersACummulative.head()"
   ]
  },
  {
   "cell_type": "code",
   "execution_count": 37,
   "id": "0906311a",
   "metadata": {},
   "outputs": [
    {
     "data": {
      "text/html": [
       "<div>\n",
       "<style scoped>\n",
       "    .dataframe tbody tr th:only-of-type {\n",
       "        vertical-align: middle;\n",
       "    }\n",
       "\n",
       "    .dataframe tbody tr th {\n",
       "        vertical-align: top;\n",
       "    }\n",
       "\n",
       "    .dataframe thead th {\n",
       "        text-align: right;\n",
       "    }\n",
       "</style>\n",
       "<table border=\"1\" class=\"dataframe\">\n",
       "  <thead>\n",
       "    <tr style=\"text-align: right;\">\n",
       "      <th></th>\n",
       "      <th>date</th>\n",
       "      <th>ordersCummulativeB</th>\n",
       "      <th>revenueCummulativeB</th>\n",
       "    </tr>\n",
       "  </thead>\n",
       "  <tbody>\n",
       "    <tr>\n",
       "      <th>0</th>\n",
       "      <td>2019-08-01</td>\n",
       "      <td>17</td>\n",
       "      <td>59758</td>\n",
       "    </tr>\n",
       "    <tr>\n",
       "      <th>1</th>\n",
       "      <td>2019-08-02</td>\n",
       "      <td>39</td>\n",
       "      <td>221801</td>\n",
       "    </tr>\n",
       "    <tr>\n",
       "      <th>2</th>\n",
       "      <td>2019-08-03</td>\n",
       "      <td>53</td>\n",
       "      <td>288850</td>\n",
       "    </tr>\n",
       "    <tr>\n",
       "      <th>3</th>\n",
       "      <td>2019-08-04</td>\n",
       "      <td>66</td>\n",
       "      <td>385740</td>\n",
       "    </tr>\n",
       "    <tr>\n",
       "      <th>4</th>\n",
       "      <td>2019-08-05</td>\n",
       "      <td>87</td>\n",
       "      <td>475648</td>\n",
       "    </tr>\n",
       "  </tbody>\n",
       "</table>\n",
       "</div>"
      ],
      "text/plain": [
       "         date  ordersCummulativeB  revenueCummulativeB\n",
       "0  2019-08-01                  17                59758\n",
       "1  2019-08-02                  39               221801\n",
       "2  2019-08-03                  53               288850\n",
       "3  2019-08-04                  66               385740\n",
       "4  2019-08-05                  87               475648"
      ]
     },
     "execution_count": 37,
     "metadata": {},
     "output_type": "execute_result"
    }
   ],
   "source": [
    "# Подсчитаем кол-во заказов в день для группы B (+ нарастающим итогом)\n",
    "ordersBDaily = (\n",
    "    orders[orders['group'] == 'B'][['date', 'transactionid', 'visitorid', 'revenue']]\n",
    "    .groupby('date', as_index=False)\n",
    "    .agg({'visitorid': pd.Series.nunique, 'revenue': 'sum'})\n",
    ")\n",
    "ordersBDaily.columns = ['date', 'ordersPerDateB', 'revenuePerDateB']\n",
    "\n",
    "ordersBCummulative = ordersBDaily.apply(\n",
    "    lambda x: ordersBDaily[ordersBDaily['date'] <= x['date']].agg(\n",
    "        {'date': 'max', 'ordersPerDateB': 'sum', 'revenuePerDateB': 'sum'}\n",
    "    ),\n",
    "    axis=1,\n",
    ").sort_values(by=['date'])\n",
    "ordersBCummulative.columns = [\n",
    "    'date',\n",
    "    'ordersCummulativeB',\n",
    "    'revenueCummulativeB',\n",
    "]\n",
    "\n",
    "ordersBCummulative.head()"
   ]
  },
  {
   "cell_type": "code",
   "execution_count": 38,
   "id": "6ebefccf",
   "metadata": {},
   "outputs": [
    {
     "data": {
      "text/html": [
       "<div>\n",
       "<style scoped>\n",
       "    .dataframe tbody tr th:only-of-type {\n",
       "        vertical-align: middle;\n",
       "    }\n",
       "\n",
       "    .dataframe tbody tr th {\n",
       "        vertical-align: top;\n",
       "    }\n",
       "\n",
       "    .dataframe thead th {\n",
       "        text-align: right;\n",
       "    }\n",
       "</style>\n",
       "<table border=\"1\" class=\"dataframe\">\n",
       "  <thead>\n",
       "    <tr style=\"text-align: right;\">\n",
       "      <th></th>\n",
       "      <th>date</th>\n",
       "      <th>ordersPerDateA</th>\n",
       "      <th>revenuePerDateA</th>\n",
       "      <th>ordersPerDateB</th>\n",
       "      <th>revenuePerDateB</th>\n",
       "      <th>ordersCummulativeA</th>\n",
       "      <th>revenueCummulativeA</th>\n",
       "      <th>ordersCummulativeB</th>\n",
       "      <th>revenueCummulativeB</th>\n",
       "      <th>visitorsPerDateA</th>\n",
       "      <th>visitorsPerDateB</th>\n",
       "      <th>visitorsCummulativeA</th>\n",
       "      <th>visitorsCummulativeB</th>\n",
       "    </tr>\n",
       "  </thead>\n",
       "  <tbody>\n",
       "    <tr>\n",
       "      <th>0</th>\n",
       "      <td>2019-08-01</td>\n",
       "      <td>19</td>\n",
       "      <td>142779</td>\n",
       "      <td>17</td>\n",
       "      <td>59758</td>\n",
       "      <td>19</td>\n",
       "      <td>142779</td>\n",
       "      <td>17</td>\n",
       "      <td>59758</td>\n",
       "      <td>719</td>\n",
       "      <td>713</td>\n",
       "      <td>719</td>\n",
       "      <td>713</td>\n",
       "    </tr>\n",
       "    <tr>\n",
       "      <th>1</th>\n",
       "      <td>2019-08-02</td>\n",
       "      <td>18</td>\n",
       "      <td>91602</td>\n",
       "      <td>22</td>\n",
       "      <td>162043</td>\n",
       "      <td>37</td>\n",
       "      <td>234381</td>\n",
       "      <td>39</td>\n",
       "      <td>221801</td>\n",
       "      <td>619</td>\n",
       "      <td>581</td>\n",
       "      <td>1338</td>\n",
       "      <td>1294</td>\n",
       "    </tr>\n",
       "    <tr>\n",
       "      <th>2</th>\n",
       "      <td>2019-08-03</td>\n",
       "      <td>24</td>\n",
       "      <td>112473</td>\n",
       "      <td>14</td>\n",
       "      <td>67049</td>\n",
       "      <td>61</td>\n",
       "      <td>346854</td>\n",
       "      <td>53</td>\n",
       "      <td>288850</td>\n",
       "      <td>507</td>\n",
       "      <td>509</td>\n",
       "      <td>1845</td>\n",
       "      <td>1803</td>\n",
       "    </tr>\n",
       "    <tr>\n",
       "      <th>3</th>\n",
       "      <td>2019-08-04</td>\n",
       "      <td>11</td>\n",
       "      <td>41176</td>\n",
       "      <td>13</td>\n",
       "      <td>96890</td>\n",
       "      <td>72</td>\n",
       "      <td>388030</td>\n",
       "      <td>66</td>\n",
       "      <td>385740</td>\n",
       "      <td>717</td>\n",
       "      <td>770</td>\n",
       "      <td>2562</td>\n",
       "      <td>2573</td>\n",
       "    </tr>\n",
       "    <tr>\n",
       "      <th>4</th>\n",
       "      <td>2019-08-05</td>\n",
       "      <td>22</td>\n",
       "      <td>86383</td>\n",
       "      <td>21</td>\n",
       "      <td>89908</td>\n",
       "      <td>94</td>\n",
       "      <td>474413</td>\n",
       "      <td>87</td>\n",
       "      <td>475648</td>\n",
       "      <td>756</td>\n",
       "      <td>707</td>\n",
       "      <td>3318</td>\n",
       "      <td>3280</td>\n",
       "    </tr>\n",
       "    <tr>\n",
       "      <th>5</th>\n",
       "      <td>2019-08-06</td>\n",
       "      <td>12</td>\n",
       "      <td>40919</td>\n",
       "      <td>22</td>\n",
       "      <td>214842</td>\n",
       "      <td>106</td>\n",
       "      <td>515332</td>\n",
       "      <td>109</td>\n",
       "      <td>690490</td>\n",
       "      <td>667</td>\n",
       "      <td>655</td>\n",
       "      <td>3985</td>\n",
       "      <td>3935</td>\n",
       "    </tr>\n",
       "    <tr>\n",
       "      <th>6</th>\n",
       "      <td>2019-08-07</td>\n",
       "      <td>16</td>\n",
       "      <td>123248</td>\n",
       "      <td>23</td>\n",
       "      <td>219164</td>\n",
       "      <td>122</td>\n",
       "      <td>638580</td>\n",
       "      <td>132</td>\n",
       "      <td>909654</td>\n",
       "      <td>644</td>\n",
       "      <td>709</td>\n",
       "      <td>4629</td>\n",
       "      <td>4644</td>\n",
       "    </tr>\n",
       "    <tr>\n",
       "      <th>7</th>\n",
       "      <td>2019-08-08</td>\n",
       "      <td>14</td>\n",
       "      <td>88639</td>\n",
       "      <td>22</td>\n",
       "      <td>150141</td>\n",
       "      <td>136</td>\n",
       "      <td>727219</td>\n",
       "      <td>154</td>\n",
       "      <td>1059795</td>\n",
       "      <td>610</td>\n",
       "      <td>654</td>\n",
       "      <td>5239</td>\n",
       "      <td>5298</td>\n",
       "    </tr>\n",
       "    <tr>\n",
       "      <th>8</th>\n",
       "      <td>2019-08-09</td>\n",
       "      <td>11</td>\n",
       "      <td>134237</td>\n",
       "      <td>19</td>\n",
       "      <td>103166</td>\n",
       "      <td>147</td>\n",
       "      <td>861456</td>\n",
       "      <td>173</td>\n",
       "      <td>1162961</td>\n",
       "      <td>617</td>\n",
       "      <td>610</td>\n",
       "      <td>5856</td>\n",
       "      <td>5908</td>\n",
       "    </tr>\n",
       "    <tr>\n",
       "      <th>9</th>\n",
       "      <td>2019-08-10</td>\n",
       "      <td>15</td>\n",
       "      <td>152275</td>\n",
       "      <td>22</td>\n",
       "      <td>105162</td>\n",
       "      <td>162</td>\n",
       "      <td>1013731</td>\n",
       "      <td>195</td>\n",
       "      <td>1268123</td>\n",
       "      <td>406</td>\n",
       "      <td>369</td>\n",
       "      <td>6262</td>\n",
       "      <td>6277</td>\n",
       "    </tr>\n",
       "  </tbody>\n",
       "</table>\n",
       "</div>"
      ],
      "text/plain": [
       "         date  ordersPerDateA  revenuePerDateA  ordersPerDateB  \\\n",
       "0  2019-08-01              19           142779              17   \n",
       "1  2019-08-02              18            91602              22   \n",
       "2  2019-08-03              24           112473              14   \n",
       "3  2019-08-04              11            41176              13   \n",
       "4  2019-08-05              22            86383              21   \n",
       "5  2019-08-06              12            40919              22   \n",
       "6  2019-08-07              16           123248              23   \n",
       "7  2019-08-08              14            88639              22   \n",
       "8  2019-08-09              11           134237              19   \n",
       "9  2019-08-10              15           152275              22   \n",
       "\n",
       "   revenuePerDateB  ordersCummulativeA  revenueCummulativeA  \\\n",
       "0            59758                  19               142779   \n",
       "1           162043                  37               234381   \n",
       "2            67049                  61               346854   \n",
       "3            96890                  72               388030   \n",
       "4            89908                  94               474413   \n",
       "5           214842                 106               515332   \n",
       "6           219164                 122               638580   \n",
       "7           150141                 136               727219   \n",
       "8           103166                 147               861456   \n",
       "9           105162                 162              1013731   \n",
       "\n",
       "   ordersCummulativeB  revenueCummulativeB  visitorsPerDateA  \\\n",
       "0                  17                59758               719   \n",
       "1                  39               221801               619   \n",
       "2                  53               288850               507   \n",
       "3                  66               385740               717   \n",
       "4                  87               475648               756   \n",
       "5                 109               690490               667   \n",
       "6                 132               909654               644   \n",
       "7                 154              1059795               610   \n",
       "8                 173              1162961               617   \n",
       "9                 195              1268123               406   \n",
       "\n",
       "   visitorsPerDateB  visitorsCummulativeA  visitorsCummulativeB  \n",
       "0               713                   719                   713  \n",
       "1               581                  1338                  1294  \n",
       "2               509                  1845                  1803  \n",
       "3               770                  2562                  2573  \n",
       "4               707                  3318                  3280  \n",
       "5               655                  3985                  3935  \n",
       "6               709                  4629                  4644  \n",
       "7               654                  5239                  5298  \n",
       "8               610                  5856                  5908  \n",
       "9               369                  6262                  6277  "
      ]
     },
     "execution_count": 38,
     "metadata": {},
     "output_type": "execute_result"
    }
   ],
   "source": [
    "# Объединим данные\n",
    "df = (\n",
    "    ordersADaily.merge(\n",
    "        ordersBDaily, left_on='date', right_on='date', how='left'\n",
    "    )\n",
    "    .merge(ordersACummulative, left_on='date', right_on='date', how='left')\n",
    "    .merge(ordersBCummulative, left_on='date', right_on='date', how='left')\n",
    "    .merge(visitorsADaily, left_on='date', right_on='date', how='left')\n",
    "    .merge(visitorsBDaily, left_on='date', right_on='date', how='left')\n",
    "    .merge(visitorsACummulative, left_on='date', right_on='date', how='left')\n",
    "    .merge(visitorsBCummulative, left_on='date', right_on='date', how='left')\n",
    ")\n",
    "\n",
    "df.head(10)"
   ]
  },
  {
   "cell_type": "markdown",
   "id": "a953e290",
   "metadata": {},
   "source": [
    "### Сравнение конверсий групп по сырым данным"
   ]
  },
  {
   "cell_type": "markdown",
   "id": "4ad699ba",
   "metadata": {},
   "source": [
    "Сравним конверсии групп по сырым данным. Будем использовать непараметрический тест Манна-Уитни"
   ]
  },
  {
   "cell_type": "code",
   "execution_count": 39,
   "id": "c6b87bd5",
   "metadata": {},
   "outputs": [],
   "source": [
    "# Создадим переменные для количества заказов по пользователям группы A\n",
    "ordersByUsersA = (\n",
    "    orders[orders['group'] == 'A']\n",
    "    .groupby('visitorid', as_index=False)\n",
    "    .agg({'transactionid': pd.Series.nunique})\n",
    ")\n",
    "ordersByUsersA.columns = ['visitorid', 'transactionid']\n",
    "\n",
    "# Создадим переменные для количества заказов по пользователям группы B\n",
    "ordersByUsersB = (\n",
    "    orders[orders['group'] == 'B']\n",
    "    .groupby('visitorid', as_index=False)\n",
    "    .agg({'transactionid': pd.Series.nunique})\n",
    ")\n",
    "ordersByUsersB.columns = ['visitorid', 'transactionid'] "
   ]
  },
  {
   "cell_type": "code",
   "execution_count": 40,
   "id": "eb39279d",
   "metadata": {},
   "outputs": [],
   "source": [
    "sampleA = (pd.concat([ordersByUsersA['transactionid'],\n",
    "                    pd.Series(0, index=np.arange(df['visitorsPerDateA'].sum() - len(ordersByUsersA['transactionid'])), \n",
    "                    name='transactionid')],axis=0)\n",
    "          )\n",
    "\n",
    "sampleB = (pd.concat([ordersByUsersB['transactionid'],\n",
    "                      pd.Series(0, index=np.arange(df['visitorsPerDateB'].sum() - len(ordersByUsersB['transactionid'])),\n",
    "                      name='transactionid')],axis=0)\n",
    "          ) "
   ]
  },
  {
   "cell_type": "markdown",
   "id": "b983b393",
   "metadata": {},
   "source": [
    "Проверим выборки критерием Манна-Уитни и выведем относительный прирост конверсии группы B\n",
    "- Н0 - Статистически значимых различий в конверсии между группами нет\n",
    "- Н1 - Статистически значимые различия в конверсии между группами есть\n",
    "\n",
    "Поскольку тест двусторонний, добавим параметр `alternative = 'two-sided'`"
   ]
  },
  {
   "cell_type": "code",
   "execution_count": 41,
   "id": "ae4e5c6f",
   "metadata": {},
   "outputs": [
    {
     "name": "stdout",
     "output_type": "stream",
     "text": [
      "0.011\n",
      "0.160\n"
     ]
    }
   ],
   "source": [
    "print(\"{0:.3f}\".format(stats.mannwhitneyu(sampleA, sampleB, alternative = 'two-sided')[1]))\n",
    "\n",
    "print(\"{0:.3f}\".format(sampleB.mean() / sampleA.mean() - 1))"
   ]
  },
  {
   "cell_type": "markdown",
   "id": "78f9efe1",
   "metadata": {},
   "source": [
    "<div style=\"border:solid blue 2px; padding: 20px\">\n",
    "Значение p-value 0.011, что меньше уровня значимости в 5%\n",
    "    \n",
    "    \n",
    "Нулевую гипотезу отвергаем. Относительное изменение конверсии группы B равно 16%. "
   ]
  },
  {
   "cell_type": "markdown",
   "id": "0bf5e32a",
   "metadata": {},
   "source": [
    "### Сравнение среднего чека по сырым данным"
   ]
  },
  {
   "cell_type": "markdown",
   "id": "2989877e",
   "metadata": {},
   "source": [
    "Посчитаем статистическую значимость различий в среднем чеке заказа между группами по «сырым» данным. \n",
    "- H0 - Статистически значинмых различий в среднем чеке нет\n",
    "- H1 - Статистически значимые различия в среднем чеке есть"
   ]
  },
  {
   "cell_type": "code",
   "execution_count": 42,
   "id": "2c543405",
   "metadata": {},
   "outputs": [
    {
     "name": "stdout",
     "output_type": "stream",
     "text": [
      "0.829\n",
      "0.287\n"
     ]
    }
   ],
   "source": [
    "print('{0:.3f}'.format(stats.mannwhitneyu(orders[orders['group']=='A']['revenue'], orders[orders['group']=='B']['revenue'], alternative = 'two-sided')[1]))\n",
    "print('{0:.3f}'.format(orders[orders['group']=='B']['revenue'].mean()/orders[orders['group']=='A']['revenue'].mean()-1)) "
   ]
  },
  {
   "cell_type": "markdown",
   "id": "193fd536",
   "metadata": {},
   "source": [
    "<div style=\"border:solid blue 2px; padding: 20px\">\n",
    "В данном случае отвергнуть нулевую гипотезу нельзя. При этом относительный прирост группы среднего чека группы B равен почти 29% (!). Это весьма необычно. Посмотрим какие будут результаты после очистки данных. "
   ]
  },
  {
   "cell_type": "markdown",
   "id": "90825440",
   "metadata": {},
   "source": [
    "### Очистка данных"
   ]
  },
  {
   "cell_type": "markdown",
   "id": "c83102d7",
   "metadata": {},
   "source": [
    "Теперь очистим данные и повторим рассчеты. "
   ]
  },
  {
   "cell_type": "markdown",
   "id": "4b1ee2e8",
   "metadata": {},
   "source": [
    "За аномальное количество заказов примем 2, а за аномальную сумму заказа примем 27000"
   ]
  },
  {
   "cell_type": "code",
   "execution_count": 43,
   "id": "f3083b9d",
   "metadata": {},
   "outputs": [
    {
     "data": {
      "text/plain": [
       "568     113298937\n",
       "1099    148427295\n",
       "928     204675465\n",
       "33      249864742\n",
       "684     358944393\n",
       "Name: visitorid, dtype: int64"
      ]
     },
     "metadata": {},
     "output_type": "display_data"
    },
    {
     "name": "stdout",
     "output_type": "stream",
     "text": [
      "Количество аномальных пользователей: 86\n"
     ]
    }
   ],
   "source": [
    "usersWithManyOrders = pd.concat(\n",
    "    [\n",
    "        ordersByUsersA[ordersByUsersA['transactionid'] > 1]['visitorid'],\n",
    "        ordersByUsersB[ordersByUsersB['transactionid'] > 1]['visitorid'],\n",
    "    ],\n",
    "    axis=0,\n",
    ")\n",
    "usersWithExpensiveOrders = orders[orders['revenue'] > 27000]['visitorid']\n",
    "abnormalUsers = (\n",
    "    pd.concat([usersWithManyOrders, usersWithExpensiveOrders], axis=0)\n",
    "    .drop_duplicates()\n",
    "    .sort_values()\n",
    ")\n",
    "display(abnormalUsers.head(5))\n",
    "print('Количество аномальных пользователей:' ,abnormalUsers.shape[0]) "
   ]
  },
  {
   "cell_type": "markdown",
   "id": "31db58cd",
   "metadata": {},
   "source": [
    "Очистили данные и выяснили кол-во \"аномальных\" пользователей. Теперь посмотрим как очистка данных повлияет на результаты теста"
   ]
  },
  {
   "cell_type": "code",
   "execution_count": 44,
   "id": "bdc2533b",
   "metadata": {},
   "outputs": [],
   "source": [
    "# подготовим выборки количества заказов по пользователям по группам теста\n",
    "sampleAFiltered = pd.concat(\n",
    "    [\n",
    "        ordersByUsersA[\n",
    "            np.logical_not(ordersByUsersA['visitorid'].isin(abnormalUsers))\n",
    "        ]['transactionid'],\n",
    "        pd.Series(\n",
    "            0,\n",
    "            index=np.arange(\n",
    "                df['visitorsPerDateA'].sum() - len(ordersByUsersA['transactionid'])\n",
    "            ),\n",
    "            name='transactionid',\n",
    "        ),\n",
    "    ],\n",
    "    axis=0,\n",
    ")\n",
    "\n",
    "sampleBFiltered = pd.concat(\n",
    "    [\n",
    "        ordersByUsersB[\n",
    "            np.logical_not(ordersByUsersB['visitorid'].isin(abnormalUsers))\n",
    "        ]['transactionid'],\n",
    "        pd.Series(\n",
    "            0,\n",
    "            index=np.arange(\n",
    "                df['visitorsPerDateB'].sum() - len(ordersByUsersB['transactionid'])\n",
    "            ),\n",
    "            name='transactionid',\n",
    "        ),\n",
    "    ],\n",
    "    axis=0,\n",
    ") "
   ]
  },
  {
   "cell_type": "markdown",
   "id": "c97b7639",
   "metadata": {},
   "source": [
    "### Сравнение конверсий по очищенным данным"
   ]
  },
  {
   "cell_type": "markdown",
   "id": "bd256df3",
   "metadata": {},
   "source": [
    "- H0 - После очистки данных статистически значимых различий в конверсиях между группами нет\n",
    "- Н1 - После очистки данных статистически значимые различия в конверсиях между группами есть"
   ]
  },
  {
   "cell_type": "code",
   "execution_count": 45,
   "id": "d7995079",
   "metadata": {
    "scrolled": true
   },
   "outputs": [
    {
     "name": "stdout",
     "output_type": "stream",
     "text": [
      "0.016\n",
      "0.174\n"
     ]
    }
   ],
   "source": [
    "print('{0:.3f}'.format(stats.mannwhitneyu(sampleAFiltered, sampleBFiltered)[1]))\n",
    "print('{0:.3f}'.format(sampleBFiltered.mean()/sampleAFiltered.mean()-1)) "
   ]
  },
  {
   "cell_type": "markdown",
   "id": "95f4ef92",
   "metadata": {},
   "source": [
    "<div style=\"border:solid blue 2px; padding: 20px\">\n",
    "Как и в случае с сырыми данными, мы вынуждены отвергнуть нулевую гипотезу. Относительный прирост немного увеличился и составил 17,4%"
   ]
  },
  {
   "cell_type": "markdown",
   "id": "e03b5049",
   "metadata": {},
   "source": [
    "### Сравнение среднего чека по очищенным данным"
   ]
  },
  {
   "cell_type": "markdown",
   "id": "b9366eee",
   "metadata": {},
   "source": [
    "Теперь посмотрим на статистические различия между средним чекам по группам. Также посмотрим относительный прирост. \n",
    "Сформулируем гиппотезы\n",
    "- H0 - После очистки данных статистически значимых различий в средних чеках между группами нет\n",
    "- Н1 - После очистки данных статистически значимые различия в средних чеках между группами есть"
   ]
  },
  {
   "cell_type": "code",
   "execution_count": 46,
   "id": "d492b474",
   "metadata": {},
   "outputs": [
    {
     "name": "stdout",
     "output_type": "stream",
     "text": [
      "0.727\n",
      "-0.034\n"
     ]
    }
   ],
   "source": [
    "print(\n",
    "    '{0:.3f}'.format(\n",
    "        stats.mannwhitneyu(\n",
    "            orders[\n",
    "                np.logical_and(\n",
    "                    orders['group'] == 'A',\n",
    "                    np.logical_not(orders['visitorid'].isin(abnormalUsers)),\n",
    "                )\n",
    "            ]['revenue'],\n",
    "            orders[\n",
    "                np.logical_and(\n",
    "                    orders['group'] == 'B',\n",
    "                    np.logical_not(orders['visitorid'].isin(abnormalUsers)),\n",
    "                )\n",
    "            ]['revenue'],\n",
    "        )[1]\n",
    "    )\n",
    ")\n",
    "\n",
    "print(\n",
    "    \"{0:.3f}\".format(\n",
    "        orders[\n",
    "            np.logical_and(\n",
    "                orders['group'] == 'B',\n",
    "                np.logical_not(orders['visitorid'].isin(abnormalUsers)),\n",
    "            )\n",
    "        ]['revenue'].mean()\n",
    "        / orders[\n",
    "            np.logical_and(\n",
    "                orders['group'] == 'A',\n",
    "                np.logical_not(orders['visitorid'].isin(abnormalUsers)),\n",
    "            )\n",
    "        ]['revenue'].mean()\n",
    "        - 1\n",
    "    )\n",
    ") "
   ]
  },
  {
   "cell_type": "markdown",
   "id": "ed6f6cea",
   "metadata": {},
   "source": [
    "<div style=\"border:solid blue 2px; padding: 20px\">\n",
    "Отвергнуть нулевую гипотезу нельзя, однако относительный прирост среднего чека теперь составил всего 3%. Значит, все дело было в аномально большом заказе. Из-за этого в сырых данных мы получили почти 29%"
   ]
  },
  {
   "cell_type": "markdown",
   "id": "f230a6af",
   "metadata": {},
   "source": [
    "<div style=\"border:solid blue 2px; padding: 20px\">\n",
    "Анализируя полученные результаты и независимо от того, что по среднему чеку статистической значимости не обнаружено, считаю нужным остановить тест и зафиксировать победу группы В. \n",
    "Группа B статистически значимо лучше группы A по метрике конверсии, но статистических различий в средних чеках нет. \n",
    "Поскольку задача стояла в эффективности гипотезы по увеличению выручки, нужно смотреть на конверсию. \n",
    "Выручка не всегда показывает положительную или отрицательную динамику, точнее сложно понять по выручке, без учета числа покупателей."
   ]
  },
  {
   "cell_type": "markdown",
   "id": "30e61a52",
   "metadata": {},
   "source": [
    "___"
   ]
  },
  {
   "cell_type": "markdown",
   "id": "c88160c2",
   "metadata": {},
   "source": [
    "## Итоги"
   ]
  },
  {
   "cell_type": "markdown",
   "id": "afb4ccca",
   "metadata": {},
   "source": [
    "Мы провели глубокий анализ результатов A/B тестирования для интернет-магазина.\n",
    "\n",
    "В нашем распоряжении были данные о заказ интрнет-магазина за август 2019 года. \n",
    "\n",
    "Для начала мы познакомились с данными, провели их предобработку. После этого мы приоритезировали гипотезы , которые содержались в базе, двумя способами и сравнили полученные результаты. Далее построили графики и проанализировали группы по среднему чеку и конверсии. Также посмотрели на относительные приросты данных показателей. \n",
    "\n",
    "В конце работы мы проверили статистические и приняли решение остановить тестирование и признать его успешным. В данной работе отчетливо было видно, что очистка данных оказывает большое влияние на результаты. Без очистки данных результаты могли быть другими, ведь относительный прирост среднего чека был намного больше, чем после очистки. \n",
    "Нет статистически значимого различия по среднему чеку между группами ни по «сырым», ни по данным после фильтрации аномалий, но разница между сегментами сократилась с 29% до 3%."
   ]
  }
 ],
 "metadata": {
  "ExecuteTimeLog": [
   {
    "duration": 1123,
    "start_time": "2022-06-25T07:10:32.186Z"
   },
   {
    "duration": 3,
    "start_time": "2022-06-25T07:10:33.311Z"
   },
   {
    "duration": 871,
    "start_time": "2022-06-25T07:10:33.316Z"
   },
   {
    "duration": 5,
    "start_time": "2022-06-25T07:10:34.189Z"
   },
   {
    "duration": 57,
    "start_time": "2022-06-25T07:10:34.197Z"
   },
   {
    "duration": 34,
    "start_time": "2022-06-25T07:10:34.256Z"
   },
   {
    "duration": 30,
    "start_time": "2022-06-25T07:10:34.292Z"
   },
   {
    "duration": 7,
    "start_time": "2022-06-25T07:10:34.324Z"
   },
   {
    "duration": 14,
    "start_time": "2022-06-25T07:10:34.366Z"
   },
   {
    "duration": 12,
    "start_time": "2022-06-25T07:10:34.381Z"
   },
   {
    "duration": 17,
    "start_time": "2022-06-25T07:10:34.395Z"
   },
   {
    "duration": 3,
    "start_time": "2022-06-25T07:10:34.414Z"
   },
   {
    "duration": 6,
    "start_time": "2022-06-25T07:10:34.419Z"
   },
   {
    "duration": 46,
    "start_time": "2022-06-25T07:10:34.428Z"
   },
   {
    "duration": 6,
    "start_time": "2022-06-25T07:10:34.476Z"
   },
   {
    "duration": 5,
    "start_time": "2022-06-25T07:10:34.484Z"
   },
   {
    "duration": 209,
    "start_time": "2022-06-25T07:10:34.491Z"
   },
   {
    "duration": 133,
    "start_time": "2022-06-25T07:10:34.702Z"
   },
   {
    "duration": 13,
    "start_time": "2022-06-25T07:10:34.837Z"
   },
   {
    "duration": 27,
    "start_time": "2022-06-25T07:10:34.867Z"
   },
   {
    "duration": 336,
    "start_time": "2022-06-25T07:10:34.896Z"
   },
   {
    "duration": 302,
    "start_time": "2022-06-25T07:10:35.234Z"
   },
   {
    "duration": 418,
    "start_time": "2022-06-25T07:10:35.539Z"
   },
   {
    "duration": 18,
    "start_time": "2022-06-25T07:10:35.958Z"
   },
   {
    "duration": 14,
    "start_time": "2022-06-25T07:10:35.978Z"
   },
   {
    "duration": 315,
    "start_time": "2022-06-25T07:10:35.994Z"
   },
   {
    "duration": 368,
    "start_time": "2022-06-25T07:10:36.310Z"
   },
   {
    "duration": 13,
    "start_time": "2022-06-25T07:10:36.680Z"
   },
   {
    "duration": 174,
    "start_time": "2022-06-25T07:10:36.695Z"
   },
   {
    "duration": 5,
    "start_time": "2022-06-25T07:10:36.871Z"
   },
   {
    "duration": 161,
    "start_time": "2022-06-25T07:10:36.877Z"
   },
   {
    "duration": 5,
    "start_time": "2022-06-25T07:10:37.040Z"
   },
   {
    "duration": 64,
    "start_time": "2022-06-25T07:10:37.047Z"
   },
   {
    "duration": 68,
    "start_time": "2022-06-25T07:10:37.112Z"
   },
   {
    "duration": 62,
    "start_time": "2022-06-25T07:10:37.182Z"
   },
   {
    "duration": 81,
    "start_time": "2022-06-25T07:10:37.246Z"
   },
   {
    "duration": 53,
    "start_time": "2022-06-25T07:10:37.329Z"
   },
   {
    "duration": 150,
    "start_time": "2022-06-25T07:10:37.384Z"
   },
   {
    "duration": 8,
    "start_time": "2022-06-25T07:10:37.536Z"
   },
   {
    "duration": 40,
    "start_time": "2022-06-25T07:10:37.546Z"
   },
   {
    "duration": 11,
    "start_time": "2022-06-25T07:10:37.590Z"
   },
   {
    "duration": 12,
    "start_time": "2022-06-25T07:10:37.602Z"
   },
   {
    "duration": 10,
    "start_time": "2022-06-25T07:10:37.616Z"
   },
   {
    "duration": 51,
    "start_time": "2022-06-25T07:10:37.628Z"
   },
   {
    "duration": 14,
    "start_time": "2022-06-25T07:10:37.681Z"
   },
   {
    "duration": 1091,
    "start_time": "2022-06-25T07:14:33.824Z"
   },
   {
    "duration": 3,
    "start_time": "2022-06-25T07:14:34.917Z"
   },
   {
    "duration": 150,
    "start_time": "2022-06-25T07:14:34.922Z"
   },
   {
    "duration": 4,
    "start_time": "2022-06-25T07:14:35.074Z"
   },
   {
    "duration": 60,
    "start_time": "2022-06-25T07:14:35.080Z"
   },
   {
    "duration": 42,
    "start_time": "2022-06-25T07:14:35.141Z"
   },
   {
    "duration": 27,
    "start_time": "2022-06-25T07:14:35.184Z"
   },
   {
    "duration": 8,
    "start_time": "2022-06-25T07:14:35.212Z"
   },
   {
    "duration": 11,
    "start_time": "2022-06-25T07:14:35.221Z"
   },
   {
    "duration": 34,
    "start_time": "2022-06-25T07:14:35.234Z"
   },
   {
    "duration": 19,
    "start_time": "2022-06-25T07:14:35.270Z"
   },
   {
    "duration": 2,
    "start_time": "2022-06-25T07:14:35.291Z"
   },
   {
    "duration": 8,
    "start_time": "2022-06-25T07:14:35.295Z"
   },
   {
    "duration": 18,
    "start_time": "2022-06-25T07:14:35.306Z"
   },
   {
    "duration": 6,
    "start_time": "2022-06-25T07:14:35.326Z"
   },
   {
    "duration": 5,
    "start_time": "2022-06-25T07:14:35.333Z"
   },
   {
    "duration": 162,
    "start_time": "2022-06-25T07:14:35.339Z"
   },
   {
    "duration": 122,
    "start_time": "2022-06-25T07:14:35.502Z"
   },
   {
    "duration": 12,
    "start_time": "2022-06-25T07:14:35.625Z"
   },
   {
    "duration": 41,
    "start_time": "2022-06-25T07:14:35.639Z"
   },
   {
    "duration": 444,
    "start_time": "2022-06-25T07:14:35.682Z"
   },
   {
    "duration": 327,
    "start_time": "2022-06-25T07:14:36.127Z"
   },
   {
    "duration": 379,
    "start_time": "2022-06-25T07:14:36.455Z"
   },
   {
    "duration": 11,
    "start_time": "2022-06-25T07:14:36.836Z"
   },
   {
    "duration": 6,
    "start_time": "2022-06-25T07:14:36.849Z"
   },
   {
    "duration": 311,
    "start_time": "2022-06-25T07:14:36.857Z"
   },
   {
    "duration": 387,
    "start_time": "2022-06-25T07:14:37.169Z"
   },
   {
    "duration": 15,
    "start_time": "2022-06-25T07:14:37.557Z"
   },
   {
    "duration": 161,
    "start_time": "2022-06-25T07:14:37.573Z"
   },
   {
    "duration": 4,
    "start_time": "2022-06-25T07:14:37.736Z"
   },
   {
    "duration": 156,
    "start_time": "2022-06-25T07:14:37.742Z"
   },
   {
    "duration": 4,
    "start_time": "2022-06-25T07:14:37.900Z"
   },
   {
    "duration": 62,
    "start_time": "2022-06-25T07:14:37.906Z"
   },
   {
    "duration": 55,
    "start_time": "2022-06-25T07:14:37.970Z"
   },
   {
    "duration": 65,
    "start_time": "2022-06-25T07:14:38.026Z"
   },
   {
    "duration": 65,
    "start_time": "2022-06-25T07:14:38.093Z"
   },
   {
    "duration": 29,
    "start_time": "2022-06-25T07:14:38.167Z"
   },
   {
    "duration": 205,
    "start_time": "2022-06-25T07:14:38.198Z"
   },
   {
    "duration": 9,
    "start_time": "2022-06-25T07:14:38.405Z"
   },
   {
    "duration": 70,
    "start_time": "2022-06-25T07:14:38.416Z"
   },
   {
    "duration": 10,
    "start_time": "2022-06-25T07:14:38.489Z"
   },
   {
    "duration": 10,
    "start_time": "2022-06-25T07:14:38.501Z"
   },
   {
    "duration": 58,
    "start_time": "2022-06-25T07:14:38.513Z"
   },
   {
    "duration": 20,
    "start_time": "2022-06-25T07:14:38.573Z"
   },
   {
    "duration": 11,
    "start_time": "2022-06-25T07:14:38.595Z"
   },
   {
    "duration": 934,
    "start_time": "2022-06-26T14:03:45.312Z"
   },
   {
    "duration": 2,
    "start_time": "2022-06-26T14:03:46.250Z"
   },
   {
    "duration": 279,
    "start_time": "2022-06-26T14:03:46.253Z"
   },
   {
    "duration": 3,
    "start_time": "2022-06-26T14:03:46.533Z"
   },
   {
    "duration": 46,
    "start_time": "2022-06-26T14:03:46.538Z"
   },
   {
    "duration": 27,
    "start_time": "2022-06-26T14:03:46.586Z"
   },
   {
    "duration": 43,
    "start_time": "2022-06-26T14:03:46.614Z"
   },
   {
    "duration": 6,
    "start_time": "2022-06-26T14:03:46.658Z"
   },
   {
    "duration": 10,
    "start_time": "2022-06-26T14:03:46.665Z"
   },
   {
    "duration": 7,
    "start_time": "2022-06-26T14:03:46.677Z"
   },
   {
    "duration": 13,
    "start_time": "2022-06-26T14:03:46.685Z"
   },
   {
    "duration": 2,
    "start_time": "2022-06-26T14:03:46.699Z"
   },
   {
    "duration": 7,
    "start_time": "2022-06-26T14:03:46.702Z"
   },
   {
    "duration": 11,
    "start_time": "2022-06-26T14:03:46.712Z"
   },
   {
    "duration": 6,
    "start_time": "2022-06-26T14:03:46.752Z"
   },
   {
    "duration": 7,
    "start_time": "2022-06-26T14:03:46.760Z"
   },
   {
    "duration": 151,
    "start_time": "2022-06-26T14:03:46.768Z"
   },
   {
    "duration": 102,
    "start_time": "2022-06-26T14:03:46.921Z"
   },
   {
    "duration": 9,
    "start_time": "2022-06-26T14:03:47.025Z"
   },
   {
    "duration": 13,
    "start_time": "2022-06-26T14:03:47.050Z"
   },
   {
    "duration": 253,
    "start_time": "2022-06-26T14:03:47.065Z"
   },
   {
    "duration": 255,
    "start_time": "2022-06-26T14:03:47.319Z"
   },
   {
    "duration": 334,
    "start_time": "2022-06-26T14:03:47.576Z"
   },
   {
    "duration": 8,
    "start_time": "2022-06-26T14:03:47.911Z"
   },
   {
    "duration": 5,
    "start_time": "2022-06-26T14:03:47.921Z"
   },
   {
    "duration": 249,
    "start_time": "2022-06-26T14:03:47.927Z"
   },
   {
    "duration": 324,
    "start_time": "2022-06-26T14:03:48.177Z"
   },
   {
    "duration": 9,
    "start_time": "2022-06-26T14:03:48.502Z"
   },
   {
    "duration": 138,
    "start_time": "2022-06-26T14:03:48.512Z"
   },
   {
    "duration": 4,
    "start_time": "2022-06-26T14:03:48.652Z"
   },
   {
    "duration": 118,
    "start_time": "2022-06-26T14:03:48.657Z"
   },
   {
    "duration": 5,
    "start_time": "2022-06-26T14:03:48.782Z"
   },
   {
    "duration": 16,
    "start_time": "2022-06-26T14:03:48.789Z"
   },
   {
    "duration": 48,
    "start_time": "2022-06-26T14:03:48.806Z"
   },
   {
    "duration": 40,
    "start_time": "2022-06-26T14:03:48.856Z"
   },
   {
    "duration": 65,
    "start_time": "2022-06-26T14:03:48.897Z"
   },
   {
    "duration": 50,
    "start_time": "2022-06-26T14:03:48.964Z"
   },
   {
    "duration": 42,
    "start_time": "2022-06-26T14:03:49.016Z"
   },
   {
    "duration": 112,
    "start_time": "2022-06-26T14:03:49.059Z"
   },
   {
    "duration": 6,
    "start_time": "2022-06-26T14:03:49.173Z"
   },
   {
    "duration": 19,
    "start_time": "2022-06-26T14:03:49.182Z"
   },
   {
    "duration": 8,
    "start_time": "2022-06-26T14:03:49.202Z"
   },
   {
    "duration": 9,
    "start_time": "2022-06-26T14:03:49.211Z"
   },
   {
    "duration": 6,
    "start_time": "2022-06-26T14:03:49.251Z"
   },
   {
    "duration": 18,
    "start_time": "2022-06-26T14:03:49.259Z"
   },
   {
    "duration": 10,
    "start_time": "2022-06-26T14:03:49.278Z"
   },
   {
    "duration": 937,
    "start_time": "2022-06-26T14:05:37.110Z"
   },
   {
    "duration": 3,
    "start_time": "2022-06-26T14:05:38.050Z"
   },
   {
    "duration": 124,
    "start_time": "2022-06-26T14:05:38.054Z"
   },
   {
    "duration": 3,
    "start_time": "2022-06-26T14:05:38.180Z"
   },
   {
    "duration": 34,
    "start_time": "2022-06-26T14:05:38.185Z"
   },
   {
    "duration": 26,
    "start_time": "2022-06-26T14:05:38.220Z"
   },
   {
    "duration": 21,
    "start_time": "2022-06-26T14:05:38.250Z"
   },
   {
    "duration": 6,
    "start_time": "2022-06-26T14:05:38.272Z"
   },
   {
    "duration": 10,
    "start_time": "2022-06-26T14:05:38.279Z"
   },
   {
    "duration": 9,
    "start_time": "2022-06-26T14:05:38.290Z"
   },
   {
    "duration": 11,
    "start_time": "2022-06-26T14:05:38.300Z"
   },
   {
    "duration": 2,
    "start_time": "2022-06-26T14:05:38.312Z"
   },
   {
    "duration": 37,
    "start_time": "2022-06-26T14:05:38.316Z"
   },
   {
    "duration": 11,
    "start_time": "2022-06-26T14:05:38.355Z"
   },
   {
    "duration": 5,
    "start_time": "2022-06-26T14:05:38.367Z"
   },
   {
    "duration": 5,
    "start_time": "2022-06-26T14:05:38.373Z"
   },
   {
    "duration": 151,
    "start_time": "2022-06-26T14:05:38.379Z"
   },
   {
    "duration": 108,
    "start_time": "2022-06-26T14:05:38.531Z"
   },
   {
    "duration": 9,
    "start_time": "2022-06-26T14:05:38.650Z"
   },
   {
    "duration": 22,
    "start_time": "2022-06-26T14:05:38.660Z"
   },
   {
    "duration": 282,
    "start_time": "2022-06-26T14:05:38.683Z"
   },
   {
    "duration": 326,
    "start_time": "2022-06-26T14:05:38.966Z"
   },
   {
    "duration": 320,
    "start_time": "2022-06-26T14:05:39.294Z"
   },
   {
    "duration": 9,
    "start_time": "2022-06-26T14:05:39.615Z"
   },
   {
    "duration": 6,
    "start_time": "2022-06-26T14:05:39.625Z"
   },
   {
    "duration": 263,
    "start_time": "2022-06-26T14:05:39.632Z"
   },
   {
    "duration": 316,
    "start_time": "2022-06-26T14:05:39.896Z"
   },
   {
    "duration": 11,
    "start_time": "2022-06-26T14:05:40.213Z"
   },
   {
    "duration": 140,
    "start_time": "2022-06-26T14:05:40.226Z"
   },
   {
    "duration": 4,
    "start_time": "2022-06-26T14:05:40.367Z"
   },
   {
    "duration": 119,
    "start_time": "2022-06-26T14:05:40.372Z"
   },
   {
    "duration": 4,
    "start_time": "2022-06-26T14:05:40.493Z"
   },
   {
    "duration": 13,
    "start_time": "2022-06-26T14:05:40.498Z"
   },
   {
    "duration": 56,
    "start_time": "2022-06-26T14:05:40.513Z"
   },
   {
    "duration": 42,
    "start_time": "2022-06-26T14:05:40.570Z"
   },
   {
    "duration": 64,
    "start_time": "2022-06-26T14:05:40.613Z"
   },
   {
    "duration": 73,
    "start_time": "2022-06-26T14:05:40.679Z"
   },
   {
    "duration": 24,
    "start_time": "2022-06-26T14:05:40.754Z"
   },
   {
    "duration": 124,
    "start_time": "2022-06-26T14:05:40.779Z"
   },
   {
    "duration": 5,
    "start_time": "2022-06-26T14:05:40.905Z"
   },
   {
    "duration": 19,
    "start_time": "2022-06-26T14:05:40.913Z"
   },
   {
    "duration": 8,
    "start_time": "2022-06-26T14:05:40.933Z"
   },
   {
    "duration": 16,
    "start_time": "2022-06-26T14:05:40.942Z"
   },
   {
    "duration": 7,
    "start_time": "2022-06-26T14:05:40.959Z"
   },
   {
    "duration": 26,
    "start_time": "2022-06-26T14:05:40.967Z"
   },
   {
    "duration": 10,
    "start_time": "2022-06-26T14:05:40.994Z"
   }
  ],
  "kernelspec": {
   "display_name": "Python 3 (ipykernel)",
   "language": "python",
   "name": "python3"
  },
  "language_info": {
   "codemirror_mode": {
    "name": "ipython",
    "version": 3
   },
   "file_extension": ".py",
   "mimetype": "text/x-python",
   "name": "python",
   "nbconvert_exporter": "python",
   "pygments_lexer": "ipython3",
   "version": "3.9.12"
  },
  "toc": {
   "base_numbering": 1,
   "nav_menu": {},
   "number_sections": true,
   "sideBar": true,
   "skip_h1_title": false,
   "title_cell": "Table of Contents",
   "title_sidebar": "Contents",
   "toc_cell": false,
   "toc_position": {
    "height": "calc(100% - 180px)",
    "left": "10px",
    "top": "150px",
    "width": "288px"
   },
   "toc_section_display": true,
   "toc_window_display": false
  }
 },
 "nbformat": 4,
 "nbformat_minor": 5
}
