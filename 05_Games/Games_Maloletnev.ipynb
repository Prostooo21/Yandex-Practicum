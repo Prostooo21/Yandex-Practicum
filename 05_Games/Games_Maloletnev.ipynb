{
 "cells": [
  {
   "cell_type": "markdown",
   "id": "245d75d7",
   "metadata": {},
   "source": [
    "## Описание проекта"
   ]
  },
  {
   "cell_type": "markdown",
   "id": "1bbe9858",
   "metadata": {},
   "source": [
    "Вы работаете в интернет-магазине «Стримчик», который продаёт по всему миру компьютерные игры. Из открытых источников доступны исторические данные о продажах игр, оценки пользователей и экспертов, жанры и платформы (например, Xbox или PlayStation). Вам нужно выявить определяющие успешность игры закономерности. Это позволит сделать ставку на потенциально популярный продукт и спланировать рекламные кампании. \\\n",
    "Перед вами данные до 2016 года. Представим, что сейчас декабрь 2016 г., и вы планируете кампанию на 2017-й. Нужно отработать принцип работы с данными. Неважно, прогнозируете ли вы продажи на 2017 год по данным 2016-го или же 2027-й — по данным 2026 года."
   ]
  },
  {
   "cell_type": "markdown",
   "id": "6724f505",
   "metadata": {},
   "source": [
    "---"
   ]
  },
  {
   "cell_type": "markdown",
   "id": "6a6c0587",
   "metadata": {},
   "source": [
    "## План работы"
   ]
  },
  {
   "cell_type": "markdown",
   "id": "7650b136",
   "metadata": {},
   "source": [
    "Составим небольшой план работы:\n",
    "- Познакомимся с данными\n",
    "- Выполним предобработку данных: приведем в порядок названия колонок, преобразуем типы, избавимся от дубликатов, проверим аномалии, заполним пропуски\n",
    "- Сделаем рассчеты: посчитаем суммарные продажи для каждой игры\n",
    "- Выполним исследовательский анализ данных: посмотрим зависимость продаж от регионов, жанров, платформ, оценок. посмотрим сколько игр выпускалось в разные годы. Определим \"срок жизни\" платформ, определим актуальный период для анализа данных. Изучим данные на выбросы и обработаем их. \n",
    "- Составим потенциальные портреты пользователей по регионам\n",
    "- Проверим гипотезы: Отличаются ли среднии оценки пользователей для 2х платформ и 2х жанров игр"
   ]
  },
  {
   "cell_type": "markdown",
   "id": "5d82d4dc",
   "metadata": {},
   "source": [
    "---"
   ]
  },
  {
   "cell_type": "markdown",
   "id": "70195e67",
   "metadata": {},
   "source": [
    "## Знакомство с данными"
   ]
  },
  {
   "cell_type": "code",
   "execution_count": 1,
   "id": "810924b1",
   "metadata": {},
   "outputs": [],
   "source": [
    "import pandas as pd\n",
    "import numpy as np\n",
    "import matplotlib.pyplot as plt\n",
    "from scipy import stats as st\n",
    "import seaborn as sns"
   ]
  },
  {
   "cell_type": "code",
   "execution_count": 2,
   "id": "f47ef90a",
   "metadata": {},
   "outputs": [],
   "source": [
    "try:\n",
    "    df = pd.read_csv('games.csv')\n",
    "except:\n",
    "    df = pd.read_csv('https://code.s3.yandex.net/datasets/games.csv')"
   ]
  },
  {
   "cell_type": "code",
   "execution_count": 3,
   "id": "87719192",
   "metadata": {},
   "outputs": [
    {
     "data": {
      "text/html": [
       "<div>\n",
       "<style scoped>\n",
       "    .dataframe tbody tr th:only-of-type {\n",
       "        vertical-align: middle;\n",
       "    }\n",
       "\n",
       "    .dataframe tbody tr th {\n",
       "        vertical-align: top;\n",
       "    }\n",
       "\n",
       "    .dataframe thead th {\n",
       "        text-align: right;\n",
       "    }\n",
       "</style>\n",
       "<table border=\"1\" class=\"dataframe\">\n",
       "  <thead>\n",
       "    <tr style=\"text-align: right;\">\n",
       "      <th></th>\n",
       "      <th>Name</th>\n",
       "      <th>Platform</th>\n",
       "      <th>Year_of_Release</th>\n",
       "      <th>Genre</th>\n",
       "      <th>NA_sales</th>\n",
       "      <th>EU_sales</th>\n",
       "      <th>JP_sales</th>\n",
       "      <th>Other_sales</th>\n",
       "      <th>Critic_Score</th>\n",
       "      <th>User_Score</th>\n",
       "      <th>Rating</th>\n",
       "    </tr>\n",
       "  </thead>\n",
       "  <tbody>\n",
       "    <tr>\n",
       "      <th>0</th>\n",
       "      <td>Wii Sports</td>\n",
       "      <td>Wii</td>\n",
       "      <td>2006.0</td>\n",
       "      <td>Sports</td>\n",
       "      <td>41.36</td>\n",
       "      <td>28.96</td>\n",
       "      <td>3.77</td>\n",
       "      <td>8.45</td>\n",
       "      <td>76.0</td>\n",
       "      <td>8</td>\n",
       "      <td>E</td>\n",
       "    </tr>\n",
       "    <tr>\n",
       "      <th>1</th>\n",
       "      <td>Super Mario Bros.</td>\n",
       "      <td>NES</td>\n",
       "      <td>1985.0</td>\n",
       "      <td>Platform</td>\n",
       "      <td>29.08</td>\n",
       "      <td>3.58</td>\n",
       "      <td>6.81</td>\n",
       "      <td>0.77</td>\n",
       "      <td>NaN</td>\n",
       "      <td>NaN</td>\n",
       "      <td>NaN</td>\n",
       "    </tr>\n",
       "    <tr>\n",
       "      <th>2</th>\n",
       "      <td>Mario Kart Wii</td>\n",
       "      <td>Wii</td>\n",
       "      <td>2008.0</td>\n",
       "      <td>Racing</td>\n",
       "      <td>15.68</td>\n",
       "      <td>12.76</td>\n",
       "      <td>3.79</td>\n",
       "      <td>3.29</td>\n",
       "      <td>82.0</td>\n",
       "      <td>8.3</td>\n",
       "      <td>E</td>\n",
       "    </tr>\n",
       "    <tr>\n",
       "      <th>3</th>\n",
       "      <td>Wii Sports Resort</td>\n",
       "      <td>Wii</td>\n",
       "      <td>2009.0</td>\n",
       "      <td>Sports</td>\n",
       "      <td>15.61</td>\n",
       "      <td>10.93</td>\n",
       "      <td>3.28</td>\n",
       "      <td>2.95</td>\n",
       "      <td>80.0</td>\n",
       "      <td>8</td>\n",
       "      <td>E</td>\n",
       "    </tr>\n",
       "    <tr>\n",
       "      <th>4</th>\n",
       "      <td>Pokemon Red/Pokemon Blue</td>\n",
       "      <td>GB</td>\n",
       "      <td>1996.0</td>\n",
       "      <td>Role-Playing</td>\n",
       "      <td>11.27</td>\n",
       "      <td>8.89</td>\n",
       "      <td>10.22</td>\n",
       "      <td>1.00</td>\n",
       "      <td>NaN</td>\n",
       "      <td>NaN</td>\n",
       "      <td>NaN</td>\n",
       "    </tr>\n",
       "    <tr>\n",
       "      <th>5</th>\n",
       "      <td>Tetris</td>\n",
       "      <td>GB</td>\n",
       "      <td>1989.0</td>\n",
       "      <td>Puzzle</td>\n",
       "      <td>23.20</td>\n",
       "      <td>2.26</td>\n",
       "      <td>4.22</td>\n",
       "      <td>0.58</td>\n",
       "      <td>NaN</td>\n",
       "      <td>NaN</td>\n",
       "      <td>NaN</td>\n",
       "    </tr>\n",
       "    <tr>\n",
       "      <th>6</th>\n",
       "      <td>New Super Mario Bros.</td>\n",
       "      <td>DS</td>\n",
       "      <td>2006.0</td>\n",
       "      <td>Platform</td>\n",
       "      <td>11.28</td>\n",
       "      <td>9.14</td>\n",
       "      <td>6.50</td>\n",
       "      <td>2.88</td>\n",
       "      <td>89.0</td>\n",
       "      <td>8.5</td>\n",
       "      <td>E</td>\n",
       "    </tr>\n",
       "    <tr>\n",
       "      <th>7</th>\n",
       "      <td>Wii Play</td>\n",
       "      <td>Wii</td>\n",
       "      <td>2006.0</td>\n",
       "      <td>Misc</td>\n",
       "      <td>13.96</td>\n",
       "      <td>9.18</td>\n",
       "      <td>2.93</td>\n",
       "      <td>2.84</td>\n",
       "      <td>58.0</td>\n",
       "      <td>6.6</td>\n",
       "      <td>E</td>\n",
       "    </tr>\n",
       "    <tr>\n",
       "      <th>8</th>\n",
       "      <td>New Super Mario Bros. Wii</td>\n",
       "      <td>Wii</td>\n",
       "      <td>2009.0</td>\n",
       "      <td>Platform</td>\n",
       "      <td>14.44</td>\n",
       "      <td>6.94</td>\n",
       "      <td>4.70</td>\n",
       "      <td>2.24</td>\n",
       "      <td>87.0</td>\n",
       "      <td>8.4</td>\n",
       "      <td>E</td>\n",
       "    </tr>\n",
       "    <tr>\n",
       "      <th>9</th>\n",
       "      <td>Duck Hunt</td>\n",
       "      <td>NES</td>\n",
       "      <td>1984.0</td>\n",
       "      <td>Shooter</td>\n",
       "      <td>26.93</td>\n",
       "      <td>0.63</td>\n",
       "      <td>0.28</td>\n",
       "      <td>0.47</td>\n",
       "      <td>NaN</td>\n",
       "      <td>NaN</td>\n",
       "      <td>NaN</td>\n",
       "    </tr>\n",
       "  </tbody>\n",
       "</table>\n",
       "</div>"
      ],
      "text/plain": [
       "                        Name Platform  Year_of_Release         Genre  \\\n",
       "0                 Wii Sports      Wii           2006.0        Sports   \n",
       "1          Super Mario Bros.      NES           1985.0      Platform   \n",
       "2             Mario Kart Wii      Wii           2008.0        Racing   \n",
       "3          Wii Sports Resort      Wii           2009.0        Sports   \n",
       "4   Pokemon Red/Pokemon Blue       GB           1996.0  Role-Playing   \n",
       "5                     Tetris       GB           1989.0        Puzzle   \n",
       "6      New Super Mario Bros.       DS           2006.0      Platform   \n",
       "7                   Wii Play      Wii           2006.0          Misc   \n",
       "8  New Super Mario Bros. Wii      Wii           2009.0      Platform   \n",
       "9                  Duck Hunt      NES           1984.0       Shooter   \n",
       "\n",
       "   NA_sales  EU_sales  JP_sales  Other_sales  Critic_Score User_Score Rating  \n",
       "0     41.36     28.96      3.77         8.45          76.0          8      E  \n",
       "1     29.08      3.58      6.81         0.77           NaN        NaN    NaN  \n",
       "2     15.68     12.76      3.79         3.29          82.0        8.3      E  \n",
       "3     15.61     10.93      3.28         2.95          80.0          8      E  \n",
       "4     11.27      8.89     10.22         1.00           NaN        NaN    NaN  \n",
       "5     23.20      2.26      4.22         0.58           NaN        NaN    NaN  \n",
       "6     11.28      9.14      6.50         2.88          89.0        8.5      E  \n",
       "7     13.96      9.18      2.93         2.84          58.0        6.6      E  \n",
       "8     14.44      6.94      4.70         2.24          87.0        8.4      E  \n",
       "9     26.93      0.63      0.28         0.47           NaN        NaN    NaN  "
      ]
     },
     "execution_count": 3,
     "metadata": {},
     "output_type": "execute_result"
    }
   ],
   "source": [
    "df.head(10)"
   ]
  },
  {
   "cell_type": "markdown",
   "id": "67252402",
   "metadata": {},
   "source": [
    "Итого в нашем распоряжении:\n",
    "- `Name` — название игры\n",
    "- `Platform` — платформа\n",
    "- `Year_of_Release` — год выпуска\n",
    "- `Genre` — жанр игры\n",
    "- `NA_sales` — продажи в Северной Америке (миллионы проданных копий)\n",
    "- `EU_sales` — продажи в Европе (миллионы проданных копий)\n",
    "- `JP_sales` — продажи в Японии (миллионы проданных копий)\n",
    "- `Other_sales` — продажи в других странах (миллионы проданных копий)\n",
    "- `Critic_Score` — оценка критиков (максимум 100)\n",
    "- `User_Score` — оценка пользователей (максимум 10)\n",
    "- `Rating` — рейтинг от организации ESRB (англ. Entertainment Software Rating Board). Эта ассоциация определяет рейтинг компьютерных игр и присваивает им подходящую возрастную категорию."
   ]
  },
  {
   "cell_type": "markdown",
   "id": "af96fa95",
   "metadata": {},
   "source": [
    "---"
   ]
  },
  {
   "cell_type": "markdown",
   "id": "d64953e0",
   "metadata": {},
   "source": [
    "## Предобработка данных"
   ]
  },
  {
   "cell_type": "markdown",
   "id": "3513bb9c",
   "metadata": {},
   "source": [
    "Выполним предобработку данных: приведем в порядок названия колонок, преобразуем типы, избавимся от дубликатов, проверим аномалии, заполним пропуски"
   ]
  },
  {
   "cell_type": "markdown",
   "id": "c336726f",
   "metadata": {},
   "source": [
    "Заменим название колонок на нижний регистр. "
   ]
  },
  {
   "cell_type": "code",
   "execution_count": 4,
   "id": "4cf6c6f1",
   "metadata": {},
   "outputs": [
    {
     "data": {
      "text/html": [
       "<div>\n",
       "<style scoped>\n",
       "    .dataframe tbody tr th:only-of-type {\n",
       "        vertical-align: middle;\n",
       "    }\n",
       "\n",
       "    .dataframe tbody tr th {\n",
       "        vertical-align: top;\n",
       "    }\n",
       "\n",
       "    .dataframe thead th {\n",
       "        text-align: right;\n",
       "    }\n",
       "</style>\n",
       "<table border=\"1\" class=\"dataframe\">\n",
       "  <thead>\n",
       "    <tr style=\"text-align: right;\">\n",
       "      <th></th>\n",
       "      <th>name</th>\n",
       "      <th>platform</th>\n",
       "      <th>year_of_release</th>\n",
       "      <th>genre</th>\n",
       "      <th>na_sales</th>\n",
       "      <th>eu_sales</th>\n",
       "      <th>jp_sales</th>\n",
       "      <th>other_sales</th>\n",
       "      <th>critic_score</th>\n",
       "      <th>user_score</th>\n",
       "      <th>rating</th>\n",
       "    </tr>\n",
       "  </thead>\n",
       "  <tbody>\n",
       "    <tr>\n",
       "      <th>0</th>\n",
       "      <td>Wii Sports</td>\n",
       "      <td>Wii</td>\n",
       "      <td>2006.0</td>\n",
       "      <td>Sports</td>\n",
       "      <td>41.36</td>\n",
       "      <td>28.96</td>\n",
       "      <td>3.77</td>\n",
       "      <td>8.45</td>\n",
       "      <td>76.0</td>\n",
       "      <td>8</td>\n",
       "      <td>E</td>\n",
       "    </tr>\n",
       "    <tr>\n",
       "      <th>1</th>\n",
       "      <td>Super Mario Bros.</td>\n",
       "      <td>NES</td>\n",
       "      <td>1985.0</td>\n",
       "      <td>Platform</td>\n",
       "      <td>29.08</td>\n",
       "      <td>3.58</td>\n",
       "      <td>6.81</td>\n",
       "      <td>0.77</td>\n",
       "      <td>NaN</td>\n",
       "      <td>NaN</td>\n",
       "      <td>NaN</td>\n",
       "    </tr>\n",
       "    <tr>\n",
       "      <th>2</th>\n",
       "      <td>Mario Kart Wii</td>\n",
       "      <td>Wii</td>\n",
       "      <td>2008.0</td>\n",
       "      <td>Racing</td>\n",
       "      <td>15.68</td>\n",
       "      <td>12.76</td>\n",
       "      <td>3.79</td>\n",
       "      <td>3.29</td>\n",
       "      <td>82.0</td>\n",
       "      <td>8.3</td>\n",
       "      <td>E</td>\n",
       "    </tr>\n",
       "    <tr>\n",
       "      <th>3</th>\n",
       "      <td>Wii Sports Resort</td>\n",
       "      <td>Wii</td>\n",
       "      <td>2009.0</td>\n",
       "      <td>Sports</td>\n",
       "      <td>15.61</td>\n",
       "      <td>10.93</td>\n",
       "      <td>3.28</td>\n",
       "      <td>2.95</td>\n",
       "      <td>80.0</td>\n",
       "      <td>8</td>\n",
       "      <td>E</td>\n",
       "    </tr>\n",
       "    <tr>\n",
       "      <th>4</th>\n",
       "      <td>Pokemon Red/Pokemon Blue</td>\n",
       "      <td>GB</td>\n",
       "      <td>1996.0</td>\n",
       "      <td>Role-Playing</td>\n",
       "      <td>11.27</td>\n",
       "      <td>8.89</td>\n",
       "      <td>10.22</td>\n",
       "      <td>1.00</td>\n",
       "      <td>NaN</td>\n",
       "      <td>NaN</td>\n",
       "      <td>NaN</td>\n",
       "    </tr>\n",
       "    <tr>\n",
       "      <th>5</th>\n",
       "      <td>Tetris</td>\n",
       "      <td>GB</td>\n",
       "      <td>1989.0</td>\n",
       "      <td>Puzzle</td>\n",
       "      <td>23.20</td>\n",
       "      <td>2.26</td>\n",
       "      <td>4.22</td>\n",
       "      <td>0.58</td>\n",
       "      <td>NaN</td>\n",
       "      <td>NaN</td>\n",
       "      <td>NaN</td>\n",
       "    </tr>\n",
       "    <tr>\n",
       "      <th>6</th>\n",
       "      <td>New Super Mario Bros.</td>\n",
       "      <td>DS</td>\n",
       "      <td>2006.0</td>\n",
       "      <td>Platform</td>\n",
       "      <td>11.28</td>\n",
       "      <td>9.14</td>\n",
       "      <td>6.50</td>\n",
       "      <td>2.88</td>\n",
       "      <td>89.0</td>\n",
       "      <td>8.5</td>\n",
       "      <td>E</td>\n",
       "    </tr>\n",
       "    <tr>\n",
       "      <th>7</th>\n",
       "      <td>Wii Play</td>\n",
       "      <td>Wii</td>\n",
       "      <td>2006.0</td>\n",
       "      <td>Misc</td>\n",
       "      <td>13.96</td>\n",
       "      <td>9.18</td>\n",
       "      <td>2.93</td>\n",
       "      <td>2.84</td>\n",
       "      <td>58.0</td>\n",
       "      <td>6.6</td>\n",
       "      <td>E</td>\n",
       "    </tr>\n",
       "    <tr>\n",
       "      <th>8</th>\n",
       "      <td>New Super Mario Bros. Wii</td>\n",
       "      <td>Wii</td>\n",
       "      <td>2009.0</td>\n",
       "      <td>Platform</td>\n",
       "      <td>14.44</td>\n",
       "      <td>6.94</td>\n",
       "      <td>4.70</td>\n",
       "      <td>2.24</td>\n",
       "      <td>87.0</td>\n",
       "      <td>8.4</td>\n",
       "      <td>E</td>\n",
       "    </tr>\n",
       "    <tr>\n",
       "      <th>9</th>\n",
       "      <td>Duck Hunt</td>\n",
       "      <td>NES</td>\n",
       "      <td>1984.0</td>\n",
       "      <td>Shooter</td>\n",
       "      <td>26.93</td>\n",
       "      <td>0.63</td>\n",
       "      <td>0.28</td>\n",
       "      <td>0.47</td>\n",
       "      <td>NaN</td>\n",
       "      <td>NaN</td>\n",
       "      <td>NaN</td>\n",
       "    </tr>\n",
       "  </tbody>\n",
       "</table>\n",
       "</div>"
      ],
      "text/plain": [
       "                        name platform  year_of_release         genre  \\\n",
       "0                 Wii Sports      Wii           2006.0        Sports   \n",
       "1          Super Mario Bros.      NES           1985.0      Platform   \n",
       "2             Mario Kart Wii      Wii           2008.0        Racing   \n",
       "3          Wii Sports Resort      Wii           2009.0        Sports   \n",
       "4   Pokemon Red/Pokemon Blue       GB           1996.0  Role-Playing   \n",
       "5                     Tetris       GB           1989.0        Puzzle   \n",
       "6      New Super Mario Bros.       DS           2006.0      Platform   \n",
       "7                   Wii Play      Wii           2006.0          Misc   \n",
       "8  New Super Mario Bros. Wii      Wii           2009.0      Platform   \n",
       "9                  Duck Hunt      NES           1984.0       Shooter   \n",
       "\n",
       "   na_sales  eu_sales  jp_sales  other_sales  critic_score user_score rating  \n",
       "0     41.36     28.96      3.77         8.45          76.0          8      E  \n",
       "1     29.08      3.58      6.81         0.77           NaN        NaN    NaN  \n",
       "2     15.68     12.76      3.79         3.29          82.0        8.3      E  \n",
       "3     15.61     10.93      3.28         2.95          80.0          8      E  \n",
       "4     11.27      8.89     10.22         1.00           NaN        NaN    NaN  \n",
       "5     23.20      2.26      4.22         0.58           NaN        NaN    NaN  \n",
       "6     11.28      9.14      6.50         2.88          89.0        8.5      E  \n",
       "7     13.96      9.18      2.93         2.84          58.0        6.6      E  \n",
       "8     14.44      6.94      4.70         2.24          87.0        8.4      E  \n",
       "9     26.93      0.63      0.28         0.47           NaN        NaN    NaN  "
      ]
     },
     "execution_count": 4,
     "metadata": {},
     "output_type": "execute_result"
    }
   ],
   "source": [
    "df.columns = [col.lower() for col in df.columns]\n",
    "df.head(10)"
   ]
  },
  {
   "cell_type": "code",
   "execution_count": 5,
   "id": "7f4738d9",
   "metadata": {},
   "outputs": [
    {
     "name": "stdout",
     "output_type": "stream",
     "text": [
      "<class 'pandas.core.frame.DataFrame'>\n",
      "RangeIndex: 16715 entries, 0 to 16714\n",
      "Data columns (total 11 columns):\n",
      " #   Column           Non-Null Count  Dtype  \n",
      "---  ------           --------------  -----  \n",
      " 0   name             16713 non-null  object \n",
      " 1   platform         16715 non-null  object \n",
      " 2   year_of_release  16446 non-null  float64\n",
      " 3   genre            16713 non-null  object \n",
      " 4   na_sales         16715 non-null  float64\n",
      " 5   eu_sales         16715 non-null  float64\n",
      " 6   jp_sales         16715 non-null  float64\n",
      " 7   other_sales      16715 non-null  float64\n",
      " 8   critic_score     8137 non-null   float64\n",
      " 9   user_score       10014 non-null  object \n",
      " 10  rating           9949 non-null   object \n",
      "dtypes: float64(6), object(5)\n",
      "memory usage: 1.4+ MB\n"
     ]
    }
   ],
   "source": [
    "df.info()"
   ]
  },
  {
   "cell_type": "markdown",
   "id": "933fd603",
   "metadata": {},
   "source": [
    "Обработаем пропуски в данных"
   ]
  },
  {
   "cell_type": "code",
   "execution_count": 6,
   "id": "8ef4306c",
   "metadata": {
    "scrolled": true
   },
   "outputs": [
    {
     "data": {
      "text/plain": [
       "name               0.000120\n",
       "platform           0.000000\n",
       "year_of_release    0.016093\n",
       "genre              0.000120\n",
       "na_sales           0.000000\n",
       "eu_sales           0.000000\n",
       "jp_sales           0.000000\n",
       "other_sales        0.000000\n",
       "critic_score       0.513192\n",
       "user_score         0.400897\n",
       "rating             0.404786\n",
       "dtype: float64"
      ]
     },
     "execution_count": 6,
     "metadata": {},
     "output_type": "execute_result"
    }
   ],
   "source": [
    "df.isna().mean()"
   ]
  },
  {
   "cell_type": "markdown",
   "id": "a03d24cf",
   "metadata": {},
   "source": [
    "Пропуски наблюдаются в следующих колонках:\n",
    "- `name` \n",
    "- `year_of_release` \n",
    "- `genre`\n",
    "- `critic_score`\n",
    "- `user_score`\n",
    "- `rating`\n"
   ]
  },
  {
   "cell_type": "markdown",
   "id": "eac2924d",
   "metadata": {},
   "source": [
    "В колонке `name` менее одного процентра попусков. Предлагаю удалить их. "
   ]
  },
  {
   "cell_type": "code",
   "execution_count": 8,
   "id": "0d5d4b99",
   "metadata": {},
   "outputs": [
    {
     "data": {
      "text/html": [
       "<div>\n",
       "<style scoped>\n",
       "    .dataframe tbody tr th:only-of-type {\n",
       "        vertical-align: middle;\n",
       "    }\n",
       "\n",
       "    .dataframe tbody tr th {\n",
       "        vertical-align: top;\n",
       "    }\n",
       "\n",
       "    .dataframe thead th {\n",
       "        text-align: right;\n",
       "    }\n",
       "</style>\n",
       "<table border=\"1\" class=\"dataframe\">\n",
       "  <thead>\n",
       "    <tr style=\"text-align: right;\">\n",
       "      <th></th>\n",
       "      <th>name</th>\n",
       "      <th>platform</th>\n",
       "      <th>year_of_release</th>\n",
       "      <th>genre</th>\n",
       "      <th>na_sales</th>\n",
       "      <th>eu_sales</th>\n",
       "      <th>jp_sales</th>\n",
       "      <th>other_sales</th>\n",
       "      <th>critic_score</th>\n",
       "      <th>user_score</th>\n",
       "      <th>rating</th>\n",
       "    </tr>\n",
       "  </thead>\n",
       "  <tbody>\n",
       "  </tbody>\n",
       "</table>\n",
       "</div>"
      ],
      "text/plain": [
       "Empty DataFrame\n",
       "Columns: [name, platform, year_of_release, genre, na_sales, eu_sales, jp_sales, other_sales, critic_score, user_score, rating]\n",
       "Index: []"
      ]
     },
     "metadata": {},
     "output_type": "display_data"
    }
   ],
   "source": [
    "display(df[df['name'].isna()])\n",
    "df = df.dropna(subset=['name'])"
   ]
  },
  {
   "cell_type": "markdown",
   "id": "e73fa002",
   "metadata": {},
   "source": [
    "Пропуски в колонке `year_of_release`. Можно попробовать заполнить пропуски следующим образом - посмотреть для каждой игры, в которой не указан год релиза, год релиза на другой игровой платформе и взять это значение. Но немного подумав, я скорее откажусь от такого варианта, тк:\n",
    "- Некоторые игры выпускаются эксклюзивно для определенной платформы. Например игра могла выйти на PS в 2005 году, а на остальные плафтормы уже в 2006\n",
    "- Год релиза на других платформах может отличаться. \n",
    "- Таких пропусков всего 1.6%. Это очень мало\n",
    "\n",
    "Поскольку таких пропусков очень мало (<2%) предлагаю от них избавиться"
   ]
  },
  {
   "cell_type": "code",
   "execution_count": 9,
   "id": "235909b2",
   "metadata": {},
   "outputs": [],
   "source": [
    "df = df.dropna(subset=['year_of_release']) #код ревьюера"
   ]
  },
  {
   "cell_type": "markdown",
   "id": "131ad08d",
   "metadata": {},
   "source": [
    "Пропуски в колонке `genre` были вызваны отсутсвием названия игры. Удалив такие строки, пропуски в `genre` тоже ушли"
   ]
  },
  {
   "cell_type": "code",
   "execution_count": 10,
   "id": "4b04cb3f",
   "metadata": {},
   "outputs": [
    {
     "data": {
      "text/plain": [
       "name               0.000000\n",
       "platform           0.000000\n",
       "year_of_release    0.000000\n",
       "genre              0.000000\n",
       "na_sales           0.000000\n",
       "eu_sales           0.000000\n",
       "jp_sales           0.000000\n",
       "other_sales        0.000000\n",
       "critic_score       0.514534\n",
       "user_score         0.401666\n",
       "rating             0.405984\n",
       "dtype: float64"
      ]
     },
     "execution_count": 10,
     "metadata": {},
     "output_type": "execute_result"
    }
   ],
   "source": [
    "df.isna().mean()"
   ]
  },
  {
   "cell_type": "markdown",
   "id": "ffa1552c",
   "metadata": {},
   "source": [
    "Необработанными остались колонки с оценками пользователей и критикив, а также рейтинг ESRB. Покрутив данные и поизучав их, у меня нет едиснтвенного правильного предполодения о природе данных пропусков. Игры разных жанров, разных годов, для разных платформ. Также есть игры с большим объемом продаж, а есть почти с нулевым. Предлагаю пока оставить пропуски в этих колонках. \\\n",
    "Также в колонке с оценкой пользователя есть аббревиатура tbd, что означает \"подлежит определению\", т.е. рейтинг для таких игр еще не определен. Заменю такие данные на NaN"
   ]
  },
  {
   "cell_type": "code",
   "execution_count": 11,
   "id": "a25d4507",
   "metadata": {},
   "outputs": [],
   "source": [
    "df['user_score'] = df['user_score'].replace('tbd', np.NaN)"
   ]
  },
  {
   "cell_type": "code",
   "execution_count": 12,
   "id": "f5e6cdbb",
   "metadata": {},
   "outputs": [
    {
     "data": {
      "text/plain": [
       "name               0.000000\n",
       "platform           0.000000\n",
       "year_of_release    0.000000\n",
       "genre              0.000000\n",
       "na_sales           0.000000\n",
       "eu_sales           0.000000\n",
       "jp_sales           0.000000\n",
       "other_sales        0.000000\n",
       "critic_score       0.514534\n",
       "user_score         0.546157\n",
       "rating             0.405984\n",
       "dtype: float64"
      ]
     },
     "execution_count": 12,
     "metadata": {},
     "output_type": "execute_result"
    }
   ],
   "source": [
    "df.isna().mean()"
   ]
  },
  {
   "cell_type": "markdown",
   "id": "91ca3258",
   "metadata": {},
   "source": [
    "С пропусками разобрались и по пути \"потеряли\" менее 300 строк, что равно примерно 2%. Теперь посмотрим на дубликаты"
   ]
  },
  {
   "cell_type": "code",
   "execution_count": 13,
   "id": "dc39b5ba",
   "metadata": {},
   "outputs": [
    {
     "data": {
      "text/plain": [
       "0"
      ]
     },
     "execution_count": 13,
     "metadata": {},
     "output_type": "execute_result"
    }
   ],
   "source": [
    "df.duplicated().sum()"
   ]
  },
  {
   "cell_type": "markdown",
   "id": "46470307",
   "metadata": {},
   "source": [
    "Дубликатов нет. Для завершения предобработки приведем типы данных к нужным"
   ]
  },
  {
   "cell_type": "code",
   "execution_count": 14,
   "id": "ba195fff",
   "metadata": {},
   "outputs": [
    {
     "name": "stdout",
     "output_type": "stream",
     "text": [
      "<class 'pandas.core.frame.DataFrame'>\n",
      "Int64Index: 16444 entries, 0 to 16714\n",
      "Data columns (total 11 columns):\n",
      " #   Column           Non-Null Count  Dtype  \n",
      "---  ------           --------------  -----  \n",
      " 0   name             16444 non-null  object \n",
      " 1   platform         16444 non-null  object \n",
      " 2   year_of_release  16444 non-null  float64\n",
      " 3   genre            16444 non-null  object \n",
      " 4   na_sales         16444 non-null  float64\n",
      " 5   eu_sales         16444 non-null  float64\n",
      " 6   jp_sales         16444 non-null  float64\n",
      " 7   other_sales      16444 non-null  float64\n",
      " 8   critic_score     7983 non-null   float64\n",
      " 9   user_score       7463 non-null   object \n",
      " 10  rating           9768 non-null   object \n",
      "dtypes: float64(6), object(5)\n",
      "memory usage: 1.5+ MB\n"
     ]
    }
   ],
   "source": [
    "df.info()"
   ]
  },
  {
   "cell_type": "code",
   "execution_count": 15,
   "id": "1e01e448",
   "metadata": {},
   "outputs": [],
   "source": [
    "# Цикл пробегается по списку колонок и меняет тип данных на более экономичный\n",
    "# Также заменим user_score на float\n",
    "for col in ['na_sales', 'eu_sales', 'jp_sales', 'other_sales', 'user_score']:\n",
    "        df[col] = df[col].astype('float32')"
   ]
  },
  {
   "cell_type": "code",
   "execution_count": 16,
   "id": "9905ddd6",
   "metadata": {},
   "outputs": [],
   "source": [
    "# Также заменим тип данных для года релиза на целочисленный\n",
    "df['year_of_release'] = df['year_of_release'].astype('int32')"
   ]
  },
  {
   "cell_type": "markdown",
   "id": "f577dfe6",
   "metadata": {},
   "source": [
    "Пропуски в столбце `rating` заменим на \"Unknown\", это позволить не потерять нам эти данные при анализе. "
   ]
  },
  {
   "cell_type": "code",
   "execution_count": 17,
   "id": "78313483",
   "metadata": {},
   "outputs": [],
   "source": [
    "df['rating'] = df['rating'].fillna('Unknown')"
   ]
  },
  {
   "cell_type": "code",
   "execution_count": 18,
   "id": "4ac6c42b",
   "metadata": {
    "scrolled": true
   },
   "outputs": [
    {
     "name": "stdout",
     "output_type": "stream",
     "text": [
      "<class 'pandas.core.frame.DataFrame'>\n",
      "Int64Index: 16444 entries, 0 to 16714\n",
      "Data columns (total 11 columns):\n",
      " #   Column           Non-Null Count  Dtype  \n",
      "---  ------           --------------  -----  \n",
      " 0   name             16444 non-null  object \n",
      " 1   platform         16444 non-null  object \n",
      " 2   year_of_release  16444 non-null  int32  \n",
      " 3   genre            16444 non-null  object \n",
      " 4   na_sales         16444 non-null  float32\n",
      " 5   eu_sales         16444 non-null  float32\n",
      " 6   jp_sales         16444 non-null  float32\n",
      " 7   other_sales      16444 non-null  float32\n",
      " 8   critic_score     7983 non-null   float64\n",
      " 9   user_score       7463 non-null   float32\n",
      " 10  rating           16444 non-null  object \n",
      "dtypes: float32(5), float64(1), int32(1), object(4)\n",
      "memory usage: 1.1+ MB\n"
     ]
    }
   ],
   "source": [
    "df.info()"
   ]
  },
  {
   "cell_type": "markdown",
   "id": "5b08c7e8",
   "metadata": {},
   "source": [
    "---"
   ]
  },
  {
   "cell_type": "markdown",
   "id": "abfee6b0",
   "metadata": {},
   "source": [
    "## Рассчеты"
   ]
  },
  {
   "cell_type": "markdown",
   "id": "19bc511f",
   "metadata": {},
   "source": [
    "С предобработкой закончили. Можно двигаться дальше. Посчитаем суммарные продажи во всех регионах и добавим их в отдельный столбец"
   ]
  },
  {
   "cell_type": "code",
   "execution_count": 19,
   "id": "c14eab03",
   "metadata": {},
   "outputs": [],
   "source": [
    "df['total_sales'] = df[['na_sales', 'eu_sales', 'jp_sales', 'other_sales']].sum(axis=1)"
   ]
  },
  {
   "cell_type": "code",
   "execution_count": 20,
   "id": "752a5bc4",
   "metadata": {
    "scrolled": true
   },
   "outputs": [
    {
     "data": {
      "text/html": [
       "<div>\n",
       "<style scoped>\n",
       "    .dataframe tbody tr th:only-of-type {\n",
       "        vertical-align: middle;\n",
       "    }\n",
       "\n",
       "    .dataframe tbody tr th {\n",
       "        vertical-align: top;\n",
       "    }\n",
       "\n",
       "    .dataframe thead th {\n",
       "        text-align: right;\n",
       "    }\n",
       "</style>\n",
       "<table border=\"1\" class=\"dataframe\">\n",
       "  <thead>\n",
       "    <tr style=\"text-align: right;\">\n",
       "      <th></th>\n",
       "      <th>name</th>\n",
       "      <th>platform</th>\n",
       "      <th>year_of_release</th>\n",
       "      <th>genre</th>\n",
       "      <th>na_sales</th>\n",
       "      <th>eu_sales</th>\n",
       "      <th>jp_sales</th>\n",
       "      <th>other_sales</th>\n",
       "      <th>critic_score</th>\n",
       "      <th>user_score</th>\n",
       "      <th>rating</th>\n",
       "      <th>total_sales</th>\n",
       "    </tr>\n",
       "  </thead>\n",
       "  <tbody>\n",
       "    <tr>\n",
       "      <th>0</th>\n",
       "      <td>Wii Sports</td>\n",
       "      <td>Wii</td>\n",
       "      <td>2006</td>\n",
       "      <td>Sports</td>\n",
       "      <td>41.360001</td>\n",
       "      <td>28.959999</td>\n",
       "      <td>3.77</td>\n",
       "      <td>8.45</td>\n",
       "      <td>76.0</td>\n",
       "      <td>8.0</td>\n",
       "      <td>E</td>\n",
       "      <td>82.539993</td>\n",
       "    </tr>\n",
       "    <tr>\n",
       "      <th>1</th>\n",
       "      <td>Super Mario Bros.</td>\n",
       "      <td>NES</td>\n",
       "      <td>1985</td>\n",
       "      <td>Platform</td>\n",
       "      <td>29.080000</td>\n",
       "      <td>3.580000</td>\n",
       "      <td>6.81</td>\n",
       "      <td>0.77</td>\n",
       "      <td>NaN</td>\n",
       "      <td>NaN</td>\n",
       "      <td>Unknown</td>\n",
       "      <td>40.240002</td>\n",
       "    </tr>\n",
       "    <tr>\n",
       "      <th>2</th>\n",
       "      <td>Mario Kart Wii</td>\n",
       "      <td>Wii</td>\n",
       "      <td>2008</td>\n",
       "      <td>Racing</td>\n",
       "      <td>15.680000</td>\n",
       "      <td>12.760000</td>\n",
       "      <td>3.79</td>\n",
       "      <td>3.29</td>\n",
       "      <td>82.0</td>\n",
       "      <td>8.3</td>\n",
       "      <td>E</td>\n",
       "      <td>35.520000</td>\n",
       "    </tr>\n",
       "    <tr>\n",
       "      <th>3</th>\n",
       "      <td>Wii Sports Resort</td>\n",
       "      <td>Wii</td>\n",
       "      <td>2009</td>\n",
       "      <td>Sports</td>\n",
       "      <td>15.610000</td>\n",
       "      <td>10.930000</td>\n",
       "      <td>3.28</td>\n",
       "      <td>2.95</td>\n",
       "      <td>80.0</td>\n",
       "      <td>8.0</td>\n",
       "      <td>E</td>\n",
       "      <td>32.770000</td>\n",
       "    </tr>\n",
       "    <tr>\n",
       "      <th>4</th>\n",
       "      <td>Pokemon Red/Pokemon Blue</td>\n",
       "      <td>GB</td>\n",
       "      <td>1996</td>\n",
       "      <td>Role-Playing</td>\n",
       "      <td>11.270000</td>\n",
       "      <td>8.890000</td>\n",
       "      <td>10.22</td>\n",
       "      <td>1.00</td>\n",
       "      <td>NaN</td>\n",
       "      <td>NaN</td>\n",
       "      <td>Unknown</td>\n",
       "      <td>31.380001</td>\n",
       "    </tr>\n",
       "  </tbody>\n",
       "</table>\n",
       "</div>"
      ],
      "text/plain": [
       "                       name platform  year_of_release         genre  \\\n",
       "0                Wii Sports      Wii             2006        Sports   \n",
       "1         Super Mario Bros.      NES             1985      Platform   \n",
       "2            Mario Kart Wii      Wii             2008        Racing   \n",
       "3         Wii Sports Resort      Wii             2009        Sports   \n",
       "4  Pokemon Red/Pokemon Blue       GB             1996  Role-Playing   \n",
       "\n",
       "    na_sales   eu_sales  jp_sales  other_sales  critic_score  user_score  \\\n",
       "0  41.360001  28.959999      3.77         8.45          76.0         8.0   \n",
       "1  29.080000   3.580000      6.81         0.77           NaN         NaN   \n",
       "2  15.680000  12.760000      3.79         3.29          82.0         8.3   \n",
       "3  15.610000  10.930000      3.28         2.95          80.0         8.0   \n",
       "4  11.270000   8.890000     10.22         1.00           NaN         NaN   \n",
       "\n",
       "    rating  total_sales  \n",
       "0        E    82.539993  \n",
       "1  Unknown    40.240002  \n",
       "2        E    35.520000  \n",
       "3        E    32.770000  \n",
       "4  Unknown    31.380001  "
      ]
     },
     "execution_count": 20,
     "metadata": {},
     "output_type": "execute_result"
    }
   ],
   "source": [
    "df.head()"
   ]
  },
  {
   "cell_type": "markdown",
   "id": "ad7a1d92",
   "metadata": {},
   "source": [
    "---"
   ]
  },
  {
   "cell_type": "markdown",
   "id": "08246e95",
   "metadata": {},
   "source": [
    "## EDA"
   ]
  },
  {
   "cell_type": "markdown",
   "id": "748c58bc",
   "metadata": {},
   "source": [
    "### Кол-во выпускаемых игр по годам"
   ]
  },
  {
   "cell_type": "markdown",
   "id": "0041c6de",
   "metadata": {},
   "source": [
    "Посмотрим сколько игр выпускалось в разные года."
   ]
  },
  {
   "cell_type": "code",
   "execution_count": 21,
   "id": "23cedad4",
   "metadata": {},
   "outputs": [
    {
     "data": {
      "text/plain": [
       "year_of_release\n",
       "1980       9\n",
       "1981      46\n",
       "1982      36\n",
       "1983      17\n",
       "1984      14\n",
       "1985      14\n",
       "1986      21\n",
       "1987      16\n",
       "1988      15\n",
       "1989      17\n",
       "1990      16\n",
       "1991      41\n",
       "1992      43\n",
       "1993      60\n",
       "1994     121\n",
       "1995     219\n",
       "1996     263\n",
       "1997     289\n",
       "1998     379\n",
       "1999     338\n",
       "2000     350\n",
       "2001     482\n",
       "2002     829\n",
       "2003     775\n",
       "2004     762\n",
       "2005     939\n",
       "2006    1006\n",
       "2007    1197\n",
       "2008    1427\n",
       "2009    1426\n",
       "2010    1255\n",
       "2011    1136\n",
       "2012     653\n",
       "2013     544\n",
       "2014     581\n",
       "2015     606\n",
       "2016     502\n",
       "Name: name, dtype: int64"
      ]
     },
     "metadata": {},
     "output_type": "display_data"
    },
    {
     "data": {
      "image/png": "[encoded data removed]",
      "text/plain": [
       "<Figure size 720x360 with 1 Axes>"
      ]
     },
     "metadata": {
      "needs_background": "light"
     },
     "output_type": "display_data"
    }
   ],
   "source": [
    "df.groupby('year_of_release')['name'].count().plot(grid=True, figsize=(10,5), marker='2')\n",
    "plt.title('releases by year', fontsize=14, fontweight=\"bold\")\n",
    "plt.xlabel('year of release')\n",
    "plt.ylabel('count')\n",
    "plt.legend(['count of games'])\n",
    "display(df.groupby('year_of_release')['name'].count())"
   ]
  },
  {
   "cell_type": "markdown",
   "id": "9d123d53",
   "metadata": {},
   "source": [
    "<div style=\"border:solid blue 2px; padding: 20px\">\n",
    "Можно заметить, что до 1995 года рост выпускаемых игр хоть и был, но кол-во игр все равно было очень незначительным. Думаю, данные до 1995 года в целом не важны, тк игр выпускалось очень мало. После 2010 года также заметен сильный спад. Веротяно, это связано с развитием мобильных устройств и игр для них. "
   ]
  },
  {
   "cell_type": "markdown",
   "id": "40ca32b2",
   "metadata": {},
   "source": [
    "---"
   ]
  },
  {
   "cell_type": "markdown",
   "id": "2162c5b7",
   "metadata": {},
   "source": [
    "### Изменения продаж по платформам"
   ]
  },
  {
   "cell_type": "markdown",
   "id": "a3064bd6",
   "metadata": {},
   "source": [
    "Посмотрим как менялись продажи по платформам"
   ]
  },
  {
   "cell_type": "code",
   "execution_count": 22,
   "id": "5de14bfc",
   "metadata": {},
   "outputs": [
    {
     "data": {
      "text/plain": [
       "<AxesSubplot:xlabel='platform'>"
      ]
     },
     "execution_count": 22,
     "metadata": {},
     "output_type": "execute_result"
    },
    {
     "data": {
      "image/png": "[encoded data removed]",
      "text/plain": [
       "<Figure size 432x288 with 1 Axes>"
      ]
     },
     "metadata": {
      "needs_background": "light"
     },
     "output_type": "display_data"
    }
   ],
   "source": [
    "df.groupby('platform')['total_sales'].sum().sort_values().plot(kind='bar', grid=True)"
   ]
  },
  {
   "cell_type": "markdown",
   "id": "d783e0e9",
   "metadata": {},
   "source": [
    "Выберем топ-5 платформ по продажам и построим распределение по годам. "
   ]
  },
  {
   "cell_type": "code",
   "execution_count": 23,
   "id": "ff123cf5",
   "metadata": {},
   "outputs": [
    {
     "data": {
      "text/html": [
       "<div>\n",
       "<style scoped>\n",
       "    .dataframe tbody tr th:only-of-type {\n",
       "        vertical-align: middle;\n",
       "    }\n",
       "\n",
       "    .dataframe tbody tr th {\n",
       "        vertical-align: top;\n",
       "    }\n",
       "\n",
       "    .dataframe thead th {\n",
       "        text-align: right;\n",
       "    }\n",
       "</style>\n",
       "<table border=\"1\" class=\"dataframe\">\n",
       "  <thead>\n",
       "    <tr style=\"text-align: right;\">\n",
       "      <th></th>\n",
       "      <th>platform</th>\n",
       "      <th>total_sales</th>\n",
       "    </tr>\n",
       "  </thead>\n",
       "  <tbody>\n",
       "    <tr>\n",
       "      <th>0</th>\n",
       "      <td>PS2</td>\n",
       "      <td>1233.559937</td>\n",
       "    </tr>\n",
       "    <tr>\n",
       "      <th>1</th>\n",
       "      <td>X360</td>\n",
       "      <td>961.239990</td>\n",
       "    </tr>\n",
       "    <tr>\n",
       "      <th>2</th>\n",
       "      <td>PS3</td>\n",
       "      <td>931.339966</td>\n",
       "    </tr>\n",
       "    <tr>\n",
       "      <th>3</th>\n",
       "      <td>Wii</td>\n",
       "      <td>891.179993</td>\n",
       "    </tr>\n",
       "    <tr>\n",
       "      <th>4</th>\n",
       "      <td>DS</td>\n",
       "      <td>802.780029</td>\n",
       "    </tr>\n",
       "  </tbody>\n",
       "</table>\n",
       "</div>"
      ],
      "text/plain": [
       "  platform  total_sales\n",
       "0      PS2  1233.559937\n",
       "1     X360   961.239990\n",
       "2      PS3   931.339966\n",
       "3      Wii   891.179993\n",
       "4       DS   802.780029"
      ]
     },
     "execution_count": 23,
     "metadata": {},
     "output_type": "execute_result"
    }
   ],
   "source": [
    "top5_platforms = (df.groupby('platform', as_index=False)['total_sales']\n",
    " .sum()\n",
    " .sort_values('total_sales', ascending=False)\n",
    " .reset_index(drop=True)\n",
    " .head(5)\n",
    ")\n",
    "top5_platforms"
   ]
  },
  {
   "cell_type": "code",
   "execution_count": 24,
   "id": "67d2cbf4",
   "metadata": {},
   "outputs": [
    {
     "data": {
      "image/png": "[encoded data removed]",
      "text/plain": [
       "<Figure size 1080x360 with 1 Axes>"
      ]
     },
     "metadata": {
      "needs_background": "light"
     },
     "output_type": "display_data"
    }
   ],
   "source": [
    "for i in list(top5_platforms['platform']):\n",
    "    (df[(df['platform'] == i) & (df['year_of_release'] >= 1995)]\n",
    "     .groupby('year_of_release')['total_sales']\n",
    "     .sum()\n",
    "     .plot(grid=True, figsize=(15,5), marker='2')\n",
    "    )\n",
    "    plt.legend(top5_platforms['platform'])\n",
    "    plt.title('total sales by top-5 platform', fontsize=14, fontweight=\"bold\")"
   ]
  },
  {
   "cell_type": "markdown",
   "id": "42b0a5d5",
   "metadata": {},
   "source": [
    "<div style=\"border:solid blue 2px; padding: 20px\">\n",
    "На графике видно как начинают расти продажи игр после выпуска новой платформы. Пик продаж для каждой платформы приходится примерно на 5й год после релиза новой версии. Также, можно заметить, что через 10 лет для каждой платформы продажи практически на нуле. Можно предположить, что \"срок жизни\" для платформ около 10 лет. "
   ]
  },
  {
   "cell_type": "markdown",
   "id": "0673e2f2",
   "metadata": {},
   "source": [
    "---"
   ]
  },
  {
   "cell_type": "markdown",
   "id": "e1e9eee6",
   "metadata": {},
   "source": [
    "### Актуальный период\n"
   ]
  },
  {
   "cell_type": "markdown",
   "id": "f1c74c8e",
   "metadata": {},
   "source": [
    "Определим актульный период для всех платформ, с учетом того, что это поможет нам построить прогноз на 2017 год. Считаю, что наиболее характерным признаком для определения актуального периода является появление и быстрое развития рынка мобильных устройств. С 2010 года для всех платформ резко снизилось количество выпускаемых игр. Считаю верным взять данные за 2014-2016 года, поскольку такую динамичную индустрию как игры, стоит рассматривать за не очень большой период"
   ]
  },
  {
   "cell_type": "markdown",
   "id": "4356792f",
   "metadata": {},
   "source": [
    "Возьмем данные за актуальный период и посмотрим на продажи по платформам. Выясним какие платформы лидируют, какие растут и какие падают. На основе этих данных попробуем выбрать несколько потенциальных платформ. "
   ]
  },
  {
   "cell_type": "code",
   "execution_count": 25,
   "id": "e2d7123a",
   "metadata": {},
   "outputs": [],
   "source": [
    "# Создадим датафрейм для актулаьного периода\n",
    "df_actual = df[df['year_of_release'] >= 2014].copy()"
   ]
  },
  {
   "cell_type": "markdown",
   "id": "48d5d10d",
   "metadata": {},
   "source": [
    "Поскольку нам важно отработать сам принцип анализа данных, в будущем достаточно поменять условие создания актуального датафрейма в строчке выше, и анализ будет произведен для любого другого периода"
   ]
  },
  {
   "cell_type": "code",
   "execution_count": 26,
   "id": "1e4f61be",
   "metadata": {
    "scrolled": true
   },
   "outputs": [
    {
     "data": {
      "text/html": [
       "<div>\n",
       "<style scoped>\n",
       "    .dataframe tbody tr th:only-of-type {\n",
       "        vertical-align: middle;\n",
       "    }\n",
       "\n",
       "    .dataframe tbody tr th {\n",
       "        vertical-align: top;\n",
       "    }\n",
       "\n",
       "    .dataframe thead th {\n",
       "        text-align: right;\n",
       "    }\n",
       "</style>\n",
       "<table border=\"1\" class=\"dataframe\">\n",
       "  <thead>\n",
       "    <tr style=\"text-align: right;\">\n",
       "      <th>year_of_release</th>\n",
       "      <th>2014</th>\n",
       "      <th>2015</th>\n",
       "      <th>2016</th>\n",
       "      <th>All</th>\n",
       "    </tr>\n",
       "    <tr>\n",
       "      <th>platform</th>\n",
       "      <th></th>\n",
       "      <th></th>\n",
       "      <th></th>\n",
       "      <th></th>\n",
       "    </tr>\n",
       "  </thead>\n",
       "  <tbody>\n",
       "    <tr>\n",
       "      <th>PSP</th>\n",
       "      <td>0.240000</td>\n",
       "      <td>0.120000</td>\n",
       "      <td>0.000000</td>\n",
       "      <td>0.360000</td>\n",
       "    </tr>\n",
       "    <tr>\n",
       "      <th>Wii</th>\n",
       "      <td>3.750000</td>\n",
       "      <td>1.140000</td>\n",
       "      <td>0.180000</td>\n",
       "      <td>5.070000</td>\n",
       "    </tr>\n",
       "    <tr>\n",
       "      <th>PSV</th>\n",
       "      <td>11.900000</td>\n",
       "      <td>6.250000</td>\n",
       "      <td>4.250000</td>\n",
       "      <td>22.400000</td>\n",
       "    </tr>\n",
       "    <tr>\n",
       "      <th>PC</th>\n",
       "      <td>13.280001</td>\n",
       "      <td>8.520000</td>\n",
       "      <td>5.250000</td>\n",
       "      <td>27.050001</td>\n",
       "    </tr>\n",
       "    <tr>\n",
       "      <th>WiiU</th>\n",
       "      <td>22.030001</td>\n",
       "      <td>16.350000</td>\n",
       "      <td>4.600000</td>\n",
       "      <td>42.980000</td>\n",
       "    </tr>\n",
       "    <tr>\n",
       "      <th>X360</th>\n",
       "      <td>34.740002</td>\n",
       "      <td>11.960000</td>\n",
       "      <td>1.520000</td>\n",
       "      <td>48.220001</td>\n",
       "    </tr>\n",
       "    <tr>\n",
       "      <th>PS3</th>\n",
       "      <td>47.759998</td>\n",
       "      <td>16.820000</td>\n",
       "      <td>3.600000</td>\n",
       "      <td>68.180000</td>\n",
       "    </tr>\n",
       "    <tr>\n",
       "      <th>3DS</th>\n",
       "      <td>43.759998</td>\n",
       "      <td>27.780001</td>\n",
       "      <td>15.140000</td>\n",
       "      <td>86.680000</td>\n",
       "    </tr>\n",
       "    <tr>\n",
       "      <th>XOne</th>\n",
       "      <td>54.070000</td>\n",
       "      <td>60.139999</td>\n",
       "      <td>26.150000</td>\n",
       "      <td>140.360001</td>\n",
       "    </tr>\n",
       "    <tr>\n",
       "      <th>PS4</th>\n",
       "      <td>100.000000</td>\n",
       "      <td>118.900002</td>\n",
       "      <td>69.250000</td>\n",
       "      <td>288.149994</td>\n",
       "    </tr>\n",
       "    <tr>\n",
       "      <th>All</th>\n",
       "      <td>331.529999</td>\n",
       "      <td>267.980011</td>\n",
       "      <td>129.940002</td>\n",
       "      <td>729.449951</td>\n",
       "    </tr>\n",
       "  </tbody>\n",
       "</table>\n",
       "</div>"
      ],
      "text/plain": [
       "year_of_release        2014        2015        2016         All\n",
       "platform                                                       \n",
       "PSP                0.240000    0.120000    0.000000    0.360000\n",
       "Wii                3.750000    1.140000    0.180000    5.070000\n",
       "PSV               11.900000    6.250000    4.250000   22.400000\n",
       "PC                13.280001    8.520000    5.250000   27.050001\n",
       "WiiU              22.030001   16.350000    4.600000   42.980000\n",
       "X360              34.740002   11.960000    1.520000   48.220001\n",
       "PS3               47.759998   16.820000    3.600000   68.180000\n",
       "3DS               43.759998   27.780001   15.140000   86.680000\n",
       "XOne              54.070000   60.139999   26.150000  140.360001\n",
       "PS4              100.000000  118.900002   69.250000  288.149994\n",
       "All              331.529999  267.980011  129.940002  729.449951"
      ]
     },
     "metadata": {},
     "output_type": "display_data"
    },
    {
     "data": {
      "image/png": "[encoded data removed]",
      "text/plain": [
       "<Figure size 1080x360 with 1 Axes>"
      ]
     },
     "metadata": {
      "needs_background": "light"
     },
     "output_type": "display_data"
    }
   ],
   "source": [
    "# Для наглядности соберем сводник для каждый платформы с продажами по годам и суммой всех продаж за актуальный период.\n",
    "display(pd.pivot_table(\n",
    "    df_actual, \n",
    "    index='platform', \n",
    "    values='total_sales', \n",
    "    columns='year_of_release', \n",
    "    aggfunc='sum', \n",
    "    fill_value=0, \n",
    "    margins=True\n",
    ").sort_values('All')\n",
    "       )\n",
    "\n",
    "# Построим график распределения по продажам за актуальный период. \n",
    "for i in list(df_actual['platform'].unique()):\n",
    "    (df_actual[df_actual['platform'] == i]\n",
    "     .groupby('year_of_release')['total_sales']\n",
    "     .sum()\n",
    "     .plot(grid=True, figsize=(15,5), marker='2')\n",
    "    )\n",
    "    plt.legend(df_actual['platform'].unique())\n",
    "    plt.title('total sales for actual period', fontsize=14, fontweight=\"bold\")"
   ]
  },
  {
   "cell_type": "markdown",
   "id": "5631c6cd",
   "metadata": {},
   "source": [
    "<div style=\"border:solid blue 2px; padding: 20px\">\n",
    "Как мы уже обсуждали выше, с 2010 года сумма продаж по всем платформам неизбежно снижается. \n",
    "    \n",
    "    \n",
    "В наш список для актуального периода попали 11 платформ. Самыми быстрорастущими за этот период можно назвать PS4, XOne и 3DS. PS4 и вовсе продали более 125 млн копий за первые 2 календарных года существования платформы. \n",
    "Некоторые из них уже явно \"мертвы\" и ожидать от них всплеска не стоит: PSP, DS, Wii. \n",
    "    \n",
    "Думаю, что стоить сосредоточиться на следующих платформах: PS4, XOne, 3DS и PC. Первые 3 платформы хоть и показывают спад, но продажи еще держаться на значительном уровне. Также в 2017 году не ожидается обновления этих консолей, а значит игры продолжат выпускать и покупать. Что же касается PC, то продажи здесь несколько ниже, чем у игровых консолей, но тенденция из года в год не такая стремительная. Плюсом к этому можно отметить, что достаточное количество игр есть только на PC и так и останется в будущем. Также в мире в целом наблюдается росто киберспорта. Считаю что PC все еще перспективен в ближайшее время. "
   ]
  },
  {
   "cell_type": "markdown",
   "id": "2979eea9",
   "metadata": {},
   "source": [
    "### Ящик с усами"
   ]
  },
  {
   "cell_type": "markdown",
   "id": "c2618143",
   "metadata": {},
   "source": [
    "Построим ящик с усами по продажам для каждой платформы и ознакомимся с результатами."
   ]
  },
  {
   "cell_type": "code",
   "execution_count": 27,
   "id": "4b89961d",
   "metadata": {},
   "outputs": [
    {
     "data": {
      "text/plain": [
       "count    1689.000000\n",
       "mean        0.431887\n",
       "std         1.056111\n",
       "min         0.010000\n",
       "25%         0.030000\n",
       "50%         0.100000\n",
       "75%         0.350000\n",
       "max        14.630000\n",
       "Name: total_sales, dtype: float64"
      ]
     },
     "metadata": {},
     "output_type": "display_data"
    },
    {
     "data": {
      "image/png": "[encoded data removed]",
      "text/plain": [
       "<Figure size 1080x720 with 1 Axes>"
      ]
     },
     "metadata": {
      "needs_background": "light"
     },
     "output_type": "display_data"
    }
   ],
   "source": [
    "# Построим ящик с усами по продажам для каждой платформы\n",
    "plt.figure(figsize=(15,10))\n",
    "sns.boxplot(data=df_actual, x='total_sales', y='platform')\n",
    "\n",
    "plt.title(label='Boxplot for global sales', fontsize=14, fontweight=\"bold\")\n",
    "plt.xlabel(\"Total sales\", fontsize=14, fontweight=\"bold\")\n",
    "plt.ylabel(\"Platforms\", fontsize=14, fontweight=\"bold\")\n",
    "plt.xlim(0, 2.5)\n",
    "\n",
    "# Посмотрим на стат анализ\n",
    "display(df_actual['total_sales'].describe())"
   ]
  },
  {
   "cell_type": "markdown",
   "id": "3cbc9e81",
   "metadata": {},
   "source": [
    "<div style=\"border:solid blue 2px; padding: 20px\">\n",
    "Для популярных платформ граница графика на отметке около 1.5 - 1.7 млн копий. Однако можо заметить, что есть игры, которые продаются по 20+ млн копий. Скорее всего, это хиты, которые пользователи ждут по несколько лет и охотно покупают. Или же это игры из популярных серий (FIFA, HHL) которые обновляются каждый год и очень хорошо продаются. "
   ]
  },
  {
   "cell_type": "markdown",
   "id": "1c208b96",
   "metadata": {},
   "source": [
    "### Влияние оценок на продажи для платформ"
   ]
  },
  {
   "cell_type": "markdown",
   "id": "79b3eb6d",
   "metadata": {},
   "source": [
    "Посмотрим как влияют оценки критиков и пользователей на продажи для одной популярной платформы. Для примера возьмем платформу PS4. \\\n",
    "Поскольку выбросы в наиболее существенной степени влияют на коэффициент корреляции Пирсона, для начала предлагаю избавиться от выбросов по продажам. "
   ]
  },
  {
   "cell_type": "code",
   "execution_count": 28,
   "id": "f54625a3",
   "metadata": {},
   "outputs": [],
   "source": [
    "# Создадим копию нашего акутального датафрейма\n",
    "df_actual_clean = df_actual.copy()\n",
    "\n",
    "# Создадим функцию для очистки данных\n",
    "def clean_data(data, column):\n",
    "    q1 = data[column].quantile(0.25)                 \n",
    "    q3 = data[column].quantile(0.75)\n",
    "    iqr = q3 - q1\n",
    "    iqr_test = (data[column] >= (q1 - 1.5 * iqr)) & (data[column] <= (q3 + 1.5 * iqr))\n",
    "    return data.loc[iqr_test]\n",
    "\n",
    "# Применим функцию к датафреймам\n",
    "df_actual_clean = clean_data(df_actual_clean, 'total_sales')"
   ]
  },
  {
   "cell_type": "code",
   "execution_count": 29,
   "id": "37efa068",
   "metadata": {},
   "outputs": [
    {
     "data": {
      "image/png": "[encoded data removed]",
      "text/plain": [
       "<Figure size 1080x360 with 2 Axes>"
      ]
     },
     "metadata": {
      "needs_background": "light"
     },
     "output_type": "display_data"
    },
    {
     "data": {
      "text/plain": [
       "'Corr scores & total sales for PS4:'"
      ]
     },
     "metadata": {},
     "output_type": "display_data"
    },
    {
     "data": {
      "text/html": [
       "<div>\n",
       "<style scoped>\n",
       "    .dataframe tbody tr th:only-of-type {\n",
       "        vertical-align: middle;\n",
       "    }\n",
       "\n",
       "    .dataframe tbody tr th {\n",
       "        vertical-align: top;\n",
       "    }\n",
       "\n",
       "    .dataframe thead th {\n",
       "        text-align: right;\n",
       "    }\n",
       "</style>\n",
       "<table border=\"1\" class=\"dataframe\">\n",
       "  <thead>\n",
       "    <tr style=\"text-align: right;\">\n",
       "      <th></th>\n",
       "      <th>total_sales</th>\n",
       "      <th>critic_score</th>\n",
       "      <th>user_score</th>\n",
       "    </tr>\n",
       "  </thead>\n",
       "  <tbody>\n",
       "    <tr>\n",
       "      <th>total_sales</th>\n",
       "      <td>1.000000</td>\n",
       "      <td>0.292199</td>\n",
       "      <td>0.075200</td>\n",
       "    </tr>\n",
       "    <tr>\n",
       "      <th>critic_score</th>\n",
       "      <td>0.292199</td>\n",
       "      <td>1.000000</td>\n",
       "      <td>0.657121</td>\n",
       "    </tr>\n",
       "    <tr>\n",
       "      <th>user_score</th>\n",
       "      <td>0.075200</td>\n",
       "      <td>0.657121</td>\n",
       "      <td>1.000000</td>\n",
       "    </tr>\n",
       "  </tbody>\n",
       "</table>\n",
       "</div>"
      ],
      "text/plain": [
       "              total_sales  critic_score  user_score\n",
       "total_sales      1.000000      0.292199    0.075200\n",
       "critic_score     0.292199      1.000000    0.657121\n",
       "user_score       0.075200      0.657121    1.000000"
      ]
     },
     "metadata": {},
     "output_type": "display_data"
    }
   ],
   "source": [
    "fig, axs = plt.subplots(1,2)\n",
    "fig.suptitle(\"scatter for PS4\")\n",
    "fig.set_figheight(5)\n",
    "fig.set_figwidth(15)\n",
    "(\n",
    "    df_actual_clean[df_actual_clean['platform'] == 'PS4']\n",
    "    .plot(x='critic_score', y='total_sales', kind='scatter', alpha=0.4, ax=axs[0])\n",
    ")\n",
    "(\n",
    "    df_actual_clean[df_actual_clean['platform'] == 'PS4']\n",
    "    .plot(x='user_score', y='total_sales', kind='scatter', alpha=0.4, ax=axs[1])\n",
    ")\n",
    "axs[0].set_title('corr critic score') \n",
    "axs[0].set_xlabel('score')\n",
    "axs[1].set_title('corr user score') \n",
    "axs[1].set_xlabel('score')\n",
    "plt.show()\n",
    "display('Corr scores & total sales for PS4:', df_actual_clean[df_actual_clean['platform'] == 'PS4'][['total_sales', 'critic_score', 'user_score']].corr())\n",
    "    "
   ]
  },
  {
   "cell_type": "markdown",
   "id": "78d94a1e",
   "metadata": {},
   "source": [
    "Итоговые продажи куда больше зависят от оценок критиков, чем от оценок пользователей. \\\n",
    "Также предлагаю посмотреть диаграммы рессеивания для остальных популярных платформ. "
   ]
  },
  {
   "cell_type": "code",
   "execution_count": 30,
   "id": "c4addb16",
   "metadata": {},
   "outputs": [
    {
     "data": {
      "text/plain": [
       "array(['PS4', '3DS', 'XOne', 'X360', 'PS3', 'WiiU', 'PC', 'PSV', 'Wii',\n",
       "       'PSP'], dtype=object)"
      ]
     },
     "execution_count": 30,
     "metadata": {},
     "output_type": "execute_result"
    }
   ],
   "source": [
    "df_actual_clean['platform'].unique()"
   ]
  },
  {
   "cell_type": "code",
   "execution_count": 31,
   "id": "8c40b1b1",
   "metadata": {},
   "outputs": [
    {
     "data": {
      "image/png": "[encoded data removed]",
      "text/plain": [
       "<Figure size 1080x360 with 2 Axes>"
      ]
     },
     "metadata": {
      "needs_background": "light"
     },
     "output_type": "display_data"
    },
    {
     "data": {
      "text/plain": [
       "'Corr scores & total sales for 3DS:'"
      ]
     },
     "metadata": {},
     "output_type": "display_data"
    },
    {
     "data": {
      "text/html": [
       "<div>\n",
       "<style scoped>\n",
       "    .dataframe tbody tr th:only-of-type {\n",
       "        vertical-align: middle;\n",
       "    }\n",
       "\n",
       "    .dataframe tbody tr th {\n",
       "        vertical-align: top;\n",
       "    }\n",
       "\n",
       "    .dataframe thead th {\n",
       "        text-align: right;\n",
       "    }\n",
       "</style>\n",
       "<table border=\"1\" class=\"dataframe\">\n",
       "  <thead>\n",
       "    <tr style=\"text-align: right;\">\n",
       "      <th></th>\n",
       "      <th>total_sales</th>\n",
       "      <th>critic_score</th>\n",
       "      <th>user_score</th>\n",
       "    </tr>\n",
       "  </thead>\n",
       "  <tbody>\n",
       "    <tr>\n",
       "      <th>total_sales</th>\n",
       "      <td>1.00000</td>\n",
       "      <td>0.375590</td>\n",
       "      <td>-0.042550</td>\n",
       "    </tr>\n",
       "    <tr>\n",
       "      <th>critic_score</th>\n",
       "      <td>0.37559</td>\n",
       "      <td>1.000000</td>\n",
       "      <td>0.863442</td>\n",
       "    </tr>\n",
       "    <tr>\n",
       "      <th>user_score</th>\n",
       "      <td>-0.04255</td>\n",
       "      <td>0.863442</td>\n",
       "      <td>1.000000</td>\n",
       "    </tr>\n",
       "  </tbody>\n",
       "</table>\n",
       "</div>"
      ],
      "text/plain": [
       "              total_sales  critic_score  user_score\n",
       "total_sales       1.00000      0.375590   -0.042550\n",
       "critic_score      0.37559      1.000000    0.863442\n",
       "user_score       -0.04255      0.863442    1.000000"
      ]
     },
     "metadata": {},
     "output_type": "display_data"
    },
    {
     "data": {
      "image/png": "[encoded data removed]",
      "text/plain": [
       "<Figure size 1080x360 with 2 Axes>"
      ]
     },
     "metadata": {
      "needs_background": "light"
     },
     "output_type": "display_data"
    },
    {
     "data": {
      "text/plain": [
       "'Corr scores & total sales for PS3:'"
      ]
     },
     "metadata": {},
     "output_type": "display_data"
    },
    {
     "data": {
      "text/html": [
       "<div>\n",
       "<style scoped>\n",
       "    .dataframe tbody tr th:only-of-type {\n",
       "        vertical-align: middle;\n",
       "    }\n",
       "\n",
       "    .dataframe tbody tr th {\n",
       "        vertical-align: top;\n",
       "    }\n",
       "\n",
       "    .dataframe thead th {\n",
       "        text-align: right;\n",
       "    }\n",
       "</style>\n",
       "<table border=\"1\" class=\"dataframe\">\n",
       "  <thead>\n",
       "    <tr style=\"text-align: right;\">\n",
       "      <th></th>\n",
       "      <th>total_sales</th>\n",
       "      <th>critic_score</th>\n",
       "      <th>user_score</th>\n",
       "    </tr>\n",
       "  </thead>\n",
       "  <tbody>\n",
       "    <tr>\n",
       "      <th>total_sales</th>\n",
       "      <td>1.000000</td>\n",
       "      <td>0.232877</td>\n",
       "      <td>-0.065751</td>\n",
       "    </tr>\n",
       "    <tr>\n",
       "      <th>critic_score</th>\n",
       "      <td>0.232877</td>\n",
       "      <td>1.000000</td>\n",
       "      <td>0.659473</td>\n",
       "    </tr>\n",
       "    <tr>\n",
       "      <th>user_score</th>\n",
       "      <td>-0.065751</td>\n",
       "      <td>0.659473</td>\n",
       "      <td>1.000000</td>\n",
       "    </tr>\n",
       "  </tbody>\n",
       "</table>\n",
       "</div>"
      ],
      "text/plain": [
       "              total_sales  critic_score  user_score\n",
       "total_sales      1.000000      0.232877   -0.065751\n",
       "critic_score     0.232877      1.000000    0.659473\n",
       "user_score      -0.065751      0.659473    1.000000"
      ]
     },
     "metadata": {},
     "output_type": "display_data"
    },
    {
     "data": {
      "image/png": "[encoded data removed]",
      "text/plain": [
       "<Figure size 1080x360 with 2 Axes>"
      ]
     },
     "metadata": {
      "needs_background": "light"
     },
     "output_type": "display_data"
    },
    {
     "data": {
      "text/plain": [
       "'Corr scores & total sales for XOne:'"
      ]
     },
     "metadata": {},
     "output_type": "display_data"
    },
    {
     "data": {
      "text/html": [
       "<div>\n",
       "<style scoped>\n",
       "    .dataframe tbody tr th:only-of-type {\n",
       "        vertical-align: middle;\n",
       "    }\n",
       "\n",
       "    .dataframe tbody tr th {\n",
       "        vertical-align: top;\n",
       "    }\n",
       "\n",
       "    .dataframe thead th {\n",
       "        text-align: right;\n",
       "    }\n",
       "</style>\n",
       "<table border=\"1\" class=\"dataframe\">\n",
       "  <thead>\n",
       "    <tr style=\"text-align: right;\">\n",
       "      <th></th>\n",
       "      <th>total_sales</th>\n",
       "      <th>critic_score</th>\n",
       "      <th>user_score</th>\n",
       "    </tr>\n",
       "  </thead>\n",
       "  <tbody>\n",
       "    <tr>\n",
       "      <th>total_sales</th>\n",
       "      <td>1.000000</td>\n",
       "      <td>0.302313</td>\n",
       "      <td>-0.001581</td>\n",
       "    </tr>\n",
       "    <tr>\n",
       "      <th>critic_score</th>\n",
       "      <td>0.302313</td>\n",
       "      <td>1.000000</td>\n",
       "      <td>0.556140</td>\n",
       "    </tr>\n",
       "    <tr>\n",
       "      <th>user_score</th>\n",
       "      <td>-0.001581</td>\n",
       "      <td>0.556140</td>\n",
       "      <td>1.000000</td>\n",
       "    </tr>\n",
       "  </tbody>\n",
       "</table>\n",
       "</div>"
      ],
      "text/plain": [
       "              total_sales  critic_score  user_score\n",
       "total_sales      1.000000      0.302313   -0.001581\n",
       "critic_score     0.302313      1.000000    0.556140\n",
       "user_score      -0.001581      0.556140    1.000000"
      ]
     },
     "metadata": {},
     "output_type": "display_data"
    },
    {
     "data": {
      "image/png": "[encoded data removed]",
      "text/plain": [
       "<Figure size 1080x360 with 2 Axes>"
      ]
     },
     "metadata": {
      "needs_background": "light"
     },
     "output_type": "display_data"
    },
    {
     "data": {
      "text/plain": [
       "'Corr scores & total sales for X360:'"
      ]
     },
     "metadata": {},
     "output_type": "display_data"
    },
    {
     "data": {
      "text/html": [
       "<div>\n",
       "<style scoped>\n",
       "    .dataframe tbody tr th:only-of-type {\n",
       "        vertical-align: middle;\n",
       "    }\n",
       "\n",
       "    .dataframe tbody tr th {\n",
       "        vertical-align: top;\n",
       "    }\n",
       "\n",
       "    .dataframe thead th {\n",
       "        text-align: right;\n",
       "    }\n",
       "</style>\n",
       "<table border=\"1\" class=\"dataframe\">\n",
       "  <thead>\n",
       "    <tr style=\"text-align: right;\">\n",
       "      <th></th>\n",
       "      <th>total_sales</th>\n",
       "      <th>critic_score</th>\n",
       "      <th>user_score</th>\n",
       "    </tr>\n",
       "  </thead>\n",
       "  <tbody>\n",
       "    <tr>\n",
       "      <th>total_sales</th>\n",
       "      <td>1.000000</td>\n",
       "      <td>0.459692</td>\n",
       "      <td>-0.027504</td>\n",
       "    </tr>\n",
       "    <tr>\n",
       "      <th>critic_score</th>\n",
       "      <td>0.459692</td>\n",
       "      <td>1.000000</td>\n",
       "      <td>0.605345</td>\n",
       "    </tr>\n",
       "    <tr>\n",
       "      <th>user_score</th>\n",
       "      <td>-0.027504</td>\n",
       "      <td>0.605345</td>\n",
       "      <td>1.000000</td>\n",
       "    </tr>\n",
       "  </tbody>\n",
       "</table>\n",
       "</div>"
      ],
      "text/plain": [
       "              total_sales  critic_score  user_score\n",
       "total_sales      1.000000      0.459692   -0.027504\n",
       "critic_score     0.459692      1.000000    0.605345\n",
       "user_score      -0.027504      0.605345    1.000000"
      ]
     },
     "metadata": {},
     "output_type": "display_data"
    },
    {
     "data": {
      "image/png": "[encoded data removed]",
      "text/plain": [
       "<Figure size 1080x360 with 2 Axes>"
      ]
     },
     "metadata": {
      "needs_background": "light"
     },
     "output_type": "display_data"
    },
    {
     "data": {
      "text/plain": [
       "'Corr scores & total sales for PC:'"
      ]
     },
     "metadata": {},
     "output_type": "display_data"
    },
    {
     "data": {
      "text/html": [
       "<div>\n",
       "<style scoped>\n",
       "    .dataframe tbody tr th:only-of-type {\n",
       "        vertical-align: middle;\n",
       "    }\n",
       "\n",
       "    .dataframe tbody tr th {\n",
       "        vertical-align: top;\n",
       "    }\n",
       "\n",
       "    .dataframe thead th {\n",
       "        text-align: right;\n",
       "    }\n",
       "</style>\n",
       "<table border=\"1\" class=\"dataframe\">\n",
       "  <thead>\n",
       "    <tr style=\"text-align: right;\">\n",
       "      <th></th>\n",
       "      <th>total_sales</th>\n",
       "      <th>critic_score</th>\n",
       "      <th>user_score</th>\n",
       "    </tr>\n",
       "  </thead>\n",
       "  <tbody>\n",
       "    <tr>\n",
       "      <th>total_sales</th>\n",
       "      <td>1.000000</td>\n",
       "      <td>0.330980</td>\n",
       "      <td>0.048746</td>\n",
       "    </tr>\n",
       "    <tr>\n",
       "      <th>critic_score</th>\n",
       "      <td>0.330980</td>\n",
       "      <td>1.000000</td>\n",
       "      <td>0.461627</td>\n",
       "    </tr>\n",
       "    <tr>\n",
       "      <th>user_score</th>\n",
       "      <td>0.048746</td>\n",
       "      <td>0.461627</td>\n",
       "      <td>1.000000</td>\n",
       "    </tr>\n",
       "  </tbody>\n",
       "</table>\n",
       "</div>"
      ],
      "text/plain": [
       "              total_sales  critic_score  user_score\n",
       "total_sales      1.000000      0.330980    0.048746\n",
       "critic_score     0.330980      1.000000    0.461627\n",
       "user_score       0.048746      0.461627    1.000000"
      ]
     },
     "metadata": {},
     "output_type": "display_data"
    }
   ],
   "source": [
    "for i in ['3DS', 'PS3', 'XOne', 'X360', 'PC']:\n",
    "    fig, axs = plt.subplots(1,2)\n",
    "    fig.suptitle(\"scatter for\"+' '+i)\n",
    "    fig.set_figheight(5)\n",
    "    fig.set_figwidth(15)\n",
    "    (\n",
    "        df_actual_clean[df_actual_clean['platform'] == i]\n",
    "        .plot(x='critic_score', y='total_sales', kind='scatter', alpha=0.4, ax=axs[0])\n",
    "    )\n",
    "    (\n",
    "        df_actual_clean[df_actual_clean['platform'] == i]\n",
    "        .plot(x='user_score', y='total_sales', kind='scatter', alpha=0.4, ax=axs[1])\n",
    "    )\n",
    "    axs[0].set_title('corr critic score') \n",
    "    axs[0].set_xlabel('score')\n",
    "    axs[1].set_title('corr user score') \n",
    "    axs[1].set_xlabel('score')\n",
    "    plt.show()\n",
    "    display(f'Corr scores & total sales for {i}:', df_actual_clean[df_actual_clean['platform'] == i][['total_sales', 'critic_score', 'user_score']].corr())\n",
    "    \n",
    "    "
   ]
  },
  {
   "cell_type": "markdown",
   "id": "1bb861e0",
   "metadata": {},
   "source": [
    "<div style=\"border:solid blue 2px; padding: 20px\">\n",
    "Исходя из графиков и коэффициентов корреляции можно заключить, что оценки критиков куда больше влияют на продажи, нежели оценки пользователей. Коэффициент корреляции Пирсона для между оценками критиков и общими продажами для всех популярных платформ около 0.3 - 0.4. Пользователи перед покупкой намного больше прислушиваются к мнению критиков, нежели других игроков. Также можно заметить, что общие продажи начинают расти при оценки критиков 60 и более. "
   ]
  },
  {
   "cell_type": "markdown",
   "id": "55f06ada",
   "metadata": {},
   "source": [
    "---"
   ]
  },
  {
   "cell_type": "markdown",
   "id": "41a3c3f5",
   "metadata": {},
   "source": [
    "### Распределение игр по жанрам"
   ]
  },
  {
   "cell_type": "markdown",
   "id": "e77c0119",
   "metadata": {},
   "source": [
    "Посмотрим на распределение игр по жанрам. "
   ]
  },
  {
   "cell_type": "code",
   "execution_count": 32,
   "id": "b428d1cd",
   "metadata": {},
   "outputs": [
    {
     "data": {
      "text/plain": [
       "<AxesSubplot:ylabel='genre'>"
      ]
     },
     "execution_count": 32,
     "metadata": {},
     "output_type": "execute_result"
    },
    {
     "data": {
      "image/png": "[encoded data removed]",
      "text/plain": [
       "<Figure size 504x504 with 1 Axes>"
      ]
     },
     "metadata": {},
     "output_type": "display_data"
    }
   ],
   "source": [
    "df_actual['genre'].value_counts().plot(kind='pie', figsize=(7,7))"
   ]
  },
  {
   "cell_type": "markdown",
   "id": "9a2ad64d",
   "metadata": {},
   "source": [
    "Больше всего игр в жанре Экшн, далее идут приключенчиские игры, спортивыне и ролевые. "
   ]
  },
  {
   "cell_type": "markdown",
   "id": "00498b10",
   "metadata": {},
   "source": [
    "Теперь посмотрим на самые прибыльные жанры"
   ]
  },
  {
   "cell_type": "code",
   "execution_count": 33,
   "id": "bff66482",
   "metadata": {
    "scrolled": true
   },
   "outputs": [
    {
     "data": {
      "text/html": [
       "<div>\n",
       "<style scoped>\n",
       "    .dataframe tbody tr th:only-of-type {\n",
       "        vertical-align: middle;\n",
       "    }\n",
       "\n",
       "    .dataframe tbody tr th {\n",
       "        vertical-align: top;\n",
       "    }\n",
       "\n",
       "    .dataframe thead th {\n",
       "        text-align: right;\n",
       "    }\n",
       "</style>\n",
       "<table border=\"1\" class=\"dataframe\">\n",
       "  <thead>\n",
       "    <tr style=\"text-align: right;\">\n",
       "      <th></th>\n",
       "      <th>count</th>\n",
       "      <th>total_sales</th>\n",
       "    </tr>\n",
       "    <tr>\n",
       "      <th>genre</th>\n",
       "      <th></th>\n",
       "      <th></th>\n",
       "    </tr>\n",
       "  </thead>\n",
       "  <tbody>\n",
       "    <tr>\n",
       "      <th>Action</th>\n",
       "      <td>619</td>\n",
       "      <td>199.360001</td>\n",
       "    </tr>\n",
       "    <tr>\n",
       "      <th>Shooter</th>\n",
       "      <td>128</td>\n",
       "      <td>170.940002</td>\n",
       "    </tr>\n",
       "    <tr>\n",
       "      <th>Sports</th>\n",
       "      <td>161</td>\n",
       "      <td>109.480003</td>\n",
       "    </tr>\n",
       "    <tr>\n",
       "      <th>Role-Playing</th>\n",
       "      <td>221</td>\n",
       "      <td>101.440002</td>\n",
       "    </tr>\n",
       "    <tr>\n",
       "      <th>Misc</th>\n",
       "      <td>113</td>\n",
       "      <td>37.549999</td>\n",
       "    </tr>\n",
       "    <tr>\n",
       "      <th>Fighting</th>\n",
       "      <td>60</td>\n",
       "      <td>28.219999</td>\n",
       "    </tr>\n",
       "    <tr>\n",
       "      <th>Racing</th>\n",
       "      <td>69</td>\n",
       "      <td>27.520000</td>\n",
       "    </tr>\n",
       "    <tr>\n",
       "      <th>Platform</th>\n",
       "      <td>38</td>\n",
       "      <td>18.090000</td>\n",
       "    </tr>\n",
       "    <tr>\n",
       "      <th>Adventure</th>\n",
       "      <td>185</td>\n",
       "      <td>17.549999</td>\n",
       "    </tr>\n",
       "    <tr>\n",
       "      <th>Simulation</th>\n",
       "      <td>44</td>\n",
       "      <td>13.130000</td>\n",
       "    </tr>\n",
       "    <tr>\n",
       "      <th>Strategy</th>\n",
       "      <td>37</td>\n",
       "      <td>3.960000</td>\n",
       "    </tr>\n",
       "    <tr>\n",
       "      <th>Puzzle</th>\n",
       "      <td>14</td>\n",
       "      <td>2.210000</td>\n",
       "    </tr>\n",
       "  </tbody>\n",
       "</table>\n",
       "</div>"
      ],
      "text/plain": [
       "              count  total_sales\n",
       "genre                           \n",
       "Action          619   199.360001\n",
       "Shooter         128   170.940002\n",
       "Sports          161   109.480003\n",
       "Role-Playing    221   101.440002\n",
       "Misc            113    37.549999\n",
       "Fighting         60    28.219999\n",
       "Racing           69    27.520000\n",
       "Platform         38    18.090000\n",
       "Adventure       185    17.549999\n",
       "Simulation       44    13.130000\n",
       "Strategy         37     3.960000\n",
       "Puzzle           14     2.210000"
      ]
     },
     "execution_count": 33,
     "metadata": {},
     "output_type": "execute_result"
    }
   ],
   "source": [
    "top_genre = (df_actual\n",
    "             .groupby('genre', as_index=False)['total_sales']\n",
    "             .agg(['count', 'sum'])\n",
    "             .rename(columns={'sum': 'total_sales'})\n",
    "             .sort_values('total_sales', ascending=False)\n",
    "            )\n",
    "top_genre"
   ]
  },
  {
   "cell_type": "markdown",
   "id": "92eb1446",
   "metadata": {},
   "source": [
    "\n",
    "Наиболее прибыльный с большим отрывом жанр - экшн. Также в топ входят шутеры, спортивные и ролевые игры. Наименьшей популярностью пользуются пазлы и стратегии. \n",
    "    \n",
    "Взглянем на картину в разрезе платформ. Для каждой ли платформы сохранится такое распределение?\n",
    "Создадим датафрейм для наиболее продаваемого жанра для каждой платформы"
   ]
  },
  {
   "cell_type": "code",
   "execution_count": 33,
   "id": "f869f59a",
   "metadata": {},
   "outputs": [
    {
     "data": {
      "text/html": [
       "<div>\n",
       "<style scoped>\n",
       "    .dataframe tbody tr th:only-of-type {\n",
       "        vertical-align: middle;\n",
       "    }\n",
       "\n",
       "    .dataframe tbody tr th {\n",
       "        vertical-align: top;\n",
       "    }\n",
       "\n",
       "    .dataframe thead th {\n",
       "        text-align: right;\n",
       "    }\n",
       "</style>\n",
       "<table border=\"1\" class=\"dataframe\">\n",
       "  <thead>\n",
       "    <tr style=\"text-align: right;\">\n",
       "      <th></th>\n",
       "      <th>platform</th>\n",
       "      <th>genre</th>\n",
       "      <th>total_sales</th>\n",
       "    </tr>\n",
       "  </thead>\n",
       "  <tbody>\n",
       "    <tr>\n",
       "      <th>0</th>\n",
       "      <td>PS4</td>\n",
       "      <td>Action</td>\n",
       "      <td>91.620003</td>\n",
       "    </tr>\n",
       "    <tr>\n",
       "      <th>1</th>\n",
       "      <td>3DS</td>\n",
       "      <td>Role-Playing</td>\n",
       "      <td>40.020000</td>\n",
       "    </tr>\n",
       "    <tr>\n",
       "      <th>2</th>\n",
       "      <td>PS3</td>\n",
       "      <td>Action</td>\n",
       "      <td>18.100000</td>\n",
       "    </tr>\n",
       "    <tr>\n",
       "      <th>3</th>\n",
       "      <td>XOne</td>\n",
       "      <td>Shooter</td>\n",
       "      <td>55.389999</td>\n",
       "    </tr>\n",
       "    <tr>\n",
       "      <th>4</th>\n",
       "      <td>X360</td>\n",
       "      <td>Shooter</td>\n",
       "      <td>13.660000</td>\n",
       "    </tr>\n",
       "    <tr>\n",
       "      <th>5</th>\n",
       "      <td>PC</td>\n",
       "      <td>Simulation</td>\n",
       "      <td>6.590000</td>\n",
       "    </tr>\n",
       "  </tbody>\n",
       "</table>\n",
       "</div>"
      ],
      "text/plain": [
       "  platform         genre  total_sales\n",
       "0      PS4        Action    91.620003\n",
       "1      3DS  Role-Playing    40.020000\n",
       "2      PS3        Action    18.100000\n",
       "3     XOne       Shooter    55.389999\n",
       "4     X360       Shooter    13.660000\n",
       "5       PC    Simulation     6.590000"
      ]
     },
     "execution_count": 33,
     "metadata": {},
     "output_type": "execute_result"
    }
   ],
   "source": [
    "# Создадим пустой датафрейм. В него будем добавлять результаты цикла \n",
    "top_genre_by_platforms = pd.DataFrame()\n",
    "\n",
    "for i in ['PS4', '3DS', 'PS3', 'XOne', 'X360', 'PC']:\n",
    "    t1 = (df_actual[df_actual['platform'] == i]\n",
    "         .groupby(['platform', 'genre'], as_index=False)['total_sales']\n",
    "         .sum()\n",
    "         .sort_values('total_sales', ascending=False)\n",
    "         .head(1)\n",
    "        )\n",
    "    top_genre_by_platforms = pd.concat((top_genre_by_platforms, t1))\n",
    "\n",
    "# Выведем итоговый датафрейм на экран\n",
    "top_genre_by_platforms.reset_index(drop=True)"
   ]
  },
  {
   "cell_type": "markdown",
   "id": "8349fa2d",
   "metadata": {},
   "source": [
    "Как мы видим, для разных платформ отличаются самые продаваемые жанры. Для игровых приставок Sony и Xbox, наиболее популярны Экшны и Шутеры. Для компьютеров и нинтендо - Ролевые игры. А для приставки Вий - разные игры для всей семьи. "
   ]
  },
  {
   "cell_type": "markdown",
   "id": "e126cf10",
   "metadata": {},
   "source": [
    "Теперь предлагаю посмотреть на самые не продаваемые жанры по платформам. \n",
    "Воспользуюсь тем же скриптом, только выведу топ-1 снизу"
   ]
  },
  {
   "cell_type": "code",
   "execution_count": 34,
   "id": "cbb1ea87",
   "metadata": {},
   "outputs": [
    {
     "data": {
      "text/html": [
       "<div>\n",
       "<style scoped>\n",
       "    .dataframe tbody tr th:only-of-type {\n",
       "        vertical-align: middle;\n",
       "    }\n",
       "\n",
       "    .dataframe tbody tr th {\n",
       "        vertical-align: top;\n",
       "    }\n",
       "\n",
       "    .dataframe thead th {\n",
       "        text-align: right;\n",
       "    }\n",
       "</style>\n",
       "<table border=\"1\" class=\"dataframe\">\n",
       "  <thead>\n",
       "    <tr style=\"text-align: right;\">\n",
       "      <th></th>\n",
       "      <th>platform</th>\n",
       "      <th>genre</th>\n",
       "      <th>total_sales</th>\n",
       "    </tr>\n",
       "  </thead>\n",
       "  <tbody>\n",
       "    <tr>\n",
       "      <th>0</th>\n",
       "      <td>PS4</td>\n",
       "      <td>Puzzle</td>\n",
       "      <td>0.02</td>\n",
       "    </tr>\n",
       "    <tr>\n",
       "      <th>1</th>\n",
       "      <td>3DS</td>\n",
       "      <td>Strategy</td>\n",
       "      <td>0.78</td>\n",
       "    </tr>\n",
       "    <tr>\n",
       "      <th>2</th>\n",
       "      <td>Wii</td>\n",
       "      <td>Adventure</td>\n",
       "      <td>0.18</td>\n",
       "    </tr>\n",
       "    <tr>\n",
       "      <th>3</th>\n",
       "      <td>PS3</td>\n",
       "      <td>Puzzle</td>\n",
       "      <td>0.04</td>\n",
       "    </tr>\n",
       "    <tr>\n",
       "      <th>4</th>\n",
       "      <td>XOne</td>\n",
       "      <td>Strategy</td>\n",
       "      <td>0.25</td>\n",
       "    </tr>\n",
       "    <tr>\n",
       "      <th>5</th>\n",
       "      <td>X360</td>\n",
       "      <td>Platform</td>\n",
       "      <td>0.19</td>\n",
       "    </tr>\n",
       "    <tr>\n",
       "      <th>6</th>\n",
       "      <td>PC</td>\n",
       "      <td>Misc</td>\n",
       "      <td>0.05</td>\n",
       "    </tr>\n",
       "  </tbody>\n",
       "</table>\n",
       "</div>"
      ],
      "text/plain": [
       "  platform      genre  total_sales\n",
       "0      PS4     Puzzle         0.02\n",
       "1      3DS   Strategy         0.78\n",
       "2      Wii  Adventure         0.18\n",
       "3      PS3     Puzzle         0.04\n",
       "4     XOne   Strategy         0.25\n",
       "5     X360   Platform         0.19\n",
       "6       PC       Misc         0.05"
      ]
     },
     "execution_count": 34,
     "metadata": {},
     "output_type": "execute_result"
    }
   ],
   "source": [
    "# Создадим пустой датафрейм. В него будем добавлять результаты цикла \n",
    "worst_genre_by_platforms = pd.DataFrame()\n",
    "\n",
    "for i in ['PS4', '3DS', 'Wii', 'PS3', 'XOne', 'X360', 'PC']:\n",
    "    t1 = (df_actual[df_actual['platform'] == i]\n",
    "         .groupby(['platform', 'genre'], as_index=False)['total_sales']\n",
    "         .sum()\n",
    "         .sort_values('total_sales', ascending=False)\n",
    "         .tail(1)\n",
    "        )\n",
    "    worst_genre_by_platforms = pd.concat((worst_genre_by_platforms, t1))\n",
    "\n",
    "# Выведем итоговый датафрейм на экран\n",
    "worst_genre_by_platforms.reset_index(drop=True)"
   ]
  },
  {
   "cell_type": "markdown",
   "id": "8a8404c5",
   "metadata": {},
   "source": [
    "В трех платформах из семи самый непродаваемый жанр - стратегии. Эх, а я помню как все рубились в \"Казаков\", \"Героев\" и тд:) Также можно заметить слабый интерес к пазлам. Думаю, большинство стратегий и пазлов переехали на мобильные устройства. "
   ]
  },
  {
   "cell_type": "markdown",
   "id": "5f8cb46b",
   "metadata": {},
   "source": [
    "---"
   ]
  },
  {
   "cell_type": "markdown",
   "id": "479d093b",
   "metadata": {},
   "source": [
    "### Платформы для разных регионов"
   ]
  },
  {
   "cell_type": "markdown",
   "id": "e8504003",
   "metadata": {},
   "source": [
    "Составим портреты пользователей по регионам. Определим самые популярные платформы и жанры для разных регионов и посмотрим как влияет рейтинг ESRB на продажи в отдельно взятом регионе. "
   ]
  },
  {
   "cell_type": "markdown",
   "id": "5fb83c5a",
   "metadata": {},
   "source": [
    "Сначала посмотрим на самые популряные платформы в разных регионах. Посмотрим на долю их продаж в регионе и во всем мире. "
   ]
  },
  {
   "cell_type": "code",
   "execution_count": 35,
   "id": "bb39d9ee",
   "metadata": {},
   "outputs": [
    {
     "data": {
      "text/plain": [
       "'Top platforms for NA'"
      ]
     },
     "metadata": {},
     "output_type": "display_data"
    },
    {
     "data": {
      "text/html": [
       "<div>\n",
       "<style scoped>\n",
       "    .dataframe tbody tr th:only-of-type {\n",
       "        vertical-align: middle;\n",
       "    }\n",
       "\n",
       "    .dataframe tbody tr th {\n",
       "        vertical-align: top;\n",
       "    }\n",
       "\n",
       "    .dataframe thead th {\n",
       "        text-align: right;\n",
       "    }\n",
       "</style>\n",
       "<table border=\"1\" class=\"dataframe\">\n",
       "  <thead>\n",
       "    <tr style=\"text-align: right;\">\n",
       "      <th></th>\n",
       "      <th>platform</th>\n",
       "      <th>na_sales</th>\n",
       "      <th>total_sales</th>\n",
       "      <th>share_total</th>\n",
       "      <th>share_region</th>\n",
       "    </tr>\n",
       "  </thead>\n",
       "  <tbody>\n",
       "    <tr>\n",
       "      <th>3</th>\n",
       "      <td>PS4</td>\n",
       "      <td>98.610001</td>\n",
       "      <td>288.149994</td>\n",
       "      <td>0.342218</td>\n",
       "      <td>0.347145</td>\n",
       "    </tr>\n",
       "    <tr>\n",
       "      <th>9</th>\n",
       "      <td>XOne</td>\n",
       "      <td>81.269997</td>\n",
       "      <td>140.360001</td>\n",
       "      <td>0.579011</td>\n",
       "      <td>0.286102</td>\n",
       "    </tr>\n",
       "    <tr>\n",
       "      <th>8</th>\n",
       "      <td>X360</td>\n",
       "      <td>28.299999</td>\n",
       "      <td>48.220001</td>\n",
       "      <td>0.586893</td>\n",
       "      <td>0.099627</td>\n",
       "    </tr>\n",
       "    <tr>\n",
       "      <th>0</th>\n",
       "      <td>3DS</td>\n",
       "      <td>22.639999</td>\n",
       "      <td>86.680000</td>\n",
       "      <td>0.261191</td>\n",
       "      <td>0.079701</td>\n",
       "    </tr>\n",
       "    <tr>\n",
       "      <th>2</th>\n",
       "      <td>PS3</td>\n",
       "      <td>22.049999</td>\n",
       "      <td>68.180000</td>\n",
       "      <td>0.323409</td>\n",
       "      <td>0.077624</td>\n",
       "    </tr>\n",
       "  </tbody>\n",
       "</table>\n",
       "</div>"
      ],
      "text/plain": [
       "  platform   na_sales  total_sales  share_total  share_region\n",
       "3      PS4  98.610001   288.149994     0.342218      0.347145\n",
       "9     XOne  81.269997   140.360001     0.579011      0.286102\n",
       "8     X360  28.299999    48.220001     0.586893      0.099627\n",
       "0      3DS  22.639999    86.680000     0.261191      0.079701\n",
       "2      PS3  22.049999    68.180000     0.323409      0.077624"
      ]
     },
     "metadata": {},
     "output_type": "display_data"
    },
    {
     "data": {
      "text/plain": [
       "'Top platforms for EU'"
      ]
     },
     "metadata": {},
     "output_type": "display_data"
    },
    {
     "data": {
      "text/html": [
       "<div>\n",
       "<style scoped>\n",
       "    .dataframe tbody tr th:only-of-type {\n",
       "        vertical-align: middle;\n",
       "    }\n",
       "\n",
       "    .dataframe tbody tr th {\n",
       "        vertical-align: top;\n",
       "    }\n",
       "\n",
       "    .dataframe thead th {\n",
       "        text-align: right;\n",
       "    }\n",
       "</style>\n",
       "<table border=\"1\" class=\"dataframe\">\n",
       "  <thead>\n",
       "    <tr style=\"text-align: right;\">\n",
       "      <th></th>\n",
       "      <th>platform</th>\n",
       "      <th>eu_sales</th>\n",
       "      <th>total_sales</th>\n",
       "      <th>share_total</th>\n",
       "      <th>share_region</th>\n",
       "    </tr>\n",
       "  </thead>\n",
       "  <tbody>\n",
       "    <tr>\n",
       "      <th>3</th>\n",
       "      <td>PS4</td>\n",
       "      <td>130.039993</td>\n",
       "      <td>288.149994</td>\n",
       "      <td>0.451293</td>\n",
       "      <td>0.480420</td>\n",
       "    </tr>\n",
       "    <tr>\n",
       "      <th>9</th>\n",
       "      <td>XOne</td>\n",
       "      <td>46.250000</td>\n",
       "      <td>140.360001</td>\n",
       "      <td>0.329510</td>\n",
       "      <td>0.170866</td>\n",
       "    </tr>\n",
       "    <tr>\n",
       "      <th>2</th>\n",
       "      <td>PS3</td>\n",
       "      <td>25.539999</td>\n",
       "      <td>68.180000</td>\n",
       "      <td>0.374597</td>\n",
       "      <td>0.094355</td>\n",
       "    </tr>\n",
       "    <tr>\n",
       "      <th>1</th>\n",
       "      <td>PC</td>\n",
       "      <td>17.969999</td>\n",
       "      <td>27.050001</td>\n",
       "      <td>0.664325</td>\n",
       "      <td>0.066388</td>\n",
       "    </tr>\n",
       "    <tr>\n",
       "      <th>0</th>\n",
       "      <td>3DS</td>\n",
       "      <td>16.120001</td>\n",
       "      <td>86.680000</td>\n",
       "      <td>0.185971</td>\n",
       "      <td>0.059554</td>\n",
       "    </tr>\n",
       "  </tbody>\n",
       "</table>\n",
       "</div>"
      ],
      "text/plain": [
       "  platform    eu_sales  total_sales  share_total  share_region\n",
       "3      PS4  130.039993   288.149994     0.451293      0.480420\n",
       "9     XOne   46.250000   140.360001     0.329510      0.170866\n",
       "2      PS3   25.539999    68.180000     0.374597      0.094355\n",
       "1       PC   17.969999    27.050001     0.664325      0.066388\n",
       "0      3DS   16.120001    86.680000     0.185971      0.059554"
      ]
     },
     "metadata": {},
     "output_type": "display_data"
    },
    {
     "data": {
      "text/plain": [
       "'Top platforms for JP'"
      ]
     },
     "metadata": {},
     "output_type": "display_data"
    },
    {
     "data": {
      "text/html": [
       "<div>\n",
       "<style scoped>\n",
       "    .dataframe tbody tr th:only-of-type {\n",
       "        vertical-align: middle;\n",
       "    }\n",
       "\n",
       "    .dataframe tbody tr th {\n",
       "        vertical-align: top;\n",
       "    }\n",
       "\n",
       "    .dataframe thead th {\n",
       "        text-align: right;\n",
       "    }\n",
       "</style>\n",
       "<table border=\"1\" class=\"dataframe\">\n",
       "  <thead>\n",
       "    <tr style=\"text-align: right;\">\n",
       "      <th></th>\n",
       "      <th>platform</th>\n",
       "      <th>jp_sales</th>\n",
       "      <th>total_sales</th>\n",
       "      <th>share_total</th>\n",
       "      <th>share_region</th>\n",
       "    </tr>\n",
       "  </thead>\n",
       "  <tbody>\n",
       "    <tr>\n",
       "      <th>0</th>\n",
       "      <td>3DS</td>\n",
       "      <td>44.240002</td>\n",
       "      <td>86.680000</td>\n",
       "      <td>0.510383</td>\n",
       "      <td>0.475239</td>\n",
       "    </tr>\n",
       "    <tr>\n",
       "      <th>3</th>\n",
       "      <td>PS4</td>\n",
       "      <td>15.020000</td>\n",
       "      <td>288.149994</td>\n",
       "      <td>0.052126</td>\n",
       "      <td>0.161349</td>\n",
       "    </tr>\n",
       "    <tr>\n",
       "      <th>5</th>\n",
       "      <td>PSV</td>\n",
       "      <td>14.540000</td>\n",
       "      <td>22.400000</td>\n",
       "      <td>0.649107</td>\n",
       "      <td>0.156193</td>\n",
       "    </tr>\n",
       "    <tr>\n",
       "      <th>2</th>\n",
       "      <td>PS3</td>\n",
       "      <td>11.220000</td>\n",
       "      <td>68.180000</td>\n",
       "      <td>0.164564</td>\n",
       "      <td>0.120529</td>\n",
       "    </tr>\n",
       "    <tr>\n",
       "      <th>7</th>\n",
       "      <td>WiiU</td>\n",
       "      <td>7.310000</td>\n",
       "      <td>42.980000</td>\n",
       "      <td>0.170079</td>\n",
       "      <td>0.078526</td>\n",
       "    </tr>\n",
       "  </tbody>\n",
       "</table>\n",
       "</div>"
      ],
      "text/plain": [
       "  platform   jp_sales  total_sales  share_total  share_region\n",
       "0      3DS  44.240002    86.680000     0.510383      0.475239\n",
       "3      PS4  15.020000   288.149994     0.052126      0.161349\n",
       "5      PSV  14.540000    22.400000     0.649107      0.156193\n",
       "2      PS3  11.220000    68.180000     0.164564      0.120529\n",
       "7     WiiU   7.310000    42.980000     0.170079      0.078526"
      ]
     },
     "metadata": {},
     "output_type": "display_data"
    },
    {
     "data": {
      "image/png": "[encoded data removed]",
      "text/plain": [
       "<Figure size 1080x360 with 3 Axes>"
      ]
     },
     "metadata": {
      "needs_background": "light"
     },
     "output_type": "display_data"
    }
   ],
   "source": [
    "# Заготовка под график\n",
    "fig, axs = plt.subplots(1,3)\n",
    "fig.set_figheight(5)\n",
    "fig.set_figwidth(15)\n",
    "fig.suptitle(\"Bar plot for sales by platform\", fontsize=14)\n",
    "\n",
    "# Список регионов для исследования\n",
    "li = ['na_sales', 'eu_sales', 'jp_sales']\n",
    "\n",
    "# Цикл будет пробегаться по списку регионов и по его индексам(для расплоложения графиков на сабплоте)\n",
    "for i, j in zip(li, range(len(li))):\n",
    "    platform_sales = (df_actual\n",
    "         .groupby('platform', as_index=False)\n",
    "         .agg({i:'sum', 'total_sales':'sum'})\n",
    "# Добавим share_total (долю продаж платформы в мире) и share_region (долю продаж платформы в регионе)\n",
    "         .assign(share_total = (lambda x: x[i]/x['total_sales']), share_region = (lambda x: x[i]/x[i].sum()))\n",
    "         .sort_values(i, ascending=False)\n",
    "         .head(5)\n",
    "        )\n",
    "    display(f'Top platforms for {i.upper():.2}', platform_sales)     \n",
    "    platform_sales.plot.bar(x='platform', y=i, ax = axs[j])"
   ]
  },
  {
   "cell_type": "markdown",
   "id": "6fa95673",
   "metadata": {},
   "source": [
    "<div style=\"border:solid blue 2px; padding: 20px\">\n",
    "Вывод по платформам:\n",
    "    \n",
    "* У Североамериканцев с огромным перевесом лидирует PS4 с почти 100 млн проданных копий. На втором по популярносте месте XOne, и что характерно - 58% продаж для данной консоли в мире приходится именно на Америку\n",
    "\n",
    "* у Европейцев также лидирует PS4, но уже с 130 млн проданных копий, что составляет 45% процентов от мирового рынка. Почти каждый 2й европеец выбирает именно эту платформу для игр. На втором месте XOne с 46 млн проданных копий. Также можно заметить, что PC игры проданные в Европе, составляют больше половины от всех игр для PC в мире. \n",
    "\n",
    "* У Японцев лидирует 3DS (44 млн копий и почти 50% от всего рынка). Но что более интересно, PSV, которая расположилась на третьем месте, занимает более 65!% от всего рынка. Можно смело сказать, что рынок Японии - рынок портативных игровых консолей, которые можно брать с собой. "
   ]
  },
  {
   "cell_type": "markdown",
   "id": "638f757e",
   "metadata": {},
   "source": [
    "### Жанры для разных регионов"
   ]
  },
  {
   "cell_type": "markdown",
   "id": "eb2db984",
   "metadata": {},
   "source": [
    "Теперь посмотрим на ситуацию с продажамми по жанрам в каждом регионе"
   ]
  },
  {
   "cell_type": "code",
   "execution_count": 36,
   "id": "77f780a8",
   "metadata": {},
   "outputs": [
    {
     "data": {
      "text/plain": [
       "'Top platforms for NA'"
      ]
     },
     "metadata": {},
     "output_type": "display_data"
    },
    {
     "data": {
      "text/html": [
       "<div>\n",
       "<style scoped>\n",
       "    .dataframe tbody tr th:only-of-type {\n",
       "        vertical-align: middle;\n",
       "    }\n",
       "\n",
       "    .dataframe tbody tr th {\n",
       "        vertical-align: top;\n",
       "    }\n",
       "\n",
       "    .dataframe thead th {\n",
       "        text-align: right;\n",
       "    }\n",
       "</style>\n",
       "<table border=\"1\" class=\"dataframe\">\n",
       "  <thead>\n",
       "    <tr style=\"text-align: right;\">\n",
       "      <th></th>\n",
       "      <th>genre</th>\n",
       "      <th>na_sales</th>\n",
       "      <th>total_sales</th>\n",
       "      <th>share_total</th>\n",
       "      <th>share_region</th>\n",
       "    </tr>\n",
       "  </thead>\n",
       "  <tbody>\n",
       "    <tr>\n",
       "      <th>8</th>\n",
       "      <td>Shooter</td>\n",
       "      <td>79.019997</td>\n",
       "      <td>170.940002</td>\n",
       "      <td>0.462267</td>\n",
       "      <td>0.278181</td>\n",
       "    </tr>\n",
       "    <tr>\n",
       "      <th>0</th>\n",
       "      <td>Action</td>\n",
       "      <td>72.529999</td>\n",
       "      <td>199.360001</td>\n",
       "      <td>0.363814</td>\n",
       "      <td>0.255333</td>\n",
       "    </tr>\n",
       "    <tr>\n",
       "      <th>10</th>\n",
       "      <td>Sports</td>\n",
       "      <td>46.130001</td>\n",
       "      <td>109.480003</td>\n",
       "      <td>0.421355</td>\n",
       "      <td>0.162395</td>\n",
       "    </tr>\n",
       "    <tr>\n",
       "      <th>7</th>\n",
       "      <td>Role-Playing</td>\n",
       "      <td>33.470001</td>\n",
       "      <td>101.440002</td>\n",
       "      <td>0.329949</td>\n",
       "      <td>0.117827</td>\n",
       "    </tr>\n",
       "    <tr>\n",
       "      <th>3</th>\n",
       "      <td>Misc</td>\n",
       "      <td>15.050000</td>\n",
       "      <td>37.549999</td>\n",
       "      <td>0.400799</td>\n",
       "      <td>0.052982</td>\n",
       "    </tr>\n",
       "  </tbody>\n",
       "</table>\n",
       "</div>"
      ],
      "text/plain": [
       "           genre   na_sales  total_sales  share_total  share_region\n",
       "8        Shooter  79.019997   170.940002     0.462267      0.278181\n",
       "0         Action  72.529999   199.360001     0.363814      0.255333\n",
       "10        Sports  46.130001   109.480003     0.421355      0.162395\n",
       "7   Role-Playing  33.470001   101.440002     0.329949      0.117827\n",
       "3           Misc  15.050000    37.549999     0.400799      0.052982"
      ]
     },
     "metadata": {},
     "output_type": "display_data"
    },
    {
     "data": {
      "text/plain": [
       "'Top platforms for EU'"
      ]
     },
     "metadata": {},
     "output_type": "display_data"
    },
    {
     "data": {
      "text/html": [
       "<div>\n",
       "<style scoped>\n",
       "    .dataframe tbody tr th:only-of-type {\n",
       "        vertical-align: middle;\n",
       "    }\n",
       "\n",
       "    .dataframe tbody tr th {\n",
       "        vertical-align: top;\n",
       "    }\n",
       "\n",
       "    .dataframe thead th {\n",
       "        text-align: right;\n",
       "    }\n",
       "</style>\n",
       "<table border=\"1\" class=\"dataframe\">\n",
       "  <thead>\n",
       "    <tr style=\"text-align: right;\">\n",
       "      <th></th>\n",
       "      <th>genre</th>\n",
       "      <th>eu_sales</th>\n",
       "      <th>total_sales</th>\n",
       "      <th>share_total</th>\n",
       "      <th>share_region</th>\n",
       "    </tr>\n",
       "  </thead>\n",
       "  <tbody>\n",
       "    <tr>\n",
       "      <th>0</th>\n",
       "      <td>Action</td>\n",
       "      <td>74.680000</td>\n",
       "      <td>199.360001</td>\n",
       "      <td>0.374599</td>\n",
       "      <td>0.275898</td>\n",
       "    </tr>\n",
       "    <tr>\n",
       "      <th>8</th>\n",
       "      <td>Shooter</td>\n",
       "      <td>65.519997</td>\n",
       "      <td>170.940002</td>\n",
       "      <td>0.383292</td>\n",
       "      <td>0.242057</td>\n",
       "    </tr>\n",
       "    <tr>\n",
       "      <th>10</th>\n",
       "      <td>Sports</td>\n",
       "      <td>45.730000</td>\n",
       "      <td>109.480003</td>\n",
       "      <td>0.417702</td>\n",
       "      <td>0.168945</td>\n",
       "    </tr>\n",
       "    <tr>\n",
       "      <th>7</th>\n",
       "      <td>Role-Playing</td>\n",
       "      <td>28.170000</td>\n",
       "      <td>101.440002</td>\n",
       "      <td>0.277701</td>\n",
       "      <td>0.104071</td>\n",
       "    </tr>\n",
       "    <tr>\n",
       "      <th>6</th>\n",
       "      <td>Racing</td>\n",
       "      <td>14.130000</td>\n",
       "      <td>27.520000</td>\n",
       "      <td>0.513445</td>\n",
       "      <td>0.052202</td>\n",
       "    </tr>\n",
       "  </tbody>\n",
       "</table>\n",
       "</div>"
      ],
      "text/plain": [
       "           genre   eu_sales  total_sales  share_total  share_region\n",
       "0         Action  74.680000   199.360001     0.374599      0.275898\n",
       "8        Shooter  65.519997   170.940002     0.383292      0.242057\n",
       "10        Sports  45.730000   109.480003     0.417702      0.168945\n",
       "7   Role-Playing  28.170000   101.440002     0.277701      0.104071\n",
       "6         Racing  14.130000    27.520000     0.513445      0.052202"
      ]
     },
     "metadata": {},
     "output_type": "display_data"
    },
    {
     "data": {
      "text/plain": [
       "'Top platforms for JP'"
      ]
     },
     "metadata": {},
     "output_type": "display_data"
    },
    {
     "data": {
      "text/html": [
       "<div>\n",
       "<style scoped>\n",
       "    .dataframe tbody tr th:only-of-type {\n",
       "        vertical-align: middle;\n",
       "    }\n",
       "\n",
       "    .dataframe tbody tr th {\n",
       "        vertical-align: top;\n",
       "    }\n",
       "\n",
       "    .dataframe thead th {\n",
       "        text-align: right;\n",
       "    }\n",
       "</style>\n",
       "<table border=\"1\" class=\"dataframe\">\n",
       "  <thead>\n",
       "    <tr style=\"text-align: right;\">\n",
       "      <th></th>\n",
       "      <th>genre</th>\n",
       "      <th>jp_sales</th>\n",
       "      <th>total_sales</th>\n",
       "      <th>share_total</th>\n",
       "      <th>share_region</th>\n",
       "    </tr>\n",
       "  </thead>\n",
       "  <tbody>\n",
       "    <tr>\n",
       "      <th>7</th>\n",
       "      <td>Role-Playing</td>\n",
       "      <td>31.16</td>\n",
       "      <td>101.440002</td>\n",
       "      <td>0.307177</td>\n",
       "      <td>0.334730</td>\n",
       "    </tr>\n",
       "    <tr>\n",
       "      <th>0</th>\n",
       "      <td>Action</td>\n",
       "      <td>29.58</td>\n",
       "      <td>199.360001</td>\n",
       "      <td>0.148375</td>\n",
       "      <td>0.317757</td>\n",
       "    </tr>\n",
       "    <tr>\n",
       "      <th>2</th>\n",
       "      <td>Fighting</td>\n",
       "      <td>6.37</td>\n",
       "      <td>28.219999</td>\n",
       "      <td>0.225726</td>\n",
       "      <td>0.068428</td>\n",
       "    </tr>\n",
       "    <tr>\n",
       "      <th>3</th>\n",
       "      <td>Misc</td>\n",
       "      <td>5.61</td>\n",
       "      <td>37.549999</td>\n",
       "      <td>0.149401</td>\n",
       "      <td>0.060264</td>\n",
       "    </tr>\n",
       "    <tr>\n",
       "      <th>8</th>\n",
       "      <td>Shooter</td>\n",
       "      <td>4.87</td>\n",
       "      <td>170.940002</td>\n",
       "      <td>0.028490</td>\n",
       "      <td>0.052315</td>\n",
       "    </tr>\n",
       "  </tbody>\n",
       "</table>\n",
       "</div>"
      ],
      "text/plain": [
       "          genre  jp_sales  total_sales  share_total  share_region\n",
       "7  Role-Playing     31.16   101.440002     0.307177      0.334730\n",
       "0        Action     29.58   199.360001     0.148375      0.317757\n",
       "2      Fighting      6.37    28.219999     0.225726      0.068428\n",
       "3          Misc      5.61    37.549999     0.149401      0.060264\n",
       "8       Shooter      4.87   170.940002     0.028490      0.052315"
      ]
     },
     "metadata": {},
     "output_type": "display_data"
    },
    {
     "data": {
      "image/png": "[encoded data removed]",
      "text/plain": [
       "<Figure size 1080x360 with 3 Axes>"
      ]
     },
     "metadata": {
      "needs_background": "light"
     },
     "output_type": "display_data"
    }
   ],
   "source": [
    "# Использую тот же скрипт, что и для платформ, только немного скорректирую группировку\n",
    "\n",
    "# Заготовка под график\n",
    "fig, axs = plt.subplots(1,3)\n",
    "fig.set_figheight(5)\n",
    "fig.set_figwidth(15)\n",
    "fig.suptitle(\"Bar plot for sales by genre\", fontsize=14)\n",
    "\n",
    "# Список регионов для исследования\n",
    "li = ['na_sales', 'eu_sales', 'jp_sales']\n",
    "\n",
    "# Цикл будет пробегаться по списку регионов и по его индексам(для расплоложения графиков на сабплоте)\n",
    "for i, j in zip(li, range(len(li))):\n",
    "    genre_sales = (df_actual\n",
    "         .groupby('genre', as_index=False)\n",
    "         .agg({i:'sum', 'total_sales':'sum'})\n",
    "# Добавим share_total (долю продаж платформы в мире) и share_region (долю продаж платформы в регионе)\n",
    "         .assign(share_total = (lambda x: x[i]/x['total_sales']), share_region = (lambda x: x[i]/x[i].sum()))\n",
    "         .sort_values(i, ascending=False)\n",
    "         .head(5)\n",
    "        )\n",
    "    display(f'Top platforms for {i.upper():.2}', genre_sales)     \n",
    "    genre_sales.plot.bar(x='genre', y=i, color='g', ax = axs[j])"
   ]
  },
  {
   "cell_type": "markdown",
   "id": "0037aa0e",
   "metadata": {},
   "source": [
    "Можно заметить, что в целом рынки Америки и Европы очень схожи. У обоих лидируют экшены и шутеры. Спортивные игры тоже в топе. А вот в Азии более развиты продажи Ролевых игр, а шутеры занимают лишь последнее место в топ-5"
   ]
  },
  {
   "cell_type": "markdown",
   "id": "5718e2a7",
   "metadata": {},
   "source": [
    "### Рейтин ESRB для разных регионов"
   ]
  },
  {
   "cell_type": "markdown",
   "id": "7d08687c",
   "metadata": {},
   "source": [
    "Теперь исследуем влияния рейтинга ESRB на продажи в отдельном регионе. \\\n",
    "Для начала расшифруем рейтинг:\n",
    "- «E» («Everyone») — «Для всех»\n",
    "- «M» («Mature») — «Для взрослых»\n",
    "- «E10+» («Everyone 10 and older») — «Для всех от 10 лет и старше»\n",
    "- «T» («Teen») — «Подросткам»\n",
    "- «EC» («Early childhood») — «Для детей младшего возраста»\n",
    "- «RP» («Rating Pending») — «Рейтинг ожидается»:\n"
   ]
  },
  {
   "cell_type": "code",
   "execution_count": 37,
   "id": "7fe35684",
   "metadata": {},
   "outputs": [
    {
     "data": {
      "text/plain": [
       "'Top platforms for NA'"
      ]
     },
     "metadata": {},
     "output_type": "display_data"
    },
    {
     "data": {
      "text/html": [
       "<div>\n",
       "<style scoped>\n",
       "    .dataframe tbody tr th:only-of-type {\n",
       "        vertical-align: middle;\n",
       "    }\n",
       "\n",
       "    .dataframe tbody tr th {\n",
       "        vertical-align: top;\n",
       "    }\n",
       "\n",
       "    .dataframe thead th {\n",
       "        text-align: right;\n",
       "    }\n",
       "</style>\n",
       "<table border=\"1\" class=\"dataframe\">\n",
       "  <thead>\n",
       "    <tr style=\"text-align: right;\">\n",
       "      <th></th>\n",
       "      <th>rating</th>\n",
       "      <th>na_sales</th>\n",
       "      <th>total_sales</th>\n",
       "      <th>share_total</th>\n",
       "      <th>share_region</th>\n",
       "    </tr>\n",
       "  </thead>\n",
       "  <tbody>\n",
       "    <tr>\n",
       "      <th>2</th>\n",
       "      <td>M</td>\n",
       "      <td>96.419998</td>\n",
       "      <td>226.539993</td>\n",
       "      <td>0.425620</td>\n",
       "      <td>0.339435</td>\n",
       "    </tr>\n",
       "    <tr>\n",
       "      <th>4</th>\n",
       "      <td>Unknown</td>\n",
       "      <td>64.720001</td>\n",
       "      <td>198.970001</td>\n",
       "      <td>0.325275</td>\n",
       "      <td>0.227839</td>\n",
       "    </tr>\n",
       "    <tr>\n",
       "      <th>0</th>\n",
       "      <td>E</td>\n",
       "      <td>50.740002</td>\n",
       "      <td>133.130005</td>\n",
       "      <td>0.381131</td>\n",
       "      <td>0.178624</td>\n",
       "    </tr>\n",
       "    <tr>\n",
       "      <th>3</th>\n",
       "      <td>T</td>\n",
       "      <td>38.950001</td>\n",
       "      <td>99.129997</td>\n",
       "      <td>0.392918</td>\n",
       "      <td>0.137119</td>\n",
       "    </tr>\n",
       "    <tr>\n",
       "      <th>1</th>\n",
       "      <td>E10+</td>\n",
       "      <td>33.230000</td>\n",
       "      <td>71.680000</td>\n",
       "      <td>0.463588</td>\n",
       "      <td>0.116982</td>\n",
       "    </tr>\n",
       "  </tbody>\n",
       "</table>\n",
       "</div>"
      ],
      "text/plain": [
       "    rating   na_sales  total_sales  share_total  share_region\n",
       "2        M  96.419998   226.539993     0.425620      0.339435\n",
       "4  Unknown  64.720001   198.970001     0.325275      0.227839\n",
       "0        E  50.740002   133.130005     0.381131      0.178624\n",
       "3        T  38.950001    99.129997     0.392918      0.137119\n",
       "1     E10+  33.230000    71.680000     0.463588      0.116982"
      ]
     },
     "metadata": {},
     "output_type": "display_data"
    },
    {
     "data": {
      "text/plain": [
       "'Top platforms for EU'"
      ]
     },
     "metadata": {},
     "output_type": "display_data"
    },
    {
     "data": {
      "text/html": [
       "<div>\n",
       "<style scoped>\n",
       "    .dataframe tbody tr th:only-of-type {\n",
       "        vertical-align: middle;\n",
       "    }\n",
       "\n",
       "    .dataframe tbody tr th {\n",
       "        vertical-align: top;\n",
       "    }\n",
       "\n",
       "    .dataframe thead th {\n",
       "        text-align: right;\n",
       "    }\n",
       "</style>\n",
       "<table border=\"1\" class=\"dataframe\">\n",
       "  <thead>\n",
       "    <tr style=\"text-align: right;\">\n",
       "      <th></th>\n",
       "      <th>rating</th>\n",
       "      <th>eu_sales</th>\n",
       "      <th>total_sales</th>\n",
       "      <th>share_total</th>\n",
       "      <th>share_region</th>\n",
       "    </tr>\n",
       "  </thead>\n",
       "  <tbody>\n",
       "    <tr>\n",
       "      <th>2</th>\n",
       "      <td>M</td>\n",
       "      <td>93.440002</td>\n",
       "      <td>226.539993</td>\n",
       "      <td>0.412466</td>\n",
       "      <td>0.345205</td>\n",
       "    </tr>\n",
       "    <tr>\n",
       "      <th>4</th>\n",
       "      <td>Unknown</td>\n",
       "      <td>58.950001</td>\n",
       "      <td>198.970001</td>\n",
       "      <td>0.296276</td>\n",
       "      <td>0.217785</td>\n",
       "    </tr>\n",
       "    <tr>\n",
       "      <th>0</th>\n",
       "      <td>E</td>\n",
       "      <td>58.060001</td>\n",
       "      <td>133.130005</td>\n",
       "      <td>0.436115</td>\n",
       "      <td>0.214497</td>\n",
       "    </tr>\n",
       "    <tr>\n",
       "      <th>3</th>\n",
       "      <td>T</td>\n",
       "      <td>34.070000</td>\n",
       "      <td>99.129997</td>\n",
       "      <td>0.343690</td>\n",
       "      <td>0.125868</td>\n",
       "    </tr>\n",
       "    <tr>\n",
       "      <th>1</th>\n",
       "      <td>E10+</td>\n",
       "      <td>26.160000</td>\n",
       "      <td>71.680000</td>\n",
       "      <td>0.364955</td>\n",
       "      <td>0.096645</td>\n",
       "    </tr>\n",
       "  </tbody>\n",
       "</table>\n",
       "</div>"
      ],
      "text/plain": [
       "    rating   eu_sales  total_sales  share_total  share_region\n",
       "2        M  93.440002   226.539993     0.412466      0.345205\n",
       "4  Unknown  58.950001   198.970001     0.296276      0.217785\n",
       "0        E  58.060001   133.130005     0.436115      0.214497\n",
       "3        T  34.070000    99.129997     0.343690      0.125868\n",
       "1     E10+  26.160000    71.680000     0.364955      0.096645"
      ]
     },
     "metadata": {},
     "output_type": "display_data"
    },
    {
     "data": {
      "text/plain": [
       "'Top platforms for JP'"
      ]
     },
     "metadata": {},
     "output_type": "display_data"
    },
    {
     "data": {
      "text/html": [
       "<div>\n",
       "<style scoped>\n",
       "    .dataframe tbody tr th:only-of-type {\n",
       "        vertical-align: middle;\n",
       "    }\n",
       "\n",
       "    .dataframe tbody tr th {\n",
       "        vertical-align: top;\n",
       "    }\n",
       "\n",
       "    .dataframe thead th {\n",
       "        text-align: right;\n",
       "    }\n",
       "</style>\n",
       "<table border=\"1\" class=\"dataframe\">\n",
       "  <thead>\n",
       "    <tr style=\"text-align: right;\">\n",
       "      <th></th>\n",
       "      <th>rating</th>\n",
       "      <th>jp_sales</th>\n",
       "      <th>total_sales</th>\n",
       "      <th>share_total</th>\n",
       "      <th>share_region</th>\n",
       "    </tr>\n",
       "  </thead>\n",
       "  <tbody>\n",
       "    <tr>\n",
       "      <th>4</th>\n",
       "      <td>Unknown</td>\n",
       "      <td>56.900002</td>\n",
       "      <td>198.970001</td>\n",
       "      <td>0.285973</td>\n",
       "      <td>0.611236</td>\n",
       "    </tr>\n",
       "    <tr>\n",
       "      <th>3</th>\n",
       "      <td>T</td>\n",
       "      <td>14.780000</td>\n",
       "      <td>99.129997</td>\n",
       "      <td>0.149097</td>\n",
       "      <td>0.158771</td>\n",
       "    </tr>\n",
       "    <tr>\n",
       "      <th>0</th>\n",
       "      <td>E</td>\n",
       "      <td>8.940000</td>\n",
       "      <td>133.130005</td>\n",
       "      <td>0.067152</td>\n",
       "      <td>0.096036</td>\n",
       "    </tr>\n",
       "    <tr>\n",
       "      <th>2</th>\n",
       "      <td>M</td>\n",
       "      <td>8.010000</td>\n",
       "      <td>226.539993</td>\n",
       "      <td>0.035358</td>\n",
       "      <td>0.086046</td>\n",
       "    </tr>\n",
       "    <tr>\n",
       "      <th>1</th>\n",
       "      <td>E10+</td>\n",
       "      <td>4.460000</td>\n",
       "      <td>71.680000</td>\n",
       "      <td>0.062221</td>\n",
       "      <td>0.047911</td>\n",
       "    </tr>\n",
       "  </tbody>\n",
       "</table>\n",
       "</div>"
      ],
      "text/plain": [
       "    rating   jp_sales  total_sales  share_total  share_region\n",
       "4  Unknown  56.900002   198.970001     0.285973      0.611236\n",
       "3        T  14.780000    99.129997     0.149097      0.158771\n",
       "0        E   8.940000   133.130005     0.067152      0.096036\n",
       "2        M   8.010000   226.539993     0.035358      0.086046\n",
       "1     E10+   4.460000    71.680000     0.062221      0.047911"
      ]
     },
     "metadata": {},
     "output_type": "display_data"
    },
    {
     "data": {
      "image/png": "[encoded data removed]",
      "text/plain": [
       "<Figure size 1080x360 with 3 Axes>"
      ]
     },
     "metadata": {
      "needs_background": "light"
     },
     "output_type": "display_data"
    }
   ],
   "source": [
    "# Заготовка под график\n",
    "fig, axs = plt.subplots(1,3)\n",
    "fig.set_figheight(5)\n",
    "fig.set_figwidth(15)\n",
    "fig.suptitle(\"Bar plot for sales by genre\", fontsize=14)\n",
    "\n",
    "# Список регионов для исследования\n",
    "li = ['na_sales', 'eu_sales', 'jp_sales']\n",
    "\n",
    "# Цикл будет пробегаться по списку регионов и по его индексам(для расплоложения графиков на сабплоте)\n",
    "for i, j in zip(li, range(len(li))):\n",
    "    rating_sales = (df_actual\n",
    "         .groupby('rating', as_index=False)\n",
    "         .agg({i:'sum', 'total_sales':'sum'})\n",
    "# Добавим share_total (долю продаж платформы в мире) и share_region (долю продаж платформы в регионе)\n",
    "         .assign(share_total = (lambda x: x[i]/x['total_sales']), share_region = (lambda x: x[i]/x[i].sum()))\n",
    "         .sort_values(i, ascending=False)\n",
    "        )\n",
    "    display(f'Top platforms for {i.upper():.2}', rating_sales)     \n",
    "    rating_sales.plot.bar(x='rating', y=i, color='c', ax = axs[j])"
   ]
  },
  {
   "cell_type": "markdown",
   "id": "e0eb0603",
   "metadata": {},
   "source": [
    "<div style=\"border:solid blue 2px; padding: 20px\">Вывод по рейтингу следующий:\n",
    "У североамериканце и Европейцев распредление практически одинаково. Игры для взрослых, игры с неизвестным рейтингом, игры для всех, затем игры для подростков и игры для детей старше 10 лет. Интересно что для обоих рынокв (Америка и Европа) почти треть продаж приходится на игры с неизвестным рейтингом. А вот на азиатском рынке игры для взрослых занимают лишь четвертую строчку и всего лишь 3% от мирового рынка. Зато лидирует здесь именно продажи игр с неизвестным рейтингом.  "
   ]
  },
  {
   "cell_type": "markdown",
   "id": "3fda64b8",
   "metadata": {},
   "source": [
    "### Портрет пользователя по регионам"
   ]
  },
  {
   "cell_type": "markdown",
   "id": "d6125d31",
   "metadata": {},
   "source": [
    "<div style=\"border:solid blue 2px; padding: 20px\">\n",
    "Можно составить портрет среднестатистического пользователя по регионам:\n",
    "    \n",
    "* Для Североамериканце характерны игры на консолях PS4 в жанре Шутер и рейтинг \"для взрослых\"\n",
    "    \n",
    "* Для Европейца характерны игры на консолях PS4 в жанре Экшн и рейтинг \"для взрослых\"\n",
    "\n",
    "* Для Азии характерны игры для портативных консолей в жанре ролевых игр и с неизвестным рейтингом. Жанр спорт в азии практически не пользуются популярностью. "
   ]
  },
  {
   "cell_type": "markdown",
   "id": "513ebf51",
   "metadata": {},
   "source": [
    "---"
   ]
  },
  {
   "cell_type": "markdown",
   "id": "78e0f4e1",
   "metadata": {},
   "source": [
    "## Проверка гипотез"
   ]
  },
  {
   "cell_type": "markdown",
   "id": "22fe1fd1",
   "metadata": {},
   "source": [
    "Необходимо проверить следующие гипотезы:\n",
    "\n",
    "- Средние пользовательские рейтинги платформ Xbox One и PC одинаковые;\n",
    "- Средние пользовательские рейтинги жанров Action (англ. «действие», экшен-игры) и Sports (англ. «спортивные соревнования») разные."
   ]
  },
  {
   "cell_type": "markdown",
   "id": "4a77849b",
   "metadata": {},
   "source": [
    "### Средние пользовательские рейтинги платформ Xbox One и PC одинаковые"
   ]
  },
  {
   "cell_type": "markdown",
   "id": "c2020a02",
   "metadata": {},
   "source": [
    "Сформулируем нулевую и альтернативные гипотезы:\n",
    "- H0 - Средние пользовательские рейтинги платформ Xbox One и PC одинаковые\n",
    "- H1 - Средние пользовательские рейтинги платформ Xbox One и PC отличаются\n"
   ]
  },
  {
   "cell_type": "markdown",
   "id": "481607f1",
   "metadata": {},
   "source": [
    "Сохраним 2 датафрейма, применив фильтр к ранее очищенным данным"
   ]
  },
  {
   "cell_type": "code",
   "execution_count": 38,
   "id": "7c7b69c6",
   "metadata": {},
   "outputs": [],
   "source": [
    "df_xbox = df_actual_clean[df_actual_clean['platform'] == 'XOne'].dropna(subset=['user_score']).copy()\n",
    "df_pc = df_actual_clean[df_actual_clean['platform'] == 'PC'].dropna(subset=['user_score']).copy()"
   ]
  },
  {
   "cell_type": "markdown",
   "id": "68032b57",
   "metadata": {},
   "source": [
    "Проверим являются ли наши выборки однородными (с равными дисперсиями). Применим тест Левена: Если pvalue > 0.05, то выборки считаются однородными по дисперсии и в ttest_ind параметр equal_var=True. В противном случае, equal_var=False"
   ]
  },
  {
   "cell_type": "code",
   "execution_count": 39,
   "id": "4d187978",
   "metadata": {},
   "outputs": [
    {
     "name": "stdout",
     "output_type": "stream",
     "text": [
      "Average score variance for PC: 2.0260164737701416\n",
      "Average score variance for XOne: 2.9189116954803467\n"
     ]
    },
    {
     "data": {
      "text/plain": [
       "LeveneResult(statistic=3.8319583512472493, pvalue=0.05145288269747764)"
      ]
     },
     "execution_count": 39,
     "metadata": {},
     "output_type": "execute_result"
    }
   ],
   "source": [
    "print('Average score variance for PC:',df_xbox['user_score'].var())\n",
    "print('Average score variance for XOne:',df_pc['user_score'].var())\n",
    "st.levene(df_xbox['user_score'], df_pc['user_score'])"
   ]
  },
  {
   "cell_type": "markdown",
   "id": "2a4ca2e5",
   "metadata": {},
   "source": [
    "p-value > 5%. Оставляем значение equal_var по умолчанию"
   ]
  },
  {
   "cell_type": "code",
   "execution_count": 40,
   "id": "505c25d2",
   "metadata": {},
   "outputs": [
    {
     "name": "stdout",
     "output_type": "stream",
     "text": [
      "p-значение: 0.15916102601740792\n",
      "Не получилось отвергнуть нулевую гипотезу\n"
     ]
    }
   ],
   "source": [
    "# Зададим уровень значимости в 5%\n",
    "alpha = 0.05\n",
    "\n",
    "# Результат теста\n",
    "results = st.ttest_ind(df_xbox['user_score'], df_pc['user_score'])\n",
    "\n",
    "# Выведем на экран значение p-уровня значимости\n",
    "print(f'p-значение: {results.pvalue}')\n",
    "\n",
    "# Ответ\n",
    "if (results.pvalue < alpha):\n",
    "    print(\"Отвергаем нулевую гипотезу\")\n",
    "else:\n",
    "    print(\"Не получилось отвергнуть нулевую гипотезу\")"
   ]
  },
  {
   "cell_type": "markdown",
   "id": "3f26f5fe",
   "metadata": {},
   "source": [
    "Значение p-value более 5%. Можно сказать, что с вероятностью в 15% отвергнуть нулевую гипотезу будет ошибкой."
   ]
  },
  {
   "cell_type": "markdown",
   "id": "c207fb96",
   "metadata": {},
   "source": [
    "### Средние пользовательские рейтинги жанров Action (англ. «действие», экшен-игры) и Sports (англ. «спортивные соревнования») разные."
   ]
  },
  {
   "cell_type": "markdown",
   "id": "ec14b576",
   "metadata": {},
   "source": [
    "Сформулируем нулевую и альтернативные гипотезы:\n",
    "- H0 - Средние пользовательские рейтинги жанров Action и Sports одинаковые\n",
    "- H1 - Средние пользовательские рейтинги жанров Action и Sports различаются"
   ]
  },
  {
   "cell_type": "code",
   "execution_count": 41,
   "id": "75e42e57",
   "metadata": {},
   "outputs": [],
   "source": [
    "df_action = df_actual_clean[df_actual_clean['genre'] == 'Action'].dropna(subset=['user_score']).copy()\n",
    "df_sports = df_actual_clean[df_actual_clean['genre'] == 'Sports'].dropna(subset=['user_score']).copy()"
   ]
  },
  {
   "cell_type": "markdown",
   "id": "7941a7b9",
   "metadata": {},
   "source": [
    "Проверим являются ли наши выборки однородными (с равными дисперсиями). Применим тест Левена: Если pvalue > 0.05, то выборки считаются однородными по дисперсии и в ttest_ind параметр equal_var=True. В противном случае, equal_var=False"
   ]
  },
  {
   "cell_type": "code",
   "execution_count": 42,
   "id": "bb00fabd",
   "metadata": {},
   "outputs": [
    {
     "name": "stdout",
     "output_type": "stream",
     "text": [
      "Average score variance for PC: 1.9772509336471558\n",
      "Average score variance for XOne: 4.034075736999512\n"
     ]
    },
    {
     "data": {
      "text/plain": [
       "LeveneResult(statistic=25.780059285173678, pvalue=6.281483776495217e-07)"
      ]
     },
     "execution_count": 42,
     "metadata": {},
     "output_type": "execute_result"
    }
   ],
   "source": [
    "print('Average score variance for PC:',df_action['user_score'].var())\n",
    "print('Average score variance for XOne:',df_sports['user_score'].var())\n",
    "st.levene(df_action['user_score'], df_sports['user_score'])"
   ]
  },
  {
   "cell_type": "markdown",
   "id": "c7613a27",
   "metadata": {},
   "source": [
    "p-value < 5%. Следовательно equal_var=False"
   ]
  },
  {
   "cell_type": "code",
   "execution_count": 43,
   "id": "4d15cb8a",
   "metadata": {},
   "outputs": [
    {
     "name": "stdout",
     "output_type": "stream",
     "text": [
      "p-значение: 5.895180482142136e-10\n",
      "Отвергаем нулевую гипотезу\n"
     ]
    }
   ],
   "source": [
    "# Зададим уровень значимости в 5%\n",
    "alpha = 0.05\n",
    "\n",
    "# Результат теста\n",
    "results = st.ttest_ind(df_action['user_score'], df_sports['user_score'], equal_var=False)\n",
    "\n",
    "# Выведем на экран значение p-уровня значимости\n",
    "print(f'p-значение: {results.pvalue}')\n",
    "\n",
    "# Ответ\n",
    "if (results.pvalue < alpha):\n",
    "    print(\"Отвергаем нулевую гипотезу\")\n",
    "else:\n",
    "    print(\"Не получилось отвергнуть нулевую гипотезу\")"
   ]
  },
  {
   "cell_type": "markdown",
   "id": "c96229a8",
   "metadata": {},
   "source": [
    "Уровень p-значимости невероятно мал. Это значит, что вероятность получить такой результат или более далекий от предполагаемого ничтожно мала. Мы смело отвергаем нулевую гипотезу."
   ]
  },
  {
   "cell_type": "markdown",
   "id": "69feeedd",
   "metadata": {},
   "source": [
    "___"
   ]
  },
  {
   "cell_type": "markdown",
   "id": "ca302ad5",
   "metadata": {},
   "source": [
    "## Вывод"
   ]
  },
  {
   "cell_type": "markdown",
   "id": "a32af807",
   "metadata": {},
   "source": [
    "Работа полошла к концу. Был выполнен большой объём работы:\n",
    "- Познакомились с данными\n",
    "- Выполнили предобработку данных: привели в порядок названия колонок, преобразовали типы, избавились от дубликатов, проверили аномалии, заполнили пропуски\n",
    "- Сделали рассчеты: посчитали суммарные продажи для каждой игры\n",
    "- Выполнили исследовательский анализ данных: посмотрели зависимость продаж от регионов, жанров, платформ, оценок. Посмотрели сколько игр выпускалось в разные годы. Определили \"срок жизни\" платформ, определили актуальный период для анализа данных. Изучили данные на выбросы и обработали их. \n",
    "- Составили потенциальные портреты пользователей по регионам\n",
    "- Проверили гипотезы: Отличаются ли среднии оценки пользователей для 2х платформ и 2х жанров игр"
   ]
  },
  {
   "cell_type": "markdown",
   "id": "d3947778",
   "metadata": {},
   "source": [
    "Можно сделать несколько выводов по данной работе:\n",
    "- Количество игр, выпускаемых для всех платформ резко уменьшается с 2010 года. Это обусловлено развитием рынка мобильных устройств\n",
    "- Срок жизни для популярных платформ в среднем 10 лет. Пик популярности приходится на 5й год\n",
    "- Оценки критиков куда больше влияют на продажи игр, нежели оценки пользователей. К Критиком больше прислушиваются. \n",
    "- Самый популярный жанр - Экшн. Также популярны шутеры, спортивные и ролевые игры. \n",
    "- Платформы для игр сильно отличаются по регионам. Если в Америке и Европе это xbox и ps соответственно, то для Азии более популярны портитивыне консоли типа Nintendo и PSP\n",
    "- Также для Америки и Европы более популярны жанры экшн и шутеры, а в Азии ролевые игры. Шутеры и Спортивные игры в Азии практически не пользуются популярностью\n",
    "- Для азии также нельзя рассматривать как перспективные игры - игры с рейтингом \"для взрослых\". Всего 3% от мирового рынка. \n",
    "- Средние оценки пользователей PC и XOne не отличаются\n",
    "- Средние оценки пользователей игры в жанре Action и Sports отличаются"
   ]
  }
 ],
 "metadata": {
  "ExecuteTimeLog": [
   {
    "duration": 4,
    "start_time": "2022-05-11T15:48:29.268Z"
   },
   {
    "duration": 231,
    "start_time": "2022-05-11T15:48:29.275Z"
   },
   {
    "duration": 45,
    "start_time": "2022-05-11T15:48:29.509Z"
   },
   {
    "duration": 48,
    "start_time": "2022-05-11T15:48:29.557Z"
   },
   {
    "duration": 22,
    "start_time": "2022-05-11T15:48:29.607Z"
   },
   {
    "duration": 17,
    "start_time": "2022-05-11T15:48:29.632Z"
   },
   {
    "duration": 41,
    "start_time": "2022-05-11T15:48:29.683Z"
   },
   {
    "duration": 0,
    "start_time": "2022-05-11T15:48:29.730Z"
   },
   {
    "duration": 0,
    "start_time": "2022-05-11T15:48:29.733Z"
   },
   {
    "duration": 0,
    "start_time": "2022-05-11T15:48:29.734Z"
   },
   {
    "duration": 0,
    "start_time": "2022-05-11T15:48:29.735Z"
   },
   {
    "duration": 0,
    "start_time": "2022-05-11T15:48:29.737Z"
   },
   {
    "duration": 0,
    "start_time": "2022-05-11T15:48:29.738Z"
   },
   {
    "duration": 0,
    "start_time": "2022-05-11T15:48:29.740Z"
   },
   {
    "duration": 0,
    "start_time": "2022-05-11T15:48:29.742Z"
   },
   {
    "duration": 0,
    "start_time": "2022-05-11T15:48:29.743Z"
   },
   {
    "duration": 0,
    "start_time": "2022-05-11T15:48:29.744Z"
   },
   {
    "duration": 0,
    "start_time": "2022-05-11T15:48:29.783Z"
   },
   {
    "duration": 0,
    "start_time": "2022-05-11T15:48:29.785Z"
   },
   {
    "duration": 0,
    "start_time": "2022-05-11T15:48:29.787Z"
   },
   {
    "duration": 0,
    "start_time": "2022-05-11T15:48:29.789Z"
   },
   {
    "duration": 0,
    "start_time": "2022-05-11T15:48:29.790Z"
   },
   {
    "duration": 0,
    "start_time": "2022-05-11T15:48:29.792Z"
   },
   {
    "duration": 0,
    "start_time": "2022-05-11T15:48:29.794Z"
   },
   {
    "duration": 0,
    "start_time": "2022-05-11T15:48:29.795Z"
   },
   {
    "duration": 0,
    "start_time": "2022-05-11T15:48:29.797Z"
   },
   {
    "duration": 0,
    "start_time": "2022-05-11T15:48:29.798Z"
   },
   {
    "duration": 0,
    "start_time": "2022-05-11T15:48:29.800Z"
   },
   {
    "duration": 0,
    "start_time": "2022-05-11T15:48:29.802Z"
   },
   {
    "duration": 0,
    "start_time": "2022-05-11T15:48:29.804Z"
   },
   {
    "duration": 0,
    "start_time": "2022-05-11T15:48:29.805Z"
   },
   {
    "duration": 0,
    "start_time": "2022-05-11T15:48:29.807Z"
   },
   {
    "duration": 0,
    "start_time": "2022-05-11T15:48:29.809Z"
   },
   {
    "duration": 0,
    "start_time": "2022-05-11T15:48:29.810Z"
   },
   {
    "duration": 0,
    "start_time": "2022-05-11T15:48:29.812Z"
   },
   {
    "duration": 0,
    "start_time": "2022-05-11T15:48:29.814Z"
   },
   {
    "duration": 0,
    "start_time": "2022-05-11T15:48:29.816Z"
   },
   {
    "duration": 0,
    "start_time": "2022-05-11T15:48:29.818Z"
   },
   {
    "duration": 0,
    "start_time": "2022-05-11T15:48:29.883Z"
   },
   {
    "duration": 0,
    "start_time": "2022-05-11T15:48:29.885Z"
   },
   {
    "duration": 0,
    "start_time": "2022-05-11T15:48:29.887Z"
   },
   {
    "duration": 0,
    "start_time": "2022-05-11T15:48:29.889Z"
   },
   {
    "duration": 39,
    "start_time": "2022-05-11T15:49:04.559Z"
   },
   {
    "duration": 136,
    "start_time": "2022-05-11T15:49:33.942Z"
   },
   {
    "duration": 43,
    "start_time": "2022-05-11T15:49:48.263Z"
   },
   {
    "duration": 36,
    "start_time": "2022-05-11T15:49:51.855Z"
   },
   {
    "duration": 37,
    "start_time": "2022-05-11T15:50:24.798Z"
   },
   {
    "duration": 21,
    "start_time": "2022-05-11T15:50:35.220Z"
   },
   {
    "duration": 0,
    "start_time": "2022-05-11T15:50:35.244Z"
   },
   {
    "duration": 0,
    "start_time": "2022-05-11T15:50:35.247Z"
   },
   {
    "duration": 0,
    "start_time": "2022-05-11T15:50:35.249Z"
   },
   {
    "duration": 0,
    "start_time": "2022-05-11T15:50:35.251Z"
   },
   {
    "duration": 0,
    "start_time": "2022-05-11T15:50:35.252Z"
   },
   {
    "duration": 0,
    "start_time": "2022-05-11T15:50:35.254Z"
   },
   {
    "duration": 0,
    "start_time": "2022-05-11T15:50:35.256Z"
   },
   {
    "duration": 0,
    "start_time": "2022-05-11T15:50:35.257Z"
   },
   {
    "duration": 0,
    "start_time": "2022-05-11T15:50:35.259Z"
   },
   {
    "duration": 0,
    "start_time": "2022-05-11T15:50:35.261Z"
   },
   {
    "duration": 0,
    "start_time": "2022-05-11T15:50:35.262Z"
   },
   {
    "duration": 19,
    "start_time": "2022-05-11T15:50:35.281Z"
   },
   {
    "duration": 0,
    "start_time": "2022-05-11T15:50:35.303Z"
   },
   {
    "duration": 0,
    "start_time": "2022-05-11T15:50:35.305Z"
   },
   {
    "duration": 0,
    "start_time": "2022-05-11T15:50:35.306Z"
   },
   {
    "duration": 1,
    "start_time": "2022-05-11T15:50:35.307Z"
   },
   {
    "duration": 0,
    "start_time": "2022-05-11T15:50:35.310Z"
   },
   {
    "duration": 0,
    "start_time": "2022-05-11T15:50:35.312Z"
   },
   {
    "duration": 0,
    "start_time": "2022-05-11T15:50:35.313Z"
   },
   {
    "duration": 0,
    "start_time": "2022-05-11T15:50:35.314Z"
   },
   {
    "duration": 0,
    "start_time": "2022-05-11T15:50:35.316Z"
   },
   {
    "duration": 0,
    "start_time": "2022-05-11T15:50:35.318Z"
   },
   {
    "duration": 0,
    "start_time": "2022-05-11T15:50:35.319Z"
   },
   {
    "duration": 0,
    "start_time": "2022-05-11T15:50:35.321Z"
   },
   {
    "duration": 0,
    "start_time": "2022-05-11T15:50:35.382Z"
   },
   {
    "duration": 0,
    "start_time": "2022-05-11T15:50:35.384Z"
   },
   {
    "duration": 0,
    "start_time": "2022-05-11T15:50:35.386Z"
   },
   {
    "duration": 0,
    "start_time": "2022-05-11T15:50:35.387Z"
   },
   {
    "duration": 0,
    "start_time": "2022-05-11T15:50:35.389Z"
   },
   {
    "duration": 0,
    "start_time": "2022-05-11T15:50:35.390Z"
   },
   {
    "duration": 0,
    "start_time": "2022-05-11T15:50:35.392Z"
   },
   {
    "duration": 0,
    "start_time": "2022-05-11T15:50:35.394Z"
   },
   {
    "duration": 0,
    "start_time": "2022-05-11T15:50:35.395Z"
   },
   {
    "duration": 18,
    "start_time": "2022-05-11T15:50:35.399Z"
   },
   {
    "duration": 10,
    "start_time": "2022-05-11T15:54:07.005Z"
   },
   {
    "duration": 12,
    "start_time": "2022-05-11T15:54:18.671Z"
   },
   {
    "duration": 13,
    "start_time": "2022-05-11T15:54:25.749Z"
   },
   {
    "duration": 8,
    "start_time": "2022-05-11T15:54:25.764Z"
   },
   {
    "duration": 17,
    "start_time": "2022-05-11T15:54:25.774Z"
   },
   {
    "duration": 25,
    "start_time": "2022-05-11T15:54:25.795Z"
   },
   {
    "duration": 69,
    "start_time": "2022-05-11T15:54:25.822Z"
   },
   {
    "duration": 11,
    "start_time": "2022-05-11T15:54:25.894Z"
   },
   {
    "duration": 13,
    "start_time": "2022-05-11T15:54:25.908Z"
   },
   {
    "duration": 62,
    "start_time": "2022-05-11T15:54:25.923Z"
   },
   {
    "duration": 7,
    "start_time": "2022-05-11T15:54:25.988Z"
   },
   {
    "duration": 22,
    "start_time": "2022-05-11T15:54:26.002Z"
   },
   {
    "duration": 355,
    "start_time": "2022-05-11T15:54:26.028Z"
   },
   {
    "duration": 438,
    "start_time": "2022-05-11T15:54:26.386Z"
   },
   {
    "duration": 18,
    "start_time": "2022-05-11T15:54:26.827Z"
   },
   {
    "duration": 450,
    "start_time": "2022-05-11T15:54:26.847Z"
   },
   {
    "duration": 10,
    "start_time": "2022-05-11T15:54:27.301Z"
   },
   {
    "duration": 1477,
    "start_time": "2022-05-11T15:54:27.314Z"
   },
   {
    "duration": 1115,
    "start_time": "2022-05-11T15:54:28.794Z"
   },
   {
    "duration": 16,
    "start_time": "2022-05-11T15:54:29.912Z"
   },
   {
    "duration": 499,
    "start_time": "2022-05-11T15:54:29.930Z"
   },
   {
    "duration": 7,
    "start_time": "2022-05-11T15:54:30.432Z"
   },
   {
    "duration": 3043,
    "start_time": "2022-05-11T15:54:30.441Z"
   },
   {
    "duration": 260,
    "start_time": "2022-05-11T15:54:33.486Z"
   },
   {
    "duration": 37,
    "start_time": "2022-05-11T15:54:33.748Z"
   },
   {
    "duration": 95,
    "start_time": "2022-05-11T15:54:33.788Z"
   },
   {
    "duration": 97,
    "start_time": "2022-05-11T15:54:33.886Z"
   },
   {
    "duration": 858,
    "start_time": "2022-05-11T15:54:33.986Z"
   },
   {
    "duration": 1051,
    "start_time": "2022-05-11T15:54:34.847Z"
   },
   {
    "duration": 1183,
    "start_time": "2022-05-11T15:54:35.906Z"
   },
   {
    "duration": 41,
    "start_time": "2022-05-11T15:54:37.093Z"
   },
   {
    "duration": 0,
    "start_time": "2022-05-11T15:54:37.138Z"
   },
   {
    "duration": 0,
    "start_time": "2022-05-11T15:54:37.144Z"
   },
   {
    "duration": 0,
    "start_time": "2022-05-11T15:54:37.149Z"
   },
   {
    "duration": 0,
    "start_time": "2022-05-11T15:54:37.152Z"
   },
   {
    "duration": 0,
    "start_time": "2022-05-11T15:54:37.153Z"
   },
   {
    "duration": 19,
    "start_time": "2022-05-11T15:55:10.617Z"
   },
   {
    "duration": 11,
    "start_time": "2022-05-11T15:55:42.833Z"
   },
   {
    "duration": 9,
    "start_time": "2022-05-11T15:55:43.225Z"
   },
   {
    "duration": 31,
    "start_time": "2022-05-11T15:55:44.033Z"
   },
   {
    "duration": 18,
    "start_time": "2022-05-11T15:55:44.473Z"
   },
   {
    "duration": 20,
    "start_time": "2022-05-11T15:55:56.388Z"
   },
   {
    "duration": 12,
    "start_time": "2022-05-11T15:55:58.035Z"
   },
   {
    "duration": 8,
    "start_time": "2022-05-11T15:56:00.770Z"
   }
  ],
  "kernelspec": {
   "display_name": "Python 3 (ipykernel)",
   "language": "python",
   "name": "python3"
  },
  "language_info": {
   "codemirror_mode": {
    "name": "ipython",
    "version": 3
   },
   "file_extension": ".py",
   "mimetype": "text/x-python",
   "name": "python",
   "nbconvert_exporter": "python",
   "pygments_lexer": "ipython3",
   "version": "3.9.12"
  },
  "toc": {
   "base_numbering": 1,
   "nav_menu": {},
   "number_sections": true,
   "sideBar": true,
   "skip_h1_title": false,
   "title_cell": "Table of Contents",
   "title_sidebar": "Contents",
   "toc_cell": false,
   "toc_position": {
    "height": "calc(100% - 180px)",
    "left": "10px",
    "top": "150px",
    "width": "288px"
   },
   "toc_section_display": true,
   "toc_window_display": true
  }
 },
 "nbformat": 4,
 "nbformat_minor": 5
}
